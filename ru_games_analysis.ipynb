{
  "cells": [
    {
      "cell_type": "markdown",
      "metadata": {
        "id": "u0Y6k7f0U-t6"
      },
      "source": [
        "## Введение."
      ]
    },
    {
      "cell_type": "markdown",
      "metadata": {
        "id": "3GtwkUloU-t7"
      },
      "source": [
        "**Из открытых источников доступны исторические данные о продажах игр, оценки пользователей и экспертов, жанры и платформы (например, Xbox или PlayStation).**\n",
        "\n",
        "**Необходимо выявить определяющие успешность с точки зрения продаж игры закономерности. Это позволит сделать ставку на потенциально популярный продукт и спланировать рекламные кампании. Имеющиеся данные - до 2016 года. Необходимо спланировать кампанию на 2017-й.**\n",
        "\n",
        "**Описание данных**\n",
        "\n",
        "- Name — название игры\n",
        "\n",
        "- Platform — платформа\n",
        "\n",
        "- Year_of_Release — год выпуска\n",
        "\n",
        "- Genre — жанр игры\n",
        "\n",
        "- NA_sales — продажи в Северной Америке (миллионы проданных копий)\n",
        "\n",
        "- EU_sales — продажи в Европе (миллионы проданных копий)\n",
        "\n",
        "- JP_sales — продажи в Японии (миллионы проданных копий)\n",
        "\n",
        "- Other_sales — продажи в других странах (миллионы проданных копий)\n",
        "\n",
        "- Critic_Score — оценка критиков (максимум 100)\n",
        "- User_Score — оценка пользователей (максимум 10)\n",
        "- Rating — рейтинг от организации ESRB (англ. Entertainment Software Rating Board). Эта ассоциация определяет рейтинг компьютерных игр и присваивает им подходящую возрастную категорию.\n",
        "\n",
        "Данные за 2016 год могут быть неполными."
      ]
    },
    {
      "cell_type": "markdown",
      "metadata": {
        "id": "V_KsbAWJU-t7"
      },
      "source": [
        "## Подготовка данных."
      ]
    },
    {
      "cell_type": "markdown",
      "metadata": {
        "id": "Q3G_7jSRU-t8"
      },
      "source": [
        "### Знакомство с датасетом."
      ]
    },
    {
      "cell_type": "markdown",
      "metadata": {
        "id": "Dxs0_OP7U-t8"
      },
      "source": [
        "**Импортируем необходимые для дальнейшей работы библиотеки.**"
      ]
    },
    {
      "cell_type": "code",
      "execution_count": null,
      "metadata": {
        "id": "fs1RDx2AU-t8"
      },
      "outputs": [],
      "source": [
        "import pandas as pd\n",
        "from scipy import stats as st\n",
        "import math\n",
        "import numpy as np\n",
        "import matplotlib.pyplot as plt\n",
        "import seaborn as sns"
      ]
    },
    {
      "cell_type": "markdown",
      "metadata": {
        "id": "SQPD3N-7U-t8"
      },
      "source": [
        "**Откроем файл с данными и изучим общую информацию, представленную в датасете.**"
      ]
    },
    {
      "cell_type": "code",
      "execution_count": null,
      "metadata": {
        "id": "kMV41ANcU-t9",
        "outputId": "2535a2cd-4197-46d8-ddd2-69d50a710ae4"
      },
      "outputs": [
        {
          "data": {
            "text/html": [
              "<div>\n",
              "<style scoped>\n",
              "    .dataframe tbody tr th:only-of-type {\n",
              "        vertical-align: middle;\n",
              "    }\n",
              "\n",
              "    .dataframe tbody tr th {\n",
              "        vertical-align: top;\n",
              "    }\n",
              "\n",
              "    .dataframe thead th {\n",
              "        text-align: right;\n",
              "    }\n",
              "</style>\n",
              "<table border=\"1\" class=\"dataframe\">\n",
              "  <thead>\n",
              "    <tr style=\"text-align: right;\">\n",
              "      <th></th>\n",
              "      <th>Name</th>\n",
              "      <th>Platform</th>\n",
              "      <th>Year_of_Release</th>\n",
              "      <th>Genre</th>\n",
              "      <th>NA_sales</th>\n",
              "      <th>EU_sales</th>\n",
              "      <th>JP_sales</th>\n",
              "      <th>Other_sales</th>\n",
              "      <th>Critic_Score</th>\n",
              "      <th>User_Score</th>\n",
              "      <th>Rating</th>\n",
              "    </tr>\n",
              "  </thead>\n",
              "  <tbody>\n",
              "    <tr>\n",
              "      <th>0</th>\n",
              "      <td>Wii Sports</td>\n",
              "      <td>Wii</td>\n",
              "      <td>2006.0</td>\n",
              "      <td>Sports</td>\n",
              "      <td>41.36</td>\n",
              "      <td>28.96</td>\n",
              "      <td>3.77</td>\n",
              "      <td>8.45</td>\n",
              "      <td>76.0</td>\n",
              "      <td>8</td>\n",
              "      <td>E</td>\n",
              "    </tr>\n",
              "    <tr>\n",
              "      <th>1</th>\n",
              "      <td>Super Mario Bros.</td>\n",
              "      <td>NES</td>\n",
              "      <td>1985.0</td>\n",
              "      <td>Platform</td>\n",
              "      <td>29.08</td>\n",
              "      <td>3.58</td>\n",
              "      <td>6.81</td>\n",
              "      <td>0.77</td>\n",
              "      <td>NaN</td>\n",
              "      <td>NaN</td>\n",
              "      <td>NaN</td>\n",
              "    </tr>\n",
              "    <tr>\n",
              "      <th>2</th>\n",
              "      <td>Mario Kart Wii</td>\n",
              "      <td>Wii</td>\n",
              "      <td>2008.0</td>\n",
              "      <td>Racing</td>\n",
              "      <td>15.68</td>\n",
              "      <td>12.76</td>\n",
              "      <td>3.79</td>\n",
              "      <td>3.29</td>\n",
              "      <td>82.0</td>\n",
              "      <td>8.3</td>\n",
              "      <td>E</td>\n",
              "    </tr>\n",
              "    <tr>\n",
              "      <th>3</th>\n",
              "      <td>Wii Sports Resort</td>\n",
              "      <td>Wii</td>\n",
              "      <td>2009.0</td>\n",
              "      <td>Sports</td>\n",
              "      <td>15.61</td>\n",
              "      <td>10.93</td>\n",
              "      <td>3.28</td>\n",
              "      <td>2.95</td>\n",
              "      <td>80.0</td>\n",
              "      <td>8</td>\n",
              "      <td>E</td>\n",
              "    </tr>\n",
              "    <tr>\n",
              "      <th>4</th>\n",
              "      <td>Pokemon Red/Pokemon Blue</td>\n",
              "      <td>GB</td>\n",
              "      <td>1996.0</td>\n",
              "      <td>Role-Playing</td>\n",
              "      <td>11.27</td>\n",
              "      <td>8.89</td>\n",
              "      <td>10.22</td>\n",
              "      <td>1.00</td>\n",
              "      <td>NaN</td>\n",
              "      <td>NaN</td>\n",
              "      <td>NaN</td>\n",
              "    </tr>\n",
              "  </tbody>\n",
              "</table>\n",
              "</div>"
            ],
            "text/plain": [
              "                       Name Platform  Year_of_Release         Genre  NA_sales  \\\n",
              "0                Wii Sports      Wii           2006.0        Sports     41.36   \n",
              "1         Super Mario Bros.      NES           1985.0      Platform     29.08   \n",
              "2            Mario Kart Wii      Wii           2008.0        Racing     15.68   \n",
              "3         Wii Sports Resort      Wii           2009.0        Sports     15.61   \n",
              "4  Pokemon Red/Pokemon Blue       GB           1996.0  Role-Playing     11.27   \n",
              "\n",
              "   EU_sales  JP_sales  Other_sales  Critic_Score User_Score Rating  \n",
              "0     28.96      3.77         8.45          76.0          8      E  \n",
              "1      3.58      6.81         0.77           NaN        NaN    NaN  \n",
              "2     12.76      3.79         3.29          82.0        8.3      E  \n",
              "3     10.93      3.28         2.95          80.0          8      E  \n",
              "4      8.89     10.22         1.00           NaN        NaN    NaN  "
            ]
          },
          "metadata": {},
          "output_type": "display_data"
        },
        {
          "name": "stdout",
          "output_type": "stream",
          "text": [
            "<class 'pandas.core.frame.DataFrame'>\n",
            "RangeIndex: 16715 entries, 0 to 16714\n",
            "Data columns (total 11 columns):\n",
            " #   Column           Non-Null Count  Dtype  \n",
            "---  ------           --------------  -----  \n",
            " 0   Name             16713 non-null  object \n",
            " 1   Platform         16715 non-null  object \n",
            " 2   Year_of_Release  16446 non-null  float64\n",
            " 3   Genre            16713 non-null  object \n",
            " 4   NA_sales         16715 non-null  float64\n",
            " 5   EU_sales         16715 non-null  float64\n",
            " 6   JP_sales         16715 non-null  float64\n",
            " 7   Other_sales      16715 non-null  float64\n",
            " 8   Critic_Score     8137 non-null   float64\n",
            " 9   User_Score       10014 non-null  object \n",
            " 10  Rating           9949 non-null   object \n",
            "dtypes: float64(6), object(5)\n",
            "memory usage: 1.4+ MB\n"
          ]
        },
        {
          "data": {
            "text/plain": [
              "None"
            ]
          },
          "metadata": {},
          "output_type": "display_data"
        },
        {
          "data": {
            "text/plain": [
              "0"
            ]
          },
          "metadata": {},
          "output_type": "display_data"
        }
      ],
      "source": [
        "from google.colab import drive\n",
        "drive.mount('/content/drive')\n",
        "csv_path = '/content/drive/My Drive/projects/game_market_analysis/games.csv'\n",
        "\n",
        "df = pd.read_csv(csv_path)\n",
        "display(df.head())\n",
        "display(df.info())\n",
        "display(df.duplicated().sum())"
      ]
    },
    {
      "cell_type": "markdown",
      "metadata": {
        "id": "1aQGWm6QU-t-"
      },
      "source": [
        "**Исходя из данных выше выявлены на первый взгляд следующие особенности в датафрейме:**\n",
        "- Названия столбцов не в строчном регистре\n",
        "- Есть пропуски в данных\n",
        "- Столбец `User_Score` и `Year_of_Release` имеют неверный тип данных\n",
        "- Полных строк-дубликатов нет"
      ]
    },
    {
      "cell_type": "markdown",
      "metadata": {
        "id": "Gt114hfXU-t-"
      },
      "source": [
        "**Рассмотрим уникальные значения столбца `User_Score`.**"
      ]
    },
    {
      "cell_type": "code",
      "execution_count": null,
      "metadata": {
        "id": "UKXrdX11U-t-",
        "outputId": "9ed21b69-63cd-4c3e-8734-98dd00b6bd87"
      },
      "outputs": [
        {
          "data": {
            "text/plain": [
              "array(['8', nan, '8.3', '8.5', '6.6', '8.4', '8.6', '7.7', '6.3', '7.4',\n",
              "       '8.2', '9', '7.9', '8.1', '8.7', '7.1', '3.4', '5.3', '4.8', '3.2',\n",
              "       '8.9', '6.4', '7.8', '7.5', '2.6', '7.2', '9.2', '7', '7.3', '4.3',\n",
              "       '7.6', '5.7', '5', '9.1', '6.5', 'tbd', '8.8', '6.9', '9.4', '6.8',\n",
              "       '6.1', '6.7', '5.4', '4', '4.9', '4.5', '9.3', '6.2', '4.2', '6',\n",
              "       '3.7', '4.1', '5.8', '5.6', '5.5', '4.4', '4.6', '5.9', '3.9',\n",
              "       '3.1', '2.9', '5.2', '3.3', '4.7', '5.1', '3.5', '2.5', '1.9', '3',\n",
              "       '2.7', '2.2', '2', '9.5', '2.1', '3.6', '2.8', '1.8', '3.8', '0',\n",
              "       '1.6', '9.6', '2.4', '1.7', '1.1', '0.3', '1.5', '0.7', '1.2',\n",
              "       '2.3', '0.5', '1.3', '0.2', '0.6', '1.4', '0.9', '1', '9.7'],\n",
              "      dtype=object)"
            ]
          },
          "execution_count": 4,
          "metadata": {},
          "output_type": "execute_result"
        }
      ],
      "source": [
        "df['User_Score'].unique()"
      ]
    },
    {
      "cell_type": "markdown",
      "metadata": {
        "id": "zSsKNo_AU-t-"
      },
      "source": [
        "**Видим значение `'tbd'`, которое означает to be determined, т.е. рейтинг еще неопределен, находится в процессе вычисления или набора минимально необходимого количества отзывов пользователей для формирования. Заменим данные значения на -1, чтобы потом их отличать в датафрейме от актуальных числовых значений рейтинга.**"
      ]
    },
    {
      "cell_type": "code",
      "execution_count": null,
      "metadata": {
        "id": "OEkH5p0jU-t-",
        "outputId": "8f37d837-b425-4fc4-cd60-eb9c66321d6e"
      },
      "outputs": [
        {
          "data": {
            "text/plain": [
              "array(['8', nan, '8.3', '8.5', '6.6', '8.4', '8.6', '7.7', '6.3', '7.4',\n",
              "       '8.2', '9', '7.9', '8.1', '8.7', '7.1', '3.4', '5.3', '4.8', '3.2',\n",
              "       '8.9', '6.4', '7.8', '7.5', '2.6', '7.2', '9.2', '7', '7.3', '4.3',\n",
              "       '7.6', '5.7', '5', '9.1', '6.5', '-1', '8.8', '6.9', '9.4', '6.8',\n",
              "       '6.1', '6.7', '5.4', '4', '4.9', '4.5', '9.3', '6.2', '4.2', '6',\n",
              "       '3.7', '4.1', '5.8', '5.6', '5.5', '4.4', '4.6', '5.9', '3.9',\n",
              "       '3.1', '2.9', '5.2', '3.3', '4.7', '5.1', '3.5', '2.5', '1.9', '3',\n",
              "       '2.7', '2.2', '2', '9.5', '2.1', '3.6', '2.8', '1.8', '3.8', '0',\n",
              "       '1.6', '9.6', '2.4', '1.7', '1.1', '0.3', '1.5', '0.7', '1.2',\n",
              "       '2.3', '0.5', '1.3', '0.2', '0.6', '1.4', '0.9', '1', '9.7'],\n",
              "      dtype=object)"
            ]
          },
          "execution_count": 5,
          "metadata": {},
          "output_type": "execute_result"
        }
      ],
      "source": [
        "df['User_Score']  = df['User_Score'].replace('tbd', '-1')\n",
        "df['User_Score'].unique()"
      ]
    },
    {
      "cell_type": "markdown",
      "metadata": {
        "id": "1Y0ogfCyU-t_"
      },
      "source": [
        "**Рассмотрим уникальные значения столбца `Year_of_Release`.**"
      ]
    },
    {
      "cell_type": "code",
      "execution_count": null,
      "metadata": {
        "id": "pjZ6-sKrU-t_",
        "outputId": "a6a13d41-fb82-4c72-b84e-0e1ec0a8afe7"
      },
      "outputs": [
        {
          "data": {
            "text/plain": [
              "array([2006., 1985., 2008., 2009., 1996., 1989., 1984., 2005., 1999.,\n",
              "       2007., 2010., 2013., 2004., 1990., 1988., 2002., 2001., 2011.,\n",
              "       1998., 2015., 2012., 2014., 1992., 1997., 1993., 1994., 1982.,\n",
              "       2016., 2003., 1986., 2000.,   nan, 1995., 1991., 1981., 1987.,\n",
              "       1980., 1983.])"
            ]
          },
          "execution_count": 6,
          "metadata": {},
          "output_type": "execute_result"
        }
      ],
      "source": [
        "df['Year_of_Release'].unique()"
      ]
    },
    {
      "cell_type": "markdown",
      "metadata": {
        "id": "fWRWyFwqU-t_"
      },
      "source": [
        "**Исправим названия столбцов на строчный регистр и неверные типы данных: для `User_Score` нужен числовой тип данных float, т.к.\n",
        "это рейтинг, выражаемый дробным числом. Для `Year_of_Release` тип данных необходим integer, т.к. этот столбец указывает целочисленное значение года, но пока там есть пропуски мы не можем этого сделать, разберемся с пропусками ниже и далее уже исправим тип данных для данного столбца.**"
      ]
    },
    {
      "cell_type": "code",
      "execution_count": null,
      "metadata": {
        "id": "1Yb-eB08U-t_",
        "outputId": "0b4c6bc9-709b-4165-d3e1-4fe83786e7cc"
      },
      "outputs": [
        {
          "name": "stdout",
          "output_type": "stream",
          "text": [
            "<class 'pandas.core.frame.DataFrame'>\n",
            "RangeIndex: 16715 entries, 0 to 16714\n",
            "Data columns (total 11 columns):\n",
            " #   Column           Non-Null Count  Dtype  \n",
            "---  ------           --------------  -----  \n",
            " 0   name             16713 non-null  object \n",
            " 1   platform         16715 non-null  object \n",
            " 2   year_of_release  16446 non-null  float64\n",
            " 3   genre            16713 non-null  object \n",
            " 4   na_sales         16715 non-null  float64\n",
            " 5   eu_sales         16715 non-null  float64\n",
            " 6   jp_sales         16715 non-null  float64\n",
            " 7   other_sales      16715 non-null  float64\n",
            " 8   critic_score     8137 non-null   float64\n",
            " 9   user_score       10014 non-null  float64\n",
            " 10  rating           9949 non-null   object \n",
            "dtypes: float64(7), object(4)\n",
            "memory usage: 1.4+ MB\n"
          ]
        }
      ],
      "source": [
        "df = df.rename(\n",
        "    columns={'Name': 'name',\n",
        "             'Platform': 'platform',\n",
        "             'Platform': 'platform',\n",
        "             'Year_of_Release': 'year_of_release',\n",
        "             'Genre': 'genre',\n",
        "             'NA_sales': 'na_sales',\n",
        "             'EU_sales': 'eu_sales',\n",
        "             'JP_sales': 'jp_sales',\n",
        "             'Other_sales': 'other_sales',\n",
        "             'Critic_Score': 'critic_score',\n",
        "             'User_Score': 'user_score',\n",
        "             'Rating': 'rating',\n",
        "            })\n",
        "\n",
        "df['user_score'] = df['user_score'].astype(float)\n",
        "df.info()"
      ]
    },
    {
      "cell_type": "markdown",
      "metadata": {
        "id": "catr8zK-U-t_"
      },
      "source": [
        "### Изучение и заполнение пропусков данных."
      ]
    },
    {
      "cell_type": "markdown",
      "metadata": {
        "id": "u5TQhY9YU-t_"
      },
      "source": [
        "**Рассмотрим теперь пропуски в столбцах и подсчитаем их долю в каждом столбце от общего числа строк.**"
      ]
    },
    {
      "cell_type": "code",
      "execution_count": null,
      "metadata": {
        "id": "Quy7593yU-t_",
        "outputId": "ad2eb04a-4257-4c66-e765-f25215720c72"
      },
      "outputs": [
        {
          "data": {
            "text/plain": [
              "name               0.000120\n",
              "platform           0.000000\n",
              "year_of_release    0.016093\n",
              "genre              0.000120\n",
              "na_sales           0.000000\n",
              "eu_sales           0.000000\n",
              "jp_sales           0.000000\n",
              "other_sales        0.000000\n",
              "critic_score       0.513192\n",
              "user_score         0.400897\n",
              "rating             0.404786\n",
              "dtype: float64"
            ]
          },
          "execution_count": 8,
          "metadata": {},
          "output_type": "execute_result"
        }
      ],
      "source": [
        "df.isna().mean()"
      ]
    },
    {
      "cell_type": "markdown",
      "metadata": {
        "id": "JYM7_SwuU-t_"
      },
      "source": [
        "**Добавим в датафрейм столбец с общими продажами по всем регионам, т.к. пропусков в данных столбцах нет.**"
      ]
    },
    {
      "cell_type": "code",
      "execution_count": null,
      "metadata": {
        "id": "UGbjrNaNU-uA",
        "outputId": "3b314e61-8a65-4020-d8e0-a030069264c6"
      },
      "outputs": [
        {
          "data": {
            "text/html": [
              "<div>\n",
              "<style scoped>\n",
              "    .dataframe tbody tr th:only-of-type {\n",
              "        vertical-align: middle;\n",
              "    }\n",
              "\n",
              "    .dataframe tbody tr th {\n",
              "        vertical-align: top;\n",
              "    }\n",
              "\n",
              "    .dataframe thead th {\n",
              "        text-align: right;\n",
              "    }\n",
              "</style>\n",
              "<table border=\"1\" class=\"dataframe\">\n",
              "  <thead>\n",
              "    <tr style=\"text-align: right;\">\n",
              "      <th></th>\n",
              "      <th>name</th>\n",
              "      <th>platform</th>\n",
              "      <th>year_of_release</th>\n",
              "      <th>genre</th>\n",
              "      <th>na_sales</th>\n",
              "      <th>eu_sales</th>\n",
              "      <th>jp_sales</th>\n",
              "      <th>other_sales</th>\n",
              "      <th>critic_score</th>\n",
              "      <th>user_score</th>\n",
              "      <th>rating</th>\n",
              "      <th>total_sales</th>\n",
              "    </tr>\n",
              "  </thead>\n",
              "  <tbody>\n",
              "    <tr>\n",
              "      <th>0</th>\n",
              "      <td>Wii Sports</td>\n",
              "      <td>Wii</td>\n",
              "      <td>2006.0</td>\n",
              "      <td>Sports</td>\n",
              "      <td>41.36</td>\n",
              "      <td>28.96</td>\n",
              "      <td>3.77</td>\n",
              "      <td>8.45</td>\n",
              "      <td>76.0</td>\n",
              "      <td>8.0</td>\n",
              "      <td>E</td>\n",
              "      <td>82.54</td>\n",
              "    </tr>\n",
              "    <tr>\n",
              "      <th>1</th>\n",
              "      <td>Super Mario Bros.</td>\n",
              "      <td>NES</td>\n",
              "      <td>1985.0</td>\n",
              "      <td>Platform</td>\n",
              "      <td>29.08</td>\n",
              "      <td>3.58</td>\n",
              "      <td>6.81</td>\n",
              "      <td>0.77</td>\n",
              "      <td>NaN</td>\n",
              "      <td>NaN</td>\n",
              "      <td>NaN</td>\n",
              "      <td>40.24</td>\n",
              "    </tr>\n",
              "    <tr>\n",
              "      <th>2</th>\n",
              "      <td>Mario Kart Wii</td>\n",
              "      <td>Wii</td>\n",
              "      <td>2008.0</td>\n",
              "      <td>Racing</td>\n",
              "      <td>15.68</td>\n",
              "      <td>12.76</td>\n",
              "      <td>3.79</td>\n",
              "      <td>3.29</td>\n",
              "      <td>82.0</td>\n",
              "      <td>8.3</td>\n",
              "      <td>E</td>\n",
              "      <td>35.52</td>\n",
              "    </tr>\n",
              "    <tr>\n",
              "      <th>3</th>\n",
              "      <td>Wii Sports Resort</td>\n",
              "      <td>Wii</td>\n",
              "      <td>2009.0</td>\n",
              "      <td>Sports</td>\n",
              "      <td>15.61</td>\n",
              "      <td>10.93</td>\n",
              "      <td>3.28</td>\n",
              "      <td>2.95</td>\n",
              "      <td>80.0</td>\n",
              "      <td>8.0</td>\n",
              "      <td>E</td>\n",
              "      <td>32.77</td>\n",
              "    </tr>\n",
              "    <tr>\n",
              "      <th>4</th>\n",
              "      <td>Pokemon Red/Pokemon Blue</td>\n",
              "      <td>GB</td>\n",
              "      <td>1996.0</td>\n",
              "      <td>Role-Playing</td>\n",
              "      <td>11.27</td>\n",
              "      <td>8.89</td>\n",
              "      <td>10.22</td>\n",
              "      <td>1.00</td>\n",
              "      <td>NaN</td>\n",
              "      <td>NaN</td>\n",
              "      <td>NaN</td>\n",
              "      <td>31.38</td>\n",
              "    </tr>\n",
              "  </tbody>\n",
              "</table>\n",
              "</div>"
            ],
            "text/plain": [
              "                       name platform  year_of_release         genre  na_sales  \\\n",
              "0                Wii Sports      Wii           2006.0        Sports     41.36   \n",
              "1         Super Mario Bros.      NES           1985.0      Platform     29.08   \n",
              "2            Mario Kart Wii      Wii           2008.0        Racing     15.68   \n",
              "3         Wii Sports Resort      Wii           2009.0        Sports     15.61   \n",
              "4  Pokemon Red/Pokemon Blue       GB           1996.0  Role-Playing     11.27   \n",
              "\n",
              "   eu_sales  jp_sales  other_sales  critic_score  user_score rating  \\\n",
              "0     28.96      3.77         8.45          76.0         8.0      E   \n",
              "1      3.58      6.81         0.77           NaN         NaN    NaN   \n",
              "2     12.76      3.79         3.29          82.0         8.3      E   \n",
              "3     10.93      3.28         2.95          80.0         8.0      E   \n",
              "4      8.89     10.22         1.00           NaN         NaN    NaN   \n",
              "\n",
              "   total_sales  \n",
              "0        82.54  \n",
              "1        40.24  \n",
              "2        35.52  \n",
              "3        32.77  \n",
              "4        31.38  "
            ]
          },
          "execution_count": 9,
          "metadata": {},
          "output_type": "execute_result"
        }
      ],
      "source": [
        "df['total_sales'] = df['na_sales'] + df['eu_sales'] + df['jp_sales'] + df['other_sales']\n",
        "df.head()"
      ]
    },
    {
      "cell_type": "markdown",
      "metadata": {
        "id": "JvD9mY33U-uA"
      },
      "source": [
        "**Посмотрим, какие строки имеют пропуски в столбце `'name'`.**"
      ]
    },
    {
      "cell_type": "code",
      "execution_count": null,
      "metadata": {
        "id": "qNQhiGICU-uA",
        "outputId": "c4d489d1-3a2c-418c-8a96-ea8415b04e1e"
      },
      "outputs": [
        {
          "data": {
            "text/html": [
              "<div>\n",
              "<style scoped>\n",
              "    .dataframe tbody tr th:only-of-type {\n",
              "        vertical-align: middle;\n",
              "    }\n",
              "\n",
              "    .dataframe tbody tr th {\n",
              "        vertical-align: top;\n",
              "    }\n",
              "\n",
              "    .dataframe thead th {\n",
              "        text-align: right;\n",
              "    }\n",
              "</style>\n",
              "<table border=\"1\" class=\"dataframe\">\n",
              "  <thead>\n",
              "    <tr style=\"text-align: right;\">\n",
              "      <th></th>\n",
              "      <th>name</th>\n",
              "      <th>platform</th>\n",
              "      <th>year_of_release</th>\n",
              "      <th>genre</th>\n",
              "      <th>na_sales</th>\n",
              "      <th>eu_sales</th>\n",
              "      <th>jp_sales</th>\n",
              "      <th>other_sales</th>\n",
              "      <th>critic_score</th>\n",
              "      <th>user_score</th>\n",
              "      <th>rating</th>\n",
              "      <th>total_sales</th>\n",
              "    </tr>\n",
              "  </thead>\n",
              "  <tbody>\n",
              "    <tr>\n",
              "      <th>659</th>\n",
              "      <td>NaN</td>\n",
              "      <td>GEN</td>\n",
              "      <td>1993.0</td>\n",
              "      <td>NaN</td>\n",
              "      <td>1.78</td>\n",
              "      <td>0.53</td>\n",
              "      <td>0.00</td>\n",
              "      <td>0.08</td>\n",
              "      <td>NaN</td>\n",
              "      <td>NaN</td>\n",
              "      <td>NaN</td>\n",
              "      <td>2.39</td>\n",
              "    </tr>\n",
              "    <tr>\n",
              "      <th>14244</th>\n",
              "      <td>NaN</td>\n",
              "      <td>GEN</td>\n",
              "      <td>1993.0</td>\n",
              "      <td>NaN</td>\n",
              "      <td>0.00</td>\n",
              "      <td>0.00</td>\n",
              "      <td>0.03</td>\n",
              "      <td>0.00</td>\n",
              "      <td>NaN</td>\n",
              "      <td>NaN</td>\n",
              "      <td>NaN</td>\n",
              "      <td>0.03</td>\n",
              "    </tr>\n",
              "  </tbody>\n",
              "</table>\n",
              "</div>"
            ],
            "text/plain": [
              "      name platform  year_of_release genre  na_sales  eu_sales  jp_sales  \\\n",
              "659    NaN      GEN           1993.0   NaN      1.78      0.53      0.00   \n",
              "14244  NaN      GEN           1993.0   NaN      0.00      0.00      0.03   \n",
              "\n",
              "       other_sales  critic_score  user_score rating  total_sales  \n",
              "659           0.08           NaN         NaN    NaN         2.39  \n",
              "14244         0.00           NaN         NaN    NaN         0.03  "
            ]
          },
          "execution_count": 10,
          "metadata": {},
          "output_type": "execute_result"
        }
      ],
      "source": [
        "df[df['name'].isna()]"
      ]
    },
    {
      "cell_type": "markdown",
      "metadata": {
        "id": "RJ8H5QjpU-uA"
      },
      "source": [
        "**Размер продаж относительно не высокий для данных строк, год выпуска игр тоже достаточно старый. Удалим данные строки, сохранив датафрейм без них.**"
      ]
    },
    {
      "cell_type": "code",
      "execution_count": null,
      "metadata": {
        "id": "SNhH3p48U-uA",
        "outputId": "e6912f7b-b726-408b-dfdb-8826770efad8"
      },
      "outputs": [
        {
          "name": "stdout",
          "output_type": "stream",
          "text": [
            "<class 'pandas.core.frame.DataFrame'>\n",
            "Int64Index: 16713 entries, 0 to 16714\n",
            "Data columns (total 12 columns):\n",
            " #   Column           Non-Null Count  Dtype  \n",
            "---  ------           --------------  -----  \n",
            " 0   name             16713 non-null  object \n",
            " 1   platform         16713 non-null  object \n",
            " 2   year_of_release  16444 non-null  float64\n",
            " 3   genre            16713 non-null  object \n",
            " 4   na_sales         16713 non-null  float64\n",
            " 5   eu_sales         16713 non-null  float64\n",
            " 6   jp_sales         16713 non-null  float64\n",
            " 7   other_sales      16713 non-null  float64\n",
            " 8   critic_score     8137 non-null   float64\n",
            " 9   user_score       10014 non-null  float64\n",
            " 10  rating           9949 non-null   object \n",
            " 11  total_sales      16713 non-null  float64\n",
            "dtypes: float64(8), object(4)\n",
            "memory usage: 1.7+ MB\n"
          ]
        }
      ],
      "source": [
        "df = df[df['name'].notna()]\n",
        "df.info()"
      ]
    },
    {
      "cell_type": "markdown",
      "metadata": {
        "id": "e62BFzw4U-uB"
      },
      "source": [
        "**Посмотрим строки с пропусками в столбце `'year_of_release'` и отсортируем их по общим продажам.**"
      ]
    },
    {
      "cell_type": "code",
      "execution_count": null,
      "metadata": {
        "id": "WjA_x3smU-uB",
        "outputId": "c027284c-8933-4a96-f833-ace44f3ccb64"
      },
      "outputs": [
        {
          "data": {
            "text/html": [
              "<div>\n",
              "<style scoped>\n",
              "    .dataframe tbody tr th:only-of-type {\n",
              "        vertical-align: middle;\n",
              "    }\n",
              "\n",
              "    .dataframe tbody tr th {\n",
              "        vertical-align: top;\n",
              "    }\n",
              "\n",
              "    .dataframe thead th {\n",
              "        text-align: right;\n",
              "    }\n",
              "</style>\n",
              "<table border=\"1\" class=\"dataframe\">\n",
              "  <thead>\n",
              "    <tr style=\"text-align: right;\">\n",
              "      <th></th>\n",
              "      <th>name</th>\n",
              "      <th>platform</th>\n",
              "      <th>year_of_release</th>\n",
              "      <th>genre</th>\n",
              "      <th>na_sales</th>\n",
              "      <th>eu_sales</th>\n",
              "      <th>jp_sales</th>\n",
              "      <th>other_sales</th>\n",
              "      <th>critic_score</th>\n",
              "      <th>user_score</th>\n",
              "      <th>rating</th>\n",
              "      <th>total_sales</th>\n",
              "    </tr>\n",
              "  </thead>\n",
              "  <tbody>\n",
              "    <tr>\n",
              "      <th>183</th>\n",
              "      <td>Madden NFL 2004</td>\n",
              "      <td>PS2</td>\n",
              "      <td>NaN</td>\n",
              "      <td>Sports</td>\n",
              "      <td>4.26</td>\n",
              "      <td>0.26</td>\n",
              "      <td>0.01</td>\n",
              "      <td>0.71</td>\n",
              "      <td>94.0</td>\n",
              "      <td>8.5</td>\n",
              "      <td>E</td>\n",
              "      <td>5.24</td>\n",
              "    </tr>\n",
              "    <tr>\n",
              "      <th>377</th>\n",
              "      <td>FIFA Soccer 2004</td>\n",
              "      <td>PS2</td>\n",
              "      <td>NaN</td>\n",
              "      <td>Sports</td>\n",
              "      <td>0.59</td>\n",
              "      <td>2.36</td>\n",
              "      <td>0.04</td>\n",
              "      <td>0.51</td>\n",
              "      <td>84.0</td>\n",
              "      <td>6.4</td>\n",
              "      <td>E</td>\n",
              "      <td>3.50</td>\n",
              "    </tr>\n",
              "    <tr>\n",
              "      <th>456</th>\n",
              "      <td>LEGO Batman: The Videogame</td>\n",
              "      <td>Wii</td>\n",
              "      <td>NaN</td>\n",
              "      <td>Action</td>\n",
              "      <td>1.80</td>\n",
              "      <td>0.97</td>\n",
              "      <td>0.00</td>\n",
              "      <td>0.29</td>\n",
              "      <td>74.0</td>\n",
              "      <td>7.9</td>\n",
              "      <td>E10+</td>\n",
              "      <td>3.06</td>\n",
              "    </tr>\n",
              "    <tr>\n",
              "      <th>475</th>\n",
              "      <td>wwe Smackdown vs. Raw 2006</td>\n",
              "      <td>PS2</td>\n",
              "      <td>NaN</td>\n",
              "      <td>Fighting</td>\n",
              "      <td>1.57</td>\n",
              "      <td>1.02</td>\n",
              "      <td>0.00</td>\n",
              "      <td>0.41</td>\n",
              "      <td>NaN</td>\n",
              "      <td>NaN</td>\n",
              "      <td>NaN</td>\n",
              "      <td>3.00</td>\n",
              "    </tr>\n",
              "    <tr>\n",
              "      <th>609</th>\n",
              "      <td>Space Invaders</td>\n",
              "      <td>2600</td>\n",
              "      <td>NaN</td>\n",
              "      <td>Shooter</td>\n",
              "      <td>2.36</td>\n",
              "      <td>0.14</td>\n",
              "      <td>0.00</td>\n",
              "      <td>0.03</td>\n",
              "      <td>NaN</td>\n",
              "      <td>NaN</td>\n",
              "      <td>NaN</td>\n",
              "      <td>2.53</td>\n",
              "    </tr>\n",
              "    <tr>\n",
              "      <th>...</th>\n",
              "      <td>...</td>\n",
              "      <td>...</td>\n",
              "      <td>...</td>\n",
              "      <td>...</td>\n",
              "      <td>...</td>\n",
              "      <td>...</td>\n",
              "      <td>...</td>\n",
              "      <td>...</td>\n",
              "      <td>...</td>\n",
              "      <td>...</td>\n",
              "      <td>...</td>\n",
              "      <td>...</td>\n",
              "    </tr>\n",
              "    <tr>\n",
              "      <th>16017</th>\n",
              "      <td>Dream Dancer</td>\n",
              "      <td>DS</td>\n",
              "      <td>NaN</td>\n",
              "      <td>Misc</td>\n",
              "      <td>0.01</td>\n",
              "      <td>0.00</td>\n",
              "      <td>0.00</td>\n",
              "      <td>0.00</td>\n",
              "      <td>NaN</td>\n",
              "      <td>-1.0</td>\n",
              "      <td>E</td>\n",
              "      <td>0.01</td>\n",
              "    </tr>\n",
              "    <tr>\n",
              "      <th>15966</th>\n",
              "      <td>Dinotopia: The Sunstone Odyssey</td>\n",
              "      <td>GC</td>\n",
              "      <td>NaN</td>\n",
              "      <td>Action</td>\n",
              "      <td>0.01</td>\n",
              "      <td>0.00</td>\n",
              "      <td>0.00</td>\n",
              "      <td>0.00</td>\n",
              "      <td>50.0</td>\n",
              "      <td>-1.0</td>\n",
              "      <td>T</td>\n",
              "      <td>0.01</td>\n",
              "    </tr>\n",
              "    <tr>\n",
              "      <th>15953</th>\n",
              "      <td>PDC World Championship Darts 2008</td>\n",
              "      <td>DS</td>\n",
              "      <td>NaN</td>\n",
              "      <td>Sports</td>\n",
              "      <td>0.01</td>\n",
              "      <td>0.00</td>\n",
              "      <td>0.00</td>\n",
              "      <td>0.00</td>\n",
              "      <td>NaN</td>\n",
              "      <td>NaN</td>\n",
              "      <td>NaN</td>\n",
              "      <td>0.01</td>\n",
              "    </tr>\n",
              "    <tr>\n",
              "      <th>15816</th>\n",
              "      <td>Without Warning</td>\n",
              "      <td>XB</td>\n",
              "      <td>NaN</td>\n",
              "      <td>Shooter</td>\n",
              "      <td>0.01</td>\n",
              "      <td>0.00</td>\n",
              "      <td>0.00</td>\n",
              "      <td>0.00</td>\n",
              "      <td>45.0</td>\n",
              "      <td>2.0</td>\n",
              "      <td>M</td>\n",
              "      <td>0.01</td>\n",
              "    </tr>\n",
              "    <tr>\n",
              "      <th>16522</th>\n",
              "      <td>Virtua Quest</td>\n",
              "      <td>GC</td>\n",
              "      <td>NaN</td>\n",
              "      <td>Role-Playing</td>\n",
              "      <td>0.01</td>\n",
              "      <td>0.00</td>\n",
              "      <td>0.00</td>\n",
              "      <td>0.00</td>\n",
              "      <td>55.0</td>\n",
              "      <td>5.5</td>\n",
              "      <td>T</td>\n",
              "      <td>0.01</td>\n",
              "    </tr>\n",
              "  </tbody>\n",
              "</table>\n",
              "<p>269 rows × 12 columns</p>\n",
              "</div>"
            ],
            "text/plain": [
              "                                    name platform  year_of_release  \\\n",
              "183                      Madden NFL 2004      PS2              NaN   \n",
              "377                     FIFA Soccer 2004      PS2              NaN   \n",
              "456           LEGO Batman: The Videogame      Wii              NaN   \n",
              "475           wwe Smackdown vs. Raw 2006      PS2              NaN   \n",
              "609                       Space Invaders     2600              NaN   \n",
              "...                                  ...      ...              ...   \n",
              "16017                       Dream Dancer       DS              NaN   \n",
              "15966    Dinotopia: The Sunstone Odyssey       GC              NaN   \n",
              "15953  PDC World Championship Darts 2008       DS              NaN   \n",
              "15816                    Without Warning       XB              NaN   \n",
              "16522                       Virtua Quest       GC              NaN   \n",
              "\n",
              "              genre  na_sales  eu_sales  jp_sales  other_sales  critic_score  \\\n",
              "183          Sports      4.26      0.26      0.01         0.71          94.0   \n",
              "377          Sports      0.59      2.36      0.04         0.51          84.0   \n",
              "456          Action      1.80      0.97      0.00         0.29          74.0   \n",
              "475        Fighting      1.57      1.02      0.00         0.41           NaN   \n",
              "609         Shooter      2.36      0.14      0.00         0.03           NaN   \n",
              "...             ...       ...       ...       ...          ...           ...   \n",
              "16017          Misc      0.01      0.00      0.00         0.00           NaN   \n",
              "15966        Action      0.01      0.00      0.00         0.00          50.0   \n",
              "15953        Sports      0.01      0.00      0.00         0.00           NaN   \n",
              "15816       Shooter      0.01      0.00      0.00         0.00          45.0   \n",
              "16522  Role-Playing      0.01      0.00      0.00         0.00          55.0   \n",
              "\n",
              "       user_score rating  total_sales  \n",
              "183           8.5      E         5.24  \n",
              "377           6.4      E         3.50  \n",
              "456           7.9   E10+         3.06  \n",
              "475           NaN    NaN         3.00  \n",
              "609           NaN    NaN         2.53  \n",
              "...           ...    ...          ...  \n",
              "16017        -1.0      E         0.01  \n",
              "15966        -1.0      T         0.01  \n",
              "15953         NaN    NaN         0.01  \n",
              "15816         2.0      M         0.01  \n",
              "16522         5.5      T         0.01  \n",
              "\n",
              "[269 rows x 12 columns]"
            ]
          },
          "execution_count": 12,
          "metadata": {},
          "output_type": "execute_result"
        }
      ],
      "source": [
        "df[df['year_of_release'].isna()].sort_values(by='total_sales', ascending=False)"
      ]
    },
    {
      "cell_type": "markdown",
      "metadata": {
        "id": "v2VzS65eU-uB"
      },
      "source": [
        "**Видим, что пропуски в году релиза есть как у игр с большими продажами, так и с малыми.**\n",
        "\n",
        "**Сгруппируем датафрейм с пропусками в столбце `'year_of_release'` по типам платформ и посчитаем их долю.**"
      ]
    },
    {
      "cell_type": "code",
      "execution_count": null,
      "metadata": {
        "id": "h1WOhibrU-uB",
        "outputId": "efb331d0-50ef-450c-8c56-22ed305e5c88"
      },
      "outputs": [
        {
          "data": {
            "text/plain": [
              "platform\n",
              "2600    0.063197\n",
              "3DS     0.029740\n",
              "DS      0.111524\n",
              "GB      0.003717\n",
              "GBA     0.040892\n",
              "GC      0.052045\n",
              "N64     0.011152\n",
              "PC      0.063197\n",
              "PS      0.026022\n",
              "PS2     0.126394\n",
              "PS3     0.092937\n",
              "PSP     0.059480\n",
              "PSV     0.003717\n",
              "Wii     0.126394\n",
              "X360    0.111524\n",
              "XB      0.078067\n",
              "Name: name, dtype: float64"
            ]
          },
          "execution_count": 13,
          "metadata": {},
          "output_type": "execute_result"
        }
      ],
      "source": [
        "df[df['year_of_release'].isna()].groupby('platform')['name'].count()/len(df[df['year_of_release'].isna()])"
      ]
    },
    {
      "cell_type": "markdown",
      "metadata": {
        "id": "4rArRrm7U-uB"
      },
      "source": [
        "**Видим, что нет какой-то четкой связи между количеством пропусков в столбце `'year_of_release'` и типом платформы.**\n",
        "\n",
        "**Сгруппируем датафрейм с пропусками в столбце `'year_of_release'` по жанрам и посчитаем их долю.**"
      ]
    },
    {
      "cell_type": "code",
      "execution_count": null,
      "metadata": {
        "id": "dCP_yL8dU-uB",
        "outputId": "1ca1260a-a8ba-44cb-b4bb-179e3b68898d"
      },
      "outputs": [
        {
          "data": {
            "text/plain": [
              "genre\n",
              "Action          0.230483\n",
              "Adventure       0.037175\n",
              "Fighting        0.044610\n",
              "Misc            0.107807\n",
              "Platform        0.037175\n",
              "Puzzle          0.040892\n",
              "Racing          0.085502\n",
              "Role-Playing    0.063197\n",
              "Shooter         0.100372\n",
              "Simulation      0.059480\n",
              "Sports          0.156134\n",
              "Strategy        0.037175\n",
              "Name: name, dtype: float64"
            ]
          },
          "execution_count": 14,
          "metadata": {},
          "output_type": "execute_result"
        }
      ],
      "source": [
        "df[df['year_of_release'].isna()].groupby('genre')['name'].count()/len(df[df['year_of_release'].isna()])"
      ]
    },
    {
      "cell_type": "markdown",
      "metadata": {
        "id": "9zr6YJ7SU-uB"
      },
      "source": [
        "**Видим, что нет какой-то четкой связи между количеством пропусков в столбце `'year_of_release'` и типом платформы.**\n",
        "\n",
        "**Сгруппируем датафрейм с пропусками в столбце `'year_of_release'` по рейтигу ESRB и посчитаем их долю.**"
      ]
    },
    {
      "cell_type": "code",
      "execution_count": null,
      "metadata": {
        "id": "dWQM5W8EU-uB",
        "outputId": "dcaab48b-17e5-4776-ace6-8461dc904723"
      },
      "outputs": [
        {
          "data": {
            "text/plain": [
              "rating\n",
              "E       0.256506\n",
              "E10+    0.100372\n",
              "M       0.100372\n",
              "RP      0.007435\n",
              "T       0.208178\n",
              "Name: name, dtype: float64"
            ]
          },
          "execution_count": 15,
          "metadata": {},
          "output_type": "execute_result"
        }
      ],
      "source": [
        "df[df['year_of_release'].isna()].groupby('rating')['name'].count()/len(df[df['year_of_release'].isna()])"
      ]
    },
    {
      "cell_type": "markdown",
      "metadata": {
        "id": "oTVNZVPRU-uB"
      },
      "source": [
        "**Видно, что нет какой-то четкой связи между количеством пропусков в столбце `'year_of_release'` и рейтингом ESRB игры.**"
      ]
    },
    {
      "cell_type": "markdown",
      "metadata": {
        "id": "6q2Sgj2LU-uB"
      },
      "source": [
        "**Для продвижения дальше в аналитике  данных заменим пропуски в столбце `'year_of_release'` на значения -1. После изучения популярности платформ и связи их с продажами, возможно, дополнительно проанализируем эти пропуски и заменим их на актуальные значения, используя тот же поисковик. Удалять эти сроки не будем, т.к. там потенциально могут содержаться игры, которые потенциально принесут большую прибыль в продажах за 2017 год.**"
      ]
    },
    {
      "cell_type": "code",
      "execution_count": null,
      "metadata": {
        "id": "0_7c-AShU-uC",
        "outputId": "9e2d7630-fff9-4349-94eb-719ea94d8c98"
      },
      "outputs": [
        {
          "name": "stdout",
          "output_type": "stream",
          "text": [
            "<class 'pandas.core.frame.DataFrame'>\n",
            "Int64Index: 16713 entries, 0 to 16714\n",
            "Data columns (total 12 columns):\n",
            " #   Column           Non-Null Count  Dtype  \n",
            "---  ------           --------------  -----  \n",
            " 0   name             16713 non-null  object \n",
            " 1   platform         16713 non-null  object \n",
            " 2   year_of_release  16713 non-null  float64\n",
            " 3   genre            16713 non-null  object \n",
            " 4   na_sales         16713 non-null  float64\n",
            " 5   eu_sales         16713 non-null  float64\n",
            " 6   jp_sales         16713 non-null  float64\n",
            " 7   other_sales      16713 non-null  float64\n",
            " 8   critic_score     8137 non-null   float64\n",
            " 9   user_score       10014 non-null  float64\n",
            " 10  rating           9949 non-null   object \n",
            " 11  total_sales      16713 non-null  float64\n",
            "dtypes: float64(8), object(4)\n",
            "memory usage: 1.7+ MB\n"
          ]
        }
      ],
      "source": [
        "df['year_of_release'] = df['year_of_release'].fillna(-1)\n",
        "df.info()"
      ]
    },
    {
      "cell_type": "markdown",
      "metadata": {
        "id": "JGLWt-NEU-uC"
      },
      "source": [
        "**Теперь как и планировалось ранее, изменим тип данных столбца `'year_of_release'` на целочисленный. И проверим долю пропусков в столбцах датафрейме после всех преобразований.**"
      ]
    },
    {
      "cell_type": "code",
      "execution_count": null,
      "metadata": {
        "id": "Cy8sLEz0U-uC",
        "outputId": "013a8b2c-510f-4f45-dacd-6c2dddff5f58"
      },
      "outputs": [
        {
          "name": "stdout",
          "output_type": "stream",
          "text": [
            "<class 'pandas.core.frame.DataFrame'>\n",
            "Int64Index: 16713 entries, 0 to 16714\n",
            "Data columns (total 12 columns):\n",
            " #   Column           Non-Null Count  Dtype  \n",
            "---  ------           --------------  -----  \n",
            " 0   name             16713 non-null  object \n",
            " 1   platform         16713 non-null  object \n",
            " 2   year_of_release  16713 non-null  int64  \n",
            " 3   genre            16713 non-null  object \n",
            " 4   na_sales         16713 non-null  float64\n",
            " 5   eu_sales         16713 non-null  float64\n",
            " 6   jp_sales         16713 non-null  float64\n",
            " 7   other_sales      16713 non-null  float64\n",
            " 8   critic_score     8137 non-null   float64\n",
            " 9   user_score       10014 non-null  float64\n",
            " 10  rating           9949 non-null   object \n",
            " 11  total_sales      16713 non-null  float64\n",
            "dtypes: float64(7), int64(1), object(4)\n",
            "memory usage: 1.7+ MB\n"
          ]
        },
        {
          "data": {
            "text/plain": [
              "None"
            ]
          },
          "metadata": {},
          "output_type": "display_data"
        },
        {
          "data": {
            "text/plain": [
              "name               0.000000\n",
              "platform           0.000000\n",
              "year_of_release    0.000000\n",
              "genre              0.000000\n",
              "na_sales           0.000000\n",
              "eu_sales           0.000000\n",
              "jp_sales           0.000000\n",
              "other_sales        0.000000\n",
              "critic_score       0.513133\n",
              "user_score         0.400826\n",
              "rating             0.404715\n",
              "total_sales        0.000000\n",
              "dtype: float64"
            ]
          },
          "execution_count": 17,
          "metadata": {},
          "output_type": "execute_result"
        }
      ],
      "source": [
        "df['year_of_release'] = df['year_of_release'].astype(int)\n",
        "display(df.info())\n",
        "df.isna().mean()"
      ]
    },
    {
      "cell_type": "markdown",
      "metadata": {
        "id": "hQKk536kU-uC"
      },
      "source": [
        "**Видим, что наибольшую долю пропусков содержат столбцы, которые относятся к рейтингу игр.**"
      ]
    },
    {
      "cell_type": "markdown",
      "metadata": {
        "id": "OLGd79RoU-uC"
      },
      "source": [
        "**Проверим, есть ли какая-то прямая очевидная связь между пропусками в рейтинговых столбцах `'critic_score'`, `'user_score'`, `'rating'` с жанром, платформой и продажами.**\n",
        "\n",
        "**Начнем со столбца `'critic_score'`. Посмотрим долю пропусков в данном столбце в зависимости от жанра, платформы и продаж.**"
      ]
    },
    {
      "cell_type": "code",
      "execution_count": null,
      "metadata": {
        "id": "E8lXlaWYU-uC",
        "outputId": "aa2b1ab5-8065-4cc3-faf8-a25051477acf"
      },
      "outputs": [
        {
          "data": {
            "text/plain": [
              "genre\n",
              "Action          0.172458\n",
              "Adventure       0.114272\n",
              "Fighting        0.051306\n",
              "Misc            0.143074\n",
              "Platform        0.045592\n",
              "Puzzle          0.041511\n",
              "Racing          0.059118\n",
              "Role-Playing    0.088736\n",
              "Shooter         0.044193\n",
              "Simulation      0.060751\n",
              "Sports          0.134562\n",
              "Strategy        0.044426\n",
              "Name: name, dtype: float64"
            ]
          },
          "metadata": {},
          "output_type": "display_data"
        },
        {
          "data": {
            "text/plain": [
              "platform\n",
              "2600    0.015508\n",
              "3DO     0.000350\n",
              "3DS     0.041045\n",
              "DC      0.004431\n",
              "DS      0.167211\n",
              "GB      0.011427\n",
              "GBA     0.044776\n",
              "GC      0.012593\n",
              "GEN     0.003148\n",
              "GG      0.000117\n",
              "N64     0.037197\n",
              "NES     0.011427\n",
              "NG      0.001399\n",
              "PC      0.030201\n",
              "PCFX    0.000117\n",
              "PS      0.116255\n",
              "PS2     0.100630\n",
              "PS3     0.059585\n",
              "PS4     0.016325\n",
              "PSP     0.087104\n",
              "PSV     0.036147\n",
              "SAT     0.020173\n",
              "SCD     0.000700\n",
              "SNES    0.027868\n",
              "TG16    0.000233\n",
              "WS      0.000700\n",
              "Wii     0.085704\n",
              "WiiU    0.006646\n",
              "X360    0.040345\n",
              "XB      0.011544\n",
              "XOne    0.009095\n",
              "Name: name, dtype: float64"
            ]
          },
          "metadata": {},
          "output_type": "display_data"
        },
        {
          "data": {
            "text/plain": [
              "total_sales_range\n",
              "(-0.0825, 4.127]    0.989855\n",
              "(4.127, 8.254]      0.007113\n",
              "(8.254, 12.381]     0.001283\n",
              "(12.381, 16.508]    0.000583\n",
              "(16.508, 20.635]    0.000466\n",
              "(20.635, 24.762]    0.000233\n",
              "(24.762, 28.889]    0.000117\n",
              "(28.889, 33.016]    0.000233\n",
              "(33.016, 37.143]    0.000000\n",
              "(37.143, 41.27]     0.000117\n",
              "(41.27, 45.397]     0.000000\n",
              "(45.397, 49.524]    0.000000\n",
              "(49.524, 53.651]    0.000000\n",
              "(53.651, 57.778]    0.000000\n",
              "(57.778, 61.905]    0.000000\n",
              "(61.905, 66.032]    0.000000\n",
              "(66.032, 70.159]    0.000000\n",
              "(70.159, 74.286]    0.000000\n",
              "(74.286, 78.413]    0.000000\n",
              "(78.413, 82.54]     0.000000\n",
              "Name: name, dtype: float64"
            ]
          },
          "execution_count": 18,
          "metadata": {},
          "output_type": "execute_result"
        }
      ],
      "source": [
        "display(df[df['critic_score'].isna()]\n",
        "        .groupby('genre')['name']\n",
        "        .count()\n",
        "        / len(df[df['critic_score'].isna()]))\n",
        "\n",
        "display(df[df['critic_score'].isna()]\n",
        "        .groupby('platform')['name']\n",
        "        .count()\n",
        "        / len(df[df['critic_score'].isna()]))\n",
        "\n",
        "df['total_sales_range'] = pd.cut(df['total_sales'], 20)\n",
        "\n",
        "(df[df['critic_score'].isna()]\n",
        "        .groupby('total_sales_range')['name']\n",
        "        .count()\n",
        "        / len(df[df['critic_score'].isna()]))"
      ]
    },
    {
      "cell_type": "markdown",
      "metadata": {
        "id": "7HawMI5_U-uC"
      },
      "source": [
        "**Только в столбце, связанном с продажами, можно увидеть отчетливую связь наличия пропусков в столбце `'critic_score'`. Почти 99% пропусков столбца `'critic_score'` приходится на самый нижний диапазон продаж, что можно объяснить так: игры, которые не были очень популярны имели относительно низкие продажи и, соответственно, маловероятны были \"замечены\" критиками.**\n",
        "\n",
        "**Заполним данные пропуски значением -1.**"
      ]
    },
    {
      "cell_type": "code",
      "execution_count": null,
      "metadata": {
        "id": "KIGmV8ITU-uC",
        "outputId": "e3fd18df-caab-41de-e16c-4be8527573fd"
      },
      "outputs": [
        {
          "name": "stdout",
          "output_type": "stream",
          "text": [
            "<class 'pandas.core.frame.DataFrame'>\n",
            "Int64Index: 16713 entries, 0 to 16714\n",
            "Data columns (total 13 columns):\n",
            " #   Column             Non-Null Count  Dtype   \n",
            "---  ------             --------------  -----   \n",
            " 0   name               16713 non-null  object  \n",
            " 1   platform           16713 non-null  object  \n",
            " 2   year_of_release    16713 non-null  int64   \n",
            " 3   genre              16713 non-null  object  \n",
            " 4   na_sales           16713 non-null  float64 \n",
            " 5   eu_sales           16713 non-null  float64 \n",
            " 6   jp_sales           16713 non-null  float64 \n",
            " 7   other_sales        16713 non-null  float64 \n",
            " 8   critic_score       16713 non-null  float64 \n",
            " 9   user_score         10014 non-null  float64 \n",
            " 10  rating             9949 non-null   object  \n",
            " 11  total_sales        16713 non-null  float64 \n",
            " 12  total_sales_range  16713 non-null  category\n",
            "dtypes: category(1), float64(7), int64(1), object(4)\n",
            "memory usage: 1.7+ MB\n"
          ]
        }
      ],
      "source": [
        "df['critic_score'] = df['critic_score'].fillna(-1)\n",
        "df.info()"
      ]
    },
    {
      "cell_type": "markdown",
      "metadata": {
        "id": "PvAHDuzPU-uC"
      },
      "source": [
        "**Продолжим для столбца `'user_score'`. Посмотрим долю пропусков в данном столбце в зависимости от жанра, платформы и продаж.**"
      ]
    },
    {
      "cell_type": "code",
      "execution_count": null,
      "metadata": {
        "id": "_kaIWV5dU-uC",
        "outputId": "0e381896-1d6b-4337-de13-256433cf7fe6"
      },
      "outputs": [
        {
          "data": {
            "text/plain": [
              "genre\n",
              "Action          0.173608\n",
              "Adventure       0.125989\n",
              "Fighting        0.061352\n",
              "Misc            0.128676\n",
              "Platform        0.047918\n",
              "Puzzle          0.035976\n",
              "Racing          0.055979\n",
              "Role-Playing    0.108225\n",
              "Shooter         0.044783\n",
              "Simulation      0.043589\n",
              "Sports          0.124198\n",
              "Strategy        0.049709\n",
              "Name: name, dtype: float64"
            ]
          },
          "metadata": {},
          "output_type": "display_data"
        },
        {
          "data": {
            "text/plain": [
              "platform\n",
              "2600    0.019854\n",
              "3DO     0.000448\n",
              "3DS     0.043290\n",
              "DC      0.005672\n",
              "DS      0.131214\n",
              "GB      0.014629\n",
              "GBA     0.045529\n",
              "GC      0.012987\n",
              "GEN     0.004030\n",
              "GG      0.000149\n",
              "N64     0.047619\n",
              "NES     0.014629\n",
              "NG      0.001791\n",
              "PC      0.023138\n",
              "PCFX    0.000149\n",
              "PS      0.147783\n",
              "PS2     0.101508\n",
              "PS3     0.054784\n",
              "PS4     0.019257\n",
              "PSP     0.099269\n",
              "PSV     0.041797\n",
              "SAT     0.025825\n",
              "SCD     0.000896\n",
              "SNES    0.035677\n",
              "TG16    0.000299\n",
              "WS      0.000896\n",
              "Wii     0.047768\n",
              "WiiU    0.006270\n",
              "X360    0.031647\n",
              "XB      0.013136\n",
              "XOne    0.008061\n",
              "Name: name, dtype: float64"
            ]
          },
          "metadata": {},
          "output_type": "display_data"
        },
        {
          "data": {
            "text/plain": [
              "total_sales_range\n",
              "(-0.0825, 4.127]    0.987461\n",
              "(4.127, 8.254]      0.008658\n",
              "(8.254, 12.381]     0.001642\n",
              "(12.381, 16.508]    0.000746\n",
              "(16.508, 20.635]    0.000597\n",
              "(20.635, 24.762]    0.000299\n",
              "(24.762, 28.889]    0.000149\n",
              "(28.889, 33.016]    0.000299\n",
              "(33.016, 37.143]    0.000000\n",
              "(37.143, 41.27]     0.000149\n",
              "(41.27, 45.397]     0.000000\n",
              "(45.397, 49.524]    0.000000\n",
              "(49.524, 53.651]    0.000000\n",
              "(53.651, 57.778]    0.000000\n",
              "(57.778, 61.905]    0.000000\n",
              "(61.905, 66.032]    0.000000\n",
              "(66.032, 70.159]    0.000000\n",
              "(70.159, 74.286]    0.000000\n",
              "(74.286, 78.413]    0.000000\n",
              "(78.413, 82.54]     0.000000\n",
              "Name: name, dtype: float64"
            ]
          },
          "execution_count": 20,
          "metadata": {},
          "output_type": "execute_result"
        }
      ],
      "source": [
        "display(df[df['user_score'].isna()]\n",
        "        .groupby('genre')['name']\n",
        "        .count()\n",
        "        / len(df[df['user_score'].isna()]))\n",
        "\n",
        "display(df[df['user_score'].isna()]\n",
        "        .groupby('platform')['name']\n",
        "        .count()\n",
        "        / len(df[df['user_score'].isna()]))\n",
        "\n",
        "(df[df['user_score'].isna()]\n",
        "        .groupby('total_sales_range')['name']\n",
        "        .count()\n",
        "        / len(df[df['user_score'].isna()]))"
      ]
    },
    {
      "cell_type": "markdown",
      "metadata": {
        "id": "O3VXpu1AU-uD"
      },
      "source": [
        "**Аналогично, только в столбце, связанном с продажами, можно увидеть отчетливую связь наличия пропусков в столбце `'user_score'`. Почти 99% пропусков столбца `'user_score'` приходится на самый нижний диапазон продаж, что можно объяснить так: игры, которые не были очень популярны имели относительно низкие продажи и, соответственно, были \"обделены\" вниманием и оценками пользователей.**\n",
        "\n",
        "**Заполним данные пропуски значением -1.**"
      ]
    },
    {
      "cell_type": "code",
      "execution_count": null,
      "metadata": {
        "id": "jOslUDC3U-uD",
        "outputId": "c0b46039-89e0-483b-8b5d-ff127d8697b6"
      },
      "outputs": [
        {
          "name": "stdout",
          "output_type": "stream",
          "text": [
            "<class 'pandas.core.frame.DataFrame'>\n",
            "Int64Index: 16713 entries, 0 to 16714\n",
            "Data columns (total 13 columns):\n",
            " #   Column             Non-Null Count  Dtype   \n",
            "---  ------             --------------  -----   \n",
            " 0   name               16713 non-null  object  \n",
            " 1   platform           16713 non-null  object  \n",
            " 2   year_of_release    16713 non-null  int64   \n",
            " 3   genre              16713 non-null  object  \n",
            " 4   na_sales           16713 non-null  float64 \n",
            " 5   eu_sales           16713 non-null  float64 \n",
            " 6   jp_sales           16713 non-null  float64 \n",
            " 7   other_sales        16713 non-null  float64 \n",
            " 8   critic_score       16713 non-null  float64 \n",
            " 9   user_score         16713 non-null  float64 \n",
            " 10  rating             9949 non-null   object  \n",
            " 11  total_sales        16713 non-null  float64 \n",
            " 12  total_sales_range  16713 non-null  category\n",
            "dtypes: category(1), float64(7), int64(1), object(4)\n",
            "memory usage: 1.7+ MB\n"
          ]
        }
      ],
      "source": [
        "df['user_score'] = df['user_score'].fillna(-1)\n",
        "df.info()"
      ]
    },
    {
      "cell_type": "markdown",
      "metadata": {
        "id": "SeQXoNTMU-uD"
      },
      "source": [
        "**Продолжим для столбца `'rating'`. Посмотрим долю пропусков в данном столбце в зависимости от жанра, платформы и продаж.**"
      ]
    },
    {
      "cell_type": "code",
      "execution_count": null,
      "metadata": {
        "id": "AiRyOlkKU-uD",
        "outputId": "78f0b928-5b05-49bc-84dd-d621e4cfa6ef"
      },
      "outputs": [
        {
          "data": {
            "text/plain": [
              "genre\n",
              "Action          0.174601\n",
              "Adventure       0.126700\n",
              "Fighting        0.060763\n",
              "Misc            0.128326\n",
              "Platform        0.047161\n",
              "Puzzle          0.035186\n",
              "Racing          0.055736\n",
              "Role-Playing    0.106594\n",
              "Shooter         0.044944\n",
              "Simulation      0.045092\n",
              "Sports          0.124039\n",
              "Strategy        0.050857\n",
              "Name: name, dtype: float64"
            ]
          },
          "metadata": {},
          "output_type": "display_data"
        },
        {
          "data": {
            "text/plain": [
              "platform\n",
              "2600    0.019663\n",
              "3DO     0.000444\n",
              "3DS     0.043170\n",
              "DC      0.005618\n",
              "DS      0.129805\n",
              "GB      0.014488\n",
              "GBA     0.044352\n",
              "GC      0.012862\n",
              "GEN     0.003992\n",
              "GG      0.000148\n",
              "N64     0.047161\n",
              "NES     0.014488\n",
              "NG      0.001774\n",
              "PC      0.029568\n",
              "PCFX    0.000148\n",
              "PS      0.146215\n",
              "PS2     0.100532\n",
              "PS3     0.056032\n",
              "PS4     0.020254\n",
              "PSP     0.098315\n",
              "PSV     0.041248\n",
              "SAT     0.025577\n",
              "SCD     0.000887\n",
              "SNES    0.035334\n",
              "TG16    0.000296\n",
              "WS      0.000887\n",
              "Wii     0.047014\n",
              "WiiU    0.006209\n",
              "X360    0.031047\n",
              "XB      0.013454\n",
              "XOne    0.009018\n",
              "Name: name, dtype: float64"
            ]
          },
          "metadata": {},
          "output_type": "display_data"
        },
        {
          "data": {
            "text/plain": [
              "total_sales_range\n",
              "(-0.0825, 4.127]    0.987729\n",
              "(4.127, 8.254]      0.008427\n",
              "(8.254, 12.381]     0.001626\n",
              "(12.381, 16.508]    0.000739\n",
              "(16.508, 20.635]    0.000591\n",
              "(20.635, 24.762]    0.000296\n",
              "(24.762, 28.889]    0.000148\n",
              "(28.889, 33.016]    0.000296\n",
              "(33.016, 37.143]    0.000000\n",
              "(37.143, 41.27]     0.000148\n",
              "(41.27, 45.397]     0.000000\n",
              "(45.397, 49.524]    0.000000\n",
              "(49.524, 53.651]    0.000000\n",
              "(53.651, 57.778]    0.000000\n",
              "(57.778, 61.905]    0.000000\n",
              "(61.905, 66.032]    0.000000\n",
              "(66.032, 70.159]    0.000000\n",
              "(70.159, 74.286]    0.000000\n",
              "(74.286, 78.413]    0.000000\n",
              "(78.413, 82.54]     0.000000\n",
              "Name: name, dtype: float64"
            ]
          },
          "execution_count": 22,
          "metadata": {},
          "output_type": "execute_result"
        }
      ],
      "source": [
        "display(df[df['rating'].isna()]\n",
        "        .groupby('genre')['name']\n",
        "        .count()\n",
        "        / len(df[df['rating'].isna()]))\n",
        "\n",
        "display(df[df['rating'].isna()]\n",
        "        .groupby('platform')['name']\n",
        "        .count()\n",
        "        / len(df[df['rating'].isna()]))\n",
        "\n",
        "(df[df['rating'].isna()]\n",
        "        .groupby('total_sales_range')['name']\n",
        "        .count()\n",
        "        / len(df[df['rating'].isna()]))"
      ]
    },
    {
      "cell_type": "markdown",
      "metadata": {
        "id": "yfapHRF5U-uD"
      },
      "source": [
        "**Аналогично, только в столбце, связанном с продажами, можно увидеть отчетливую связь наличия пропусков в столбце `'rating'`. Почти 99% пропусков столбца `'rating'` приходится на самый нижний диапазон продаж, что можно объяснить так: игры, которые не были очень популярны имели относительно низкие продажи и, соответственно, были \"обделены\" вниманием организацией Entertainment Software Rating Board, основанной в 1994 году, и соответственно ее оценкой.**\n",
        "\n",
        "**Заполним данные пропуски значением -1.**"
      ]
    },
    {
      "cell_type": "code",
      "execution_count": null,
      "metadata": {
        "id": "TiAok9rCU-uD",
        "outputId": "917cff56-f905-4353-996c-be6de5ae0142"
      },
      "outputs": [
        {
          "name": "stdout",
          "output_type": "stream",
          "text": [
            "<class 'pandas.core.frame.DataFrame'>\n",
            "Int64Index: 16713 entries, 0 to 16714\n",
            "Data columns (total 13 columns):\n",
            " #   Column             Non-Null Count  Dtype   \n",
            "---  ------             --------------  -----   \n",
            " 0   name               16713 non-null  object  \n",
            " 1   platform           16713 non-null  object  \n",
            " 2   year_of_release    16713 non-null  int64   \n",
            " 3   genre              16713 non-null  object  \n",
            " 4   na_sales           16713 non-null  float64 \n",
            " 5   eu_sales           16713 non-null  float64 \n",
            " 6   jp_sales           16713 non-null  float64 \n",
            " 7   other_sales        16713 non-null  float64 \n",
            " 8   critic_score       16713 non-null  float64 \n",
            " 9   user_score         16713 non-null  float64 \n",
            " 10  rating             16713 non-null  object  \n",
            " 11  total_sales        16713 non-null  float64 \n",
            " 12  total_sales_range  16713 non-null  category\n",
            "dtypes: category(1), float64(7), int64(1), object(4)\n",
            "memory usage: 1.7+ MB\n"
          ]
        }
      ],
      "source": [
        "df['rating'] = df['rating'].fillna(-1)\n",
        "df.info()"
      ]
    },
    {
      "cell_type": "markdown",
      "metadata": {
        "id": "0iWdkjMIU-uD"
      },
      "source": [
        "### Проверка на неявные дубликаты."
      ]
    },
    {
      "cell_type": "markdown",
      "metadata": {
        "id": "tkicVsA0U-uD"
      },
      "source": [
        "**Проверим теперь столбцы на неявные дубликаты. Начнем со столбца `'rating'`.**"
      ]
    },
    {
      "cell_type": "code",
      "execution_count": null,
      "metadata": {
        "id": "cElj6S8BU-uD",
        "outputId": "ee27062b-e34e-4586-89f5-098b71718ff7"
      },
      "outputs": [
        {
          "data": {
            "text/plain": [
              "array(['E', -1, 'M', 'T', 'E10+', 'K-A', 'AO', 'EC', 'RP'], dtype=object)"
            ]
          },
          "execution_count": 24,
          "metadata": {},
          "output_type": "execute_result"
        }
      ],
      "source": [
        "df['rating'].unique()"
      ]
    },
    {
      "cell_type": "markdown",
      "metadata": {
        "id": "jTEZC85SU-uD"
      },
      "source": [
        "**Cтолбец `Rating` - это рейтинг ESRB (Entertainment Software Rating Board):**\n",
        "\n",
        "- `'E'` - *Everyone* - для всех возрастов.\n",
        "- `'E10+'` - *Everyone 10+* - для возраста 10+.\n",
        "- `'T'` - *Teen* - для возраста 13+.\n",
        "- `'M'` - *Mature* - для возраста 17+.\n",
        "- `'AO'` - *Adults only* - для возраста 18+.\n",
        "- `'RP'` - *Rating pending* - используется только в рекламных и маркетинговых материалах, когда заявка уже была подана на оценку ESRB, но не была еще рассмотрена и присвоен рейтинг.\n",
        "- `'K-A'` - *Kids to adults* - рейтинг ранее назывался K-A (Kids to Adults), но был изменен в 1998 на рейтинг E - т.е. для всех.\n",
        "- `'EC'` - *Early Childhood* - контент подходит для возраста 3+."
      ]
    },
    {
      "cell_type": "markdown",
      "metadata": {
        "id": "VPYYR_OYU-uE"
      },
      "source": [
        "**Делаем вывод, что рейтинг `'K-A'` необходимо заменить на актуальный `'E'`, a пропуски в виде -1 и `'RP'` на 'Empty', т.к. смысловая нагрузка одинаковая.**"
      ]
    },
    {
      "cell_type": "code",
      "execution_count": null,
      "metadata": {
        "id": "1Yn29-RSU-uE",
        "outputId": "a7f0d070-5d03-4b0f-c681-bcf10f23cde5"
      },
      "outputs": [
        {
          "data": {
            "text/plain": [
              "array(['E', 'Empty', 'M', 'T', 'E10+', 'AO', 'EC'], dtype=object)"
            ]
          },
          "execution_count": 25,
          "metadata": {},
          "output_type": "execute_result"
        }
      ],
      "source": [
        "df['rating']  = df['rating'].replace('K-A', 'E')\n",
        "df['rating']  = df['rating'].replace('RP', 'Empty')\n",
        "df['rating']  = df['rating'].replace(-1, 'Empty')\n",
        "df['rating'].unique()"
      ]
    },
    {
      "cell_type": "markdown",
      "metadata": {
        "id": "GLzuG2fvU-uE"
      },
      "source": [
        "**Проверим теперь на неявный дубликаты столбец `'genre'`.**"
      ]
    },
    {
      "cell_type": "code",
      "execution_count": null,
      "metadata": {
        "id": "olpQu8UcU-uE",
        "outputId": "934dbe47-6ca3-4aac-ab0a-860e367e39dd"
      },
      "outputs": [
        {
          "data": {
            "text/plain": [
              "array(['Sports', 'Platform', 'Racing', 'Role-Playing', 'Puzzle', 'Misc',\n",
              "       'Shooter', 'Simulation', 'Action', 'Fighting', 'Adventure',\n",
              "       'Strategy'], dtype=object)"
            ]
          },
          "execution_count": 26,
          "metadata": {},
          "output_type": "execute_result"
        }
      ],
      "source": [
        "df['genre'].unique()"
      ]
    },
    {
      "cell_type": "markdown",
      "metadata": {
        "id": "U66rlUlCU-uE"
      },
      "source": [
        "**Используя поисковик удалось выяснить, что неявных дубликатов здесь нет.**\n",
        "\n",
        "**Поищем дубликаты в столбцах `'name'` и `'platform'`.**"
      ]
    },
    {
      "cell_type": "code",
      "execution_count": null,
      "metadata": {
        "id": "6JGP8ByQU-uE",
        "outputId": "a14c359b-b76e-4590-ee73-48e2b321373a"
      },
      "outputs": [
        {
          "data": {
            "text/html": [
              "<div>\n",
              "<style scoped>\n",
              "    .dataframe tbody tr th:only-of-type {\n",
              "        vertical-align: middle;\n",
              "    }\n",
              "\n",
              "    .dataframe tbody tr th {\n",
              "        vertical-align: top;\n",
              "    }\n",
              "\n",
              "    .dataframe thead th {\n",
              "        text-align: right;\n",
              "    }\n",
              "</style>\n",
              "<table border=\"1\" class=\"dataframe\">\n",
              "  <thead>\n",
              "    <tr style=\"text-align: right;\">\n",
              "      <th></th>\n",
              "      <th>name</th>\n",
              "      <th>platform</th>\n",
              "      <th>year_of_release</th>\n",
              "      <th>genre</th>\n",
              "      <th>na_sales</th>\n",
              "      <th>eu_sales</th>\n",
              "      <th>jp_sales</th>\n",
              "      <th>other_sales</th>\n",
              "      <th>critic_score</th>\n",
              "      <th>user_score</th>\n",
              "      <th>rating</th>\n",
              "      <th>total_sales</th>\n",
              "      <th>total_sales_range</th>\n",
              "    </tr>\n",
              "  </thead>\n",
              "  <tbody>\n",
              "    <tr>\n",
              "      <th>3862</th>\n",
              "      <td>Frozen: Olaf's Quest</td>\n",
              "      <td>DS</td>\n",
              "      <td>2013</td>\n",
              "      <td>Platform</td>\n",
              "      <td>0.21</td>\n",
              "      <td>0.26</td>\n",
              "      <td>0.00</td>\n",
              "      <td>0.04</td>\n",
              "      <td>-1.0</td>\n",
              "      <td>-1.0</td>\n",
              "      <td>Empty</td>\n",
              "      <td>0.51</td>\n",
              "      <td>(-0.0825, 4.127]</td>\n",
              "    </tr>\n",
              "    <tr>\n",
              "      <th>3358</th>\n",
              "      <td>Frozen: Olaf's Quest</td>\n",
              "      <td>3DS</td>\n",
              "      <td>2013</td>\n",
              "      <td>Platform</td>\n",
              "      <td>0.27</td>\n",
              "      <td>0.27</td>\n",
              "      <td>0.00</td>\n",
              "      <td>0.05</td>\n",
              "      <td>-1.0</td>\n",
              "      <td>-1.0</td>\n",
              "      <td>Empty</td>\n",
              "      <td>0.59</td>\n",
              "      <td>(-0.0825, 4.127]</td>\n",
              "    </tr>\n",
              "    <tr>\n",
              "      <th>14658</th>\n",
              "      <td>007: Quantum of Solace</td>\n",
              "      <td>PC</td>\n",
              "      <td>2008</td>\n",
              "      <td>Action</td>\n",
              "      <td>0.01</td>\n",
              "      <td>0.01</td>\n",
              "      <td>0.00</td>\n",
              "      <td>0.00</td>\n",
              "      <td>70.0</td>\n",
              "      <td>6.3</td>\n",
              "      <td>T</td>\n",
              "      <td>0.02</td>\n",
              "      <td>(-0.0825, 4.127]</td>\n",
              "    </tr>\n",
              "    <tr>\n",
              "      <th>9507</th>\n",
              "      <td>007: Quantum of Solace</td>\n",
              "      <td>DS</td>\n",
              "      <td>2008</td>\n",
              "      <td>Action</td>\n",
              "      <td>0.11</td>\n",
              "      <td>0.01</td>\n",
              "      <td>0.00</td>\n",
              "      <td>0.01</td>\n",
              "      <td>65.0</td>\n",
              "      <td>-1.0</td>\n",
              "      <td>T</td>\n",
              "      <td>0.13</td>\n",
              "      <td>(-0.0825, 4.127]</td>\n",
              "    </tr>\n",
              "    <tr>\n",
              "      <th>3120</th>\n",
              "      <td>007: Quantum of Solace</td>\n",
              "      <td>Wii</td>\n",
              "      <td>2008</td>\n",
              "      <td>Action</td>\n",
              "      <td>0.29</td>\n",
              "      <td>0.28</td>\n",
              "      <td>0.01</td>\n",
              "      <td>0.07</td>\n",
              "      <td>54.0</td>\n",
              "      <td>7.5</td>\n",
              "      <td>T</td>\n",
              "      <td>0.65</td>\n",
              "      <td>(-0.0825, 4.127]</td>\n",
              "    </tr>\n",
              "  </tbody>\n",
              "</table>\n",
              "</div>"
            ],
            "text/plain": [
              "                         name platform  year_of_release     genre  na_sales  \\\n",
              "3862     Frozen: Olaf's Quest       DS             2013  Platform      0.21   \n",
              "3358     Frozen: Olaf's Quest      3DS             2013  Platform      0.27   \n",
              "14658  007: Quantum of Solace       PC             2008    Action      0.01   \n",
              "9507   007: Quantum of Solace       DS             2008    Action      0.11   \n",
              "3120   007: Quantum of Solace      Wii             2008    Action      0.29   \n",
              "\n",
              "       eu_sales  jp_sales  other_sales  critic_score  user_score rating  \\\n",
              "3862       0.26      0.00         0.04          -1.0        -1.0  Empty   \n",
              "3358       0.27      0.00         0.05          -1.0        -1.0  Empty   \n",
              "14658      0.01      0.00         0.00          70.0         6.3      T   \n",
              "9507       0.01      0.00         0.01          65.0        -1.0      T   \n",
              "3120       0.28      0.01         0.07          54.0         7.5      T   \n",
              "\n",
              "       total_sales total_sales_range  \n",
              "3862          0.51  (-0.0825, 4.127]  \n",
              "3358          0.59  (-0.0825, 4.127]  \n",
              "14658         0.02  (-0.0825, 4.127]  \n",
              "9507          0.13  (-0.0825, 4.127]  \n",
              "3120          0.65  (-0.0825, 4.127]  "
            ]
          },
          "execution_count": 27,
          "metadata": {},
          "output_type": "execute_result"
        }
      ],
      "source": [
        "df[df.duplicated(subset=['name'], keep=False)].sort_values(by='name').head()"
      ]
    },
    {
      "cell_type": "markdown",
      "metadata": {
        "id": "-JotsStaU-uE"
      },
      "source": [
        "**Видим, что название игры хоть и дублируется, но при этом название платформы может отличаться, и для каждой пары игра-платформа есть своя статистика продаж. Поэтому поиск дубликатов для этих двух столбцов нужно производить в связанной паре. Сделаем это.**"
      ]
    },
    {
      "cell_type": "code",
      "execution_count": null,
      "metadata": {
        "id": "7K-0mMMiU-uE",
        "outputId": "b22988bd-7de3-4f18-fdca-6ea6ab092de7"
      },
      "outputs": [
        {
          "data": {
            "text/html": [
              "<div>\n",
              "<style scoped>\n",
              "    .dataframe tbody tr th:only-of-type {\n",
              "        vertical-align: middle;\n",
              "    }\n",
              "\n",
              "    .dataframe tbody tr th {\n",
              "        vertical-align: top;\n",
              "    }\n",
              "\n",
              "    .dataframe thead th {\n",
              "        text-align: right;\n",
              "    }\n",
              "</style>\n",
              "<table border=\"1\" class=\"dataframe\">\n",
              "  <thead>\n",
              "    <tr style=\"text-align: right;\">\n",
              "      <th></th>\n",
              "      <th>name</th>\n",
              "      <th>platform</th>\n",
              "      <th>year_of_release</th>\n",
              "      <th>genre</th>\n",
              "      <th>na_sales</th>\n",
              "      <th>eu_sales</th>\n",
              "      <th>jp_sales</th>\n",
              "      <th>other_sales</th>\n",
              "      <th>critic_score</th>\n",
              "      <th>user_score</th>\n",
              "      <th>rating</th>\n",
              "      <th>total_sales</th>\n",
              "      <th>total_sales_range</th>\n",
              "    </tr>\n",
              "  </thead>\n",
              "  <tbody>\n",
              "    <tr>\n",
              "      <th>604</th>\n",
              "      <td>Madden NFL 13</td>\n",
              "      <td>PS3</td>\n",
              "      <td>2012</td>\n",
              "      <td>Sports</td>\n",
              "      <td>2.11</td>\n",
              "      <td>0.22</td>\n",
              "      <td>0.00</td>\n",
              "      <td>0.23</td>\n",
              "      <td>83.0</td>\n",
              "      <td>5.5</td>\n",
              "      <td>E</td>\n",
              "      <td>2.56</td>\n",
              "      <td>(-0.0825, 4.127]</td>\n",
              "    </tr>\n",
              "    <tr>\n",
              "      <th>16230</th>\n",
              "      <td>Madden NFL 13</td>\n",
              "      <td>PS3</td>\n",
              "      <td>2012</td>\n",
              "      <td>Sports</td>\n",
              "      <td>0.00</td>\n",
              "      <td>0.01</td>\n",
              "      <td>0.00</td>\n",
              "      <td>0.00</td>\n",
              "      <td>83.0</td>\n",
              "      <td>5.5</td>\n",
              "      <td>E</td>\n",
              "      <td>0.01</td>\n",
              "      <td>(-0.0825, 4.127]</td>\n",
              "    </tr>\n",
              "    <tr>\n",
              "      <th>1190</th>\n",
              "      <td>Need for Speed: Most Wanted</td>\n",
              "      <td>X360</td>\n",
              "      <td>2012</td>\n",
              "      <td>Racing</td>\n",
              "      <td>0.62</td>\n",
              "      <td>0.78</td>\n",
              "      <td>0.01</td>\n",
              "      <td>0.15</td>\n",
              "      <td>83.0</td>\n",
              "      <td>8.5</td>\n",
              "      <td>T</td>\n",
              "      <td>1.56</td>\n",
              "      <td>(-0.0825, 4.127]</td>\n",
              "    </tr>\n",
              "    <tr>\n",
              "      <th>1591</th>\n",
              "      <td>Need for Speed: Most Wanted</td>\n",
              "      <td>X360</td>\n",
              "      <td>2005</td>\n",
              "      <td>Racing</td>\n",
              "      <td>1.00</td>\n",
              "      <td>0.13</td>\n",
              "      <td>0.02</td>\n",
              "      <td>0.10</td>\n",
              "      <td>83.0</td>\n",
              "      <td>8.5</td>\n",
              "      <td>T</td>\n",
              "      <td>1.25</td>\n",
              "      <td>(-0.0825, 4.127]</td>\n",
              "    </tr>\n",
              "    <tr>\n",
              "      <th>5972</th>\n",
              "      <td>Need for Speed: Most Wanted</td>\n",
              "      <td>PC</td>\n",
              "      <td>2005</td>\n",
              "      <td>Racing</td>\n",
              "      <td>0.02</td>\n",
              "      <td>0.23</td>\n",
              "      <td>0.00</td>\n",
              "      <td>0.04</td>\n",
              "      <td>82.0</td>\n",
              "      <td>8.5</td>\n",
              "      <td>T</td>\n",
              "      <td>0.29</td>\n",
              "      <td>(-0.0825, 4.127]</td>\n",
              "    </tr>\n",
              "    <tr>\n",
              "      <th>11715</th>\n",
              "      <td>Need for Speed: Most Wanted</td>\n",
              "      <td>PC</td>\n",
              "      <td>2012</td>\n",
              "      <td>Racing</td>\n",
              "      <td>0.00</td>\n",
              "      <td>0.06</td>\n",
              "      <td>0.00</td>\n",
              "      <td>0.02</td>\n",
              "      <td>82.0</td>\n",
              "      <td>8.5</td>\n",
              "      <td>T</td>\n",
              "      <td>0.08</td>\n",
              "      <td>(-0.0825, 4.127]</td>\n",
              "    </tr>\n",
              "    <tr>\n",
              "      <th>1745</th>\n",
              "      <td>Sonic the Hedgehog</td>\n",
              "      <td>PS3</td>\n",
              "      <td>2006</td>\n",
              "      <td>Platform</td>\n",
              "      <td>0.41</td>\n",
              "      <td>0.06</td>\n",
              "      <td>0.04</td>\n",
              "      <td>0.66</td>\n",
              "      <td>43.0</td>\n",
              "      <td>4.1</td>\n",
              "      <td>E10+</td>\n",
              "      <td>1.17</td>\n",
              "      <td>(-0.0825, 4.127]</td>\n",
              "    </tr>\n",
              "    <tr>\n",
              "      <th>4127</th>\n",
              "      <td>Sonic the Hedgehog</td>\n",
              "      <td>PS3</td>\n",
              "      <td>-1</td>\n",
              "      <td>Platform</td>\n",
              "      <td>0.00</td>\n",
              "      <td>0.48</td>\n",
              "      <td>0.00</td>\n",
              "      <td>0.00</td>\n",
              "      <td>43.0</td>\n",
              "      <td>4.1</td>\n",
              "      <td>E10+</td>\n",
              "      <td>0.48</td>\n",
              "      <td>(-0.0825, 4.127]</td>\n",
              "    </tr>\n",
              "  </tbody>\n",
              "</table>\n",
              "</div>"
            ],
            "text/plain": [
              "                              name platform  year_of_release     genre  \\\n",
              "604                  Madden NFL 13      PS3             2012    Sports   \n",
              "16230                Madden NFL 13      PS3             2012    Sports   \n",
              "1190   Need for Speed: Most Wanted     X360             2012    Racing   \n",
              "1591   Need for Speed: Most Wanted     X360             2005    Racing   \n",
              "5972   Need for Speed: Most Wanted       PC             2005    Racing   \n",
              "11715  Need for Speed: Most Wanted       PC             2012    Racing   \n",
              "1745            Sonic the Hedgehog      PS3             2006  Platform   \n",
              "4127            Sonic the Hedgehog      PS3               -1  Platform   \n",
              "\n",
              "       na_sales  eu_sales  jp_sales  other_sales  critic_score  user_score  \\\n",
              "604        2.11      0.22      0.00         0.23          83.0         5.5   \n",
              "16230      0.00      0.01      0.00         0.00          83.0         5.5   \n",
              "1190       0.62      0.78      0.01         0.15          83.0         8.5   \n",
              "1591       1.00      0.13      0.02         0.10          83.0         8.5   \n",
              "5972       0.02      0.23      0.00         0.04          82.0         8.5   \n",
              "11715      0.00      0.06      0.00         0.02          82.0         8.5   \n",
              "1745       0.41      0.06      0.04         0.66          43.0         4.1   \n",
              "4127       0.00      0.48      0.00         0.00          43.0         4.1   \n",
              "\n",
              "      rating  total_sales total_sales_range  \n",
              "604        E         2.56  (-0.0825, 4.127]  \n",
              "16230      E         0.01  (-0.0825, 4.127]  \n",
              "1190       T         1.56  (-0.0825, 4.127]  \n",
              "1591       T         1.25  (-0.0825, 4.127]  \n",
              "5972       T         0.29  (-0.0825, 4.127]  \n",
              "11715      T         0.08  (-0.0825, 4.127]  \n",
              "1745    E10+         1.17  (-0.0825, 4.127]  \n",
              "4127    E10+         0.48  (-0.0825, 4.127]  "
            ]
          },
          "execution_count": 28,
          "metadata": {},
          "output_type": "execute_result"
        }
      ],
      "source": [
        "df[df.duplicated(subset=['name', 'platform'], keep=False)].sort_values(by='name')"
      ]
    },
    {
      "cell_type": "markdown",
      "metadata": {
        "id": "6ZlxEFl4U-uE"
      },
      "source": [
        "**Используя поисковик, удалось определить, что NFS Most Wanted действительно имело две версии: выпущенную в 2005 и выпущенную в 2012 годах. Что касается первой строки и последней - данные игры действительно задублированы, необходимо удалить данные дубликаты. Сделаем это.**"
      ]
    },
    {
      "cell_type": "code",
      "execution_count": null,
      "metadata": {
        "id": "8vlIzgoKU-uE"
      },
      "outputs": [],
      "source": [
        "df = df.drop([16230, 4127])"
      ]
    },
    {
      "cell_type": "markdown",
      "metadata": {
        "id": "EKMpB898U-uF"
      },
      "source": [
        "**Рассмотрим столбец `'total_sales'`.**"
      ]
    },
    {
      "cell_type": "code",
      "execution_count": null,
      "metadata": {
        "id": "mIU_J5v1U-uF",
        "outputId": "e45afd53-c7c7-4de1-d77c-b1b342676321"
      },
      "outputs": [
        {
          "data": {
            "text/plain": [
              "count    16711.000000\n",
              "mean         0.533349\n",
              "std          1.548370\n",
              "min          0.000000\n",
              "25%          0.060000\n",
              "50%          0.170000\n",
              "75%          0.470000\n",
              "max         82.540000\n",
              "Name: total_sales, dtype: float64"
            ]
          },
          "execution_count": 30,
          "metadata": {},
          "output_type": "execute_result"
        }
      ],
      "source": [
        "df['total_sales'].describe()"
      ]
    },
    {
      "cell_type": "code",
      "execution_count": null,
      "metadata": {
        "id": "6rNfIWXPU-uF",
        "outputId": "ffa5acbb-1fbb-4c3d-8d08-e735d274b896"
      },
      "outputs": [
        {
          "data": {
            "image/png": "[encoded data removed]",
            "text/plain": [
              "<Figure size 432x288 with 1 Axes>"
            ]
          },
          "metadata": {
            "needs_background": "light"
          },
          "output_type": "display_data"
        }
      ],
      "source": [
        "plt.ylim([-0.1,1.1])\n",
        "df.boxplot(column='total_sales');"
      ]
    },
    {
      "cell_type": "markdown",
      "metadata": {
        "id": "xUr90mmjU-uF"
      },
      "source": [
        "**Видим, что бОльшая часть значений датафрейма лежит в диапазоне от 0 до ~1.1 млн. суммарно реализованных экземпляров определенных игр.**"
      ]
    },
    {
      "cell_type": "markdown",
      "metadata": {
        "id": "s1ADWsUUU-uF"
      },
      "source": [
        "### Выводы раздела."
      ]
    },
    {
      "cell_type": "markdown",
      "metadata": {
        "id": "yk955xygU-uF"
      },
      "source": [
        "**После исследования данных в столбцах sales с использованием информации из интернета было определено, что данные числа обозначают количество проданных экземпляров игры в млн. ед. на момент выгрузки этих данных, т.е. за всё время, а не только в первый год\\года выпуска игры.**\n",
        "\n",
        "**Видим, что бОльшая часть значений датафрейма лежит в диапазоне от 0 до ~1.1 млн. суммарно реализованных экземпляров игр.**\n",
        "\n",
        "**Пропуски в столбцах, отвечающих за рейтинг (`'critic_score'`, `'user_score'`, `'rating'`), связаны с играми, реализованными в меньшем количестве экземпляров, т.е. менее популярных.**\n",
        "\n",
        "**Пропуски в столбце `'year_of_release'` и `'name'` связаны, скорее всего, с проблемой при выгрузке данных.**\n",
        "\n",
        "**Полных строчек-дубликатов в датафрейме не обнаружено, помимо двух строк с указанием одинаковой игры для одинаковой платформы.**\n",
        "\n",
        "**Найдены неявные дубликаты среди значений рейтинга ESRB в столбце `'rating'`.**"
      ]
    },
    {
      "cell_type": "markdown",
      "metadata": {
        "id": "sRWruCDXU-uF"
      },
      "source": [
        "## Исследовательский анализ данных."
      ]
    },
    {
      "cell_type": "markdown",
      "metadata": {
        "id": "t49wRvDCU-uF"
      },
      "source": [
        "### Распределение количества выпускаемых игр по годам."
      ]
    },
    {
      "cell_type": "code",
      "execution_count": null,
      "metadata": {
        "scrolled": true,
        "id": "dnhbAWPvU-uF",
        "outputId": "a190045d-4f80-4202-8a7a-6b4f6da33497"
      },
      "outputs": [
        {
          "data": {
            "image/png": "[encoded data removed]",
            "text/plain": [
              "<Figure size 1080x648 with 1 Axes>"
            ]
          },
          "metadata": {
            "needs_background": "light"
          },
          "output_type": "display_data"
        }
      ],
      "source": [
        "plt.title('Раcпределение кол-ва выпускаемых игр по годам')\n",
        "plt.xlabel('Год')\n",
        "plt.ylabel('Количество игр')\n",
        "(df[df['year_of_release'] > 0].groupby('year_of_release')['name'].count() # >0 - это фильтр пропусков в данных по году\n",
        " .plot(kind='bar', figsize=(15, 9), rot=45));"
      ]
    },
    {
      "cell_type": "markdown",
      "metadata": {
        "id": "S4vuaTfEU-uF"
      },
      "source": [
        "**Видим, что начиная с 1994 идет стремительный рост количества выпускаемых игр, при этом локальный спад с плато есть на 1998-2000 и на 2002-2004 годах. Рост наблюдается до 2008 года, с 2009 года идет достаточно резкий спад до 2013 года, после чего наблюдается локальное плато в росте.**"
      ]
    },
    {
      "cell_type": "markdown",
      "metadata": {
        "id": "w02HPr9nU-uF"
      },
      "source": [
        "### Распределение данных по платформам."
      ]
    },
    {
      "cell_type": "markdown",
      "metadata": {
        "id": "_cwGfm7_U-uF"
      },
      "source": [
        "**Посмотрим, как распределяется количество проданных экземпляров игр по платформам за всё время до 2016 года.**"
      ]
    },
    {
      "cell_type": "code",
      "execution_count": null,
      "metadata": {
        "id": "RDI-iV2tU-uG",
        "outputId": "ba242149-cf70-44aa-c7e2-a87101610686"
      },
      "outputs": [
        {
          "data": {
            "image/png": "[encoded data removed]",
            "text/plain": [
              "<Figure size 1080x648 with 1 Axes>"
            ]
          },
          "metadata": {
            "needs_background": "light"
          },
          "output_type": "display_data"
        }
      ],
      "source": [
        "plt.title('Рапределение кол-ва проданных экземпляров игр по платформам')\n",
        "plt.xlabel('Платформа')\n",
        "plt.ylabel('Количество проданных экземпляров игр')\n",
        "(df.groupby('platform').sum()\n",
        " .sort_values(by='total_sales')['total_sales']\n",
        " .plot(kind='bar', figsize=(15, 9), rot=45));"
      ]
    },
    {
      "cell_type": "markdown",
      "metadata": {
        "id": "KaARePlRU-uG"
      },
      "source": [
        "**Посмотрим, как при этом для платформ с самыми большими продажами распределяется кол-во выпускаемых игр по годам.**"
      ]
    },
    {
      "cell_type": "code",
      "execution_count": null,
      "metadata": {
        "id": "-swYf3HbU-uG",
        "outputId": "cad1358b-2073-4bfb-e899-dbbcc4169dea"
      },
      "outputs": [
        {
          "data": {
            "image/png": "[encoded data removed]",
            "text/plain": [
              "<Figure size 432x288 with 1 Axes>"
            ]
          },
          "metadata": {
            "needs_background": "light"
          },
          "output_type": "display_data"
        },
        {
          "data": {
            "image/png": "[encoded data removed]",
            "text/plain": [
              "<Figure size 432x288 with 1 Axes>"
            ]
          },
          "metadata": {
            "needs_background": "light"
          },
          "output_type": "display_data"
        },
        {
          "data": {
            "image/png": "[encoded data removed]",
            "text/plain": [
              "<Figure size 432x288 with 1 Axes>"
            ]
          },
          "metadata": {
            "needs_background": "light"
          },
          "output_type": "display_data"
        },
        {
          "data": {
            "image/png": "[encoded data removed]",
            "text/plain": [
              "<Figure size 432x288 with 1 Axes>"
            ]
          },
          "metadata": {
            "needs_background": "light"
          },
          "output_type": "display_data"
        },
        {
          "data": {
            "image/png": "[encoded data removed]",
            "text/plain": [
              "<Figure size 432x288 with 1 Axes>"
            ]
          },
          "metadata": {
            "needs_background": "light"
          },
          "output_type": "display_data"
        },
        {
          "data": {
            "image/png": "[encoded data removed]",
            "text/plain": [
              "<Figure size 432x288 with 1 Axes>"
            ]
          },
          "metadata": {
            "needs_background": "light"
          },
          "output_type": "display_data"
        }
      ],
      "source": [
        "def plot_games_per_year_for_X(df, platform): #напишем функцию, строящую график распределения по годам для конкретной платформы\n",
        "    plt.title(f'Рапределение выпускаемых игр для платформы {platform} по годам')\n",
        "    plt.xlabel('Год')\n",
        "    plt.ylabel('Количество выпущенных игр')\n",
        "    (df[(df['platform'] == platform) & (df['year_of_release'] > 0)]\n",
        "     .groupby('year_of_release')\n",
        "     .count()['name']\n",
        "     .plot(kind='bar'))\n",
        "\n",
        "test = df.groupby('platform').sum().sort_values(by='total_sales', ascending=False)['total_sales'].reset_index()\n",
        "test = test.head(6)\n",
        "\n",
        "for index in range(len(test['platform'])):\n",
        "    plot_games_per_year_for_X(df,test['platform'][index])\n",
        "    plt.show()"
      ]
    },
    {
      "cell_type": "markdown",
      "metadata": {
        "id": "zvPKLJrfU-uG"
      },
      "source": [
        "**Видим, что для большинства платформ характерен сначала рост количества выпускаемых игр, а потом - спад. Пиковое значение приходится обычно на середину жизненного цикла платформы.**"
      ]
    },
    {
      "cell_type": "markdown",
      "metadata": {
        "id": "0t4J8GE0U-uG"
      },
      "source": [
        "**Посмотрим, как распределяется количество выпущенных игр по платформам за всё время до 2016 года.**"
      ]
    },
    {
      "cell_type": "code",
      "execution_count": null,
      "metadata": {
        "id": "_HJgMpzVU-uG",
        "outputId": "d41830fd-f66a-4b13-e010-137d505840b2"
      },
      "outputs": [
        {
          "data": {
            "image/png": "[encoded data removed]",
            "text/plain": [
              "<Figure size 1080x648 with 1 Axes>"
            ]
          },
          "metadata": {
            "needs_background": "light"
          },
          "output_type": "display_data"
        }
      ],
      "source": [
        "plt.title('Рапределение кол-ва выпущенных игр по платформам')\n",
        "plt.xlabel('Платформа')\n",
        "plt.ylabel('Количество выпущенных игр')\n",
        "(df.groupby('platform').count()\n",
        " .sort_values(by='name')['name']\n",
        " .plot(kind='bar', figsize=(15, 9), rot=45));"
      ]
    },
    {
      "cell_type": "markdown",
      "metadata": {
        "id": "Wt6XdrY9U-uG"
      },
      "source": [
        "**Изучим теперь срок жизни каждой из платформ с точки зрения года начала и окончания выпуска игр для нее.**"
      ]
    },
    {
      "cell_type": "code",
      "execution_count": null,
      "metadata": {
        "id": "M664xXDcU-uG",
        "outputId": "80c9ea3f-b5de-4b70-b121-616ae5e632b7"
      },
      "outputs": [
        {
          "data": {
            "text/html": [
              "<div>\n",
              "<style scoped>\n",
              "    .dataframe tbody tr th:only-of-type {\n",
              "        vertical-align: middle;\n",
              "    }\n",
              "\n",
              "    .dataframe tbody tr th {\n",
              "        vertical-align: top;\n",
              "    }\n",
              "\n",
              "    .dataframe thead th {\n",
              "        text-align: right;\n",
              "    }\n",
              "</style>\n",
              "<table border=\"1\" class=\"dataframe\">\n",
              "  <thead>\n",
              "    <tr style=\"text-align: right;\">\n",
              "      <th></th>\n",
              "      <th>platform</th>\n",
              "      <th>min</th>\n",
              "      <th>max</th>\n",
              "      <th>years</th>\n",
              "      <th>total_sales</th>\n",
              "    </tr>\n",
              "  </thead>\n",
              "  <tbody>\n",
              "    <tr>\n",
              "      <th>0</th>\n",
              "      <td>PCFX</td>\n",
              "      <td>1996</td>\n",
              "      <td>1996</td>\n",
              "      <td>0</td>\n",
              "      <td>0.03</td>\n",
              "    </tr>\n",
              "    <tr>\n",
              "      <th>1</th>\n",
              "      <td>GG</td>\n",
              "      <td>1992</td>\n",
              "      <td>1992</td>\n",
              "      <td>0</td>\n",
              "      <td>0.04</td>\n",
              "    </tr>\n",
              "    <tr>\n",
              "      <th>2</th>\n",
              "      <td>3DO</td>\n",
              "      <td>1994</td>\n",
              "      <td>1995</td>\n",
              "      <td>1</td>\n",
              "      <td>0.10</td>\n",
              "    </tr>\n",
              "    <tr>\n",
              "      <th>3</th>\n",
              "      <td>TG16</td>\n",
              "      <td>1995</td>\n",
              "      <td>1995</td>\n",
              "      <td>0</td>\n",
              "      <td>0.16</td>\n",
              "    </tr>\n",
              "    <tr>\n",
              "      <th>4</th>\n",
              "      <td>WS</td>\n",
              "      <td>1999</td>\n",
              "      <td>2001</td>\n",
              "      <td>2</td>\n",
              "      <td>1.42</td>\n",
              "    </tr>\n",
              "    <tr>\n",
              "      <th>5</th>\n",
              "      <td>NG</td>\n",
              "      <td>1993</td>\n",
              "      <td>1996</td>\n",
              "      <td>3</td>\n",
              "      <td>1.44</td>\n",
              "    </tr>\n",
              "    <tr>\n",
              "      <th>6</th>\n",
              "      <td>SCD</td>\n",
              "      <td>1993</td>\n",
              "      <td>1994</td>\n",
              "      <td>1</td>\n",
              "      <td>1.86</td>\n",
              "    </tr>\n",
              "    <tr>\n",
              "      <th>7</th>\n",
              "      <td>DC</td>\n",
              "      <td>1998</td>\n",
              "      <td>2008</td>\n",
              "      <td>10</td>\n",
              "      <td>15.95</td>\n",
              "    </tr>\n",
              "    <tr>\n",
              "      <th>8</th>\n",
              "      <td>GEN</td>\n",
              "      <td>1990</td>\n",
              "      <td>1994</td>\n",
              "      <td>4</td>\n",
              "      <td>28.35</td>\n",
              "    </tr>\n",
              "    <tr>\n",
              "      <th>9</th>\n",
              "      <td>SAT</td>\n",
              "      <td>1994</td>\n",
              "      <td>1999</td>\n",
              "      <td>5</td>\n",
              "      <td>33.59</td>\n",
              "    </tr>\n",
              "    <tr>\n",
              "      <th>10</th>\n",
              "      <td>PSV</td>\n",
              "      <td>2011</td>\n",
              "      <td>2016</td>\n",
              "      <td>5</td>\n",
              "      <td>53.81</td>\n",
              "    </tr>\n",
              "    <tr>\n",
              "      <th>11</th>\n",
              "      <td>WiiU</td>\n",
              "      <td>2012</td>\n",
              "      <td>2016</td>\n",
              "      <td>4</td>\n",
              "      <td>82.19</td>\n",
              "    </tr>\n",
              "    <tr>\n",
              "      <th>12</th>\n",
              "      <td>2600</td>\n",
              "      <td>1980</td>\n",
              "      <td>1989</td>\n",
              "      <td>9</td>\n",
              "      <td>86.48</td>\n",
              "    </tr>\n",
              "    <tr>\n",
              "      <th>13</th>\n",
              "      <td>XOne</td>\n",
              "      <td>2013</td>\n",
              "      <td>2016</td>\n",
              "      <td>3</td>\n",
              "      <td>159.32</td>\n",
              "    </tr>\n",
              "    <tr>\n",
              "      <th>14</th>\n",
              "      <td>GC</td>\n",
              "      <td>2001</td>\n",
              "      <td>2007</td>\n",
              "      <td>6</td>\n",
              "      <td>196.73</td>\n",
              "    </tr>\n",
              "    <tr>\n",
              "      <th>15</th>\n",
              "      <td>SNES</td>\n",
              "      <td>1990</td>\n",
              "      <td>1999</td>\n",
              "      <td>9</td>\n",
              "      <td>200.04</td>\n",
              "    </tr>\n",
              "    <tr>\n",
              "      <th>16</th>\n",
              "      <td>N64</td>\n",
              "      <td>1996</td>\n",
              "      <td>2002</td>\n",
              "      <td>6</td>\n",
              "      <td>218.01</td>\n",
              "    </tr>\n",
              "    <tr>\n",
              "      <th>17</th>\n",
              "      <td>NES</td>\n",
              "      <td>1983</td>\n",
              "      <td>1994</td>\n",
              "      <td>11</td>\n",
              "      <td>251.05</td>\n",
              "    </tr>\n",
              "    <tr>\n",
              "      <th>18</th>\n",
              "      <td>XB</td>\n",
              "      <td>2000</td>\n",
              "      <td>2008</td>\n",
              "      <td>8</td>\n",
              "      <td>251.57</td>\n",
              "    </tr>\n",
              "    <tr>\n",
              "      <th>19</th>\n",
              "      <td>GB</td>\n",
              "      <td>1988</td>\n",
              "      <td>2001</td>\n",
              "      <td>13</td>\n",
              "      <td>254.43</td>\n",
              "    </tr>\n",
              "    <tr>\n",
              "      <th>20</th>\n",
              "      <td>PC</td>\n",
              "      <td>1985</td>\n",
              "      <td>2016</td>\n",
              "      <td>31</td>\n",
              "      <td>255.76</td>\n",
              "    </tr>\n",
              "    <tr>\n",
              "      <th>21</th>\n",
              "      <td>3DS</td>\n",
              "      <td>2011</td>\n",
              "      <td>2016</td>\n",
              "      <td>5</td>\n",
              "      <td>257.81</td>\n",
              "    </tr>\n",
              "    <tr>\n",
              "      <th>22</th>\n",
              "      <td>PSP</td>\n",
              "      <td>2004</td>\n",
              "      <td>2015</td>\n",
              "      <td>11</td>\n",
              "      <td>289.53</td>\n",
              "    </tr>\n",
              "    <tr>\n",
              "      <th>23</th>\n",
              "      <td>GBA</td>\n",
              "      <td>2000</td>\n",
              "      <td>2007</td>\n",
              "      <td>7</td>\n",
              "      <td>312.88</td>\n",
              "    </tr>\n",
              "    <tr>\n",
              "      <th>24</th>\n",
              "      <td>PS4</td>\n",
              "      <td>2013</td>\n",
              "      <td>2016</td>\n",
              "      <td>3</td>\n",
              "      <td>314.14</td>\n",
              "    </tr>\n",
              "    <tr>\n",
              "      <th>25</th>\n",
              "      <td>PS</td>\n",
              "      <td>1994</td>\n",
              "      <td>2003</td>\n",
              "      <td>9</td>\n",
              "      <td>727.58</td>\n",
              "    </tr>\n",
              "    <tr>\n",
              "      <th>26</th>\n",
              "      <td>DS</td>\n",
              "      <td>1985</td>\n",
              "      <td>2013</td>\n",
              "      <td>28</td>\n",
              "      <td>802.78</td>\n",
              "    </tr>\n",
              "    <tr>\n",
              "      <th>27</th>\n",
              "      <td>Wii</td>\n",
              "      <td>2006</td>\n",
              "      <td>2016</td>\n",
              "      <td>10</td>\n",
              "      <td>891.18</td>\n",
              "    </tr>\n",
              "    <tr>\n",
              "      <th>28</th>\n",
              "      <td>PS3</td>\n",
              "      <td>2006</td>\n",
              "      <td>2016</td>\n",
              "      <td>10</td>\n",
              "      <td>931.33</td>\n",
              "    </tr>\n",
              "    <tr>\n",
              "      <th>29</th>\n",
              "      <td>X360</td>\n",
              "      <td>2005</td>\n",
              "      <td>2016</td>\n",
              "      <td>11</td>\n",
              "      <td>961.24</td>\n",
              "    </tr>\n",
              "    <tr>\n",
              "      <th>30</th>\n",
              "      <td>PS2</td>\n",
              "      <td>2000</td>\n",
              "      <td>2011</td>\n",
              "      <td>11</td>\n",
              "      <td>1233.56</td>\n",
              "    </tr>\n",
              "  </tbody>\n",
              "</table>\n",
              "</div>"
            ],
            "text/plain": [
              "   platform   min   max  years  total_sales\n",
              "0      PCFX  1996  1996      0         0.03\n",
              "1        GG  1992  1992      0         0.04\n",
              "2       3DO  1994  1995      1         0.10\n",
              "3      TG16  1995  1995      0         0.16\n",
              "4        WS  1999  2001      2         1.42\n",
              "5        NG  1993  1996      3         1.44\n",
              "6       SCD  1993  1994      1         1.86\n",
              "7        DC  1998  2008     10        15.95\n",
              "8       GEN  1990  1994      4        28.35\n",
              "9       SAT  1994  1999      5        33.59\n",
              "10      PSV  2011  2016      5        53.81\n",
              "11     WiiU  2012  2016      4        82.19\n",
              "12     2600  1980  1989      9        86.48\n",
              "13     XOne  2013  2016      3       159.32\n",
              "14       GC  2001  2007      6       196.73\n",
              "15     SNES  1990  1999      9       200.04\n",
              "16      N64  1996  2002      6       218.01\n",
              "17      NES  1983  1994     11       251.05\n",
              "18       XB  2000  2008      8       251.57\n",
              "19       GB  1988  2001     13       254.43\n",
              "20       PC  1985  2016     31       255.76\n",
              "21      3DS  2011  2016      5       257.81\n",
              "22      PSP  2004  2015     11       289.53\n",
              "23      GBA  2000  2007      7       312.88\n",
              "24      PS4  2013  2016      3       314.14\n",
              "25       PS  1994  2003      9       727.58\n",
              "26       DS  1985  2013     28       802.78\n",
              "27      Wii  2006  2016     10       891.18\n",
              "28      PS3  2006  2016     10       931.33\n",
              "29     X360  2005  2016     11       961.24\n",
              "30      PS2  2000  2011     11      1233.56"
            ]
          },
          "execution_count": 36,
          "metadata": {},
          "output_type": "execute_result"
        }
      ],
      "source": [
        "# формируем датафрейм с группировкой по платформам с указаним мин и макс значений года выпуска игр\n",
        "t = df[df['year_of_release'] > 0] \\\n",
        " .groupby('platform') \\\n",
        "     .agg(['min', 'max'])['year_of_release'] \\\n",
        "         .reset_index()\n",
        "\n",
        "# формируем датафрейм с группировкой по платформам с указаним суммы реализованных экземпляров игр за всё время\n",
        "t1 = df[df['year_of_release'] > 0] \\\n",
        " .groupby('platform') \\\n",
        "     .sum()['total_sales'] \\\n",
        "         .reset_index()\n",
        "# создаем столбец для указания времени \"жизни\" платформы в годах, актуально для тех, кто уже не выпускал игры после 2015\n",
        "t['years'] = t['max'] - t['min']\n",
        "\n",
        "# формируем датафрейм с группировкой по платформам с указаним мин и макс значений года выпуска игр и суммы реализ. экз. игр\n",
        "df_platforms = t.merge(t1, on='platform') \\\n",
        " .sort_values(by='total_sales', ascending=True) \\\n",
        "     .reset_index(drop=True)\n",
        "\n",
        "df_platforms"
      ]
    },
    {
      "cell_type": "markdown",
      "metadata": {
        "id": "0dlXS2YAU-uG"
      },
      "source": [
        "**Теперь у нас есть таблица, в которой мы можем видеть для каждой платформы срок ее \"жизни\" на рынке на данный момент времени (на 2016 год), а также суммарные продажи игр для данной платформы в млн. ед.**\n",
        "\n",
        "**Отфильтруем платформы с малым количеством проданных экземпляров игр, с учетом того, чтобы туда не попали платформы, которые имеют макс. год выпуска игр 2016, т.к. таким образом мы случайно можем отфильтровать платформы, которые имеют на 2016 год небольшие продажи игр по причине новизны платформы, а не по причине их непопулярности.**\n"
      ]
    },
    {
      "cell_type": "code",
      "execution_count": null,
      "metadata": {
        "scrolled": true,
        "id": "qQ_ek136U-uG",
        "outputId": "275ff2db-6cc9-4d16-e213-357c349d7269"
      },
      "outputs": [
        {
          "data": {
            "text/html": [
              "<div>\n",
              "<style scoped>\n",
              "    .dataframe tbody tr th:only-of-type {\n",
              "        vertical-align: middle;\n",
              "    }\n",
              "\n",
              "    .dataframe tbody tr th {\n",
              "        vertical-align: top;\n",
              "    }\n",
              "\n",
              "    .dataframe thead th {\n",
              "        text-align: right;\n",
              "    }\n",
              "</style>\n",
              "<table border=\"1\" class=\"dataframe\">\n",
              "  <thead>\n",
              "    <tr style=\"text-align: right;\">\n",
              "      <th></th>\n",
              "      <th>platform</th>\n",
              "      <th>min</th>\n",
              "      <th>max</th>\n",
              "      <th>years</th>\n",
              "      <th>total_sales</th>\n",
              "    </tr>\n",
              "  </thead>\n",
              "  <tbody>\n",
              "    <tr>\n",
              "      <th>7</th>\n",
              "      <td>DC</td>\n",
              "      <td>1998</td>\n",
              "      <td>2008</td>\n",
              "      <td>10</td>\n",
              "      <td>15.95</td>\n",
              "    </tr>\n",
              "    <tr>\n",
              "      <th>8</th>\n",
              "      <td>GEN</td>\n",
              "      <td>1990</td>\n",
              "      <td>1994</td>\n",
              "      <td>4</td>\n",
              "      <td>28.35</td>\n",
              "    </tr>\n",
              "    <tr>\n",
              "      <th>9</th>\n",
              "      <td>SAT</td>\n",
              "      <td>1994</td>\n",
              "      <td>1999</td>\n",
              "      <td>5</td>\n",
              "      <td>33.59</td>\n",
              "    </tr>\n",
              "    <tr>\n",
              "      <th>10</th>\n",
              "      <td>PSV</td>\n",
              "      <td>2011</td>\n",
              "      <td>2016</td>\n",
              "      <td>5</td>\n",
              "      <td>53.81</td>\n",
              "    </tr>\n",
              "    <tr>\n",
              "      <th>11</th>\n",
              "      <td>WiiU</td>\n",
              "      <td>2012</td>\n",
              "      <td>2016</td>\n",
              "      <td>4</td>\n",
              "      <td>82.19</td>\n",
              "    </tr>\n",
              "    <tr>\n",
              "      <th>12</th>\n",
              "      <td>2600</td>\n",
              "      <td>1980</td>\n",
              "      <td>1989</td>\n",
              "      <td>9</td>\n",
              "      <td>86.48</td>\n",
              "    </tr>\n",
              "    <tr>\n",
              "      <th>13</th>\n",
              "      <td>XOne</td>\n",
              "      <td>2013</td>\n",
              "      <td>2016</td>\n",
              "      <td>3</td>\n",
              "      <td>159.32</td>\n",
              "    </tr>\n",
              "    <tr>\n",
              "      <th>14</th>\n",
              "      <td>GC</td>\n",
              "      <td>2001</td>\n",
              "      <td>2007</td>\n",
              "      <td>6</td>\n",
              "      <td>196.73</td>\n",
              "    </tr>\n",
              "    <tr>\n",
              "      <th>15</th>\n",
              "      <td>SNES</td>\n",
              "      <td>1990</td>\n",
              "      <td>1999</td>\n",
              "      <td>9</td>\n",
              "      <td>200.04</td>\n",
              "    </tr>\n",
              "    <tr>\n",
              "      <th>16</th>\n",
              "      <td>N64</td>\n",
              "      <td>1996</td>\n",
              "      <td>2002</td>\n",
              "      <td>6</td>\n",
              "      <td>218.01</td>\n",
              "    </tr>\n",
              "    <tr>\n",
              "      <th>17</th>\n",
              "      <td>NES</td>\n",
              "      <td>1983</td>\n",
              "      <td>1994</td>\n",
              "      <td>11</td>\n",
              "      <td>251.05</td>\n",
              "    </tr>\n",
              "    <tr>\n",
              "      <th>18</th>\n",
              "      <td>XB</td>\n",
              "      <td>2000</td>\n",
              "      <td>2008</td>\n",
              "      <td>8</td>\n",
              "      <td>251.57</td>\n",
              "    </tr>\n",
              "    <tr>\n",
              "      <th>19</th>\n",
              "      <td>GB</td>\n",
              "      <td>1988</td>\n",
              "      <td>2001</td>\n",
              "      <td>13</td>\n",
              "      <td>254.43</td>\n",
              "    </tr>\n",
              "    <tr>\n",
              "      <th>20</th>\n",
              "      <td>PC</td>\n",
              "      <td>1985</td>\n",
              "      <td>2016</td>\n",
              "      <td>31</td>\n",
              "      <td>255.76</td>\n",
              "    </tr>\n",
              "    <tr>\n",
              "      <th>21</th>\n",
              "      <td>3DS</td>\n",
              "      <td>2011</td>\n",
              "      <td>2016</td>\n",
              "      <td>5</td>\n",
              "      <td>257.81</td>\n",
              "    </tr>\n",
              "    <tr>\n",
              "      <th>22</th>\n",
              "      <td>PSP</td>\n",
              "      <td>2004</td>\n",
              "      <td>2015</td>\n",
              "      <td>11</td>\n",
              "      <td>289.53</td>\n",
              "    </tr>\n",
              "    <tr>\n",
              "      <th>23</th>\n",
              "      <td>GBA</td>\n",
              "      <td>2000</td>\n",
              "      <td>2007</td>\n",
              "      <td>7</td>\n",
              "      <td>312.88</td>\n",
              "    </tr>\n",
              "    <tr>\n",
              "      <th>24</th>\n",
              "      <td>PS4</td>\n",
              "      <td>2013</td>\n",
              "      <td>2016</td>\n",
              "      <td>3</td>\n",
              "      <td>314.14</td>\n",
              "    </tr>\n",
              "    <tr>\n",
              "      <th>25</th>\n",
              "      <td>PS</td>\n",
              "      <td>1994</td>\n",
              "      <td>2003</td>\n",
              "      <td>9</td>\n",
              "      <td>727.58</td>\n",
              "    </tr>\n",
              "    <tr>\n",
              "      <th>26</th>\n",
              "      <td>DS</td>\n",
              "      <td>1985</td>\n",
              "      <td>2013</td>\n",
              "      <td>28</td>\n",
              "      <td>802.78</td>\n",
              "    </tr>\n",
              "    <tr>\n",
              "      <th>27</th>\n",
              "      <td>Wii</td>\n",
              "      <td>2006</td>\n",
              "      <td>2016</td>\n",
              "      <td>10</td>\n",
              "      <td>891.18</td>\n",
              "    </tr>\n",
              "    <tr>\n",
              "      <th>28</th>\n",
              "      <td>PS3</td>\n",
              "      <td>2006</td>\n",
              "      <td>2016</td>\n",
              "      <td>10</td>\n",
              "      <td>931.33</td>\n",
              "    </tr>\n",
              "    <tr>\n",
              "      <th>29</th>\n",
              "      <td>X360</td>\n",
              "      <td>2005</td>\n",
              "      <td>2016</td>\n",
              "      <td>11</td>\n",
              "      <td>961.24</td>\n",
              "    </tr>\n",
              "    <tr>\n",
              "      <th>30</th>\n",
              "      <td>PS2</td>\n",
              "      <td>2000</td>\n",
              "      <td>2011</td>\n",
              "      <td>11</td>\n",
              "      <td>1233.56</td>\n",
              "    </tr>\n",
              "  </tbody>\n",
              "</table>\n",
              "</div>"
            ],
            "text/plain": [
              "   platform   min   max  years  total_sales\n",
              "7        DC  1998  2008     10        15.95\n",
              "8       GEN  1990  1994      4        28.35\n",
              "9       SAT  1994  1999      5        33.59\n",
              "10      PSV  2011  2016      5        53.81\n",
              "11     WiiU  2012  2016      4        82.19\n",
              "12     2600  1980  1989      9        86.48\n",
              "13     XOne  2013  2016      3       159.32\n",
              "14       GC  2001  2007      6       196.73\n",
              "15     SNES  1990  1999      9       200.04\n",
              "16      N64  1996  2002      6       218.01\n",
              "17      NES  1983  1994     11       251.05\n",
              "18       XB  2000  2008      8       251.57\n",
              "19       GB  1988  2001     13       254.43\n",
              "20       PC  1985  2016     31       255.76\n",
              "21      3DS  2011  2016      5       257.81\n",
              "22      PSP  2004  2015     11       289.53\n",
              "23      GBA  2000  2007      7       312.88\n",
              "24      PS4  2013  2016      3       314.14\n",
              "25       PS  1994  2003      9       727.58\n",
              "26       DS  1985  2013     28       802.78\n",
              "27      Wii  2006  2016     10       891.18\n",
              "28      PS3  2006  2016     10       931.33\n",
              "29     X360  2005  2016     11       961.24\n",
              "30      PS2  2000  2011     11      1233.56"
            ]
          },
          "execution_count": 37,
          "metadata": {},
          "output_type": "execute_result"
        }
      ],
      "source": [
        "df_platforms_filtered = df_platforms[df_platforms['total_sales'] > 2].copy()\n",
        "df_platforms_filtered"
      ]
    },
    {
      "cell_type": "markdown",
      "metadata": {
        "id": "AWHUkdO_U-uG"
      },
      "source": [
        "**Оценим теперь характерный срок \"жизни\" игровых платформ. Построим теперь диаграмму размаха для значений срока жизни платформ.**\n",
        "\n",
        "**Построим ее для двух случаев:**\n",
        "- (1) Когда отфильтрованы платформы, которые еще актуальны на 2016 год, т.е. смотрим однозначно исторические данные без учета платформ, которые могут быть актуальны и на следующий год;\n",
        "- (2) Когда используются все платформы из датафрейма за исключением тех, которые мы исключили по причине не актуальности и малых продаж."
      ]
    },
    {
      "cell_type": "code",
      "execution_count": null,
      "metadata": {
        "id": "RDiD5940U-uH",
        "outputId": "7ff50071-8d71-48bd-b8ee-6d44ba00eb5b"
      },
      "outputs": [
        {
          "data": {
            "image/png": "[encoded data removed]",
            "text/plain": [
              "<Figure size 432x288 with 1 Axes>"
            ]
          },
          "metadata": {
            "needs_background": "light"
          },
          "output_type": "display_data"
        }
      ],
      "source": [
        "t_1 = df_platforms_filtered[df_platforms_filtered['max'] < 2016]['years']\n",
        "t_2 = df_platforms_filtered['years']\n",
        "plt.ylim(2, 14)\n",
        "plt.boxplot ([t_1, t_2]);"
      ]
    },
    {
      "cell_type": "code",
      "execution_count": null,
      "metadata": {
        "id": "S2gUujPXU-uH",
        "outputId": "f8a105a2-bbd5-4e68-817a-09c83741ffdb"
      },
      "outputs": [
        {
          "data": {
            "text/plain": [
              "count    15.00000\n",
              "mean      9.80000\n",
              "std       5.63408\n",
              "min       4.00000\n",
              "25%       6.50000\n",
              "50%       9.00000\n",
              "75%      11.00000\n",
              "max      28.00000\n",
              "Name: years, dtype: float64"
            ]
          },
          "metadata": {},
          "output_type": "display_data"
        },
        {
          "data": {
            "text/plain": [
              "count    24.000000\n",
              "mean      9.541667\n",
              "std       6.807791\n",
              "min       3.000000\n",
              "25%       5.000000\n",
              "50%       9.000000\n",
              "75%      11.000000\n",
              "max      31.000000\n",
              "Name: years, dtype: float64"
            ]
          },
          "execution_count": 39,
          "metadata": {},
          "output_type": "execute_result"
        }
      ],
      "source": [
        "display(t_1.describe())\n",
        "t_2.describe()"
      ]
    },
    {
      "cell_type": "markdown",
      "metadata": {
        "id": "XQFgwIZ8U-uH"
      },
      "source": [
        "**Видим, что медианное значение в каждом из данных случаев не меняется. Т.е. можно сделать вывод, что характерный срок жизни платформы составляет 9 лет. При этом помним из исследования выше, что у каждой платформы есть сначала рост кол-ва выпускаемых игр, затем пик, после которого идет спад, т.е. пик популярности платформы и игр для нее приходится на 5й год ее жизненного цикла. Нужно учесть данную информацию.**\n",
        "\n",
        "**Для того, чтобы можно дальше анализировать данные с учетом нашей итоговой задачи - выбрать игры и платформы, которые будут иметь наилучший потенциал продаж в 2017 году - необходимо отфильтровать исходный датафрейм по играм, которые выпускались не раньше: 2017 - 5 = 2012 года.**"
      ]
    },
    {
      "cell_type": "code",
      "execution_count": null,
      "metadata": {
        "scrolled": true,
        "id": "RR1dRoi7U-uH",
        "outputId": "f744dccd-9e07-4fbb-fb4e-24270a7568a9"
      },
      "outputs": [
        {
          "data": {
            "text/html": [
              "<div>\n",
              "<style scoped>\n",
              "    .dataframe tbody tr th:only-of-type {\n",
              "        vertical-align: middle;\n",
              "    }\n",
              "\n",
              "    .dataframe tbody tr th {\n",
              "        vertical-align: top;\n",
              "    }\n",
              "\n",
              "    .dataframe thead th {\n",
              "        text-align: right;\n",
              "    }\n",
              "</style>\n",
              "<table border=\"1\" class=\"dataframe\">\n",
              "  <thead>\n",
              "    <tr style=\"text-align: right;\">\n",
              "      <th></th>\n",
              "      <th>name</th>\n",
              "      <th>platform</th>\n",
              "      <th>year_of_release</th>\n",
              "      <th>genre</th>\n",
              "      <th>na_sales</th>\n",
              "      <th>eu_sales</th>\n",
              "      <th>jp_sales</th>\n",
              "      <th>other_sales</th>\n",
              "      <th>critic_score</th>\n",
              "      <th>user_score</th>\n",
              "      <th>rating</th>\n",
              "      <th>total_sales</th>\n",
              "      <th>total_sales_range</th>\n",
              "    </tr>\n",
              "  </thead>\n",
              "  <tbody>\n",
              "    <tr>\n",
              "      <th>16</th>\n",
              "      <td>Grand Theft Auto V</td>\n",
              "      <td>PS3</td>\n",
              "      <td>2013</td>\n",
              "      <td>Action</td>\n",
              "      <td>7.02</td>\n",
              "      <td>9.09</td>\n",
              "      <td>0.98</td>\n",
              "      <td>3.96</td>\n",
              "      <td>97.0</td>\n",
              "      <td>8.2</td>\n",
              "      <td>M</td>\n",
              "      <td>21.05</td>\n",
              "      <td>(20.635, 24.762]</td>\n",
              "    </tr>\n",
              "    <tr>\n",
              "      <th>23</th>\n",
              "      <td>Grand Theft Auto V</td>\n",
              "      <td>X360</td>\n",
              "      <td>2013</td>\n",
              "      <td>Action</td>\n",
              "      <td>9.66</td>\n",
              "      <td>5.14</td>\n",
              "      <td>0.06</td>\n",
              "      <td>1.41</td>\n",
              "      <td>97.0</td>\n",
              "      <td>8.1</td>\n",
              "      <td>M</td>\n",
              "      <td>16.27</td>\n",
              "      <td>(12.381, 16.508]</td>\n",
              "    </tr>\n",
              "    <tr>\n",
              "      <th>31</th>\n",
              "      <td>Call of Duty: Black Ops 3</td>\n",
              "      <td>PS4</td>\n",
              "      <td>2015</td>\n",
              "      <td>Shooter</td>\n",
              "      <td>6.03</td>\n",
              "      <td>5.86</td>\n",
              "      <td>0.36</td>\n",
              "      <td>2.38</td>\n",
              "      <td>-1.0</td>\n",
              "      <td>-1.0</td>\n",
              "      <td>Empty</td>\n",
              "      <td>14.63</td>\n",
              "      <td>(12.381, 16.508]</td>\n",
              "    </tr>\n",
              "    <tr>\n",
              "      <th>33</th>\n",
              "      <td>Pokemon X/Pokemon Y</td>\n",
              "      <td>3DS</td>\n",
              "      <td>2013</td>\n",
              "      <td>Role-Playing</td>\n",
              "      <td>5.28</td>\n",
              "      <td>4.19</td>\n",
              "      <td>4.35</td>\n",
              "      <td>0.78</td>\n",
              "      <td>-1.0</td>\n",
              "      <td>-1.0</td>\n",
              "      <td>Empty</td>\n",
              "      <td>14.60</td>\n",
              "      <td>(12.381, 16.508]</td>\n",
              "    </tr>\n",
              "    <tr>\n",
              "      <th>34</th>\n",
              "      <td>Call of Duty: Black Ops II</td>\n",
              "      <td>PS3</td>\n",
              "      <td>2012</td>\n",
              "      <td>Shooter</td>\n",
              "      <td>4.99</td>\n",
              "      <td>5.73</td>\n",
              "      <td>0.65</td>\n",
              "      <td>2.42</td>\n",
              "      <td>83.0</td>\n",
              "      <td>5.3</td>\n",
              "      <td>M</td>\n",
              "      <td>13.79</td>\n",
              "      <td>(12.381, 16.508]</td>\n",
              "    </tr>\n",
              "    <tr>\n",
              "      <th>...</th>\n",
              "      <td>...</td>\n",
              "      <td>...</td>\n",
              "      <td>...</td>\n",
              "      <td>...</td>\n",
              "      <td>...</td>\n",
              "      <td>...</td>\n",
              "      <td>...</td>\n",
              "      <td>...</td>\n",
              "      <td>...</td>\n",
              "      <td>...</td>\n",
              "      <td>...</td>\n",
              "      <td>...</td>\n",
              "      <td>...</td>\n",
              "    </tr>\n",
              "    <tr>\n",
              "      <th>16703</th>\n",
              "      <td>Strawberry Nauts</td>\n",
              "      <td>PSV</td>\n",
              "      <td>2016</td>\n",
              "      <td>Adventure</td>\n",
              "      <td>0.00</td>\n",
              "      <td>0.00</td>\n",
              "      <td>0.01</td>\n",
              "      <td>0.00</td>\n",
              "      <td>-1.0</td>\n",
              "      <td>-1.0</td>\n",
              "      <td>Empty</td>\n",
              "      <td>0.01</td>\n",
              "      <td>(-0.0825, 4.127]</td>\n",
              "    </tr>\n",
              "    <tr>\n",
              "      <th>16707</th>\n",
              "      <td>Aiyoku no Eustia</td>\n",
              "      <td>PSV</td>\n",
              "      <td>2014</td>\n",
              "      <td>Misc</td>\n",
              "      <td>0.00</td>\n",
              "      <td>0.00</td>\n",
              "      <td>0.01</td>\n",
              "      <td>0.00</td>\n",
              "      <td>-1.0</td>\n",
              "      <td>-1.0</td>\n",
              "      <td>Empty</td>\n",
              "      <td>0.01</td>\n",
              "      <td>(-0.0825, 4.127]</td>\n",
              "    </tr>\n",
              "    <tr>\n",
              "      <th>16710</th>\n",
              "      <td>Samurai Warriors: Sanada Maru</td>\n",
              "      <td>PS3</td>\n",
              "      <td>2016</td>\n",
              "      <td>Action</td>\n",
              "      <td>0.00</td>\n",
              "      <td>0.00</td>\n",
              "      <td>0.01</td>\n",
              "      <td>0.00</td>\n",
              "      <td>-1.0</td>\n",
              "      <td>-1.0</td>\n",
              "      <td>Empty</td>\n",
              "      <td>0.01</td>\n",
              "      <td>(-0.0825, 4.127]</td>\n",
              "    </tr>\n",
              "    <tr>\n",
              "      <th>16712</th>\n",
              "      <td>Haitaka no Psychedelica</td>\n",
              "      <td>PSV</td>\n",
              "      <td>2016</td>\n",
              "      <td>Adventure</td>\n",
              "      <td>0.00</td>\n",
              "      <td>0.00</td>\n",
              "      <td>0.01</td>\n",
              "      <td>0.00</td>\n",
              "      <td>-1.0</td>\n",
              "      <td>-1.0</td>\n",
              "      <td>Empty</td>\n",
              "      <td>0.01</td>\n",
              "      <td>(-0.0825, 4.127]</td>\n",
              "    </tr>\n",
              "    <tr>\n",
              "      <th>16714</th>\n",
              "      <td>Winning Post 8 2016</td>\n",
              "      <td>PSV</td>\n",
              "      <td>2016</td>\n",
              "      <td>Simulation</td>\n",
              "      <td>0.00</td>\n",
              "      <td>0.00</td>\n",
              "      <td>0.01</td>\n",
              "      <td>0.00</td>\n",
              "      <td>-1.0</td>\n",
              "      <td>-1.0</td>\n",
              "      <td>Empty</td>\n",
              "      <td>0.01</td>\n",
              "      <td>(-0.0825, 4.127]</td>\n",
              "    </tr>\n",
              "  </tbody>\n",
              "</table>\n",
              "<p>2885 rows × 13 columns</p>\n",
              "</div>"
            ],
            "text/plain": [
              "                                name platform  year_of_release         genre  \\\n",
              "16                Grand Theft Auto V      PS3             2013        Action   \n",
              "23                Grand Theft Auto V     X360             2013        Action   \n",
              "31         Call of Duty: Black Ops 3      PS4             2015       Shooter   \n",
              "33               Pokemon X/Pokemon Y      3DS             2013  Role-Playing   \n",
              "34        Call of Duty: Black Ops II      PS3             2012       Shooter   \n",
              "...                              ...      ...              ...           ...   \n",
              "16703               Strawberry Nauts      PSV             2016     Adventure   \n",
              "16707               Aiyoku no Eustia      PSV             2014          Misc   \n",
              "16710  Samurai Warriors: Sanada Maru      PS3             2016        Action   \n",
              "16712        Haitaka no Psychedelica      PSV             2016     Adventure   \n",
              "16714            Winning Post 8 2016      PSV             2016    Simulation   \n",
              "\n",
              "       na_sales  eu_sales  jp_sales  other_sales  critic_score  user_score  \\\n",
              "16         7.02      9.09      0.98         3.96          97.0         8.2   \n",
              "23         9.66      5.14      0.06         1.41          97.0         8.1   \n",
              "31         6.03      5.86      0.36         2.38          -1.0        -1.0   \n",
              "33         5.28      4.19      4.35         0.78          -1.0        -1.0   \n",
              "34         4.99      5.73      0.65         2.42          83.0         5.3   \n",
              "...         ...       ...       ...          ...           ...         ...   \n",
              "16703      0.00      0.00      0.01         0.00          -1.0        -1.0   \n",
              "16707      0.00      0.00      0.01         0.00          -1.0        -1.0   \n",
              "16710      0.00      0.00      0.01         0.00          -1.0        -1.0   \n",
              "16712      0.00      0.00      0.01         0.00          -1.0        -1.0   \n",
              "16714      0.00      0.00      0.01         0.00          -1.0        -1.0   \n",
              "\n",
              "      rating  total_sales total_sales_range  \n",
              "16         M        21.05  (20.635, 24.762]  \n",
              "23         M        16.27  (12.381, 16.508]  \n",
              "31     Empty        14.63  (12.381, 16.508]  \n",
              "33     Empty        14.60  (12.381, 16.508]  \n",
              "34         M        13.79  (12.381, 16.508]  \n",
              "...      ...          ...               ...  \n",
              "16703  Empty         0.01  (-0.0825, 4.127]  \n",
              "16707  Empty         0.01  (-0.0825, 4.127]  \n",
              "16710  Empty         0.01  (-0.0825, 4.127]  \n",
              "16712  Empty         0.01  (-0.0825, 4.127]  \n",
              "16714  Empty         0.01  (-0.0825, 4.127]  \n",
              "\n",
              "[2885 rows x 13 columns]"
            ]
          },
          "execution_count": 40,
          "metadata": {},
          "output_type": "execute_result"
        }
      ],
      "source": [
        "df_filtered = df[df['year_of_release'] >= 2012].copy()\n",
        "df_filtered"
      ]
    },
    {
      "cell_type": "markdown",
      "metadata": {
        "id": "H3l-PweBU-uH"
      },
      "source": [
        "### Анализ данных за актуальный период."
      ]
    },
    {
      "cell_type": "markdown",
      "metadata": {
        "id": "tugiInZ4U-uH"
      },
      "source": [
        "**Определим, какие платформы лидируют по продажам, а также растут они или падают. Выберем несколько потенциально прибыльных платформ.**\n",
        "\n",
        "**Построим график зависимости общих продаж от платформы.**"
      ]
    },
    {
      "cell_type": "code",
      "execution_count": null,
      "metadata": {
        "id": "rE7IdK3cU-uH",
        "outputId": "da96c0b2-c074-4bc7-9a8a-65e1f54d5c61"
      },
      "outputs": [
        {
          "data": {
            "image/png": "[encoded data removed]",
            "text/plain": [
              "<Figure size 432x288 with 1 Axes>"
            ]
          },
          "metadata": {
            "needs_background": "light"
          },
          "output_type": "display_data"
        }
      ],
      "source": [
        "df_filtered.groupby('platform').sum().sort_values(by='total_sales')['total_sales'].plot(kind='bar');"
      ]
    },
    {
      "cell_type": "markdown",
      "metadata": {
        "id": "ZlH-OT0VU-uH"
      },
      "source": [
        "**Посмотрим теперь как меняется кол-во выпускаемых игр под каждую из топ-9 по продажам платформ в зависимости от года, тем самым увидим рост или падение для каждой из них.**"
      ]
    },
    {
      "cell_type": "code",
      "execution_count": null,
      "metadata": {
        "id": "kNILOj0gU-uH",
        "outputId": "69b3498c-db7e-41af-a6a2-c1180f87315c"
      },
      "outputs": [
        {
          "data": {
            "image/png": "[encoded data removed]",
            "text/plain": [
              "<Figure size 432x288 with 1 Axes>"
            ]
          },
          "metadata": {
            "needs_background": "light"
          },
          "output_type": "display_data"
        },
        {
          "data": {
            "image/png": "[encoded data removed]",
            "text/plain": [
              "<Figure size 432x288 with 1 Axes>"
            ]
          },
          "metadata": {
            "needs_background": "light"
          },
          "output_type": "display_data"
        },
        {
          "data": {
            "image/png": "[encoded data removed]",
            "text/plain": [
              "<Figure size 432x288 with 1 Axes>"
            ]
          },
          "metadata": {
            "needs_background": "light"
          },
          "output_type": "display_data"
        },
        {
          "data": {
            "image/png": "[encoded data removed]",
            "text/plain": [
              "<Figure size 432x288 with 1 Axes>"
            ]
          },
          "metadata": {
            "needs_background": "light"
          },
          "output_type": "display_data"
        },
        {
          "data": {
            "image/png": "[encoded data removed]",
            "text/plain": [
              "<Figure size 432x288 with 1 Axes>"
            ]
          },
          "metadata": {
            "needs_background": "light"
          },
          "output_type": "display_data"
        },
        {
          "data": {
            "image/png": "[encoded data removed]",
            "text/plain": [
              "<Figure size 432x288 with 1 Axes>"
            ]
          },
          "metadata": {
            "needs_background": "light"
          },
          "output_type": "display_data"
        },
        {
          "data": {
            "image/png": "[encoded data removed]",
            "text/plain": [
              "<Figure size 432x288 with 1 Axes>"
            ]
          },
          "metadata": {
            "needs_background": "light"
          },
          "output_type": "display_data"
        },
        {
          "data": {
            "image/png": "[encoded data removed]",
            "text/plain": [
              "<Figure size 432x288 with 1 Axes>"
            ]
          },
          "metadata": {
            "needs_background": "light"
          },
          "output_type": "display_data"
        },
        {
          "data": {
            "image/png": "[encoded data removed]",
            "text/plain": [
              "<Figure size 432x288 with 1 Axes>"
            ]
          },
          "metadata": {
            "needs_background": "light"
          },
          "output_type": "display_data"
        }
      ],
      "source": [
        "t_3 = df_filtered.groupby('platform').sum().sort_values(by='total_sales', ascending=False).reset_index()['platform']\n",
        "t_3 = t_3.head(9)\n",
        "for index in range(len(t_3)):\n",
        "    plot_games_per_year_for_X(df_filtered, t_3[index])\n",
        "    plt.show()"
      ]
    },
    {
      "cell_type": "markdown",
      "metadata": {
        "id": "hVCl9oUfU-uH"
      },
      "source": [
        "**Выбранные платформы с точки зрения роста или падения распределились следующим образом:**\n",
        "\n",
        "- **`'PS4'`** - уверенный рост до 2016;\n",
        "- **`'PS3'`** - линейное падение до 2016;\n",
        "- **`'X360'`** - линейное падение до 2016;\n",
        "- **`'3DS'`** - резкое падение в 2016;\n",
        "- **`'XOne'`** - уверенный рост до 2016;\n",
        "- **`'WiiU'`** - линейное падение до 2016 с пиком в 2013;\n",
        "- **`'PC'`** - падение в 2013 и далее рост до 2016;\n",
        "- **`'PSV'`** - падение в 2016;\n",
        "- **`'Wii'`** - сильное падение до 2016.\n",
        "\n",
        "**Платформы, имеющие рост на момент 2016 года: `'PS4'`, `'XOne'`, `'PC'`. На них далее и сосредоточимся.**\n",
        "\n",
        "**Для выбранных платформ построим диаграмму размаха по суммарным продажам.**"
      ]
    },
    {
      "cell_type": "code",
      "execution_count": null,
      "metadata": {
        "id": "yMeP3OD1U-uH",
        "outputId": "db497b12-b36b-4163-c379-98f62f5f970e"
      },
      "outputs": [
        {
          "data": {
            "image/png": "[encoded data removed]",
            "text/plain": [
              "<Figure size 432x288 with 1 Axes>"
            ]
          },
          "metadata": {
            "needs_background": "light"
          },
          "output_type": "display_data"
        }
      ],
      "source": [
        "plt.ylim(-0.1, 1.8)\n",
        "df_filtered_ps4 = df_filtered[df_filtered['platform'] == 'PS4'].copy()\n",
        "df_filtered_ps4.boxplot(column='total_sales');"
      ]
    },
    {
      "cell_type": "code",
      "execution_count": null,
      "metadata": {
        "id": "aO5Z3O7YU-uH",
        "outputId": "0f21fb77-9299-474a-8445-23c9eacad711"
      },
      "outputs": [
        {
          "data": {
            "image/png": "[encoded data removed]",
            "text/plain": [
              "<Figure size 432x288 with 1 Axes>"
            ]
          },
          "metadata": {
            "needs_background": "light"
          },
          "output_type": "display_data"
        }
      ],
      "source": [
        "plt.ylim(-0.1, 1.8)\n",
        "df_filtered_xone = df_filtered[df_filtered['platform'] == 'XOne'].copy()\n",
        "df_filtered_xone.boxplot(column='total_sales');"
      ]
    },
    {
      "cell_type": "code",
      "execution_count": null,
      "metadata": {
        "id": "sytpTBNMU-uI",
        "outputId": "663e9888-82f3-4e2d-b839-dc0fb70d95da"
      },
      "outputs": [
        {
          "data": {
            "image/png": "[encoded data removed]",
            "text/plain": [
              "<Figure size 432x288 with 1 Axes>"
            ]
          },
          "metadata": {
            "needs_background": "light"
          },
          "output_type": "display_data"
        }
      ],
      "source": [
        "plt.ylim(-0.01, 0.6)\n",
        "df_filtered_pc = df_filtered[df_filtered['platform'] == 'PC'].copy()\n",
        "df_filtered_pc.boxplot(column='total_sales');"
      ]
    },
    {
      "cell_type": "markdown",
      "metadata": {
        "id": "FUqOlSKEU-uI"
      },
      "source": [
        "**Т.к. в диаграммах размаха для всех трех платформ мы видим, что медиана тяготеет больше к нижнему краю ящика, а верхняя граница от нее находится сильно дальше, можно сделать вывод, что количество выбросов в каждом случае невелико. Среднее значение продаж игр для `'PS4'`, `'XOne'` составляет около 250 тыс. экземпляров, для `'PC'` - около 100 тыс. экземпляров.**\n",
        "\n",
        "**Рассмотрим, для каких именно игр характерны выбросы в диаграмме размаха по каждой из платформ.**"
      ]
    },
    {
      "cell_type": "code",
      "execution_count": null,
      "metadata": {
        "id": "kUKBG4zJU-uI",
        "outputId": "c5437a6c-68cd-4072-9989-5a13a6006706"
      },
      "outputs": [
        {
          "data": {
            "text/html": [
              "<div>\n",
              "<style scoped>\n",
              "    .dataframe tbody tr th:only-of-type {\n",
              "        vertical-align: middle;\n",
              "    }\n",
              "\n",
              "    .dataframe tbody tr th {\n",
              "        vertical-align: top;\n",
              "    }\n",
              "\n",
              "    .dataframe thead th {\n",
              "        text-align: right;\n",
              "    }\n",
              "</style>\n",
              "<table border=\"1\" class=\"dataframe\">\n",
              "  <thead>\n",
              "    <tr style=\"text-align: right;\">\n",
              "      <th></th>\n",
              "      <th>name</th>\n",
              "      <th>platform</th>\n",
              "      <th>year_of_release</th>\n",
              "      <th>genre</th>\n",
              "      <th>na_sales</th>\n",
              "      <th>eu_sales</th>\n",
              "      <th>jp_sales</th>\n",
              "      <th>other_sales</th>\n",
              "      <th>critic_score</th>\n",
              "      <th>user_score</th>\n",
              "      <th>rating</th>\n",
              "      <th>total_sales</th>\n",
              "      <th>total_sales_range</th>\n",
              "    </tr>\n",
              "  </thead>\n",
              "  <tbody>\n",
              "    <tr>\n",
              "      <th>0</th>\n",
              "      <td>Call of Duty: Black Ops 3</td>\n",
              "      <td>PS4</td>\n",
              "      <td>2015</td>\n",
              "      <td>Shooter</td>\n",
              "      <td>6.03</td>\n",
              "      <td>5.86</td>\n",
              "      <td>0.36</td>\n",
              "      <td>2.38</td>\n",
              "      <td>-1.0</td>\n",
              "      <td>-1.0</td>\n",
              "      <td>Empty</td>\n",
              "      <td>14.63</td>\n",
              "      <td>(12.381, 16.508]</td>\n",
              "    </tr>\n",
              "    <tr>\n",
              "      <th>1</th>\n",
              "      <td>Grand Theft Auto V</td>\n",
              "      <td>PS4</td>\n",
              "      <td>2014</td>\n",
              "      <td>Action</td>\n",
              "      <td>3.96</td>\n",
              "      <td>6.31</td>\n",
              "      <td>0.38</td>\n",
              "      <td>1.97</td>\n",
              "      <td>97.0</td>\n",
              "      <td>8.3</td>\n",
              "      <td>M</td>\n",
              "      <td>12.62</td>\n",
              "      <td>(12.381, 16.508]</td>\n",
              "    </tr>\n",
              "    <tr>\n",
              "      <th>2</th>\n",
              "      <td>FIFA 16</td>\n",
              "      <td>PS4</td>\n",
              "      <td>2015</td>\n",
              "      <td>Sports</td>\n",
              "      <td>1.12</td>\n",
              "      <td>6.12</td>\n",
              "      <td>0.06</td>\n",
              "      <td>1.28</td>\n",
              "      <td>82.0</td>\n",
              "      <td>4.3</td>\n",
              "      <td>E</td>\n",
              "      <td>8.58</td>\n",
              "      <td>(8.254, 12.381]</td>\n",
              "    </tr>\n",
              "    <tr>\n",
              "      <th>3</th>\n",
              "      <td>Star Wars Battlefront (2015)</td>\n",
              "      <td>PS4</td>\n",
              "      <td>2015</td>\n",
              "      <td>Shooter</td>\n",
              "      <td>2.99</td>\n",
              "      <td>3.49</td>\n",
              "      <td>0.22</td>\n",
              "      <td>1.28</td>\n",
              "      <td>-1.0</td>\n",
              "      <td>-1.0</td>\n",
              "      <td>Empty</td>\n",
              "      <td>7.98</td>\n",
              "      <td>(4.127, 8.254]</td>\n",
              "    </tr>\n",
              "    <tr>\n",
              "      <th>4</th>\n",
              "      <td>Call of Duty: Advanced Warfare</td>\n",
              "      <td>PS4</td>\n",
              "      <td>2014</td>\n",
              "      <td>Shooter</td>\n",
              "      <td>2.81</td>\n",
              "      <td>3.48</td>\n",
              "      <td>0.14</td>\n",
              "      <td>1.23</td>\n",
              "      <td>83.0</td>\n",
              "      <td>5.7</td>\n",
              "      <td>M</td>\n",
              "      <td>7.66</td>\n",
              "      <td>(4.127, 8.254]</td>\n",
              "    </tr>\n",
              "    <tr>\n",
              "      <th>5</th>\n",
              "      <td>FIFA 17</td>\n",
              "      <td>PS4</td>\n",
              "      <td>2016</td>\n",
              "      <td>Sports</td>\n",
              "      <td>0.66</td>\n",
              "      <td>5.75</td>\n",
              "      <td>0.08</td>\n",
              "      <td>1.11</td>\n",
              "      <td>85.0</td>\n",
              "      <td>5.0</td>\n",
              "      <td>E</td>\n",
              "      <td>7.60</td>\n",
              "      <td>(4.127, 8.254]</td>\n",
              "    </tr>\n",
              "    <tr>\n",
              "      <th>6</th>\n",
              "      <td>Fallout 4</td>\n",
              "      <td>PS4</td>\n",
              "      <td>2015</td>\n",
              "      <td>Role-Playing</td>\n",
              "      <td>2.53</td>\n",
              "      <td>3.27</td>\n",
              "      <td>0.24</td>\n",
              "      <td>1.13</td>\n",
              "      <td>87.0</td>\n",
              "      <td>6.5</td>\n",
              "      <td>M</td>\n",
              "      <td>7.17</td>\n",
              "      <td>(4.127, 8.254]</td>\n",
              "    </tr>\n",
              "    <tr>\n",
              "      <th>7</th>\n",
              "      <td>FIFA 15</td>\n",
              "      <td>PS4</td>\n",
              "      <td>2014</td>\n",
              "      <td>Sports</td>\n",
              "      <td>0.80</td>\n",
              "      <td>4.33</td>\n",
              "      <td>0.05</td>\n",
              "      <td>0.90</td>\n",
              "      <td>82.0</td>\n",
              "      <td>5.7</td>\n",
              "      <td>E</td>\n",
              "      <td>6.08</td>\n",
              "      <td>(4.127, 8.254]</td>\n",
              "    </tr>\n",
              "    <tr>\n",
              "      <th>8</th>\n",
              "      <td>Destiny</td>\n",
              "      <td>PS4</td>\n",
              "      <td>2014</td>\n",
              "      <td>Shooter</td>\n",
              "      <td>2.49</td>\n",
              "      <td>2.07</td>\n",
              "      <td>0.16</td>\n",
              "      <td>0.92</td>\n",
              "      <td>76.0</td>\n",
              "      <td>6.1</td>\n",
              "      <td>T</td>\n",
              "      <td>5.64</td>\n",
              "      <td>(4.127, 8.254]</td>\n",
              "    </tr>\n",
              "    <tr>\n",
              "      <th>9</th>\n",
              "      <td>Uncharted 4: A Thief's End</td>\n",
              "      <td>PS4</td>\n",
              "      <td>2016</td>\n",
              "      <td>Shooter</td>\n",
              "      <td>1.85</td>\n",
              "      <td>2.50</td>\n",
              "      <td>0.19</td>\n",
              "      <td>0.85</td>\n",
              "      <td>93.0</td>\n",
              "      <td>7.9</td>\n",
              "      <td>T</td>\n",
              "      <td>5.39</td>\n",
              "      <td>(4.127, 8.254]</td>\n",
              "    </tr>\n",
              "    <tr>\n",
              "      <th>10</th>\n",
              "      <td>The Last of Us</td>\n",
              "      <td>PS4</td>\n",
              "      <td>2014</td>\n",
              "      <td>Action</td>\n",
              "      <td>1.88</td>\n",
              "      <td>2.00</td>\n",
              "      <td>0.07</td>\n",
              "      <td>0.77</td>\n",
              "      <td>-1.0</td>\n",
              "      <td>-1.0</td>\n",
              "      <td>Empty</td>\n",
              "      <td>4.72</td>\n",
              "      <td>(4.127, 8.254]</td>\n",
              "    </tr>\n",
              "    <tr>\n",
              "      <th>11</th>\n",
              "      <td>Uncharted: The Nathan Drake Collection</td>\n",
              "      <td>PS4</td>\n",
              "      <td>2015</td>\n",
              "      <td>Action</td>\n",
              "      <td>2.07</td>\n",
              "      <td>1.71</td>\n",
              "      <td>0.08</td>\n",
              "      <td>0.76</td>\n",
              "      <td>86.0</td>\n",
              "      <td>8.1</td>\n",
              "      <td>T</td>\n",
              "      <td>4.62</td>\n",
              "      <td>(4.127, 8.254]</td>\n",
              "    </tr>\n",
              "    <tr>\n",
              "      <th>12</th>\n",
              "      <td>Call of Duty: Infinite Warfare</td>\n",
              "      <td>PS4</td>\n",
              "      <td>2016</td>\n",
              "      <td>Shooter</td>\n",
              "      <td>1.61</td>\n",
              "      <td>2.00</td>\n",
              "      <td>0.15</td>\n",
              "      <td>0.71</td>\n",
              "      <td>77.0</td>\n",
              "      <td>3.4</td>\n",
              "      <td>M</td>\n",
              "      <td>4.47</td>\n",
              "      <td>(4.127, 8.254]</td>\n",
              "    </tr>\n",
              "    <tr>\n",
              "      <th>13</th>\n",
              "      <td>Minecraft</td>\n",
              "      <td>PS4</td>\n",
              "      <td>2014</td>\n",
              "      <td>Misc</td>\n",
              "      <td>1.48</td>\n",
              "      <td>2.02</td>\n",
              "      <td>0.14</td>\n",
              "      <td>0.68</td>\n",
              "      <td>-1.0</td>\n",
              "      <td>-1.0</td>\n",
              "      <td>Empty</td>\n",
              "      <td>4.32</td>\n",
              "      <td>(4.127, 8.254]</td>\n",
              "    </tr>\n",
              "    <tr>\n",
              "      <th>14</th>\n",
              "      <td>Battlefield 1</td>\n",
              "      <td>PS4</td>\n",
              "      <td>2016</td>\n",
              "      <td>Shooter</td>\n",
              "      <td>1.10</td>\n",
              "      <td>2.15</td>\n",
              "      <td>0.21</td>\n",
              "      <td>0.61</td>\n",
              "      <td>88.0</td>\n",
              "      <td>8.4</td>\n",
              "      <td>M</td>\n",
              "      <td>4.07</td>\n",
              "      <td>(-0.0825, 4.127]</td>\n",
              "    </tr>\n",
              "    <tr>\n",
              "      <th>15</th>\n",
              "      <td>Watch Dogs</td>\n",
              "      <td>PS4</td>\n",
              "      <td>2014</td>\n",
              "      <td>Action</td>\n",
              "      <td>1.40</td>\n",
              "      <td>1.90</td>\n",
              "      <td>0.11</td>\n",
              "      <td>0.64</td>\n",
              "      <td>80.0</td>\n",
              "      <td>6.3</td>\n",
              "      <td>M</td>\n",
              "      <td>4.05</td>\n",
              "      <td>(-0.0825, 4.127]</td>\n",
              "    </tr>\n",
              "    <tr>\n",
              "      <th>16</th>\n",
              "      <td>Far Cry 4</td>\n",
              "      <td>PS4</td>\n",
              "      <td>2014</td>\n",
              "      <td>Shooter</td>\n",
              "      <td>1.13</td>\n",
              "      <td>2.18</td>\n",
              "      <td>0.10</td>\n",
              "      <td>0.63</td>\n",
              "      <td>85.0</td>\n",
              "      <td>7.7</td>\n",
              "      <td>M</td>\n",
              "      <td>4.04</td>\n",
              "      <td>(-0.0825, 4.127]</td>\n",
              "    </tr>\n",
              "    <tr>\n",
              "      <th>17</th>\n",
              "      <td>The Witcher 3: Wild Hunt</td>\n",
              "      <td>PS4</td>\n",
              "      <td>2015</td>\n",
              "      <td>Role-Playing</td>\n",
              "      <td>1.02</td>\n",
              "      <td>2.13</td>\n",
              "      <td>0.23</td>\n",
              "      <td>0.59</td>\n",
              "      <td>92.0</td>\n",
              "      <td>9.2</td>\n",
              "      <td>M</td>\n",
              "      <td>3.97</td>\n",
              "      <td>(-0.0825, 4.127]</td>\n",
              "    </tr>\n",
              "    <tr>\n",
              "      <th>18</th>\n",
              "      <td>Assassin's Creed: Unity</td>\n",
              "      <td>PS4</td>\n",
              "      <td>2014</td>\n",
              "      <td>Action</td>\n",
              "      <td>1.19</td>\n",
              "      <td>2.07</td>\n",
              "      <td>0.08</td>\n",
              "      <td>0.62</td>\n",
              "      <td>70.0</td>\n",
              "      <td>4.9</td>\n",
              "      <td>M</td>\n",
              "      <td>3.96</td>\n",
              "      <td>(-0.0825, 4.127]</td>\n",
              "    </tr>\n",
              "    <tr>\n",
              "      <th>19</th>\n",
              "      <td>Batman: Arkham Knight</td>\n",
              "      <td>PS4</td>\n",
              "      <td>2015</td>\n",
              "      <td>Action</td>\n",
              "      <td>1.53</td>\n",
              "      <td>1.69</td>\n",
              "      <td>0.10</td>\n",
              "      <td>0.64</td>\n",
              "      <td>87.0</td>\n",
              "      <td>7.6</td>\n",
              "      <td>M</td>\n",
              "      <td>3.96</td>\n",
              "      <td>(-0.0825, 4.127]</td>\n",
              "    </tr>\n",
              "    <tr>\n",
              "      <th>20</th>\n",
              "      <td>NBA 2K16</td>\n",
              "      <td>PS4</td>\n",
              "      <td>2015</td>\n",
              "      <td>Sports</td>\n",
              "      <td>2.49</td>\n",
              "      <td>0.66</td>\n",
              "      <td>0.03</td>\n",
              "      <td>0.69</td>\n",
              "      <td>87.0</td>\n",
              "      <td>6.7</td>\n",
              "      <td>E10+</td>\n",
              "      <td>3.87</td>\n",
              "      <td>(-0.0825, 4.127]</td>\n",
              "    </tr>\n",
              "    <tr>\n",
              "      <th>21</th>\n",
              "      <td>Call of Duty: Ghosts</td>\n",
              "      <td>PS4</td>\n",
              "      <td>2013</td>\n",
              "      <td>Shooter</td>\n",
              "      <td>1.78</td>\n",
              "      <td>1.43</td>\n",
              "      <td>0.05</td>\n",
              "      <td>0.57</td>\n",
              "      <td>78.0</td>\n",
              "      <td>3.7</td>\n",
              "      <td>M</td>\n",
              "      <td>3.83</td>\n",
              "      <td>(-0.0825, 4.127]</td>\n",
              "    </tr>\n",
              "    <tr>\n",
              "      <th>22</th>\n",
              "      <td>Tom Clancy's The Division</td>\n",
              "      <td>PS4</td>\n",
              "      <td>2016</td>\n",
              "      <td>Shooter</td>\n",
              "      <td>1.35</td>\n",
              "      <td>1.70</td>\n",
              "      <td>0.15</td>\n",
              "      <td>0.60</td>\n",
              "      <td>80.0</td>\n",
              "      <td>7.0</td>\n",
              "      <td>M</td>\n",
              "      <td>3.80</td>\n",
              "      <td>(-0.0825, 4.127]</td>\n",
              "    </tr>\n",
              "    <tr>\n",
              "      <th>23</th>\n",
              "      <td>Battlefield 4</td>\n",
              "      <td>PS4</td>\n",
              "      <td>2013</td>\n",
              "      <td>Shooter</td>\n",
              "      <td>1.35</td>\n",
              "      <td>1.55</td>\n",
              "      <td>0.17</td>\n",
              "      <td>0.51</td>\n",
              "      <td>85.0</td>\n",
              "      <td>6.9</td>\n",
              "      <td>M</td>\n",
              "      <td>3.58</td>\n",
              "      <td>(-0.0825, 4.127]</td>\n",
              "    </tr>\n",
              "    <tr>\n",
              "      <th>24</th>\n",
              "      <td>Metal Gear Solid V: The Phantom Pain</td>\n",
              "      <td>PS4</td>\n",
              "      <td>2015</td>\n",
              "      <td>Action</td>\n",
              "      <td>1.09</td>\n",
              "      <td>1.36</td>\n",
              "      <td>0.49</td>\n",
              "      <td>0.48</td>\n",
              "      <td>93.0</td>\n",
              "      <td>8.2</td>\n",
              "      <td>M</td>\n",
              "      <td>3.42</td>\n",
              "      <td>(-0.0825, 4.127]</td>\n",
              "    </tr>\n",
              "    <tr>\n",
              "      <th>25</th>\n",
              "      <td>Assassin's Creed Syndicate</td>\n",
              "      <td>PS4</td>\n",
              "      <td>2015</td>\n",
              "      <td>Action</td>\n",
              "      <td>0.81</td>\n",
              "      <td>1.99</td>\n",
              "      <td>0.07</td>\n",
              "      <td>0.52</td>\n",
              "      <td>76.0</td>\n",
              "      <td>6.8</td>\n",
              "      <td>M</td>\n",
              "      <td>3.39</td>\n",
              "      <td>(-0.0825, 4.127]</td>\n",
              "    </tr>\n",
              "    <tr>\n",
              "      <th>26</th>\n",
              "      <td>Madden NFL 16</td>\n",
              "      <td>PS4</td>\n",
              "      <td>2015</td>\n",
              "      <td>Sports</td>\n",
              "      <td>2.34</td>\n",
              "      <td>0.30</td>\n",
              "      <td>0.00</td>\n",
              "      <td>0.60</td>\n",
              "      <td>83.0</td>\n",
              "      <td>5.9</td>\n",
              "      <td>E</td>\n",
              "      <td>3.24</td>\n",
              "      <td>(-0.0825, 4.127]</td>\n",
              "    </tr>\n",
              "    <tr>\n",
              "      <th>27</th>\n",
              "      <td>FIFA 14</td>\n",
              "      <td>PS4</td>\n",
              "      <td>2013</td>\n",
              "      <td>Sports</td>\n",
              "      <td>0.61</td>\n",
              "      <td>1.85</td>\n",
              "      <td>0.11</td>\n",
              "      <td>0.44</td>\n",
              "      <td>87.0</td>\n",
              "      <td>6.3</td>\n",
              "      <td>E</td>\n",
              "      <td>3.01</td>\n",
              "      <td>(-0.0825, 4.127]</td>\n",
              "    </tr>\n",
              "    <tr>\n",
              "      <th>28</th>\n",
              "      <td>Middle-Earth: Shadow of Mordor</td>\n",
              "      <td>PS4</td>\n",
              "      <td>2014</td>\n",
              "      <td>Action</td>\n",
              "      <td>1.01</td>\n",
              "      <td>1.43</td>\n",
              "      <td>0.05</td>\n",
              "      <td>0.47</td>\n",
              "      <td>84.0</td>\n",
              "      <td>8.1</td>\n",
              "      <td>M</td>\n",
              "      <td>2.96</td>\n",
              "      <td>(-0.0825, 4.127]</td>\n",
              "    </tr>\n",
              "    <tr>\n",
              "      <th>29</th>\n",
              "      <td>Assassin's Creed IV: Black Flag</td>\n",
              "      <td>PS4</td>\n",
              "      <td>2013</td>\n",
              "      <td>Action</td>\n",
              "      <td>1.07</td>\n",
              "      <td>1.31</td>\n",
              "      <td>0.06</td>\n",
              "      <td>0.42</td>\n",
              "      <td>83.0</td>\n",
              "      <td>7.8</td>\n",
              "      <td>M</td>\n",
              "      <td>2.86</td>\n",
              "      <td>(-0.0825, 4.127]</td>\n",
              "    </tr>\n",
              "    <tr>\n",
              "      <th>30</th>\n",
              "      <td>inFAMOUS: Second Son</td>\n",
              "      <td>PS4</td>\n",
              "      <td>2014</td>\n",
              "      <td>Action</td>\n",
              "      <td>1.28</td>\n",
              "      <td>0.98</td>\n",
              "      <td>0.07</td>\n",
              "      <td>0.46</td>\n",
              "      <td>80.0</td>\n",
              "      <td>7.9</td>\n",
              "      <td>T</td>\n",
              "      <td>2.79</td>\n",
              "      <td>(-0.0825, 4.127]</td>\n",
              "    </tr>\n",
              "    <tr>\n",
              "      <th>31</th>\n",
              "      <td>Mortal Kombat X</td>\n",
              "      <td>PS4</td>\n",
              "      <td>2015</td>\n",
              "      <td>Fighting</td>\n",
              "      <td>1.50</td>\n",
              "      <td>0.80</td>\n",
              "      <td>0.00</td>\n",
              "      <td>0.48</td>\n",
              "      <td>83.0</td>\n",
              "      <td>7.7</td>\n",
              "      <td>M</td>\n",
              "      <td>2.78</td>\n",
              "      <td>(-0.0825, 4.127]</td>\n",
              "    </tr>\n",
              "    <tr>\n",
              "      <th>32</th>\n",
              "      <td>Killzone: Shadow Fall</td>\n",
              "      <td>PS4</td>\n",
              "      <td>2013</td>\n",
              "      <td>Shooter</td>\n",
              "      <td>0.89</td>\n",
              "      <td>1.33</td>\n",
              "      <td>0.08</td>\n",
              "      <td>0.39</td>\n",
              "      <td>73.0</td>\n",
              "      <td>6.8</td>\n",
              "      <td>M</td>\n",
              "      <td>2.69</td>\n",
              "      <td>(-0.0825, 4.127]</td>\n",
              "    </tr>\n",
              "    <tr>\n",
              "      <th>33</th>\n",
              "      <td>Bloodborne</td>\n",
              "      <td>PS4</td>\n",
              "      <td>2015</td>\n",
              "      <td>Action</td>\n",
              "      <td>1.03</td>\n",
              "      <td>0.81</td>\n",
              "      <td>0.26</td>\n",
              "      <td>0.38</td>\n",
              "      <td>92.0</td>\n",
              "      <td>8.6</td>\n",
              "      <td>M</td>\n",
              "      <td>2.48</td>\n",
              "      <td>(-0.0825, 4.127]</td>\n",
              "    </tr>\n",
              "    <tr>\n",
              "      <th>34</th>\n",
              "      <td>NBA 2K15</td>\n",
              "      <td>PS4</td>\n",
              "      <td>2014</td>\n",
              "      <td>Sports</td>\n",
              "      <td>1.47</td>\n",
              "      <td>0.54</td>\n",
              "      <td>0.01</td>\n",
              "      <td>0.43</td>\n",
              "      <td>83.0</td>\n",
              "      <td>7.0</td>\n",
              "      <td>E</td>\n",
              "      <td>2.45</td>\n",
              "      <td>(-0.0825, 4.127]</td>\n",
              "    </tr>\n",
              "    <tr>\n",
              "      <th>35</th>\n",
              "      <td>Need for Speed (2015)</td>\n",
              "      <td>PS4</td>\n",
              "      <td>2015</td>\n",
              "      <td>Racing</td>\n",
              "      <td>0.50</td>\n",
              "      <td>1.50</td>\n",
              "      <td>0.05</td>\n",
              "      <td>0.37</td>\n",
              "      <td>-1.0</td>\n",
              "      <td>-1.0</td>\n",
              "      <td>Empty</td>\n",
              "      <td>2.42</td>\n",
              "      <td>(-0.0825, 4.127]</td>\n",
              "    </tr>\n",
              "    <tr>\n",
              "      <th>36</th>\n",
              "      <td>Far Cry: Primal</td>\n",
              "      <td>PS4</td>\n",
              "      <td>2016</td>\n",
              "      <td>Action</td>\n",
              "      <td>0.60</td>\n",
              "      <td>1.25</td>\n",
              "      <td>0.06</td>\n",
              "      <td>0.35</td>\n",
              "      <td>76.0</td>\n",
              "      <td>6.3</td>\n",
              "      <td>M</td>\n",
              "      <td>2.26</td>\n",
              "      <td>(-0.0825, 4.127]</td>\n",
              "    </tr>\n",
              "    <tr>\n",
              "      <th>37</th>\n",
              "      <td>Tom Clancy's Rainbow Six: Siege</td>\n",
              "      <td>PS4</td>\n",
              "      <td>2015</td>\n",
              "      <td>Shooter</td>\n",
              "      <td>0.55</td>\n",
              "      <td>1.19</td>\n",
              "      <td>0.14</td>\n",
              "      <td>0.33</td>\n",
              "      <td>73.0</td>\n",
              "      <td>7.3</td>\n",
              "      <td>M</td>\n",
              "      <td>2.21</td>\n",
              "      <td>(-0.0825, 4.127]</td>\n",
              "    </tr>\n",
              "    <tr>\n",
              "      <th>38</th>\n",
              "      <td>Madden NFL 15</td>\n",
              "      <td>PS4</td>\n",
              "      <td>2014</td>\n",
              "      <td>Sports</td>\n",
              "      <td>1.54</td>\n",
              "      <td>0.25</td>\n",
              "      <td>0.00</td>\n",
              "      <td>0.40</td>\n",
              "      <td>81.0</td>\n",
              "      <td>6.1</td>\n",
              "      <td>E</td>\n",
              "      <td>2.19</td>\n",
              "      <td>(-0.0825, 4.127]</td>\n",
              "    </tr>\n",
              "    <tr>\n",
              "      <th>39</th>\n",
              "      <td>Overwatch</td>\n",
              "      <td>PS4</td>\n",
              "      <td>2016</td>\n",
              "      <td>Shooter</td>\n",
              "      <td>0.81</td>\n",
              "      <td>0.85</td>\n",
              "      <td>0.15</td>\n",
              "      <td>0.33</td>\n",
              "      <td>90.0</td>\n",
              "      <td>6.1</td>\n",
              "      <td>T</td>\n",
              "      <td>2.14</td>\n",
              "      <td>(-0.0825, 4.127]</td>\n",
              "    </tr>\n",
              "    <tr>\n",
              "      <th>40</th>\n",
              "      <td>Battlefield: Hardline</td>\n",
              "      <td>PS4</td>\n",
              "      <td>2015</td>\n",
              "      <td>Shooter</td>\n",
              "      <td>0.71</td>\n",
              "      <td>0.94</td>\n",
              "      <td>0.14</td>\n",
              "      <td>0.32</td>\n",
              "      <td>73.0</td>\n",
              "      <td>5.0</td>\n",
              "      <td>M</td>\n",
              "      <td>2.11</td>\n",
              "      <td>(-0.0825, 4.127]</td>\n",
              "    </tr>\n",
              "    <tr>\n",
              "      <th>41</th>\n",
              "      <td>Dying Light</td>\n",
              "      <td>PS4</td>\n",
              "      <td>2015</td>\n",
              "      <td>Action</td>\n",
              "      <td>0.96</td>\n",
              "      <td>0.67</td>\n",
              "      <td>0.12</td>\n",
              "      <td>0.34</td>\n",
              "      <td>74.0</td>\n",
              "      <td>7.9</td>\n",
              "      <td>M</td>\n",
              "      <td>2.09</td>\n",
              "      <td>(-0.0825, 4.127]</td>\n",
              "    </tr>\n",
              "    <tr>\n",
              "      <th>42</th>\n",
              "      <td>DriveClub</td>\n",
              "      <td>PS4</td>\n",
              "      <td>2014</td>\n",
              "      <td>Racing</td>\n",
              "      <td>0.36</td>\n",
              "      <td>1.38</td>\n",
              "      <td>0.02</td>\n",
              "      <td>0.31</td>\n",
              "      <td>71.0</td>\n",
              "      <td>6.1</td>\n",
              "      <td>E</td>\n",
              "      <td>2.07</td>\n",
              "      <td>(-0.0825, 4.127]</td>\n",
              "    </tr>\n",
              "    <tr>\n",
              "      <th>43</th>\n",
              "      <td>Dragon Age: Inquisition</td>\n",
              "      <td>PS4</td>\n",
              "      <td>2014</td>\n",
              "      <td>Role-Playing</td>\n",
              "      <td>0.73</td>\n",
              "      <td>0.88</td>\n",
              "      <td>0.08</td>\n",
              "      <td>0.32</td>\n",
              "      <td>89.0</td>\n",
              "      <td>7.4</td>\n",
              "      <td>M</td>\n",
              "      <td>2.01</td>\n",
              "      <td>(-0.0825, 4.127]</td>\n",
              "    </tr>\n",
              "    <tr>\n",
              "      <th>44</th>\n",
              "      <td>Need for Speed Rivals</td>\n",
              "      <td>PS4</td>\n",
              "      <td>2013</td>\n",
              "      <td>Racing</td>\n",
              "      <td>0.73</td>\n",
              "      <td>0.92</td>\n",
              "      <td>0.03</td>\n",
              "      <td>0.30</td>\n",
              "      <td>80.0</td>\n",
              "      <td>6.2</td>\n",
              "      <td>E10+</td>\n",
              "      <td>1.98</td>\n",
              "      <td>(-0.0825, 4.127]</td>\n",
              "    </tr>\n",
              "    <tr>\n",
              "      <th>45</th>\n",
              "      <td>Destiny: The Taken King</td>\n",
              "      <td>PS4</td>\n",
              "      <td>2015</td>\n",
              "      <td>Shooter</td>\n",
              "      <td>0.78</td>\n",
              "      <td>0.79</td>\n",
              "      <td>0.04</td>\n",
              "      <td>0.31</td>\n",
              "      <td>86.0</td>\n",
              "      <td>6.0</td>\n",
              "      <td>T</td>\n",
              "      <td>1.92</td>\n",
              "      <td>(-0.0825, 4.127]</td>\n",
              "    </tr>\n",
              "    <tr>\n",
              "      <th>46</th>\n",
              "      <td>LittleBigPlanet 3</td>\n",
              "      <td>PS4</td>\n",
              "      <td>2014</td>\n",
              "      <td>Platform</td>\n",
              "      <td>0.66</td>\n",
              "      <td>0.93</td>\n",
              "      <td>0.01</td>\n",
              "      <td>0.31</td>\n",
              "      <td>79.0</td>\n",
              "      <td>7.1</td>\n",
              "      <td>E</td>\n",
              "      <td>1.91</td>\n",
              "      <td>(-0.0825, 4.127]</td>\n",
              "    </tr>\n",
              "    <tr>\n",
              "      <th>47</th>\n",
              "      <td>NBA 2K17</td>\n",
              "      <td>PS4</td>\n",
              "      <td>2016</td>\n",
              "      <td>Sports</td>\n",
              "      <td>1.25</td>\n",
              "      <td>0.27</td>\n",
              "      <td>0.02</td>\n",
              "      <td>0.34</td>\n",
              "      <td>88.0</td>\n",
              "      <td>6.7</td>\n",
              "      <td>E</td>\n",
              "      <td>1.88</td>\n",
              "      <td>(-0.0825, 4.127]</td>\n",
              "    </tr>\n",
              "    <tr>\n",
              "      <th>48</th>\n",
              "      <td>Just Cause 3</td>\n",
              "      <td>PS4</td>\n",
              "      <td>2015</td>\n",
              "      <td>Action</td>\n",
              "      <td>0.47</td>\n",
              "      <td>1.03</td>\n",
              "      <td>0.07</td>\n",
              "      <td>0.28</td>\n",
              "      <td>73.0</td>\n",
              "      <td>6.5</td>\n",
              "      <td>M</td>\n",
              "      <td>1.85</td>\n",
              "      <td>(-0.0825, 4.127]</td>\n",
              "    </tr>\n",
              "    <tr>\n",
              "      <th>49</th>\n",
              "      <td>Diablo III</td>\n",
              "      <td>PS4</td>\n",
              "      <td>2014</td>\n",
              "      <td>Role-Playing</td>\n",
              "      <td>0.51</td>\n",
              "      <td>0.98</td>\n",
              "      <td>0.06</td>\n",
              "      <td>0.28</td>\n",
              "      <td>-1.0</td>\n",
              "      <td>-1.0</td>\n",
              "      <td>M</td>\n",
              "      <td>1.83</td>\n",
              "      <td>(-0.0825, 4.127]</td>\n",
              "    </tr>\n",
              "    <tr>\n",
              "      <th>50</th>\n",
              "      <td>Mafia III</td>\n",
              "      <td>PS4</td>\n",
              "      <td>2016</td>\n",
              "      <td>Action</td>\n",
              "      <td>0.42</td>\n",
              "      <td>1.08</td>\n",
              "      <td>0.03</td>\n",
              "      <td>0.28</td>\n",
              "      <td>68.0</td>\n",
              "      <td>5.1</td>\n",
              "      <td>M</td>\n",
              "      <td>1.81</td>\n",
              "      <td>(-0.0825, 4.127]</td>\n",
              "    </tr>\n",
              "    <tr>\n",
              "      <th>51</th>\n",
              "      <td>The Evil Within</td>\n",
              "      <td>PS4</td>\n",
              "      <td>2014</td>\n",
              "      <td>Action</td>\n",
              "      <td>0.55</td>\n",
              "      <td>0.86</td>\n",
              "      <td>0.11</td>\n",
              "      <td>0.27</td>\n",
              "      <td>75.0</td>\n",
              "      <td>7.3</td>\n",
              "      <td>M</td>\n",
              "      <td>1.79</td>\n",
              "      <td>(-0.0825, 4.127]</td>\n",
              "    </tr>\n",
              "    <tr>\n",
              "      <th>52</th>\n",
              "      <td>The Elder Scrolls Online</td>\n",
              "      <td>PS4</td>\n",
              "      <td>2015</td>\n",
              "      <td>Role-Playing</td>\n",
              "      <td>0.67</td>\n",
              "      <td>0.79</td>\n",
              "      <td>0.00</td>\n",
              "      <td>0.29</td>\n",
              "      <td>-1.0</td>\n",
              "      <td>-1.0</td>\n",
              "      <td>Empty</td>\n",
              "      <td>1.75</td>\n",
              "      <td>(-0.0825, 4.127]</td>\n",
              "    </tr>\n",
              "    <tr>\n",
              "      <th>53</th>\n",
              "      <td>Madden NFL 17</td>\n",
              "      <td>PS4</td>\n",
              "      <td>2016</td>\n",
              "      <td>Sports</td>\n",
              "      <td>1.25</td>\n",
              "      <td>0.17</td>\n",
              "      <td>0.00</td>\n",
              "      <td>0.32</td>\n",
              "      <td>82.0</td>\n",
              "      <td>4.9</td>\n",
              "      <td>E</td>\n",
              "      <td>1.74</td>\n",
              "      <td>(-0.0825, 4.127]</td>\n",
              "    </tr>\n",
              "  </tbody>\n",
              "</table>\n",
              "</div>"
            ],
            "text/plain": [
              "                                      name platform  year_of_release  \\\n",
              "0                Call of Duty: Black Ops 3      PS4             2015   \n",
              "1                       Grand Theft Auto V      PS4             2014   \n",
              "2                                  FIFA 16      PS4             2015   \n",
              "3             Star Wars Battlefront (2015)      PS4             2015   \n",
              "4           Call of Duty: Advanced Warfare      PS4             2014   \n",
              "5                                  FIFA 17      PS4             2016   \n",
              "6                                Fallout 4      PS4             2015   \n",
              "7                                  FIFA 15      PS4             2014   \n",
              "8                                  Destiny      PS4             2014   \n",
              "9               Uncharted 4: A Thief's End      PS4             2016   \n",
              "10                          The Last of Us      PS4             2014   \n",
              "11  Uncharted: The Nathan Drake Collection      PS4             2015   \n",
              "12          Call of Duty: Infinite Warfare      PS4             2016   \n",
              "13                               Minecraft      PS4             2014   \n",
              "14                           Battlefield 1      PS4             2016   \n",
              "15                              Watch Dogs      PS4             2014   \n",
              "16                               Far Cry 4      PS4             2014   \n",
              "17                The Witcher 3: Wild Hunt      PS4             2015   \n",
              "18                 Assassin's Creed: Unity      PS4             2014   \n",
              "19                   Batman: Arkham Knight      PS4             2015   \n",
              "20                                NBA 2K16      PS4             2015   \n",
              "21                    Call of Duty: Ghosts      PS4             2013   \n",
              "22               Tom Clancy's The Division      PS4             2016   \n",
              "23                           Battlefield 4      PS4             2013   \n",
              "24    Metal Gear Solid V: The Phantom Pain      PS4             2015   \n",
              "25              Assassin's Creed Syndicate      PS4             2015   \n",
              "26                           Madden NFL 16      PS4             2015   \n",
              "27                                 FIFA 14      PS4             2013   \n",
              "28          Middle-Earth: Shadow of Mordor      PS4             2014   \n",
              "29         Assassin's Creed IV: Black Flag      PS4             2013   \n",
              "30                    inFAMOUS: Second Son      PS4             2014   \n",
              "31                         Mortal Kombat X      PS4             2015   \n",
              "32                   Killzone: Shadow Fall      PS4             2013   \n",
              "33                              Bloodborne      PS4             2015   \n",
              "34                                NBA 2K15      PS4             2014   \n",
              "35                   Need for Speed (2015)      PS4             2015   \n",
              "36                         Far Cry: Primal      PS4             2016   \n",
              "37         Tom Clancy's Rainbow Six: Siege      PS4             2015   \n",
              "38                           Madden NFL 15      PS4             2014   \n",
              "39                               Overwatch      PS4             2016   \n",
              "40                   Battlefield: Hardline      PS4             2015   \n",
              "41                             Dying Light      PS4             2015   \n",
              "42                               DriveClub      PS4             2014   \n",
              "43                 Dragon Age: Inquisition      PS4             2014   \n",
              "44                   Need for Speed Rivals      PS4             2013   \n",
              "45                 Destiny: The Taken King      PS4             2015   \n",
              "46                       LittleBigPlanet 3      PS4             2014   \n",
              "47                                NBA 2K17      PS4             2016   \n",
              "48                            Just Cause 3      PS4             2015   \n",
              "49                              Diablo III      PS4             2014   \n",
              "50                               Mafia III      PS4             2016   \n",
              "51                         The Evil Within      PS4             2014   \n",
              "52                The Elder Scrolls Online      PS4             2015   \n",
              "53                           Madden NFL 17      PS4             2016   \n",
              "\n",
              "           genre  na_sales  eu_sales  jp_sales  other_sales  critic_score  \\\n",
              "0        Shooter      6.03      5.86      0.36         2.38          -1.0   \n",
              "1         Action      3.96      6.31      0.38         1.97          97.0   \n",
              "2         Sports      1.12      6.12      0.06         1.28          82.0   \n",
              "3        Shooter      2.99      3.49      0.22         1.28          -1.0   \n",
              "4        Shooter      2.81      3.48      0.14         1.23          83.0   \n",
              "5         Sports      0.66      5.75      0.08         1.11          85.0   \n",
              "6   Role-Playing      2.53      3.27      0.24         1.13          87.0   \n",
              "7         Sports      0.80      4.33      0.05         0.90          82.0   \n",
              "8        Shooter      2.49      2.07      0.16         0.92          76.0   \n",
              "9        Shooter      1.85      2.50      0.19         0.85          93.0   \n",
              "10        Action      1.88      2.00      0.07         0.77          -1.0   \n",
              "11        Action      2.07      1.71      0.08         0.76          86.0   \n",
              "12       Shooter      1.61      2.00      0.15         0.71          77.0   \n",
              "13          Misc      1.48      2.02      0.14         0.68          -1.0   \n",
              "14       Shooter      1.10      2.15      0.21         0.61          88.0   \n",
              "15        Action      1.40      1.90      0.11         0.64          80.0   \n",
              "16       Shooter      1.13      2.18      0.10         0.63          85.0   \n",
              "17  Role-Playing      1.02      2.13      0.23         0.59          92.0   \n",
              "18        Action      1.19      2.07      0.08         0.62          70.0   \n",
              "19        Action      1.53      1.69      0.10         0.64          87.0   \n",
              "20        Sports      2.49      0.66      0.03         0.69          87.0   \n",
              "21       Shooter      1.78      1.43      0.05         0.57          78.0   \n",
              "22       Shooter      1.35      1.70      0.15         0.60          80.0   \n",
              "23       Shooter      1.35      1.55      0.17         0.51          85.0   \n",
              "24        Action      1.09      1.36      0.49         0.48          93.0   \n",
              "25        Action      0.81      1.99      0.07         0.52          76.0   \n",
              "26        Sports      2.34      0.30      0.00         0.60          83.0   \n",
              "27        Sports      0.61      1.85      0.11         0.44          87.0   \n",
              "28        Action      1.01      1.43      0.05         0.47          84.0   \n",
              "29        Action      1.07      1.31      0.06         0.42          83.0   \n",
              "30        Action      1.28      0.98      0.07         0.46          80.0   \n",
              "31      Fighting      1.50      0.80      0.00         0.48          83.0   \n",
              "32       Shooter      0.89      1.33      0.08         0.39          73.0   \n",
              "33        Action      1.03      0.81      0.26         0.38          92.0   \n",
              "34        Sports      1.47      0.54      0.01         0.43          83.0   \n",
              "35        Racing      0.50      1.50      0.05         0.37          -1.0   \n",
              "36        Action      0.60      1.25      0.06         0.35          76.0   \n",
              "37       Shooter      0.55      1.19      0.14         0.33          73.0   \n",
              "38        Sports      1.54      0.25      0.00         0.40          81.0   \n",
              "39       Shooter      0.81      0.85      0.15         0.33          90.0   \n",
              "40       Shooter      0.71      0.94      0.14         0.32          73.0   \n",
              "41        Action      0.96      0.67      0.12         0.34          74.0   \n",
              "42        Racing      0.36      1.38      0.02         0.31          71.0   \n",
              "43  Role-Playing      0.73      0.88      0.08         0.32          89.0   \n",
              "44        Racing      0.73      0.92      0.03         0.30          80.0   \n",
              "45       Shooter      0.78      0.79      0.04         0.31          86.0   \n",
              "46      Platform      0.66      0.93      0.01         0.31          79.0   \n",
              "47        Sports      1.25      0.27      0.02         0.34          88.0   \n",
              "48        Action      0.47      1.03      0.07         0.28          73.0   \n",
              "49  Role-Playing      0.51      0.98      0.06         0.28          -1.0   \n",
              "50        Action      0.42      1.08      0.03         0.28          68.0   \n",
              "51        Action      0.55      0.86      0.11         0.27          75.0   \n",
              "52  Role-Playing      0.67      0.79      0.00         0.29          -1.0   \n",
              "53        Sports      1.25      0.17      0.00         0.32          82.0   \n",
              "\n",
              "    user_score rating  total_sales total_sales_range  \n",
              "0         -1.0  Empty        14.63  (12.381, 16.508]  \n",
              "1          8.3      M        12.62  (12.381, 16.508]  \n",
              "2          4.3      E         8.58   (8.254, 12.381]  \n",
              "3         -1.0  Empty         7.98    (4.127, 8.254]  \n",
              "4          5.7      M         7.66    (4.127, 8.254]  \n",
              "5          5.0      E         7.60    (4.127, 8.254]  \n",
              "6          6.5      M         7.17    (4.127, 8.254]  \n",
              "7          5.7      E         6.08    (4.127, 8.254]  \n",
              "8          6.1      T         5.64    (4.127, 8.254]  \n",
              "9          7.9      T         5.39    (4.127, 8.254]  \n",
              "10        -1.0  Empty         4.72    (4.127, 8.254]  \n",
              "11         8.1      T         4.62    (4.127, 8.254]  \n",
              "12         3.4      M         4.47    (4.127, 8.254]  \n",
              "13        -1.0  Empty         4.32    (4.127, 8.254]  \n",
              "14         8.4      M         4.07  (-0.0825, 4.127]  \n",
              "15         6.3      M         4.05  (-0.0825, 4.127]  \n",
              "16         7.7      M         4.04  (-0.0825, 4.127]  \n",
              "17         9.2      M         3.97  (-0.0825, 4.127]  \n",
              "18         4.9      M         3.96  (-0.0825, 4.127]  \n",
              "19         7.6      M         3.96  (-0.0825, 4.127]  \n",
              "20         6.7   E10+         3.87  (-0.0825, 4.127]  \n",
              "21         3.7      M         3.83  (-0.0825, 4.127]  \n",
              "22         7.0      M         3.80  (-0.0825, 4.127]  \n",
              "23         6.9      M         3.58  (-0.0825, 4.127]  \n",
              "24         8.2      M         3.42  (-0.0825, 4.127]  \n",
              "25         6.8      M         3.39  (-0.0825, 4.127]  \n",
              "26         5.9      E         3.24  (-0.0825, 4.127]  \n",
              "27         6.3      E         3.01  (-0.0825, 4.127]  \n",
              "28         8.1      M         2.96  (-0.0825, 4.127]  \n",
              "29         7.8      M         2.86  (-0.0825, 4.127]  \n",
              "30         7.9      T         2.79  (-0.0825, 4.127]  \n",
              "31         7.7      M         2.78  (-0.0825, 4.127]  \n",
              "32         6.8      M         2.69  (-0.0825, 4.127]  \n",
              "33         8.6      M         2.48  (-0.0825, 4.127]  \n",
              "34         7.0      E         2.45  (-0.0825, 4.127]  \n",
              "35        -1.0  Empty         2.42  (-0.0825, 4.127]  \n",
              "36         6.3      M         2.26  (-0.0825, 4.127]  \n",
              "37         7.3      M         2.21  (-0.0825, 4.127]  \n",
              "38         6.1      E         2.19  (-0.0825, 4.127]  \n",
              "39         6.1      T         2.14  (-0.0825, 4.127]  \n",
              "40         5.0      M         2.11  (-0.0825, 4.127]  \n",
              "41         7.9      M         2.09  (-0.0825, 4.127]  \n",
              "42         6.1      E         2.07  (-0.0825, 4.127]  \n",
              "43         7.4      M         2.01  (-0.0825, 4.127]  \n",
              "44         6.2   E10+         1.98  (-0.0825, 4.127]  \n",
              "45         6.0      T         1.92  (-0.0825, 4.127]  \n",
              "46         7.1      E         1.91  (-0.0825, 4.127]  \n",
              "47         6.7      E         1.88  (-0.0825, 4.127]  \n",
              "48         6.5      M         1.85  (-0.0825, 4.127]  \n",
              "49        -1.0      M         1.83  (-0.0825, 4.127]  \n",
              "50         5.1      M         1.81  (-0.0825, 4.127]  \n",
              "51         7.3      M         1.79  (-0.0825, 4.127]  \n",
              "52        -1.0  Empty         1.75  (-0.0825, 4.127]  \n",
              "53         4.9      E         1.74  (-0.0825, 4.127]  "
            ]
          },
          "execution_count": 46,
          "metadata": {},
          "output_type": "execute_result"
        }
      ],
      "source": [
        "def usy_boxplota(df, column): #функция, определяющая значения усов диаграммы размаха\n",
        "    min = df[column].min()\n",
        "    max = df[column].max()\n",
        "    Q1 = df[column].quantile(0.25)\n",
        "    Q3 = df[column].quantile(0.75)\n",
        "    IQR  = Q3 - Q1\n",
        "    lowest = (lambda: min if min > Q1 - 1.5 * IQR else Q1 - 1.5 * IQR)\n",
        "    highest = (lambda: max if max < Q3 + 1.5 * IQR else Q3 + 1.5 * IQR)\n",
        "    return [lowest(), highest()]\n",
        "\n",
        "def games_above_boxplot(df): #функция, формирующая датафрейм из значений-выбросов\n",
        "    return (df[df['total_sales'] > usy_boxplota(df, 'total_sales')[1]]\n",
        "            .sort_values(by='total_sales', ascending=False)\n",
        "            .reset_index(drop=True))\n",
        "\n",
        "top_ps4_games = games_above_boxplot(df_filtered_ps4)\n",
        "top_ps4_games"
      ]
    },
    {
      "cell_type": "code",
      "execution_count": null,
      "metadata": {
        "id": "wxS1FmTDU-uI",
        "outputId": "35ba2db2-7ad4-4b0a-de7d-9c2f1b5a1921"
      },
      "outputs": [
        {
          "data": {
            "text/html": [
              "<div>\n",
              "<style scoped>\n",
              "    .dataframe tbody tr th:only-of-type {\n",
              "        vertical-align: middle;\n",
              "    }\n",
              "\n",
              "    .dataframe tbody tr th {\n",
              "        vertical-align: top;\n",
              "    }\n",
              "\n",
              "    .dataframe thead th {\n",
              "        text-align: right;\n",
              "    }\n",
              "</style>\n",
              "<table border=\"1\" class=\"dataframe\">\n",
              "  <thead>\n",
              "    <tr style=\"text-align: right;\">\n",
              "      <th></th>\n",
              "      <th>name</th>\n",
              "      <th>platform</th>\n",
              "      <th>year_of_release</th>\n",
              "      <th>genre</th>\n",
              "      <th>na_sales</th>\n",
              "      <th>eu_sales</th>\n",
              "      <th>jp_sales</th>\n",
              "      <th>other_sales</th>\n",
              "      <th>critic_score</th>\n",
              "      <th>user_score</th>\n",
              "      <th>rating</th>\n",
              "      <th>total_sales</th>\n",
              "      <th>total_sales_range</th>\n",
              "    </tr>\n",
              "  </thead>\n",
              "  <tbody>\n",
              "    <tr>\n",
              "      <th>0</th>\n",
              "      <td>Call of Duty: Black Ops 3</td>\n",
              "      <td>XOne</td>\n",
              "      <td>2015</td>\n",
              "      <td>Shooter</td>\n",
              "      <td>4.59</td>\n",
              "      <td>2.11</td>\n",
              "      <td>0.01</td>\n",
              "      <td>0.68</td>\n",
              "      <td>-1.0</td>\n",
              "      <td>-1.0</td>\n",
              "      <td>Empty</td>\n",
              "      <td>7.39</td>\n",
              "      <td>(4.127, 8.254]</td>\n",
              "    </tr>\n",
              "    <tr>\n",
              "      <th>1</th>\n",
              "      <td>Grand Theft Auto V</td>\n",
              "      <td>XOne</td>\n",
              "      <td>2014</td>\n",
              "      <td>Action</td>\n",
              "      <td>2.81</td>\n",
              "      <td>2.19</td>\n",
              "      <td>0.00</td>\n",
              "      <td>0.47</td>\n",
              "      <td>97.0</td>\n",
              "      <td>7.9</td>\n",
              "      <td>M</td>\n",
              "      <td>5.47</td>\n",
              "      <td>(4.127, 8.254]</td>\n",
              "    </tr>\n",
              "    <tr>\n",
              "      <th>2</th>\n",
              "      <td>Call of Duty: Advanced Warfare</td>\n",
              "      <td>XOne</td>\n",
              "      <td>2014</td>\n",
              "      <td>Shooter</td>\n",
              "      <td>3.22</td>\n",
              "      <td>1.55</td>\n",
              "      <td>0.01</td>\n",
              "      <td>0.48</td>\n",
              "      <td>81.0</td>\n",
              "      <td>5.4</td>\n",
              "      <td>M</td>\n",
              "      <td>5.26</td>\n",
              "      <td>(4.127, 8.254]</td>\n",
              "    </tr>\n",
              "    <tr>\n",
              "      <th>3</th>\n",
              "      <td>Halo 5: Guardians</td>\n",
              "      <td>XOne</td>\n",
              "      <td>2015</td>\n",
              "      <td>Shooter</td>\n",
              "      <td>2.78</td>\n",
              "      <td>1.27</td>\n",
              "      <td>0.03</td>\n",
              "      <td>0.41</td>\n",
              "      <td>84.0</td>\n",
              "      <td>6.4</td>\n",
              "      <td>T</td>\n",
              "      <td>4.49</td>\n",
              "      <td>(4.127, 8.254]</td>\n",
              "    </tr>\n",
              "    <tr>\n",
              "      <th>4</th>\n",
              "      <td>Fallout 4</td>\n",
              "      <td>XOne</td>\n",
              "      <td>2015</td>\n",
              "      <td>Role-Playing</td>\n",
              "      <td>2.51</td>\n",
              "      <td>1.32</td>\n",
              "      <td>0.01</td>\n",
              "      <td>0.38</td>\n",
              "      <td>88.0</td>\n",
              "      <td>6.2</td>\n",
              "      <td>M</td>\n",
              "      <td>4.22</td>\n",
              "      <td>(4.127, 8.254]</td>\n",
              "    </tr>\n",
              "    <tr>\n",
              "      <th>5</th>\n",
              "      <td>Star Wars Battlefront (2015)</td>\n",
              "      <td>XOne</td>\n",
              "      <td>2015</td>\n",
              "      <td>Shooter</td>\n",
              "      <td>2.04</td>\n",
              "      <td>1.28</td>\n",
              "      <td>0.02</td>\n",
              "      <td>0.32</td>\n",
              "      <td>-1.0</td>\n",
              "      <td>-1.0</td>\n",
              "      <td>Empty</td>\n",
              "      <td>3.66</td>\n",
              "      <td>(-0.0825, 4.127]</td>\n",
              "    </tr>\n",
              "    <tr>\n",
              "      <th>6</th>\n",
              "      <td>Assassin's Creed: Unity</td>\n",
              "      <td>XOne</td>\n",
              "      <td>2014</td>\n",
              "      <td>Action</td>\n",
              "      <td>2.27</td>\n",
              "      <td>0.90</td>\n",
              "      <td>0.00</td>\n",
              "      <td>0.33</td>\n",
              "      <td>72.0</td>\n",
              "      <td>4.1</td>\n",
              "      <td>M</td>\n",
              "      <td>3.50</td>\n",
              "      <td>(-0.0825, 4.127]</td>\n",
              "    </tr>\n",
              "    <tr>\n",
              "      <th>7</th>\n",
              "      <td>Destiny</td>\n",
              "      <td>XOne</td>\n",
              "      <td>2014</td>\n",
              "      <td>Shooter</td>\n",
              "      <td>2.14</td>\n",
              "      <td>0.92</td>\n",
              "      <td>0.00</td>\n",
              "      <td>0.31</td>\n",
              "      <td>75.0</td>\n",
              "      <td>5.5</td>\n",
              "      <td>T</td>\n",
              "      <td>3.37</td>\n",
              "      <td>(-0.0825, 4.127]</td>\n",
              "    </tr>\n",
              "    <tr>\n",
              "      <th>8</th>\n",
              "      <td>Gears of War: Ultimate Edition</td>\n",
              "      <td>XOne</td>\n",
              "      <td>2015</td>\n",
              "      <td>Shooter</td>\n",
              "      <td>2.61</td>\n",
              "      <td>0.33</td>\n",
              "      <td>0.00</td>\n",
              "      <td>0.34</td>\n",
              "      <td>82.0</td>\n",
              "      <td>7.5</td>\n",
              "      <td>M</td>\n",
              "      <td>3.28</td>\n",
              "      <td>(-0.0825, 4.127]</td>\n",
              "    </tr>\n",
              "    <tr>\n",
              "      <th>9</th>\n",
              "      <td>FIFA 16</td>\n",
              "      <td>XOne</td>\n",
              "      <td>2015</td>\n",
              "      <td>Sports</td>\n",
              "      <td>0.89</td>\n",
              "      <td>2.12</td>\n",
              "      <td>0.00</td>\n",
              "      <td>0.24</td>\n",
              "      <td>84.0</td>\n",
              "      <td>4.4</td>\n",
              "      <td>E</td>\n",
              "      <td>3.25</td>\n",
              "      <td>(-0.0825, 4.127]</td>\n",
              "    </tr>\n",
              "    <tr>\n",
              "      <th>10</th>\n",
              "      <td>Halo: The Master Chief Collection</td>\n",
              "      <td>XOne</td>\n",
              "      <td>2014</td>\n",
              "      <td>Shooter</td>\n",
              "      <td>1.91</td>\n",
              "      <td>1.00</td>\n",
              "      <td>0.03</td>\n",
              "      <td>0.29</td>\n",
              "      <td>85.0</td>\n",
              "      <td>7.2</td>\n",
              "      <td>M</td>\n",
              "      <td>3.23</td>\n",
              "      <td>(-0.0825, 4.127]</td>\n",
              "    </tr>\n",
              "    <tr>\n",
              "      <th>11</th>\n",
              "      <td>Titanfall</td>\n",
              "      <td>XOne</td>\n",
              "      <td>2014</td>\n",
              "      <td>Shooter</td>\n",
              "      <td>1.84</td>\n",
              "      <td>0.80</td>\n",
              "      <td>0.04</td>\n",
              "      <td>0.27</td>\n",
              "      <td>86.0</td>\n",
              "      <td>6.4</td>\n",
              "      <td>M</td>\n",
              "      <td>2.95</td>\n",
              "      <td>(-0.0825, 4.127]</td>\n",
              "    </tr>\n",
              "    <tr>\n",
              "      <th>12</th>\n",
              "      <td>Call of Duty: Ghosts</td>\n",
              "      <td>XOne</td>\n",
              "      <td>2013</td>\n",
              "      <td>Shooter</td>\n",
              "      <td>1.88</td>\n",
              "      <td>0.77</td>\n",
              "      <td>0.00</td>\n",
              "      <td>0.27</td>\n",
              "      <td>78.0</td>\n",
              "      <td>4.3</td>\n",
              "      <td>M</td>\n",
              "      <td>2.92</td>\n",
              "      <td>(-0.0825, 4.127]</td>\n",
              "    </tr>\n",
              "    <tr>\n",
              "      <th>13</th>\n",
              "      <td>Minecraft</td>\n",
              "      <td>XOne</td>\n",
              "      <td>2014</td>\n",
              "      <td>Misc</td>\n",
              "      <td>1.61</td>\n",
              "      <td>0.90</td>\n",
              "      <td>0.00</td>\n",
              "      <td>0.25</td>\n",
              "      <td>-1.0</td>\n",
              "      <td>-1.0</td>\n",
              "      <td>Empty</td>\n",
              "      <td>2.76</td>\n",
              "      <td>(-0.0825, 4.127]</td>\n",
              "    </tr>\n",
              "    <tr>\n",
              "      <th>14</th>\n",
              "      <td>FIFA 17</td>\n",
              "      <td>XOne</td>\n",
              "      <td>2016</td>\n",
              "      <td>Sports</td>\n",
              "      <td>0.43</td>\n",
              "      <td>2.05</td>\n",
              "      <td>0.00</td>\n",
              "      <td>0.17</td>\n",
              "      <td>84.0</td>\n",
              "      <td>5.5</td>\n",
              "      <td>E</td>\n",
              "      <td>2.65</td>\n",
              "      <td>(-0.0825, 4.127]</td>\n",
              "    </tr>\n",
              "    <tr>\n",
              "      <th>15</th>\n",
              "      <td>Call of Duty: Infinite Warfare</td>\n",
              "      <td>XOne</td>\n",
              "      <td>2016</td>\n",
              "      <td>Shooter</td>\n",
              "      <td>1.46</td>\n",
              "      <td>0.74</td>\n",
              "      <td>0.00</td>\n",
              "      <td>0.22</td>\n",
              "      <td>78.0</td>\n",
              "      <td>3.1</td>\n",
              "      <td>M</td>\n",
              "      <td>2.42</td>\n",
              "      <td>(-0.0825, 4.127]</td>\n",
              "    </tr>\n",
              "    <tr>\n",
              "      <th>16</th>\n",
              "      <td>Madden NFL 16</td>\n",
              "      <td>XOne</td>\n",
              "      <td>2015</td>\n",
              "      <td>Sports</td>\n",
              "      <td>2.08</td>\n",
              "      <td>0.08</td>\n",
              "      <td>0.00</td>\n",
              "      <td>0.26</td>\n",
              "      <td>84.0</td>\n",
              "      <td>6.1</td>\n",
              "      <td>E</td>\n",
              "      <td>2.42</td>\n",
              "      <td>(-0.0825, 4.127]</td>\n",
              "    </tr>\n",
              "    <tr>\n",
              "      <th>17</th>\n",
              "      <td>NBA 2K16</td>\n",
              "      <td>XOne</td>\n",
              "      <td>2015</td>\n",
              "      <td>Sports</td>\n",
              "      <td>1.95</td>\n",
              "      <td>0.15</td>\n",
              "      <td>0.00</td>\n",
              "      <td>0.24</td>\n",
              "      <td>86.0</td>\n",
              "      <td>6.2</td>\n",
              "      <td>E10+</td>\n",
              "      <td>2.34</td>\n",
              "      <td>(-0.0825, 4.127]</td>\n",
              "    </tr>\n",
              "    <tr>\n",
              "      <th>18</th>\n",
              "      <td>Battlefield 1</td>\n",
              "      <td>XOne</td>\n",
              "      <td>2016</td>\n",
              "      <td>Shooter</td>\n",
              "      <td>1.28</td>\n",
              "      <td>0.77</td>\n",
              "      <td>0.00</td>\n",
              "      <td>0.20</td>\n",
              "      <td>87.0</td>\n",
              "      <td>8.2</td>\n",
              "      <td>M</td>\n",
              "      <td>2.25</td>\n",
              "      <td>(-0.0825, 4.127]</td>\n",
              "    </tr>\n",
              "    <tr>\n",
              "      <th>19</th>\n",
              "      <td>Assassin's Creed IV: Black Flag</td>\n",
              "      <td>XOne</td>\n",
              "      <td>2013</td>\n",
              "      <td>Action</td>\n",
              "      <td>1.48</td>\n",
              "      <td>0.55</td>\n",
              "      <td>0.00</td>\n",
              "      <td>0.21</td>\n",
              "      <td>-1.0</td>\n",
              "      <td>7.4</td>\n",
              "      <td>M</td>\n",
              "      <td>2.24</td>\n",
              "      <td>(-0.0825, 4.127]</td>\n",
              "    </tr>\n",
              "    <tr>\n",
              "      <th>20</th>\n",
              "      <td>Forza Motorsport 5</td>\n",
              "      <td>XOne</td>\n",
              "      <td>2013</td>\n",
              "      <td>Racing</td>\n",
              "      <td>1.21</td>\n",
              "      <td>0.79</td>\n",
              "      <td>0.01</td>\n",
              "      <td>0.19</td>\n",
              "      <td>79.0</td>\n",
              "      <td>5.9</td>\n",
              "      <td>E</td>\n",
              "      <td>2.20</td>\n",
              "      <td>(-0.0825, 4.127]</td>\n",
              "    </tr>\n",
              "    <tr>\n",
              "      <th>21</th>\n",
              "      <td>FIFA 15</td>\n",
              "      <td>XOne</td>\n",
              "      <td>2014</td>\n",
              "      <td>Sports</td>\n",
              "      <td>0.60</td>\n",
              "      <td>1.42</td>\n",
              "      <td>0.00</td>\n",
              "      <td>0.16</td>\n",
              "      <td>82.0</td>\n",
              "      <td>5.4</td>\n",
              "      <td>E</td>\n",
              "      <td>2.18</td>\n",
              "      <td>(-0.0825, 4.127]</td>\n",
              "    </tr>\n",
              "    <tr>\n",
              "      <th>22</th>\n",
              "      <td>Tom Clancy's The Division</td>\n",
              "      <td>XOne</td>\n",
              "      <td>2016</td>\n",
              "      <td>Shooter</td>\n",
              "      <td>1.29</td>\n",
              "      <td>0.68</td>\n",
              "      <td>0.00</td>\n",
              "      <td>0.20</td>\n",
              "      <td>80.0</td>\n",
              "      <td>6.9</td>\n",
              "      <td>M</td>\n",
              "      <td>2.17</td>\n",
              "      <td>(-0.0825, 4.127]</td>\n",
              "    </tr>\n",
              "    <tr>\n",
              "      <th>23</th>\n",
              "      <td>Battlefield 4</td>\n",
              "      <td>XOne</td>\n",
              "      <td>2013</td>\n",
              "      <td>Shooter</td>\n",
              "      <td>1.25</td>\n",
              "      <td>0.58</td>\n",
              "      <td>0.00</td>\n",
              "      <td>0.19</td>\n",
              "      <td>81.0</td>\n",
              "      <td>6.6</td>\n",
              "      <td>M</td>\n",
              "      <td>2.02</td>\n",
              "      <td>(-0.0825, 4.127]</td>\n",
              "    </tr>\n",
              "    <tr>\n",
              "      <th>24</th>\n",
              "      <td>Forza Motorsport 6</td>\n",
              "      <td>XOne</td>\n",
              "      <td>2015</td>\n",
              "      <td>Racing</td>\n",
              "      <td>0.73</td>\n",
              "      <td>0.90</td>\n",
              "      <td>0.03</td>\n",
              "      <td>0.14</td>\n",
              "      <td>87.0</td>\n",
              "      <td>7.9</td>\n",
              "      <td>E</td>\n",
              "      <td>1.80</td>\n",
              "      <td>(-0.0825, 4.127]</td>\n",
              "    </tr>\n",
              "    <tr>\n",
              "      <th>25</th>\n",
              "      <td>NBA 2K15</td>\n",
              "      <td>XOne</td>\n",
              "      <td>2014</td>\n",
              "      <td>Sports</td>\n",
              "      <td>1.37</td>\n",
              "      <td>0.18</td>\n",
              "      <td>0.00</td>\n",
              "      <td>0.18</td>\n",
              "      <td>82.0</td>\n",
              "      <td>6.3</td>\n",
              "      <td>E</td>\n",
              "      <td>1.73</td>\n",
              "      <td>(-0.0825, 4.127]</td>\n",
              "    </tr>\n",
              "    <tr>\n",
              "      <th>26</th>\n",
              "      <td>Far Cry 4</td>\n",
              "      <td>XOne</td>\n",
              "      <td>2014</td>\n",
              "      <td>Shooter</td>\n",
              "      <td>0.80</td>\n",
              "      <td>0.69</td>\n",
              "      <td>0.01</td>\n",
              "      <td>0.14</td>\n",
              "      <td>82.0</td>\n",
              "      <td>7.5</td>\n",
              "      <td>M</td>\n",
              "      <td>1.64</td>\n",
              "      <td>(-0.0825, 4.127]</td>\n",
              "    </tr>\n",
              "  </tbody>\n",
              "</table>\n",
              "</div>"
            ],
            "text/plain": [
              "                                 name platform  year_of_release         genre  \\\n",
              "0           Call of Duty: Black Ops 3     XOne             2015       Shooter   \n",
              "1                  Grand Theft Auto V     XOne             2014        Action   \n",
              "2      Call of Duty: Advanced Warfare     XOne             2014       Shooter   \n",
              "3                   Halo 5: Guardians     XOne             2015       Shooter   \n",
              "4                           Fallout 4     XOne             2015  Role-Playing   \n",
              "5        Star Wars Battlefront (2015)     XOne             2015       Shooter   \n",
              "6             Assassin's Creed: Unity     XOne             2014        Action   \n",
              "7                             Destiny     XOne             2014       Shooter   \n",
              "8      Gears of War: Ultimate Edition     XOne             2015       Shooter   \n",
              "9                             FIFA 16     XOne             2015        Sports   \n",
              "10  Halo: The Master Chief Collection     XOne             2014       Shooter   \n",
              "11                          Titanfall     XOne             2014       Shooter   \n",
              "12               Call of Duty: Ghosts     XOne             2013       Shooter   \n",
              "13                          Minecraft     XOne             2014          Misc   \n",
              "14                            FIFA 17     XOne             2016        Sports   \n",
              "15     Call of Duty: Infinite Warfare     XOne             2016       Shooter   \n",
              "16                      Madden NFL 16     XOne             2015        Sports   \n",
              "17                           NBA 2K16     XOne             2015        Sports   \n",
              "18                      Battlefield 1     XOne             2016       Shooter   \n",
              "19    Assassin's Creed IV: Black Flag     XOne             2013        Action   \n",
              "20                 Forza Motorsport 5     XOne             2013        Racing   \n",
              "21                            FIFA 15     XOne             2014        Sports   \n",
              "22          Tom Clancy's The Division     XOne             2016       Shooter   \n",
              "23                      Battlefield 4     XOne             2013       Shooter   \n",
              "24                 Forza Motorsport 6     XOne             2015        Racing   \n",
              "25                           NBA 2K15     XOne             2014        Sports   \n",
              "26                          Far Cry 4     XOne             2014       Shooter   \n",
              "\n",
              "    na_sales  eu_sales  jp_sales  other_sales  critic_score  user_score  \\\n",
              "0       4.59      2.11      0.01         0.68          -1.0        -1.0   \n",
              "1       2.81      2.19      0.00         0.47          97.0         7.9   \n",
              "2       3.22      1.55      0.01         0.48          81.0         5.4   \n",
              "3       2.78      1.27      0.03         0.41          84.0         6.4   \n",
              "4       2.51      1.32      0.01         0.38          88.0         6.2   \n",
              "5       2.04      1.28      0.02         0.32          -1.0        -1.0   \n",
              "6       2.27      0.90      0.00         0.33          72.0         4.1   \n",
              "7       2.14      0.92      0.00         0.31          75.0         5.5   \n",
              "8       2.61      0.33      0.00         0.34          82.0         7.5   \n",
              "9       0.89      2.12      0.00         0.24          84.0         4.4   \n",
              "10      1.91      1.00      0.03         0.29          85.0         7.2   \n",
              "11      1.84      0.80      0.04         0.27          86.0         6.4   \n",
              "12      1.88      0.77      0.00         0.27          78.0         4.3   \n",
              "13      1.61      0.90      0.00         0.25          -1.0        -1.0   \n",
              "14      0.43      2.05      0.00         0.17          84.0         5.5   \n",
              "15      1.46      0.74      0.00         0.22          78.0         3.1   \n",
              "16      2.08      0.08      0.00         0.26          84.0         6.1   \n",
              "17      1.95      0.15      0.00         0.24          86.0         6.2   \n",
              "18      1.28      0.77      0.00         0.20          87.0         8.2   \n",
              "19      1.48      0.55      0.00         0.21          -1.0         7.4   \n",
              "20      1.21      0.79      0.01         0.19          79.0         5.9   \n",
              "21      0.60      1.42      0.00         0.16          82.0         5.4   \n",
              "22      1.29      0.68      0.00         0.20          80.0         6.9   \n",
              "23      1.25      0.58      0.00         0.19          81.0         6.6   \n",
              "24      0.73      0.90      0.03         0.14          87.0         7.9   \n",
              "25      1.37      0.18      0.00         0.18          82.0         6.3   \n",
              "26      0.80      0.69      0.01         0.14          82.0         7.5   \n",
              "\n",
              "   rating  total_sales total_sales_range  \n",
              "0   Empty         7.39    (4.127, 8.254]  \n",
              "1       M         5.47    (4.127, 8.254]  \n",
              "2       M         5.26    (4.127, 8.254]  \n",
              "3       T         4.49    (4.127, 8.254]  \n",
              "4       M         4.22    (4.127, 8.254]  \n",
              "5   Empty         3.66  (-0.0825, 4.127]  \n",
              "6       M         3.50  (-0.0825, 4.127]  \n",
              "7       T         3.37  (-0.0825, 4.127]  \n",
              "8       M         3.28  (-0.0825, 4.127]  \n",
              "9       E         3.25  (-0.0825, 4.127]  \n",
              "10      M         3.23  (-0.0825, 4.127]  \n",
              "11      M         2.95  (-0.0825, 4.127]  \n",
              "12      M         2.92  (-0.0825, 4.127]  \n",
              "13  Empty         2.76  (-0.0825, 4.127]  \n",
              "14      E         2.65  (-0.0825, 4.127]  \n",
              "15      M         2.42  (-0.0825, 4.127]  \n",
              "16      E         2.42  (-0.0825, 4.127]  \n",
              "17   E10+         2.34  (-0.0825, 4.127]  \n",
              "18      M         2.25  (-0.0825, 4.127]  \n",
              "19      M         2.24  (-0.0825, 4.127]  \n",
              "20      E         2.20  (-0.0825, 4.127]  \n",
              "21      E         2.18  (-0.0825, 4.127]  \n",
              "22      M         2.17  (-0.0825, 4.127]  \n",
              "23      M         2.02  (-0.0825, 4.127]  \n",
              "24      E         1.80  (-0.0825, 4.127]  \n",
              "25      E         1.73  (-0.0825, 4.127]  \n",
              "26      M         1.64  (-0.0825, 4.127]  "
            ]
          },
          "execution_count": 47,
          "metadata": {},
          "output_type": "execute_result"
        }
      ],
      "source": [
        "top_xone_games = games_above_boxplot(df_filtered_xone)\n",
        "top_xone_games"
      ]
    },
    {
      "cell_type": "code",
      "execution_count": null,
      "metadata": {
        "id": "68OmWqLMU-uI",
        "outputId": "384edc9c-162a-46a5-c397-cbf5fe18b1b1"
      },
      "outputs": [
        {
          "data": {
            "text/html": [
              "<div>\n",
              "<style scoped>\n",
              "    .dataframe tbody tr th:only-of-type {\n",
              "        vertical-align: middle;\n",
              "    }\n",
              "\n",
              "    .dataframe tbody tr th {\n",
              "        vertical-align: top;\n",
              "    }\n",
              "\n",
              "    .dataframe thead th {\n",
              "        text-align: right;\n",
              "    }\n",
              "</style>\n",
              "<table border=\"1\" class=\"dataframe\">\n",
              "  <thead>\n",
              "    <tr style=\"text-align: right;\">\n",
              "      <th></th>\n",
              "      <th>name</th>\n",
              "      <th>platform</th>\n",
              "      <th>year_of_release</th>\n",
              "      <th>genre</th>\n",
              "      <th>na_sales</th>\n",
              "      <th>eu_sales</th>\n",
              "      <th>jp_sales</th>\n",
              "      <th>other_sales</th>\n",
              "      <th>critic_score</th>\n",
              "      <th>user_score</th>\n",
              "      <th>rating</th>\n",
              "      <th>total_sales</th>\n",
              "      <th>total_sales_range</th>\n",
              "    </tr>\n",
              "  </thead>\n",
              "  <tbody>\n",
              "    <tr>\n",
              "      <th>0</th>\n",
              "      <td>Diablo III</td>\n",
              "      <td>PC</td>\n",
              "      <td>2012</td>\n",
              "      <td>Role-Playing</td>\n",
              "      <td>2.44</td>\n",
              "      <td>2.16</td>\n",
              "      <td>0.0</td>\n",
              "      <td>0.54</td>\n",
              "      <td>88.0</td>\n",
              "      <td>4.0</td>\n",
              "      <td>M</td>\n",
              "      <td>5.14</td>\n",
              "      <td>(4.127, 8.254]</td>\n",
              "    </tr>\n",
              "    <tr>\n",
              "      <th>1</th>\n",
              "      <td>The Sims 4</td>\n",
              "      <td>PC</td>\n",
              "      <td>2014</td>\n",
              "      <td>Simulation</td>\n",
              "      <td>1.00</td>\n",
              "      <td>1.82</td>\n",
              "      <td>0.0</td>\n",
              "      <td>0.23</td>\n",
              "      <td>70.0</td>\n",
              "      <td>3.9</td>\n",
              "      <td>T</td>\n",
              "      <td>3.05</td>\n",
              "      <td>(-0.0825, 4.127]</td>\n",
              "    </tr>\n",
              "    <tr>\n",
              "      <th>2</th>\n",
              "      <td>Guild Wars 2</td>\n",
              "      <td>PC</td>\n",
              "      <td>2012</td>\n",
              "      <td>Action</td>\n",
              "      <td>0.96</td>\n",
              "      <td>1.07</td>\n",
              "      <td>0.0</td>\n",
              "      <td>0.27</td>\n",
              "      <td>90.0</td>\n",
              "      <td>7.9</td>\n",
              "      <td>T</td>\n",
              "      <td>2.30</td>\n",
              "      <td>(-0.0825, 4.127]</td>\n",
              "    </tr>\n",
              "    <tr>\n",
              "      <th>3</th>\n",
              "      <td>World of Warcraft: Mists of Pandaria</td>\n",
              "      <td>PC</td>\n",
              "      <td>2012</td>\n",
              "      <td>Role-Playing</td>\n",
              "      <td>0.84</td>\n",
              "      <td>0.76</td>\n",
              "      <td>0.0</td>\n",
              "      <td>0.22</td>\n",
              "      <td>82.0</td>\n",
              "      <td>4.8</td>\n",
              "      <td>T</td>\n",
              "      <td>1.82</td>\n",
              "      <td>(-0.0825, 4.127]</td>\n",
              "    </tr>\n",
              "    <tr>\n",
              "      <th>4</th>\n",
              "      <td>StarCraft II: Heart of the Swarm</td>\n",
              "      <td>PC</td>\n",
              "      <td>2013</td>\n",
              "      <td>Strategy</td>\n",
              "      <td>0.83</td>\n",
              "      <td>0.66</td>\n",
              "      <td>0.0</td>\n",
              "      <td>0.18</td>\n",
              "      <td>86.0</td>\n",
              "      <td>7.9</td>\n",
              "      <td>T</td>\n",
              "      <td>1.67</td>\n",
              "      <td>(-0.0825, 4.127]</td>\n",
              "    </tr>\n",
              "    <tr>\n",
              "      <th>5</th>\n",
              "      <td>Call of Duty: Black Ops II</td>\n",
              "      <td>PC</td>\n",
              "      <td>2012</td>\n",
              "      <td>Shooter</td>\n",
              "      <td>0.64</td>\n",
              "      <td>0.69</td>\n",
              "      <td>0.0</td>\n",
              "      <td>0.19</td>\n",
              "      <td>74.0</td>\n",
              "      <td>4.2</td>\n",
              "      <td>M</td>\n",
              "      <td>1.52</td>\n",
              "      <td>(-0.0825, 4.127]</td>\n",
              "    </tr>\n",
              "    <tr>\n",
              "      <th>6</th>\n",
              "      <td>SimCity (2013)</td>\n",
              "      <td>PC</td>\n",
              "      <td>2013</td>\n",
              "      <td>Simulation</td>\n",
              "      <td>0.48</td>\n",
              "      <td>0.77</td>\n",
              "      <td>0.0</td>\n",
              "      <td>0.17</td>\n",
              "      <td>64.0</td>\n",
              "      <td>2.2</td>\n",
              "      <td>E10+</td>\n",
              "      <td>1.42</td>\n",
              "      <td>(-0.0825, 4.127]</td>\n",
              "    </tr>\n",
              "    <tr>\n",
              "      <th>7</th>\n",
              "      <td>Battlefield 4</td>\n",
              "      <td>PC</td>\n",
              "      <td>2013</td>\n",
              "      <td>Shooter</td>\n",
              "      <td>0.39</td>\n",
              "      <td>0.87</td>\n",
              "      <td>0.0</td>\n",
              "      <td>0.10</td>\n",
              "      <td>81.0</td>\n",
              "      <td>6.0</td>\n",
              "      <td>M</td>\n",
              "      <td>1.36</td>\n",
              "      <td>(-0.0825, 4.127]</td>\n",
              "    </tr>\n",
              "    <tr>\n",
              "      <th>8</th>\n",
              "      <td>Fallout 4</td>\n",
              "      <td>PC</td>\n",
              "      <td>2015</td>\n",
              "      <td>Role-Playing</td>\n",
              "      <td>0.51</td>\n",
              "      <td>0.67</td>\n",
              "      <td>0.0</td>\n",
              "      <td>0.10</td>\n",
              "      <td>84.0</td>\n",
              "      <td>5.4</td>\n",
              "      <td>M</td>\n",
              "      <td>1.28</td>\n",
              "      <td>(-0.0825, 4.127]</td>\n",
              "    </tr>\n",
              "    <tr>\n",
              "      <th>9</th>\n",
              "      <td>Farming Simulator 2015</td>\n",
              "      <td>PC</td>\n",
              "      <td>2014</td>\n",
              "      <td>Simulation</td>\n",
              "      <td>0.08</td>\n",
              "      <td>1.04</td>\n",
              "      <td>0.0</td>\n",
              "      <td>0.07</td>\n",
              "      <td>-1.0</td>\n",
              "      <td>-1.0</td>\n",
              "      <td>Empty</td>\n",
              "      <td>1.19</td>\n",
              "      <td>(-0.0825, 4.127]</td>\n",
              "    </tr>\n",
              "    <tr>\n",
              "      <th>10</th>\n",
              "      <td>Grand Theft Auto V</td>\n",
              "      <td>PC</td>\n",
              "      <td>2015</td>\n",
              "      <td>Action</td>\n",
              "      <td>0.39</td>\n",
              "      <td>0.69</td>\n",
              "      <td>0.0</td>\n",
              "      <td>0.09</td>\n",
              "      <td>96.0</td>\n",
              "      <td>7.9</td>\n",
              "      <td>M</td>\n",
              "      <td>1.17</td>\n",
              "      <td>(-0.0825, 4.127]</td>\n",
              "    </tr>\n",
              "    <tr>\n",
              "      <th>11</th>\n",
              "      <td>Football Manager 2013</td>\n",
              "      <td>PC</td>\n",
              "      <td>2012</td>\n",
              "      <td>Sports</td>\n",
              "      <td>0.00</td>\n",
              "      <td>0.95</td>\n",
              "      <td>0.0</td>\n",
              "      <td>0.21</td>\n",
              "      <td>86.0</td>\n",
              "      <td>6.7</td>\n",
              "      <td>Empty</td>\n",
              "      <td>1.16</td>\n",
              "      <td>(-0.0825, 4.127]</td>\n",
              "    </tr>\n",
              "    <tr>\n",
              "      <th>12</th>\n",
              "      <td>Mass Effect 3</td>\n",
              "      <td>PC</td>\n",
              "      <td>2012</td>\n",
              "      <td>Role-Playing</td>\n",
              "      <td>0.40</td>\n",
              "      <td>0.44</td>\n",
              "      <td>0.0</td>\n",
              "      <td>0.12</td>\n",
              "      <td>89.0</td>\n",
              "      <td>5.5</td>\n",
              "      <td>M</td>\n",
              "      <td>0.96</td>\n",
              "      <td>(-0.0825, 4.127]</td>\n",
              "    </tr>\n",
              "    <tr>\n",
              "      <th>13</th>\n",
              "      <td>Farming Simulator 2013</td>\n",
              "      <td>PC</td>\n",
              "      <td>2012</td>\n",
              "      <td>Simulation</td>\n",
              "      <td>0.00</td>\n",
              "      <td>0.81</td>\n",
              "      <td>0.0</td>\n",
              "      <td>0.15</td>\n",
              "      <td>65.0</td>\n",
              "      <td>7.5</td>\n",
              "      <td>E</td>\n",
              "      <td>0.96</td>\n",
              "      <td>(-0.0825, 4.127]</td>\n",
              "    </tr>\n",
              "    <tr>\n",
              "      <th>14</th>\n",
              "      <td>Far Cry 3</td>\n",
              "      <td>PC</td>\n",
              "      <td>2012</td>\n",
              "      <td>Shooter</td>\n",
              "      <td>0.22</td>\n",
              "      <td>0.62</td>\n",
              "      <td>0.0</td>\n",
              "      <td>0.12</td>\n",
              "      <td>88.0</td>\n",
              "      <td>8.2</td>\n",
              "      <td>M</td>\n",
              "      <td>0.96</td>\n",
              "      <td>(-0.0825, 4.127]</td>\n",
              "    </tr>\n",
              "    <tr>\n",
              "      <th>15</th>\n",
              "      <td>Assassin's Creed III</td>\n",
              "      <td>PC</td>\n",
              "      <td>2012</td>\n",
              "      <td>Action</td>\n",
              "      <td>0.28</td>\n",
              "      <td>0.53</td>\n",
              "      <td>0.0</td>\n",
              "      <td>0.12</td>\n",
              "      <td>80.0</td>\n",
              "      <td>6.2</td>\n",
              "      <td>M</td>\n",
              "      <td>0.93</td>\n",
              "      <td>(-0.0825, 4.127]</td>\n",
              "    </tr>\n",
              "    <tr>\n",
              "      <th>16</th>\n",
              "      <td>Borderlands 2</td>\n",
              "      <td>PC</td>\n",
              "      <td>2012</td>\n",
              "      <td>Shooter</td>\n",
              "      <td>0.42</td>\n",
              "      <td>0.41</td>\n",
              "      <td>0.0</td>\n",
              "      <td>0.10</td>\n",
              "      <td>89.0</td>\n",
              "      <td>8.2</td>\n",
              "      <td>M</td>\n",
              "      <td>0.93</td>\n",
              "      <td>(-0.0825, 4.127]</td>\n",
              "    </tr>\n",
              "    <tr>\n",
              "      <th>17</th>\n",
              "      <td>The Elder Scrolls Online</td>\n",
              "      <td>PC</td>\n",
              "      <td>2014</td>\n",
              "      <td>Role-Playing</td>\n",
              "      <td>0.32</td>\n",
              "      <td>0.51</td>\n",
              "      <td>0.0</td>\n",
              "      <td>0.07</td>\n",
              "      <td>71.0</td>\n",
              "      <td>5.7</td>\n",
              "      <td>M</td>\n",
              "      <td>0.90</td>\n",
              "      <td>(-0.0825, 4.127]</td>\n",
              "    </tr>\n",
              "    <tr>\n",
              "      <th>18</th>\n",
              "      <td>Dragon Age: Inquisition</td>\n",
              "      <td>PC</td>\n",
              "      <td>2014</td>\n",
              "      <td>Role-Playing</td>\n",
              "      <td>0.33</td>\n",
              "      <td>0.34</td>\n",
              "      <td>0.0</td>\n",
              "      <td>0.06</td>\n",
              "      <td>85.0</td>\n",
              "      <td>5.9</td>\n",
              "      <td>M</td>\n",
              "      <td>0.73</td>\n",
              "      <td>(-0.0825, 4.127]</td>\n",
              "    </tr>\n",
              "    <tr>\n",
              "      <th>19</th>\n",
              "      <td>The Witcher 3: Wild Hunt</td>\n",
              "      <td>PC</td>\n",
              "      <td>2015</td>\n",
              "      <td>Role-Playing</td>\n",
              "      <td>0.21</td>\n",
              "      <td>0.46</td>\n",
              "      <td>0.0</td>\n",
              "      <td>0.05</td>\n",
              "      <td>93.0</td>\n",
              "      <td>9.3</td>\n",
              "      <td>M</td>\n",
              "      <td>0.72</td>\n",
              "      <td>(-0.0825, 4.127]</td>\n",
              "    </tr>\n",
              "    <tr>\n",
              "      <th>20</th>\n",
              "      <td>Total War: Rome II</td>\n",
              "      <td>PC</td>\n",
              "      <td>2013</td>\n",
              "      <td>Strategy</td>\n",
              "      <td>0.12</td>\n",
              "      <td>0.53</td>\n",
              "      <td>0.0</td>\n",
              "      <td>0.07</td>\n",
              "      <td>76.0</td>\n",
              "      <td>4.2</td>\n",
              "      <td>T</td>\n",
              "      <td>0.72</td>\n",
              "      <td>(-0.0825, 4.127]</td>\n",
              "    </tr>\n",
              "    <tr>\n",
              "      <th>21</th>\n",
              "      <td>XCOM: Enemy Unknown</td>\n",
              "      <td>PC</td>\n",
              "      <td>2012</td>\n",
              "      <td>Strategy</td>\n",
              "      <td>0.27</td>\n",
              "      <td>0.36</td>\n",
              "      <td>0.0</td>\n",
              "      <td>0.08</td>\n",
              "      <td>89.0</td>\n",
              "      <td>8.2</td>\n",
              "      <td>M</td>\n",
              "      <td>0.71</td>\n",
              "      <td>(-0.0825, 4.127]</td>\n",
              "    </tr>\n",
              "    <tr>\n",
              "      <th>22</th>\n",
              "      <td>Call of Duty: Ghosts</td>\n",
              "      <td>PC</td>\n",
              "      <td>2013</td>\n",
              "      <td>Shooter</td>\n",
              "      <td>0.23</td>\n",
              "      <td>0.41</td>\n",
              "      <td>0.0</td>\n",
              "      <td>0.05</td>\n",
              "      <td>-1.0</td>\n",
              "      <td>-1.0</td>\n",
              "      <td>Empty</td>\n",
              "      <td>0.69</td>\n",
              "      <td>(-0.0825, 4.127]</td>\n",
              "    </tr>\n",
              "    <tr>\n",
              "      <th>23</th>\n",
              "      <td>BioShock Infinite</td>\n",
              "      <td>PC</td>\n",
              "      <td>2013</td>\n",
              "      <td>Shooter</td>\n",
              "      <td>0.29</td>\n",
              "      <td>0.30</td>\n",
              "      <td>0.0</td>\n",
              "      <td>0.07</td>\n",
              "      <td>94.0</td>\n",
              "      <td>8.5</td>\n",
              "      <td>M</td>\n",
              "      <td>0.66</td>\n",
              "      <td>(-0.0825, 4.127]</td>\n",
              "    </tr>\n",
              "    <tr>\n",
              "      <th>24</th>\n",
              "      <td>Rocksmith 2014</td>\n",
              "      <td>PC</td>\n",
              "      <td>2013</td>\n",
              "      <td>Misc</td>\n",
              "      <td>0.36</td>\n",
              "      <td>0.24</td>\n",
              "      <td>0.0</td>\n",
              "      <td>0.06</td>\n",
              "      <td>-1.0</td>\n",
              "      <td>-1.0</td>\n",
              "      <td>Empty</td>\n",
              "      <td>0.66</td>\n",
              "      <td>(-0.0825, 4.127]</td>\n",
              "    </tr>\n",
              "    <tr>\n",
              "      <th>25</th>\n",
              "      <td>Farming Simulator 17</td>\n",
              "      <td>PC</td>\n",
              "      <td>2016</td>\n",
              "      <td>Simulation</td>\n",
              "      <td>0.03</td>\n",
              "      <td>0.58</td>\n",
              "      <td>0.0</td>\n",
              "      <td>0.04</td>\n",
              "      <td>64.0</td>\n",
              "      <td>8.0</td>\n",
              "      <td>E</td>\n",
              "      <td>0.65</td>\n",
              "      <td>(-0.0825, 4.127]</td>\n",
              "    </tr>\n",
              "    <tr>\n",
              "      <th>26</th>\n",
              "      <td>Assassin's Creed IV: Black Flag</td>\n",
              "      <td>PC</td>\n",
              "      <td>2013</td>\n",
              "      <td>Action</td>\n",
              "      <td>0.22</td>\n",
              "      <td>0.38</td>\n",
              "      <td>0.0</td>\n",
              "      <td>0.05</td>\n",
              "      <td>84.0</td>\n",
              "      <td>7.7</td>\n",
              "      <td>M</td>\n",
              "      <td>0.65</td>\n",
              "      <td>(-0.0825, 4.127]</td>\n",
              "    </tr>\n",
              "    <tr>\n",
              "      <th>27</th>\n",
              "      <td>Crysis 3</td>\n",
              "      <td>PC</td>\n",
              "      <td>2013</td>\n",
              "      <td>Shooter</td>\n",
              "      <td>0.17</td>\n",
              "      <td>0.39</td>\n",
              "      <td>0.0</td>\n",
              "      <td>0.07</td>\n",
              "      <td>76.0</td>\n",
              "      <td>6.5</td>\n",
              "      <td>M</td>\n",
              "      <td>0.63</td>\n",
              "      <td>(-0.0825, 4.127]</td>\n",
              "    </tr>\n",
              "    <tr>\n",
              "      <th>28</th>\n",
              "      <td>Football Manager 2014</td>\n",
              "      <td>PC</td>\n",
              "      <td>2013</td>\n",
              "      <td>Sports</td>\n",
              "      <td>0.00</td>\n",
              "      <td>0.60</td>\n",
              "      <td>0.0</td>\n",
              "      <td>0.03</td>\n",
              "      <td>85.0</td>\n",
              "      <td>5.5</td>\n",
              "      <td>E</td>\n",
              "      <td>0.63</td>\n",
              "      <td>(-0.0825, 4.127]</td>\n",
              "    </tr>\n",
              "    <tr>\n",
              "      <th>29</th>\n",
              "      <td>Far Cry 4</td>\n",
              "      <td>PC</td>\n",
              "      <td>2014</td>\n",
              "      <td>Shooter</td>\n",
              "      <td>0.15</td>\n",
              "      <td>0.44</td>\n",
              "      <td>0.0</td>\n",
              "      <td>0.04</td>\n",
              "      <td>80.0</td>\n",
              "      <td>6.7</td>\n",
              "      <td>M</td>\n",
              "      <td>0.63</td>\n",
              "      <td>(-0.0825, 4.127]</td>\n",
              "    </tr>\n",
              "    <tr>\n",
              "      <th>30</th>\n",
              "      <td>Titanfall</td>\n",
              "      <td>PC</td>\n",
              "      <td>2014</td>\n",
              "      <td>Shooter</td>\n",
              "      <td>0.22</td>\n",
              "      <td>0.30</td>\n",
              "      <td>0.0</td>\n",
              "      <td>0.04</td>\n",
              "      <td>86.0</td>\n",
              "      <td>6.2</td>\n",
              "      <td>M</td>\n",
              "      <td>0.56</td>\n",
              "      <td>(-0.0825, 4.127]</td>\n",
              "    </tr>\n",
              "  </tbody>\n",
              "</table>\n",
              "</div>"
            ],
            "text/plain": [
              "                                    name platform  year_of_release  \\\n",
              "0                             Diablo III       PC             2012   \n",
              "1                             The Sims 4       PC             2014   \n",
              "2                           Guild Wars 2       PC             2012   \n",
              "3   World of Warcraft: Mists of Pandaria       PC             2012   \n",
              "4       StarCraft II: Heart of the Swarm       PC             2013   \n",
              "5             Call of Duty: Black Ops II       PC             2012   \n",
              "6                         SimCity (2013)       PC             2013   \n",
              "7                          Battlefield 4       PC             2013   \n",
              "8                              Fallout 4       PC             2015   \n",
              "9                 Farming Simulator 2015       PC             2014   \n",
              "10                    Grand Theft Auto V       PC             2015   \n",
              "11                 Football Manager 2013       PC             2012   \n",
              "12                         Mass Effect 3       PC             2012   \n",
              "13                Farming Simulator 2013       PC             2012   \n",
              "14                             Far Cry 3       PC             2012   \n",
              "15                  Assassin's Creed III       PC             2012   \n",
              "16                         Borderlands 2       PC             2012   \n",
              "17              The Elder Scrolls Online       PC             2014   \n",
              "18               Dragon Age: Inquisition       PC             2014   \n",
              "19              The Witcher 3: Wild Hunt       PC             2015   \n",
              "20                    Total War: Rome II       PC             2013   \n",
              "21                   XCOM: Enemy Unknown       PC             2012   \n",
              "22                  Call of Duty: Ghosts       PC             2013   \n",
              "23                     BioShock Infinite       PC             2013   \n",
              "24                        Rocksmith 2014       PC             2013   \n",
              "25                  Farming Simulator 17       PC             2016   \n",
              "26       Assassin's Creed IV: Black Flag       PC             2013   \n",
              "27                              Crysis 3       PC             2013   \n",
              "28                 Football Manager 2014       PC             2013   \n",
              "29                             Far Cry 4       PC             2014   \n",
              "30                             Titanfall       PC             2014   \n",
              "\n",
              "           genre  na_sales  eu_sales  jp_sales  other_sales  critic_score  \\\n",
              "0   Role-Playing      2.44      2.16       0.0         0.54          88.0   \n",
              "1     Simulation      1.00      1.82       0.0         0.23          70.0   \n",
              "2         Action      0.96      1.07       0.0         0.27          90.0   \n",
              "3   Role-Playing      0.84      0.76       0.0         0.22          82.0   \n",
              "4       Strategy      0.83      0.66       0.0         0.18          86.0   \n",
              "5        Shooter      0.64      0.69       0.0         0.19          74.0   \n",
              "6     Simulation      0.48      0.77       0.0         0.17          64.0   \n",
              "7        Shooter      0.39      0.87       0.0         0.10          81.0   \n",
              "8   Role-Playing      0.51      0.67       0.0         0.10          84.0   \n",
              "9     Simulation      0.08      1.04       0.0         0.07          -1.0   \n",
              "10        Action      0.39      0.69       0.0         0.09          96.0   \n",
              "11        Sports      0.00      0.95       0.0         0.21          86.0   \n",
              "12  Role-Playing      0.40      0.44       0.0         0.12          89.0   \n",
              "13    Simulation      0.00      0.81       0.0         0.15          65.0   \n",
              "14       Shooter      0.22      0.62       0.0         0.12          88.0   \n",
              "15        Action      0.28      0.53       0.0         0.12          80.0   \n",
              "16       Shooter      0.42      0.41       0.0         0.10          89.0   \n",
              "17  Role-Playing      0.32      0.51       0.0         0.07          71.0   \n",
              "18  Role-Playing      0.33      0.34       0.0         0.06          85.0   \n",
              "19  Role-Playing      0.21      0.46       0.0         0.05          93.0   \n",
              "20      Strategy      0.12      0.53       0.0         0.07          76.0   \n",
              "21      Strategy      0.27      0.36       0.0         0.08          89.0   \n",
              "22       Shooter      0.23      0.41       0.0         0.05          -1.0   \n",
              "23       Shooter      0.29      0.30       0.0         0.07          94.0   \n",
              "24          Misc      0.36      0.24       0.0         0.06          -1.0   \n",
              "25    Simulation      0.03      0.58       0.0         0.04          64.0   \n",
              "26        Action      0.22      0.38       0.0         0.05          84.0   \n",
              "27       Shooter      0.17      0.39       0.0         0.07          76.0   \n",
              "28        Sports      0.00      0.60       0.0         0.03          85.0   \n",
              "29       Shooter      0.15      0.44       0.0         0.04          80.0   \n",
              "30       Shooter      0.22      0.30       0.0         0.04          86.0   \n",
              "\n",
              "    user_score rating  total_sales total_sales_range  \n",
              "0          4.0      M         5.14    (4.127, 8.254]  \n",
              "1          3.9      T         3.05  (-0.0825, 4.127]  \n",
              "2          7.9      T         2.30  (-0.0825, 4.127]  \n",
              "3          4.8      T         1.82  (-0.0825, 4.127]  \n",
              "4          7.9      T         1.67  (-0.0825, 4.127]  \n",
              "5          4.2      M         1.52  (-0.0825, 4.127]  \n",
              "6          2.2   E10+         1.42  (-0.0825, 4.127]  \n",
              "7          6.0      M         1.36  (-0.0825, 4.127]  \n",
              "8          5.4      M         1.28  (-0.0825, 4.127]  \n",
              "9         -1.0  Empty         1.19  (-0.0825, 4.127]  \n",
              "10         7.9      M         1.17  (-0.0825, 4.127]  \n",
              "11         6.7  Empty         1.16  (-0.0825, 4.127]  \n",
              "12         5.5      M         0.96  (-0.0825, 4.127]  \n",
              "13         7.5      E         0.96  (-0.0825, 4.127]  \n",
              "14         8.2      M         0.96  (-0.0825, 4.127]  \n",
              "15         6.2      M         0.93  (-0.0825, 4.127]  \n",
              "16         8.2      M         0.93  (-0.0825, 4.127]  \n",
              "17         5.7      M         0.90  (-0.0825, 4.127]  \n",
              "18         5.9      M         0.73  (-0.0825, 4.127]  \n",
              "19         9.3      M         0.72  (-0.0825, 4.127]  \n",
              "20         4.2      T         0.72  (-0.0825, 4.127]  \n",
              "21         8.2      M         0.71  (-0.0825, 4.127]  \n",
              "22        -1.0  Empty         0.69  (-0.0825, 4.127]  \n",
              "23         8.5      M         0.66  (-0.0825, 4.127]  \n",
              "24        -1.0  Empty         0.66  (-0.0825, 4.127]  \n",
              "25         8.0      E         0.65  (-0.0825, 4.127]  \n",
              "26         7.7      M         0.65  (-0.0825, 4.127]  \n",
              "27         6.5      M         0.63  (-0.0825, 4.127]  \n",
              "28         5.5      E         0.63  (-0.0825, 4.127]  \n",
              "29         6.7      M         0.63  (-0.0825, 4.127]  \n",
              "30         6.2      M         0.56  (-0.0825, 4.127]  "
            ]
          },
          "execution_count": 48,
          "metadata": {},
          "output_type": "execute_result"
        }
      ],
      "source": [
        "top_pc_games = games_above_boxplot(df_filtered_pc)\n",
        "top_pc_games"
      ]
    },
    {
      "cell_type": "markdown",
      "metadata": {
        "id": "oObfAgcOU-uI"
      },
      "source": [
        "**Во всех трех датафреймах мелькают похожие названия игр, попавших в выбросы для каждой из трех платформ. Посмотрим фактическую долю вхождения выбросов одной платформы в другие.**"
      ]
    },
    {
      "cell_type": "code",
      "execution_count": null,
      "metadata": {
        "id": "IZOMiMe_U-uI",
        "outputId": "d44919ef-0c50-4a79-fcbf-c942455c2906"
      },
      "outputs": [
        {
          "data": {
            "text/plain": [
              "0.7777777777777778"
            ]
          },
          "execution_count": 49,
          "metadata": {},
          "output_type": "execute_result"
        }
      ],
      "source": [
        "def share_1_in_2(x,name_x,y, name_y): # функция, определяющая долю вхождения значений первого датафрейма  во второй\n",
        "    return (len(y.merge(\n",
        "        x,\n",
        "        how = 'inner' ,\n",
        "        left_on = name_y,\n",
        "        right_on = name_x))\n",
        "    / len(x))\n",
        "\n",
        "share_1_in_2(top_xone_games, 'name', top_ps4_games, 'name')"
      ]
    },
    {
      "cell_type": "markdown",
      "metadata": {
        "id": "cgnpBKkGU-uI"
      },
      "source": [
        "**Почти 78% топовых с точки зрения продаж игр для Xbox One входят в список топовых по продажам для PS4.**l"
      ]
    },
    {
      "cell_type": "code",
      "execution_count": null,
      "metadata": {
        "id": "2lR26DpEU-uJ",
        "outputId": "9dfd8da2-7684-48b1-9959-1267f1e6392b"
      },
      "outputs": [
        {
          "data": {
            "text/plain": [
              "0.3225806451612903"
            ]
          },
          "execution_count": 50,
          "metadata": {},
          "output_type": "execute_result"
        }
      ],
      "source": [
        "share_1_in_2(top_pc_games, 'name', top_ps4_games, 'name')"
      ]
    },
    {
      "cell_type": "markdown",
      "metadata": {
        "id": "XK1524ZdU-uJ"
      },
      "source": [
        "**Почти 32% топовых с точки зрения продаж игр для PC входят в список топовых по продажам для PS4.**"
      ]
    },
    {
      "cell_type": "code",
      "execution_count": null,
      "metadata": {
        "id": "7CNr9UdWU-uJ",
        "outputId": "ceac5356-3d1c-42c5-e128-508d6fcb0b48"
      },
      "outputs": [
        {
          "data": {
            "text/plain": [
              "0.22580645161290322"
            ]
          },
          "execution_count": 51,
          "metadata": {},
          "output_type": "execute_result"
        }
      ],
      "source": [
        "share_1_in_2(top_pc_games, 'name', top_xone_games, 'name')"
      ]
    },
    {
      "cell_type": "markdown",
      "metadata": {
        "id": "4R0C0406U-uJ"
      },
      "source": [
        "**Почти 22% топовых с точки зрения продаж игр для PC входят в список топовых по продажам для Xbox One.**"
      ]
    },
    {
      "cell_type": "markdown",
      "metadata": {
        "id": "xlLpSEzCU-uJ"
      },
      "source": [
        "**Посмотрим, как влияют на продажи внутри PS4 отзывы пользователей и критиков. Построим диаграмму рассеяния и посчитаем корреляцию между отзывами и продажами.**"
      ]
    },
    {
      "cell_type": "code",
      "execution_count": null,
      "metadata": {
        "id": "vOWzY7uyU-uJ",
        "outputId": "fb3aecac-c06b-4105-b75e-451c0f7173c2"
      },
      "outputs": [
        {
          "data": {
            "text/html": [
              "<div>\n",
              "<style scoped>\n",
              "    .dataframe tbody tr th:only-of-type {\n",
              "        vertical-align: middle;\n",
              "    }\n",
              "\n",
              "    .dataframe tbody tr th {\n",
              "        vertical-align: top;\n",
              "    }\n",
              "\n",
              "    .dataframe thead th {\n",
              "        text-align: right;\n",
              "    }\n",
              "</style>\n",
              "<table border=\"1\" class=\"dataframe\">\n",
              "  <thead>\n",
              "    <tr style=\"text-align: right;\">\n",
              "      <th></th>\n",
              "      <th>critic_score</th>\n",
              "      <th>total_sales</th>\n",
              "    </tr>\n",
              "  </thead>\n",
              "  <tbody>\n",
              "    <tr>\n",
              "      <th>critic_score</th>\n",
              "      <td>1.000000</td>\n",
              "      <td>0.406568</td>\n",
              "    </tr>\n",
              "    <tr>\n",
              "      <th>total_sales</th>\n",
              "      <td>0.406568</td>\n",
              "      <td>1.000000</td>\n",
              "    </tr>\n",
              "  </tbody>\n",
              "</table>\n",
              "</div>"
            ],
            "text/plain": [
              "              critic_score  total_sales\n",
              "critic_score      1.000000     0.406568\n",
              "total_sales       0.406568     1.000000"
            ]
          },
          "execution_count": 52,
          "metadata": {},
          "output_type": "execute_result"
        }
      ],
      "source": [
        "df_filtered_ps4[df_filtered_ps4['critic_score'] >= 0][['critic_score','total_sales']].corr()"
      ]
    },
    {
      "cell_type": "markdown",
      "metadata": {
        "id": "LLupBYo2U-uJ"
      },
      "source": [
        "**Корреляция между отзывами критиков и продажами есть, она положительная, но не сильно линейная.**"
      ]
    },
    {
      "cell_type": "code",
      "execution_count": null,
      "metadata": {
        "id": "kQ5jNYtGU-uJ",
        "outputId": "89709ffb-c18c-4561-de34-21f7ec926317"
      },
      "outputs": [
        {
          "data": {
            "text/html": [
              "<div>\n",
              "<style scoped>\n",
              "    .dataframe tbody tr th:only-of-type {\n",
              "        vertical-align: middle;\n",
              "    }\n",
              "\n",
              "    .dataframe tbody tr th {\n",
              "        vertical-align: top;\n",
              "    }\n",
              "\n",
              "    .dataframe thead th {\n",
              "        text-align: right;\n",
              "    }\n",
              "</style>\n",
              "<table border=\"1\" class=\"dataframe\">\n",
              "  <thead>\n",
              "    <tr style=\"text-align: right;\">\n",
              "      <th></th>\n",
              "      <th>user_score</th>\n",
              "      <th>total_sales</th>\n",
              "    </tr>\n",
              "  </thead>\n",
              "  <tbody>\n",
              "    <tr>\n",
              "      <th>user_score</th>\n",
              "      <td>1.000000</td>\n",
              "      <td>-0.031957</td>\n",
              "    </tr>\n",
              "    <tr>\n",
              "      <th>total_sales</th>\n",
              "      <td>-0.031957</td>\n",
              "      <td>1.000000</td>\n",
              "    </tr>\n",
              "  </tbody>\n",
              "</table>\n",
              "</div>"
            ],
            "text/plain": [
              "             user_score  total_sales\n",
              "user_score     1.000000    -0.031957\n",
              "total_sales   -0.031957     1.000000"
            ]
          },
          "execution_count": 53,
          "metadata": {},
          "output_type": "execute_result"
        }
      ],
      "source": [
        "df_filtered_ps4[df_filtered_ps4['user_score'] >= 0][['user_score','total_sales']].corr()"
      ]
    },
    {
      "cell_type": "markdown",
      "metadata": {
        "id": "h0eajWoRU-uJ"
      },
      "source": [
        "**Корреляция между отзывами пользователей и продажами практически отсутствует.**\n",
        "\n",
        "**Построим теперь диаграммы рассеяния.**"
      ]
    },
    {
      "cell_type": "code",
      "execution_count": null,
      "metadata": {
        "id": "kbovIoQzU-uJ",
        "outputId": "1c059449-d63f-4d14-ddee-88d84ab55945"
      },
      "outputs": [
        {
          "data": {
            "image/png": "[encoded data removed]",
            "text/plain": [
              "<Figure size 432x288 with 1 Axes>"
            ]
          },
          "metadata": {
            "needs_background": "light"
          },
          "output_type": "display_data"
        }
      ],
      "source": [
        "(df_filtered_ps4[df_filtered_ps4['critic_score'] >= 0]\n",
        " .plot(\n",
        "     x='critic_score',\n",
        "     y='total_sales',\n",
        "     kind='scatter',\n",
        "     alpha=1, grid=True));"
      ]
    },
    {
      "cell_type": "code",
      "execution_count": null,
      "metadata": {
        "id": "41QUmeaLU-uJ",
        "outputId": "5d756311-4611-4257-d22b-0a01ef19d5a2"
      },
      "outputs": [
        {
          "data": {
            "image/png": "[encoded data removed]",
            "text/plain": [
              "<Figure size 432x288 with 1 Axes>"
            ]
          },
          "metadata": {
            "needs_background": "light"
          },
          "output_type": "display_data"
        }
      ],
      "source": [
        "(df_filtered_ps4[df_filtered_ps4['user_score'] >= 0]\n",
        " .plot(\n",
        "     x='user_score',\n",
        "     y='total_sales',\n",
        "     kind='scatter',\n",
        "     alpha=1, grid=True));"
      ]
    },
    {
      "cell_type": "markdown",
      "metadata": {
        "id": "fbiwuLlhU-uK"
      },
      "source": [
        "**Построенные диаграммы подтверждают выводы, сделанные по корреляции.**"
      ]
    },
    {
      "cell_type": "markdown",
      "metadata": {
        "id": "MykIel8WU-uK"
      },
      "source": [
        "**Посмотрим теперь на аналогичные корреляции для платформы Xbox One.**"
      ]
    },
    {
      "cell_type": "code",
      "execution_count": null,
      "metadata": {
        "id": "T2bOGvN4U-uK",
        "outputId": "bfd36013-c324-421d-f42c-733d2832b58f"
      },
      "outputs": [
        {
          "data": {
            "text/html": [
              "<div>\n",
              "<style scoped>\n",
              "    .dataframe tbody tr th:only-of-type {\n",
              "        vertical-align: middle;\n",
              "    }\n",
              "\n",
              "    .dataframe tbody tr th {\n",
              "        vertical-align: top;\n",
              "    }\n",
              "\n",
              "    .dataframe thead th {\n",
              "        text-align: right;\n",
              "    }\n",
              "</style>\n",
              "<table border=\"1\" class=\"dataframe\">\n",
              "  <thead>\n",
              "    <tr style=\"text-align: right;\">\n",
              "      <th></th>\n",
              "      <th>critic_score</th>\n",
              "      <th>total_sales</th>\n",
              "    </tr>\n",
              "  </thead>\n",
              "  <tbody>\n",
              "    <tr>\n",
              "      <th>critic_score</th>\n",
              "      <td>1.000000</td>\n",
              "      <td>0.416998</td>\n",
              "    </tr>\n",
              "    <tr>\n",
              "      <th>total_sales</th>\n",
              "      <td>0.416998</td>\n",
              "      <td>1.000000</td>\n",
              "    </tr>\n",
              "  </tbody>\n",
              "</table>\n",
              "</div>"
            ],
            "text/plain": [
              "              critic_score  total_sales\n",
              "critic_score      1.000000     0.416998\n",
              "total_sales       0.416998     1.000000"
            ]
          },
          "execution_count": 56,
          "metadata": {},
          "output_type": "execute_result"
        }
      ],
      "source": [
        "df_filtered_xone[df_filtered_xone['critic_score'] >= 0][['critic_score','total_sales']].corr()"
      ]
    },
    {
      "cell_type": "code",
      "execution_count": null,
      "metadata": {
        "id": "dsusPXkHU-uK",
        "outputId": "7a238568-cb9c-464e-f7f6-f5ec739df6cf"
      },
      "outputs": [
        {
          "data": {
            "text/html": [
              "<div>\n",
              "<style scoped>\n",
              "    .dataframe tbody tr th:only-of-type {\n",
              "        vertical-align: middle;\n",
              "    }\n",
              "\n",
              "    .dataframe tbody tr th {\n",
              "        vertical-align: top;\n",
              "    }\n",
              "\n",
              "    .dataframe thead th {\n",
              "        text-align: right;\n",
              "    }\n",
              "</style>\n",
              "<table border=\"1\" class=\"dataframe\">\n",
              "  <thead>\n",
              "    <tr style=\"text-align: right;\">\n",
              "      <th></th>\n",
              "      <th>critic_score</th>\n",
              "      <th>total_sales</th>\n",
              "    </tr>\n",
              "  </thead>\n",
              "  <tbody>\n",
              "    <tr>\n",
              "      <th>critic_score</th>\n",
              "      <td>1.000000</td>\n",
              "      <td>0.333579</td>\n",
              "    </tr>\n",
              "    <tr>\n",
              "      <th>total_sales</th>\n",
              "      <td>0.333579</td>\n",
              "      <td>1.000000</td>\n",
              "    </tr>\n",
              "  </tbody>\n",
              "</table>\n",
              "</div>"
            ],
            "text/plain": [
              "              critic_score  total_sales\n",
              "critic_score      1.000000     0.333579\n",
              "total_sales       0.333579     1.000000"
            ]
          },
          "execution_count": 57,
          "metadata": {},
          "output_type": "execute_result"
        }
      ],
      "source": [
        "df_filtered_xone[df_filtered_xone['user_score'] >= 0][['critic_score','total_sales']].corr()"
      ]
    },
    {
      "cell_type": "markdown",
      "metadata": {
        "id": "mdT7Hf8NU-uK"
      },
      "source": [
        "**Видим, что в случае платформы Xbox One в отличие от PS4 есть небольшая, но положительная корреляция между отзывами пользователей и продажами игры. Что касается корреляции отзывов критиков и продаж - она аналогичная платформе PS4.**"
      ]
    },
    {
      "cell_type": "markdown",
      "metadata": {
        "id": "RLcuey_JU-uK"
      },
      "source": [
        "**Посмотрим теперь аналогичные зависимости для платформы PC.**"
      ]
    },
    {
      "cell_type": "code",
      "execution_count": null,
      "metadata": {
        "id": "FWyXnmulU-uK",
        "outputId": "d3f422c3-8f59-4351-d22e-5aa66a836058"
      },
      "outputs": [
        {
          "data": {
            "text/html": [
              "<div>\n",
              "<style scoped>\n",
              "    .dataframe tbody tr th:only-of-type {\n",
              "        vertical-align: middle;\n",
              "    }\n",
              "\n",
              "    .dataframe tbody tr th {\n",
              "        vertical-align: top;\n",
              "    }\n",
              "\n",
              "    .dataframe thead th {\n",
              "        text-align: right;\n",
              "    }\n",
              "</style>\n",
              "<table border=\"1\" class=\"dataframe\">\n",
              "  <thead>\n",
              "    <tr style=\"text-align: right;\">\n",
              "      <th></th>\n",
              "      <th>critic_score</th>\n",
              "      <th>total_sales</th>\n",
              "    </tr>\n",
              "  </thead>\n",
              "  <tbody>\n",
              "    <tr>\n",
              "      <th>critic_score</th>\n",
              "      <td>1.000000</td>\n",
              "      <td>0.237243</td>\n",
              "    </tr>\n",
              "    <tr>\n",
              "      <th>total_sales</th>\n",
              "      <td>0.237243</td>\n",
              "      <td>1.000000</td>\n",
              "    </tr>\n",
              "  </tbody>\n",
              "</table>\n",
              "</div>"
            ],
            "text/plain": [
              "              critic_score  total_sales\n",
              "critic_score      1.000000     0.237243\n",
              "total_sales       0.237243     1.000000"
            ]
          },
          "execution_count": 58,
          "metadata": {},
          "output_type": "execute_result"
        }
      ],
      "source": [
        "df_filtered_pc[df_filtered_pc['critic_score'] >= 0][['critic_score','total_sales']].corr()"
      ]
    },
    {
      "cell_type": "code",
      "execution_count": null,
      "metadata": {
        "id": "zCSiVScZU-uK",
        "outputId": "0a39e447-d73e-4a79-e73a-e83d31318ab8"
      },
      "outputs": [
        {
          "data": {
            "text/html": [
              "<div>\n",
              "<style scoped>\n",
              "    .dataframe tbody tr th:only-of-type {\n",
              "        vertical-align: middle;\n",
              "    }\n",
              "\n",
              "    .dataframe tbody tr th {\n",
              "        vertical-align: top;\n",
              "    }\n",
              "\n",
              "    .dataframe thead th {\n",
              "        text-align: right;\n",
              "    }\n",
              "</style>\n",
              "<table border=\"1\" class=\"dataframe\">\n",
              "  <thead>\n",
              "    <tr style=\"text-align: right;\">\n",
              "      <th></th>\n",
              "      <th>user_score</th>\n",
              "      <th>total_sales</th>\n",
              "    </tr>\n",
              "  </thead>\n",
              "  <tbody>\n",
              "    <tr>\n",
              "      <th>user_score</th>\n",
              "      <td>1.000000</td>\n",
              "      <td>-0.121867</td>\n",
              "    </tr>\n",
              "    <tr>\n",
              "      <th>total_sales</th>\n",
              "      <td>-0.121867</td>\n",
              "      <td>1.000000</td>\n",
              "    </tr>\n",
              "  </tbody>\n",
              "</table>\n",
              "</div>"
            ],
            "text/plain": [
              "             user_score  total_sales\n",
              "user_score     1.000000    -0.121867\n",
              "total_sales   -0.121867     1.000000"
            ]
          },
          "execution_count": 59,
          "metadata": {},
          "output_type": "execute_result"
        }
      ],
      "source": [
        "df_filtered_pc[df_filtered_pc['user_score'] >= 0][['user_score','total_sales']].corr()"
      ]
    },
    {
      "cell_type": "markdown",
      "metadata": {
        "id": "BN_MBEeRU-uK"
      },
      "source": [
        "**В случае платформы PC ситуация повторяется аналогичная PS4, но в данном случае отзывы критиков еще меньше положительно коррелируют в продажами игр.**"
      ]
    },
    {
      "cell_type": "markdown",
      "metadata": {
        "id": "fV7eU080U-uK"
      },
      "source": [
        "**Посмотрим теперь на общее распределение игр по жанрам. Оценим связь продаж с жанрами.\n",
        "Что можно сказать о самых прибыльных жанрах? Выделяются ли жанры с высокими и низкими продажами?**"
      ]
    },
    {
      "cell_type": "code",
      "execution_count": null,
      "metadata": {
        "id": "1s4J0ajZU-uK",
        "outputId": "8d023df0-86a0-45cd-e3ad-45975c2d9acc"
      },
      "outputs": [
        {
          "data": {
            "text/plain": [
              "genre\n",
              "Action          441.12\n",
              "Shooter         304.73\n",
              "Role-Playing    192.80\n",
              "Sports          181.06\n",
              "Misc             85.04\n",
              "Platform         61.00\n",
              "Racing           53.50\n",
              "Fighting         44.49\n",
              "Simulation       35.12\n",
              "Adventure        29.43\n",
              "Strategy         13.34\n",
              "Puzzle            4.89\n",
              "Name: total_sales, dtype: float64"
            ]
          },
          "execution_count": 60,
          "metadata": {},
          "output_type": "execute_result"
        }
      ],
      "source": [
        "df_filtered.groupby('genre').sum().sort_values(by='total_sales', ascending=False)['total_sales']"
      ]
    },
    {
      "cell_type": "markdown",
      "metadata": {
        "id": "MscuoN0DU-uK"
      },
      "source": [
        "**Это распределение по жанрам с точки зрения суммарных продаж.**\n",
        "\n",
        "**Посмотрим теперь, как соотносится медиана продаж по жанрам.**"
      ]
    },
    {
      "cell_type": "code",
      "execution_count": null,
      "metadata": {
        "id": "H9z_1VeLU-uK",
        "outputId": "4403c72e-6164-401f-d95f-afaef49d4edc"
      },
      "outputs": [
        {
          "data": {
            "text/plain": [
              "genre\n",
              "Shooter         0.440\n",
              "Sports          0.240\n",
              "Platform        0.210\n",
              "Role-Playing    0.140\n",
              "Racing          0.140\n",
              "Fighting        0.130\n",
              "Action          0.120\n",
              "Misc            0.120\n",
              "Simulation      0.120\n",
              "Strategy        0.080\n",
              "Puzzle          0.045\n",
              "Adventure       0.030\n",
              "Name: total_sales, dtype: float64"
            ]
          },
          "execution_count": 61,
          "metadata": {},
          "output_type": "execute_result"
        }
      ],
      "source": [
        "df_filtered.groupby('genre').median().sort_values(by='total_sales', ascending=False)['total_sales']"
      ]
    },
    {
      "cell_type": "markdown",
      "metadata": {
        "id": "WbSzM3BSU-uK"
      },
      "source": [
        "**Отсюда можно сделать следующие выводы:**\n",
        "\n",
        "**Самые прибыльные жанры: `'Action'`, `'Shooter'`, `'Sports'`.**\n",
        "\n",
        "**Самые неприбыльные жанры: `'Puzzle'`, `'Adventure'`.**"
      ]
    },
    {
      "cell_type": "markdown",
      "metadata": {
        "id": "gVPwISxrU-uL"
      },
      "source": [
        "### Выводы раздела."
      ]
    },
    {
      "cell_type": "markdown",
      "metadata": {
        "id": "JOY8YznEU-uL"
      },
      "source": [
        "**В настоящий момент наблюдается спад с 2012 года в выпуске кол-ва новых игр.**\n",
        "\n",
        "**Средний жизненный цикл одной платформы составляет 9 лет.**\n",
        "\n",
        "**При этом обычно эти 9 лет жизни выглядят так: 5 лет линейного роста выпуска игр под платформу, после чего идет линейный спад выпуска кол-ва игр под платформу.**\n",
        "\n",
        "**Для планирования закупки потенциально прибыльных игр на 2017 год есть смысл рассматривать данные начиная с 2012 года.**\n",
        "\n",
        "**Наиболее потенциально прибыльные платформы: `'PS4'`, `'XOne'`, `'PC'`.**\n",
        "\n",
        "**Отзывы пользователей почти не коррелируют с продажами, а вот отзывы критиков имеют небольшую положительную корреляцию.**\n",
        "\n",
        "**Самые прибыльные жанры: `'Action'`, `'Shooter'`, `'Sports'`.**\n",
        "\n",
        "**Самые неприбыльные жанры: `'Puzzle'`, `'Adventure'`.**"
      ]
    },
    {
      "cell_type": "markdown",
      "metadata": {
        "id": "9AJvYAy2U-uL"
      },
      "source": [
        "## Портрет пользователя каждого региона."
      ]
    },
    {
      "cell_type": "markdown",
      "metadata": {
        "id": "EaJCsBAfU-uL"
      },
      "source": [
        "###  Анализ портретов пользователия каждого региона."
      ]
    },
    {
      "cell_type": "markdown",
      "metadata": {
        "id": "uXRFFLvPU-uL"
      },
      "source": [
        "**Определим для пользователя каждого региона (NA, EU, JP) следующее:**\n",
        "- Самые популярные платформы (топ-5).\n",
        "- Самые популярные жанры (топ-5).\n",
        "- Влияет ли рейтинг ESRB на продажи в отдельном регионе?\n",
        "\n",
        "**Начнем с определения самых популярных платформ (топ-5) для каждого региона. Предварительно создадим дополнительные столбцы в отфильтрованном датафрейме, которые будут указывать долю продаж данной игры от общего числа проданных экземпляров для каждого региона.**"
      ]
    },
    {
      "cell_type": "code",
      "execution_count": null,
      "metadata": {
        "id": "YpFrVEq9U-uL",
        "outputId": "c81f84ef-4d5c-4aa3-c10b-b9f66d821bf4"
      },
      "outputs": [
        {
          "data": {
            "text/html": [
              "<div>\n",
              "<style scoped>\n",
              "    .dataframe tbody tr th:only-of-type {\n",
              "        vertical-align: middle;\n",
              "    }\n",
              "\n",
              "    .dataframe tbody tr th {\n",
              "        vertical-align: top;\n",
              "    }\n",
              "\n",
              "    .dataframe thead th {\n",
              "        text-align: right;\n",
              "    }\n",
              "</style>\n",
              "<table border=\"1\" class=\"dataframe\">\n",
              "  <thead>\n",
              "    <tr style=\"text-align: right;\">\n",
              "      <th></th>\n",
              "      <th>name</th>\n",
              "      <th>platform</th>\n",
              "      <th>year_of_release</th>\n",
              "      <th>genre</th>\n",
              "      <th>na_sales</th>\n",
              "      <th>eu_sales</th>\n",
              "      <th>jp_sales</th>\n",
              "      <th>other_sales</th>\n",
              "      <th>critic_score</th>\n",
              "      <th>user_score</th>\n",
              "      <th>rating</th>\n",
              "      <th>total_sales</th>\n",
              "      <th>total_sales_range</th>\n",
              "      <th>share_na_sales</th>\n",
              "      <th>share_eu_sales</th>\n",
              "      <th>share_jp_sales</th>\n",
              "    </tr>\n",
              "  </thead>\n",
              "  <tbody>\n",
              "    <tr>\n",
              "      <th>16</th>\n",
              "      <td>Grand Theft Auto V</td>\n",
              "      <td>PS3</td>\n",
              "      <td>2013</td>\n",
              "      <td>Action</td>\n",
              "      <td>7.02</td>\n",
              "      <td>9.09</td>\n",
              "      <td>0.98</td>\n",
              "      <td>3.96</td>\n",
              "      <td>97.0</td>\n",
              "      <td>8.2</td>\n",
              "      <td>M</td>\n",
              "      <td>21.05</td>\n",
              "      <td>(20.635, 24.762]</td>\n",
              "      <td>0.011879</td>\n",
              "      <td>0.017936</td>\n",
              "      <td>0.005089</td>\n",
              "    </tr>\n",
              "    <tr>\n",
              "      <th>23</th>\n",
              "      <td>Grand Theft Auto V</td>\n",
              "      <td>X360</td>\n",
              "      <td>2013</td>\n",
              "      <td>Action</td>\n",
              "      <td>9.66</td>\n",
              "      <td>5.14</td>\n",
              "      <td>0.06</td>\n",
              "      <td>1.41</td>\n",
              "      <td>97.0</td>\n",
              "      <td>8.1</td>\n",
              "      <td>M</td>\n",
              "      <td>16.27</td>\n",
              "      <td>(12.381, 16.508]</td>\n",
              "      <td>0.016346</td>\n",
              "      <td>0.010142</td>\n",
              "      <td>0.000312</td>\n",
              "    </tr>\n",
              "    <tr>\n",
              "      <th>31</th>\n",
              "      <td>Call of Duty: Black Ops 3</td>\n",
              "      <td>PS4</td>\n",
              "      <td>2015</td>\n",
              "      <td>Shooter</td>\n",
              "      <td>6.03</td>\n",
              "      <td>5.86</td>\n",
              "      <td>0.36</td>\n",
              "      <td>2.38</td>\n",
              "      <td>-1.0</td>\n",
              "      <td>-1.0</td>\n",
              "      <td>Empty</td>\n",
              "      <td>14.63</td>\n",
              "      <td>(12.381, 16.508]</td>\n",
              "      <td>0.010204</td>\n",
              "      <td>0.011563</td>\n",
              "      <td>0.001869</td>\n",
              "    </tr>\n",
              "    <tr>\n",
              "      <th>33</th>\n",
              "      <td>Pokemon X/Pokemon Y</td>\n",
              "      <td>3DS</td>\n",
              "      <td>2013</td>\n",
              "      <td>Role-Playing</td>\n",
              "      <td>5.28</td>\n",
              "      <td>4.19</td>\n",
              "      <td>4.35</td>\n",
              "      <td>0.78</td>\n",
              "      <td>-1.0</td>\n",
              "      <td>-1.0</td>\n",
              "      <td>Empty</td>\n",
              "      <td>14.60</td>\n",
              "      <td>(12.381, 16.508]</td>\n",
              "      <td>0.008934</td>\n",
              "      <td>0.008267</td>\n",
              "      <td>0.022588</td>\n",
              "    </tr>\n",
              "    <tr>\n",
              "      <th>34</th>\n",
              "      <td>Call of Duty: Black Ops II</td>\n",
              "      <td>PS3</td>\n",
              "      <td>2012</td>\n",
              "      <td>Shooter</td>\n",
              "      <td>4.99</td>\n",
              "      <td>5.73</td>\n",
              "      <td>0.65</td>\n",
              "      <td>2.42</td>\n",
              "      <td>83.0</td>\n",
              "      <td>5.3</td>\n",
              "      <td>M</td>\n",
              "      <td>13.79</td>\n",
              "      <td>(12.381, 16.508]</td>\n",
              "      <td>0.008444</td>\n",
              "      <td>0.011306</td>\n",
              "      <td>0.003375</td>\n",
              "    </tr>\n",
              "  </tbody>\n",
              "</table>\n",
              "</div>"
            ],
            "text/plain": [
              "                          name platform  year_of_release         genre  \\\n",
              "16          Grand Theft Auto V      PS3             2013        Action   \n",
              "23          Grand Theft Auto V     X360             2013        Action   \n",
              "31   Call of Duty: Black Ops 3      PS4             2015       Shooter   \n",
              "33         Pokemon X/Pokemon Y      3DS             2013  Role-Playing   \n",
              "34  Call of Duty: Black Ops II      PS3             2012       Shooter   \n",
              "\n",
              "    na_sales  eu_sales  jp_sales  other_sales  critic_score  user_score  \\\n",
              "16      7.02      9.09      0.98         3.96          97.0         8.2   \n",
              "23      9.66      5.14      0.06         1.41          97.0         8.1   \n",
              "31      6.03      5.86      0.36         2.38          -1.0        -1.0   \n",
              "33      5.28      4.19      4.35         0.78          -1.0        -1.0   \n",
              "34      4.99      5.73      0.65         2.42          83.0         5.3   \n",
              "\n",
              "   rating  total_sales total_sales_range  share_na_sales  share_eu_sales  \\\n",
              "16      M        21.05  (20.635, 24.762]        0.011879        0.017936   \n",
              "23      M        16.27  (12.381, 16.508]        0.016346        0.010142   \n",
              "31  Empty        14.63  (12.381, 16.508]        0.010204        0.011563   \n",
              "33  Empty        14.60  (12.381, 16.508]        0.008934        0.008267   \n",
              "34      M        13.79  (12.381, 16.508]        0.008444        0.011306   \n",
              "\n",
              "    share_jp_sales  \n",
              "16        0.005089  \n",
              "23        0.000312  \n",
              "31        0.001869  \n",
              "33        0.022588  \n",
              "34        0.003375  "
            ]
          },
          "execution_count": 62,
          "metadata": {},
          "output_type": "execute_result"
        }
      ],
      "source": [
        "df_filtered['share_na_sales'] = df_filtered['na_sales'] / df_filtered['na_sales'].sum()\n",
        "df_filtered['share_eu_sales'] = df_filtered['eu_sales'] / df_filtered['eu_sales'].sum()\n",
        "df_filtered['share_jp_sales'] = df_filtered['jp_sales'] / df_filtered['jp_sales'].sum()\n",
        "df_filtered.head()"
      ]
    },
    {
      "cell_type": "markdown",
      "metadata": {
        "id": "MCSa48jEU-uL"
      },
      "source": [
        "**Теперь сформируем для каждого региона свой рейтинг топ-5 платформ по количеству продаж и выведем значение в долях.**"
      ]
    },
    {
      "cell_type": "code",
      "execution_count": null,
      "metadata": {
        "id": "qyA4Q6jKU-uL",
        "outputId": "9c923357-ac0d-482f-fba8-9b001e4e321f"
      },
      "outputs": [
        {
          "data": {
            "text/plain": [
              "platform\n",
              "X360    0.236983\n",
              "PS4     0.184003\n",
              "PS3     0.174933\n",
              "XOne    0.157571\n",
              "3DS     0.093592\n",
              "Name: share_na_sales, dtype: float64"
            ]
          },
          "execution_count": 63,
          "metadata": {},
          "output_type": "execute_result"
        }
      ],
      "source": [
        "df_filtered.groupby('platform').sum().sort_values(by='share_na_sales', ascending=False)['share_na_sales'].head()"
      ]
    },
    {
      "cell_type": "code",
      "execution_count": null,
      "metadata": {
        "id": "nbOg6jhNU-uL",
        "outputId": "67456556-e913-4c6d-9e95-f39e767dd80f"
      },
      "outputs": [
        {
          "data": {
            "text/plain": [
              "platform\n",
              "PS4     0.278388\n",
              "PS3     0.210829\n",
              "X360    0.147037\n",
              "XOne    0.101794\n",
              "3DS     0.084134\n",
              "Name: share_eu_sales, dtype: float64"
            ]
          },
          "execution_count": 64,
          "metadata": {},
          "output_type": "execute_result"
        }
      ],
      "source": [
        "df_filtered.groupby('platform').sum().sort_values(by='share_eu_sales', ascending=False)['share_eu_sales'].head()"
      ]
    },
    {
      "cell_type": "code",
      "execution_count": null,
      "metadata": {
        "id": "SuvAGBlDU-uL",
        "outputId": "bcb1bb0d-11d6-4d9d-fc64-ef781da90087"
      },
      "outputs": [
        {
          "data": {
            "text/plain": [
              "platform\n",
              "3DS     0.455862\n",
              "PS3     0.183249\n",
              "PSV     0.109253\n",
              "PS4     0.082875\n",
              "WiiU    0.067556\n",
              "Name: share_jp_sales, dtype: float64"
            ]
          },
          "execution_count": 65,
          "metadata": {},
          "output_type": "execute_result"
        }
      ],
      "source": [
        "df_filtered.groupby('platform').sum().sort_values(by='share_jp_sales', ascending=False)['share_jp_sales'].head()"
      ]
    },
    {
      "cell_type": "markdown",
      "metadata": {
        "id": "FLRSWZ5dU-uL"
      },
      "source": [
        "**Видим, что картина по регионам отличается. Если в Северной Америке топ-1 занимет американская платформа от компании Microsoft - Xbox 360, то в Европе лидирует платформа PS4 от Sony, при этом в Японии лидирует Nintendo 3DS. Специфика пользователей данных регионов такова, что в каждом из них больше предпочитают свою платформу. Однако, в Европе и Северной Америке остальная часть рейтинга платформ почти идентична, хотя Япония как рынок очень специфична и это видно по тому, как сильно отличается топ-5 платформ пользователей из Японии, от пользователей из Европы и Северной Америки.**\n",
        "\n",
        "**Посмотрим теперь аналогичный расклад по топ-5 жанров игр в данных 3 регионах продаж.**"
      ]
    },
    {
      "cell_type": "code",
      "execution_count": null,
      "metadata": {
        "id": "-i8SsfNbU-uL",
        "outputId": "3901f3e1-8415-4ed4-d87f-726ac67180a2"
      },
      "outputs": [
        {
          "data": {
            "text/plain": [
              "genre\n",
              "Action          0.300929\n",
              "Shooter         0.244970\n",
              "Sports          0.137960\n",
              "Role-Playing    0.108297\n",
              "Misc            0.064623\n",
              "Name: share_na_sales, dtype: float64"
            ]
          },
          "execution_count": 66,
          "metadata": {},
          "output_type": "execute_result"
        }
      ],
      "source": [
        "df_filtered.groupby('genre').sum().sort_values(by='share_na_sales', ascending=False)['share_na_sales'].head()"
      ]
    },
    {
      "cell_type": "code",
      "execution_count": null,
      "metadata": {
        "id": "WLZaBLGOU-uM",
        "outputId": "e5f84d2e-f465-4501-f1e1-1a3b0a083516"
      },
      "outputs": [
        {
          "data": {
            "text/plain": [
              "genre\n",
              "Action          0.314398\n",
              "Shooter         0.223891\n",
              "Sports          0.136304\n",
              "Role-Playing    0.095756\n",
              "Racing          0.053847\n",
              "Name: share_eu_sales, dtype: float64"
            ]
          },
          "execution_count": 67,
          "metadata": {},
          "output_type": "execute_result"
        }
      ],
      "source": [
        "df_filtered.groupby('genre').sum().sort_values(by='share_eu_sales', ascending=False)['share_eu_sales'].head()"
      ]
    },
    {
      "cell_type": "code",
      "execution_count": null,
      "metadata": {
        "id": "PaIBHsYoU-uM",
        "outputId": "be6531be-ac2f-4e3e-c2ed-f1a11e63d052"
      },
      "outputs": [
        {
          "data": {
            "text/plain": [
              "genre\n",
              "Role-Playing    0.339807\n",
              "Action          0.274172\n",
              "Misc            0.066777\n",
              "Simulation      0.054055\n",
              "Fighting        0.049019\n",
              "Name: share_jp_sales, dtype: float64"
            ]
          },
          "execution_count": 68,
          "metadata": {},
          "output_type": "execute_result"
        }
      ],
      "source": [
        "df_filtered.groupby('genre').sum().sort_values(by='share_jp_sales', ascending=False)['share_jp_sales'].head()"
      ]
    },
    {
      "cell_type": "markdown",
      "metadata": {
        "id": "bXNYZUuLU-uM"
      },
      "source": [
        "**И опять видим, как сильно отличаются предпочтения по жанрам пользователей из Японии, где на первом месте стоит жанр Role-Playing, который в Европе и Северной Америке находится лишь на 4 месте. Рейтинг топ-4 жанров пользователей Европы и Северной Америки полностью идентичен. Это объясняется спецификой рынка Японии, который известен своей нестандартностью для пользователей из Европы и Северной Америки.**"
      ]
    },
    {
      "cell_type": "markdown",
      "metadata": {
        "id": "kjJQFtXIU-uM"
      },
      "source": [
        "**Определим, наконец, влияет ли рейтинг ESRB на продажи в каждом регионе отдельно.**"
      ]
    },
    {
      "cell_type": "code",
      "execution_count": null,
      "metadata": {
        "id": "H-S3C6M-U-uM",
        "outputId": "b828e761-d1c1-45e9-8171-0a5a2659263a"
      },
      "outputs": [
        {
          "data": {
            "text/plain": [
              "rating\n",
              "M        0.391847\n",
              "E        0.193529\n",
              "Empty    0.174814\n",
              "E10+     0.128094\n",
              "T        0.111715\n",
              "Name: share_na_sales, dtype: float64"
            ]
          },
          "execution_count": 69,
          "metadata": {},
          "output_type": "execute_result"
        }
      ],
      "source": [
        "(df_filtered\n",
        " .groupby('rating').sum()\n",
        " .sort_values(by='share_na_sales', ascending=False)['share_na_sales'])"
      ]
    },
    {
      "cell_type": "code",
      "execution_count": null,
      "metadata": {
        "id": "Y_nwzv1rU-uM",
        "outputId": "a12d90d9-a06d-40ca-be1c-ab7fe8dce051"
      },
      "outputs": [
        {
          "data": {
            "text/plain": [
              "rating\n",
              "M        0.382708\n",
              "E        0.223003\n",
              "Empty    0.180541\n",
              "E10+     0.109252\n",
              "T        0.104497\n",
              "Name: share_eu_sales, dtype: float64"
            ]
          },
          "execution_count": 70,
          "metadata": {},
          "output_type": "execute_result"
        }
      ],
      "source": [
        "(df_filtered\n",
        " .groupby('rating').sum()\n",
        " .sort_values(by='share_eu_sales', ascending=False)['share_eu_sales'])"
      ]
    },
    {
      "cell_type": "code",
      "execution_count": null,
      "metadata": {
        "id": "HUi_FR9LU-uM",
        "outputId": "d016db2f-532b-4a2a-e2c5-535fbb6470f0"
      },
      "outputs": [
        {
          "data": {
            "text/plain": [
              "rating\n",
              "Empty    0.565168\n",
              "E        0.147108\n",
              "T        0.135113\n",
              "M        0.110084\n",
              "E10+     0.042528\n",
              "Name: share_jp_sales, dtype: float64"
            ]
          },
          "execution_count": 71,
          "metadata": {},
          "output_type": "execute_result"
        }
      ],
      "source": [
        "(df_filtered\n",
        " .groupby('rating').sum()\n",
        " .sort_values(by='share_jp_sales', ascending=False)['share_jp_sales'])"
      ]
    },
    {
      "cell_type": "markdown",
      "metadata": {
        "id": "8H-mF2hsU-uM"
      },
      "source": [
        "**Видим, что больше всего игр с рейтингом 17+ продается в Северной Америке и Европе (38-39% игр), на втором месте идут игры с рейтингом \"для всех\" (19-22%), а 3е место (17-18%) занимают данные, по которым отсутствует информация о рейтинге, что может повлиять на итоговое распределение предпочтений. В Японии же лидирует по доле данные, по которым рейтинг неизвестен, соответственно, можно очень условно делать предположение о предпочтениях Японских пользователей в жанрах игр на основе имеющихся у нас данных. В идеале попробовать получить корректные данные по рейтингу от коллег, кто готовил датасет и заново проанализировать.**"
      ]
    },
    {
      "cell_type": "markdown",
      "metadata": {
        "id": "j93qOEzhU-uM"
      },
      "source": [
        "### Выводы раздела."
      ]
    },
    {
      "cell_type": "markdown",
      "metadata": {
        "id": "TMTY7PAKU-uM"
      },
      "source": [
        "**Портрет пользователей из Японии сильно отличается от портрета пользователей из Европы и Северной Америки, как в части выбора жанров игр, так и в части предпочтения игровых платформ и большей популярности игр с иным рейтингом ESRB.**\n",
        "\n",
        "**В Северной Америке топ-1 занимет американская платформа от компании Microsoft - Xbox 360, в Европе лидирует платформа PS4 от Sony, при этом в Японии лидирует Nintendo 3DS. В Европе и Северной Америке остальная часть рейтинга платформ почти идентична, а в Японии - нет.**\n",
        "\n",
        "**На первом месте по продажам в Японии стоит жанр Role-Playing, который в Европе и Северной Америке находится лишь на 4 месте. Рейтинг топ-4 жанров пользователей Европы и Северной Америки полностью идентичен, в Японии же рейтинг жанров совсем иной.**\n",
        "\n",
        "**Больше всего игр с рейтингом 17+ продается в Северной Америке и Европе (38-39% игр), на втором месте идут игры с рейтингом \"для всех\" (19-22%), а 3е место (17-18%) занимают данные, по которым отсутствует информация о рейтинге, что может повлиять на итоговое распределение предпочтений. В Японии же лидирует по доле данные, по которым рейтинг неизвестен, соответственно, можно очень условно делать предположение о предпочтениях Японских пользователей в жанрах игр на основе имеющихся у нас данных. В идеале попробовать получить корректные данные по рейтингу от коллег, кто готовил датасет и заново проанализировать.**"
      ]
    },
    {
      "cell_type": "markdown",
      "metadata": {
        "id": "oeXedu8ZU-uM"
      },
      "source": [
        "## Проверка гипотез."
      ]
    },
    {
      "cell_type": "markdown",
      "metadata": {
        "id": "mwr9j5xHU-uM"
      },
      "source": [
        "### Гипотеза: Средние пользовательские рейтинги платформ Xbox One и PC одинаковые."
      ]
    },
    {
      "cell_type": "markdown",
      "metadata": {
        "id": "fMNgel7cU-uM"
      },
      "source": [
        "**Нулевая гипотеза звучит так: средние пользовательские рейтинги платформ Xbox One и PC одинаковые.**\n",
        "\n",
        "**Альтернативная гипотеза: средние пользовательские рейтинги платформ Xbox One и PC отличаются.**\n",
        "\n",
        "alpha = 0.05"
      ]
    },
    {
      "cell_type": "code",
      "execution_count": null,
      "metadata": {
        "id": "-NIEVASdU-uN",
        "outputId": "26914c55-cb7b-4f38-9f41-beb9a7d9ae61"
      },
      "outputs": [
        {
          "name": "stdout",
          "output_type": "stream",
          "text": [
            "0.5489537965134912\n",
            "Не получилось отвергнуть нулевую гипотезу\n",
            "Cредняя оценка для Xbox One: 6.5\n",
            "Cредняя оценка для PC: 6.4\n"
          ]
        }
      ],
      "source": [
        "#вызов метода для проверки гипотезы о равенстве среднего двух генеральных совокупностей по взятым из них выборкам\n",
        "result = st.ttest_ind(\n",
        "    df_filtered[(df_filtered['platform'] =='XOne') & (df_filtered['user_score'] > 0)]['user_score'],\n",
        "    df_filtered[(df_filtered['platform'] =='PC') & (df_filtered['user_score'] > 0)]['user_score'],\n",
        "    equal_var=False)\n",
        "# equal_var=False, т.к. выборки разного размера и есть сомнения, что дисперсии у совокупностей одинаковые\n",
        "\n",
        "alpha = 0.05 # задаем уровень значимости\n",
        "\n",
        "print(result.pvalue) # вывод значения p-value на экран\n",
        "if result.pvalue < alpha:\n",
        "    print('Отвергаем нулевую гипотезу')\n",
        "else:\n",
        "    print('Не получилось отвергнуть нулевую гипотезу')\n",
        "\n",
        "print('Cредняя оценка для Xbox One:', df_filtered[\n",
        "    (df_filtered['platform'] =='XOne') &\n",
        "    (df_filtered['user_score'] > 0)]\n",
        "      ['user_score'].mean().round(1))\n",
        "print('Cредняя оценка для PC:', df_filtered[\n",
        "    (df_filtered['platform'] =='PC') &\n",
        "    (df_filtered['user_score'] > 0)]\n",
        "      ['user_score'].mean().round(1))"
      ]
    },
    {
      "cell_type": "markdown",
      "metadata": {
        "id": "PVUJGSliU-uN"
      },
      "source": [
        "**По результатам теста вывод такой, что у нас с выбранным уровнем значимости не получилось отвергнуть нулевую гипотезу. Считаем, что средние пользовательские рейтинги платформ Xbox One и PC одинаковые.**"
      ]
    },
    {
      "cell_type": "markdown",
      "metadata": {
        "id": "Jf5uZcKXU-uN"
      },
      "source": [
        "### Гипотеза: Средние пользовательские рейтинги жанров Action и Sports разные."
      ]
    },
    {
      "cell_type": "markdown",
      "metadata": {
        "id": "G5vfZVPWU-uN"
      },
      "source": [
        "**Нулевая гипотеза звучит так: средние пользовательские рейтинги жанров Action и Sports одинаковые.**\n",
        "\n",
        "**Альтернативная гипотеза: средние пользовательские рейтинги жанров Action и Sports отличаются.**\n",
        "\n",
        "alpha = 0.05"
      ]
    },
    {
      "cell_type": "code",
      "execution_count": null,
      "metadata": {
        "id": "UK1rEGP_U-uN",
        "outputId": "9f4e0915-396b-440d-89f7-ab1aa5b48865"
      },
      "outputs": [
        {
          "name": "stdout",
          "output_type": "stream",
          "text": [
            "5.989458066467418e-20\n",
            "Отвергаем нулевую гипотезу\n",
            "Cредняя оценка для Action: 6.8\n",
            "Cредняя оценка для Sports: 5.5\n"
          ]
        }
      ],
      "source": [
        "#вызов метода для проверки гипотезы о равенстве среднего двух генеральных совокупностей по взятым из них выборкам\n",
        "result = st.ttest_ind(\n",
        "    df_filtered[(df_filtered['genre'] =='Action') & (df_filtered['user_score'] > 0)]['user_score'],\n",
        "    df_filtered[(df_filtered['genre'] =='Sports') & (df_filtered['user_score'] > 0)]['user_score'],\n",
        "    equal_var=False)\n",
        "# equal_var=False, т.к. выборки разного размера и есть сомнения, что дисперсии у совокупностей одинаковые\n",
        "\n",
        "alpha = 0.05 # задаем уровень значимости\n",
        "\n",
        "print(result.pvalue) # вывод значения p-value на экран\n",
        "if result.pvalue < alpha:\n",
        "    print('Отвергаем нулевую гипотезу')\n",
        "else:\n",
        "    print('Не получилось отвергнуть нулевую гипотезу')\n",
        "print('Cредняя оценка для Action:', df_filtered[\n",
        "    (df_filtered['genre'] =='Action') &\n",
        "    (df_filtered['user_score'] > 0)]\n",
        "      ['user_score'].mean().round(1))\n",
        "print('Cредняя оценка для Sports:', df_filtered[\n",
        "    (df_filtered['genre'] =='Sports') &\n",
        "    (df_filtered['user_score'] > 0)]\n",
        "      ['user_score'].mean().round(1))"
      ]
    },
    {
      "cell_type": "markdown",
      "metadata": {
        "id": "MFAF8vztU-uN"
      },
      "source": [
        "**По результатам теста вывод такой, что с выбранным уровнем значимости мы отвергаем нулевую гипотезу. Считаем, что средние пользовательские рейтинги жанров Action и Sports отличаются.**"
      ]
    },
    {
      "cell_type": "markdown",
      "metadata": {
        "id": "nnM-h3SRU-uN"
      },
      "source": [
        "## Общий вывод."
      ]
    },
    {
      "cell_type": "markdown",
      "metadata": {
        "id": "TZRvowDcU-uN"
      },
      "source": [
        "**Первоначальная задача стояла выявить определяющие успешность с точки зрения продаж игры закономерности. Необходимо спланировать кампанию на 2017-й.**\n",
        "\n",
        "**Для успешного планирования необходимо выяснить, для какого именно рынка (NA, EU, JP) предполагается кампания на 2017й год.**\n",
        "\n",
        "**Также мы анализировали данные в количествах проданных экземпляров, в бизнесе нужна аналитика с точки зрения получения максимальной прибыли, т.е. нам необходимы были бы дополнительные данные по стоимости закупки и продажи игр для нашей компании по каждой из платформ.**\n",
        "\n",
        "**---------------------------------------------------------------------------------------------------------------------------**\n",
        "\n",
        "**Если же мы работаем глобально, то выводы следующие:**\n",
        "\n",
        "**В настоящий момент наблюдается спад с 2012 года в выпуске кол-ва новых игр.**\n",
        "\n",
        "**Средний жизненный цикл одной игровой платформы составляет 9 лет.**\n",
        "\n",
        "**При этом обычно эти 9 лет жизни выглядят так: 5 лет линейного роста выпуска игр под платформу, после чего идет линейный спад выпуска кол-ва игр под платформу.**\n",
        "\n",
        "**Наиболее потенциально прибыльные платформы: `'PS4'`, `'XOne'`, `'PC'`.**\n",
        "\n",
        "**Отзывы пользователей почти не коррелируют с продажами, а вот отзывы критиков имеют небольшую положительную корреляцию.**\n",
        "\n",
        "**Самые прибыльные жанры: `'Action'`, `'Shooter'`, `'Sports'`.**\n",
        "\n",
        "**Самые неприбыльные жанры: `'Puzzle'`, `'Adventure'`.**"
      ]
    }
  ],
  "metadata": {
    "ExecuteTimeLog": [
      {
        "duration": 43,
        "start_time": "2022-11-29T01:22:41.340Z"
      },
      {
        "duration": 1038,
        "start_time": "2022-11-29T01:22:45.568Z"
      },
      {
        "duration": 100,
        "start_time": "2022-11-29T01:22:47.904Z"
      },
      {
        "duration": 66,
        "start_time": "2022-11-29T01:23:56.643Z"
      },
      {
        "duration": 46,
        "start_time": "2022-11-29T13:05:14.557Z"
      },
      {
        "duration": 1304,
        "start_time": "2022-11-29T13:05:16.588Z"
      },
      {
        "duration": 118,
        "start_time": "2022-11-29T13:05:18.799Z"
      },
      {
        "duration": 71,
        "start_time": "2022-11-29T13:05:56.595Z"
      },
      {
        "duration": 61,
        "start_time": "2022-11-29T13:16:43.277Z"
      },
      {
        "duration": 271,
        "start_time": "2022-11-29T13:18:24.214Z"
      },
      {
        "duration": 47,
        "start_time": "2022-11-29T17:51:56.145Z"
      },
      {
        "duration": 1271,
        "start_time": "2022-11-29T17:51:59.587Z"
      },
      {
        "duration": 316,
        "start_time": "2022-11-29T17:52:02.225Z"
      },
      {
        "duration": 67,
        "start_time": "2022-11-29T17:52:43.070Z"
      },
      {
        "duration": 199,
        "start_time": "2022-11-29T17:53:05.489Z"
      },
      {
        "duration": 721,
        "start_time": "2022-11-29T17:54:34.217Z"
      },
      {
        "duration": 699,
        "start_time": "2022-11-29T17:54:47.867Z"
      },
      {
        "duration": 19,
        "start_time": "2022-11-29T17:56:27.074Z"
      },
      {
        "duration": 10,
        "start_time": "2022-11-29T17:56:35.879Z"
      },
      {
        "duration": 11,
        "start_time": "2022-11-29T17:56:45.018Z"
      },
      {
        "duration": 17,
        "start_time": "2022-11-29T17:57:29.883Z"
      },
      {
        "duration": 7,
        "start_time": "2022-11-29T17:58:37.308Z"
      },
      {
        "duration": 13,
        "start_time": "2022-11-29T17:58:43.919Z"
      },
      {
        "duration": 69,
        "start_time": "2022-11-29T18:00:01.544Z"
      },
      {
        "duration": 6,
        "start_time": "2022-11-29T18:00:12.635Z"
      },
      {
        "duration": 5,
        "start_time": "2022-11-29T18:00:25.730Z"
      },
      {
        "duration": 38,
        "start_time": "2022-11-29T18:00:53.569Z"
      },
      {
        "duration": 26,
        "start_time": "2022-11-29T18:02:56.188Z"
      },
      {
        "duration": 83,
        "start_time": "2022-11-29T18:03:39.772Z"
      },
      {
        "duration": 13,
        "start_time": "2022-11-29T18:03:51.170Z"
      },
      {
        "duration": 12,
        "start_time": "2022-11-29T18:03:59.576Z"
      },
      {
        "duration": 79,
        "start_time": "2022-11-29T18:04:15.359Z"
      },
      {
        "duration": 25,
        "start_time": "2022-11-29T18:04:25.200Z"
      },
      {
        "duration": 16,
        "start_time": "2022-11-29T18:04:48.293Z"
      },
      {
        "duration": 15,
        "start_time": "2022-11-29T18:05:00.553Z"
      },
      {
        "duration": 89,
        "start_time": "2022-11-29T18:05:43.664Z"
      },
      {
        "duration": 22,
        "start_time": "2022-11-29T18:06:43.293Z"
      },
      {
        "duration": 18,
        "start_time": "2022-11-29T18:07:21.091Z"
      },
      {
        "duration": 5,
        "start_time": "2022-11-29T18:22:22.166Z"
      },
      {
        "duration": 18,
        "start_time": "2022-11-29T18:22:40.507Z"
      },
      {
        "duration": 13,
        "start_time": "2022-11-29T18:23:32.638Z"
      },
      {
        "duration": 18,
        "start_time": "2022-11-29T18:24:04.387Z"
      },
      {
        "duration": 12,
        "start_time": "2022-11-29T18:24:17.762Z"
      },
      {
        "duration": 5,
        "start_time": "2022-11-29T18:24:45.495Z"
      },
      {
        "duration": 13,
        "start_time": "2022-11-29T18:25:21.332Z"
      },
      {
        "duration": 11,
        "start_time": "2022-11-29T18:25:28.001Z"
      },
      {
        "duration": 12,
        "start_time": "2022-11-29T18:25:32.983Z"
      },
      {
        "duration": 20,
        "start_time": "2022-11-29T18:25:39.317Z"
      },
      {
        "duration": 17,
        "start_time": "2022-11-29T18:34:53.854Z"
      },
      {
        "duration": 20,
        "start_time": "2022-11-29T18:35:41.328Z"
      },
      {
        "duration": 23,
        "start_time": "2022-11-29T18:36:32.675Z"
      },
      {
        "duration": 5,
        "start_time": "2022-11-29T19:20:52.823Z"
      },
      {
        "duration": 15,
        "start_time": "2022-11-29T19:30:06.104Z"
      },
      {
        "duration": 15,
        "start_time": "2022-11-29T19:30:27.316Z"
      },
      {
        "duration": 14,
        "start_time": "2022-11-29T19:30:44.063Z"
      },
      {
        "duration": 17,
        "start_time": "2022-11-29T19:30:56.844Z"
      },
      {
        "duration": 19,
        "start_time": "2022-11-29T19:33:24.223Z"
      },
      {
        "duration": 21,
        "start_time": "2022-11-29T19:33:53.123Z"
      },
      {
        "duration": 8,
        "start_time": "2022-11-29T19:41:20.319Z"
      },
      {
        "duration": 21,
        "start_time": "2022-11-29T19:43:33.218Z"
      },
      {
        "duration": 6,
        "start_time": "2022-11-29T19:45:04.818Z"
      },
      {
        "duration": 1530,
        "start_time": "2022-11-29T23:31:29.738Z"
      },
      {
        "duration": 113,
        "start_time": "2022-11-29T23:31:59.631Z"
      },
      {
        "duration": 14,
        "start_time": "2022-11-29T23:32:04.875Z"
      },
      {
        "duration": 26,
        "start_time": "2022-11-29T23:32:14.635Z"
      },
      {
        "duration": 67,
        "start_time": "2022-11-29T23:32:58.821Z"
      },
      {
        "duration": 96,
        "start_time": "2022-11-29T23:33:20.401Z"
      },
      {
        "duration": 179,
        "start_time": "2022-11-29T23:41:17.518Z"
      },
      {
        "duration": 100,
        "start_time": "2022-11-29T23:41:24.777Z"
      },
      {
        "duration": 107,
        "start_time": "2022-11-29T23:41:44.577Z"
      },
      {
        "duration": 100,
        "start_time": "2022-11-29T23:42:07.050Z"
      },
      {
        "duration": 104,
        "start_time": "2022-11-29T23:42:21.584Z"
      },
      {
        "duration": 96,
        "start_time": "2022-11-29T23:42:58.642Z"
      },
      {
        "duration": 117,
        "start_time": "2022-11-29T23:43:19.567Z"
      },
      {
        "duration": 892,
        "start_time": "2022-11-29T23:43:51.742Z"
      },
      {
        "duration": 3,
        "start_time": "2022-11-29T23:44:08.682Z"
      },
      {
        "duration": 107,
        "start_time": "2022-11-29T23:44:16.936Z"
      },
      {
        "duration": 116,
        "start_time": "2022-11-29T23:44:33.126Z"
      },
      {
        "duration": 119,
        "start_time": "2022-11-29T23:44:44.618Z"
      },
      {
        "duration": 132,
        "start_time": "2022-11-29T23:47:55.307Z"
      },
      {
        "duration": 1279,
        "start_time": "2022-11-30T09:49:09.369Z"
      },
      {
        "duration": 187,
        "start_time": "2022-11-30T09:49:11.717Z"
      },
      {
        "duration": 81,
        "start_time": "2022-11-30T09:50:33.309Z"
      },
      {
        "duration": 101,
        "start_time": "2022-11-30T09:56:31.882Z"
      },
      {
        "duration": 11,
        "start_time": "2022-11-30T10:02:17.890Z"
      },
      {
        "duration": 12,
        "start_time": "2022-11-30T10:02:39.392Z"
      },
      {
        "duration": 16,
        "start_time": "2022-11-30T10:02:51.880Z"
      },
      {
        "duration": 442,
        "start_time": "2022-11-30T10:03:05.702Z"
      },
      {
        "duration": 86,
        "start_time": "2022-11-30T10:03:13.696Z"
      },
      {
        "duration": 11,
        "start_time": "2022-11-30T10:03:29.616Z"
      },
      {
        "duration": 9,
        "start_time": "2022-11-30T10:04:13.207Z"
      },
      {
        "duration": 10,
        "start_time": "2022-11-30T10:04:29.892Z"
      },
      {
        "duration": 51,
        "start_time": "2022-11-30T11:32:22.463Z"
      },
      {
        "duration": 20,
        "start_time": "2022-11-30T11:32:31.167Z"
      },
      {
        "duration": 22,
        "start_time": "2022-11-30T11:33:29.808Z"
      },
      {
        "duration": 5,
        "start_time": "2022-11-30T11:34:02.389Z"
      },
      {
        "duration": 6,
        "start_time": "2022-11-30T11:40:03.045Z"
      },
      {
        "duration": 7,
        "start_time": "2022-11-30T11:40:15.997Z"
      },
      {
        "duration": 8,
        "start_time": "2022-11-30T11:43:54.428Z"
      },
      {
        "duration": 15,
        "start_time": "2022-11-30T11:44:45.304Z"
      },
      {
        "duration": 10,
        "start_time": "2022-11-30T11:45:02.979Z"
      },
      {
        "duration": 9,
        "start_time": "2022-11-30T11:46:26.526Z"
      },
      {
        "duration": 31,
        "start_time": "2022-11-30T11:46:46.150Z"
      },
      {
        "duration": 22,
        "start_time": "2022-11-30T11:51:55.763Z"
      },
      {
        "duration": 971,
        "start_time": "2022-11-30T11:52:06.452Z"
      },
      {
        "duration": 24,
        "start_time": "2022-11-30T11:52:34.295Z"
      },
      {
        "duration": 9,
        "start_time": "2022-11-30T12:03:16.029Z"
      },
      {
        "duration": 10,
        "start_time": "2022-11-30T12:08:01.904Z"
      },
      {
        "duration": 13,
        "start_time": "2022-11-30T12:10:07.311Z"
      },
      {
        "duration": 13,
        "start_time": "2022-11-30T12:12:36.966Z"
      },
      {
        "duration": 16,
        "start_time": "2022-11-30T12:12:47.179Z"
      },
      {
        "duration": 14,
        "start_time": "2022-11-30T12:13:10.901Z"
      },
      {
        "duration": 20,
        "start_time": "2022-11-30T12:14:17.292Z"
      },
      {
        "duration": 18,
        "start_time": "2022-11-30T12:14:19.010Z"
      },
      {
        "duration": 15,
        "start_time": "2022-11-30T12:14:27.342Z"
      },
      {
        "duration": 23,
        "start_time": "2022-11-30T12:14:34.831Z"
      },
      {
        "duration": 6,
        "start_time": "2022-11-30T12:14:58.163Z"
      },
      {
        "duration": 5,
        "start_time": "2022-11-30T12:15:09.640Z"
      },
      {
        "duration": 5,
        "start_time": "2022-11-30T12:15:30.607Z"
      },
      {
        "duration": 3,
        "start_time": "2022-11-30T12:15:40.622Z"
      },
      {
        "duration": 82,
        "start_time": "2022-11-30T12:15:41.561Z"
      },
      {
        "duration": 5,
        "start_time": "2022-11-30T12:15:47.894Z"
      },
      {
        "duration": 7,
        "start_time": "2022-11-30T12:15:50.885Z"
      },
      {
        "duration": 25,
        "start_time": "2022-11-30T12:15:53.483Z"
      },
      {
        "duration": 13,
        "start_time": "2022-11-30T12:16:01.821Z"
      },
      {
        "duration": 13,
        "start_time": "2022-11-30T12:16:05.108Z"
      },
      {
        "duration": 12,
        "start_time": "2022-11-30T12:16:12.644Z"
      },
      {
        "duration": 5,
        "start_time": "2022-11-30T12:16:16.977Z"
      },
      {
        "duration": 5,
        "start_time": "2022-11-30T12:16:31.775Z"
      },
      {
        "duration": 5,
        "start_time": "2022-11-30T12:17:13.396Z"
      },
      {
        "duration": 16,
        "start_time": "2022-11-30T12:18:11.901Z"
      },
      {
        "duration": 19,
        "start_time": "2022-11-30T12:20:16.988Z"
      },
      {
        "duration": 12,
        "start_time": "2022-11-30T12:22:06.447Z"
      },
      {
        "duration": 21,
        "start_time": "2022-11-30T12:22:31.489Z"
      },
      {
        "duration": 7,
        "start_time": "2022-11-30T12:25:49.051Z"
      },
      {
        "duration": 6,
        "start_time": "2022-11-30T12:26:08.107Z"
      },
      {
        "duration": 6,
        "start_time": "2022-11-30T12:26:14.978Z"
      },
      {
        "duration": 6,
        "start_time": "2022-11-30T12:26:32.343Z"
      },
      {
        "duration": 6,
        "start_time": "2022-11-30T12:26:38.946Z"
      },
      {
        "duration": 7,
        "start_time": "2022-11-30T12:26:43.196Z"
      },
      {
        "duration": 20,
        "start_time": "2022-11-30T12:26:51.105Z"
      },
      {
        "duration": 16,
        "start_time": "2022-11-30T12:27:04.727Z"
      },
      {
        "duration": 7,
        "start_time": "2022-11-30T12:27:17.960Z"
      },
      {
        "duration": 7,
        "start_time": "2022-11-30T12:27:23.364Z"
      },
      {
        "duration": 16,
        "start_time": "2022-11-30T12:27:39.686Z"
      },
      {
        "duration": 7,
        "start_time": "2022-11-30T12:27:50.004Z"
      },
      {
        "duration": 7,
        "start_time": "2022-11-30T12:28:32.721Z"
      },
      {
        "duration": 23,
        "start_time": "2022-11-30T12:35:18.887Z"
      },
      {
        "duration": 16,
        "start_time": "2022-11-30T12:36:28.871Z"
      },
      {
        "duration": 10,
        "start_time": "2022-11-30T12:36:34.682Z"
      },
      {
        "duration": 2,
        "start_time": "2022-11-30T12:36:40.870Z"
      },
      {
        "duration": 82,
        "start_time": "2022-11-30T12:36:42.223Z"
      },
      {
        "duration": 5,
        "start_time": "2022-11-30T12:36:45.729Z"
      },
      {
        "duration": 7,
        "start_time": "2022-11-30T12:36:47.857Z"
      },
      {
        "duration": 20,
        "start_time": "2022-11-30T12:36:49.582Z"
      },
      {
        "duration": 10,
        "start_time": "2022-11-30T12:36:51.751Z"
      },
      {
        "duration": 16,
        "start_time": "2022-11-30T12:36:53.547Z"
      },
      {
        "duration": 14,
        "start_time": "2022-11-30T12:36:55.402Z"
      },
      {
        "duration": 12,
        "start_time": "2022-11-30T12:36:56.819Z"
      },
      {
        "duration": 14,
        "start_time": "2022-11-30T12:36:57.277Z"
      },
      {
        "duration": 14,
        "start_time": "2022-11-30T12:37:07.527Z"
      },
      {
        "duration": 17,
        "start_time": "2022-11-30T12:37:33.715Z"
      },
      {
        "duration": 25,
        "start_time": "2022-11-30T12:38:35.131Z"
      },
      {
        "duration": 598,
        "start_time": "2022-11-30T12:38:50.120Z"
      },
      {
        "duration": 111,
        "start_time": "2022-11-30T12:39:14.031Z"
      },
      {
        "duration": 202,
        "start_time": "2022-11-30T12:39:36.707Z"
      },
      {
        "duration": 25,
        "start_time": "2022-11-30T12:40:13.501Z"
      },
      {
        "duration": 3,
        "start_time": "2022-11-30T12:41:56.711Z"
      },
      {
        "duration": 84,
        "start_time": "2022-11-30T12:41:58.364Z"
      },
      {
        "duration": 5,
        "start_time": "2022-11-30T12:42:23.275Z"
      },
      {
        "duration": 14,
        "start_time": "2022-11-30T12:42:41.773Z"
      },
      {
        "duration": 7,
        "start_time": "2022-11-30T12:42:58.757Z"
      },
      {
        "duration": 4,
        "start_time": "2022-11-30T12:46:17.725Z"
      },
      {
        "duration": 6,
        "start_time": "2022-11-30T12:48:16.371Z"
      },
      {
        "duration": 14,
        "start_time": "2022-11-30T12:48:18.023Z"
      },
      {
        "duration": 2,
        "start_time": "2022-11-30T12:48:28.593Z"
      },
      {
        "duration": 91,
        "start_time": "2022-11-30T12:48:29.793Z"
      },
      {
        "duration": 6,
        "start_time": "2022-11-30T12:48:32.961Z"
      },
      {
        "duration": 7,
        "start_time": "2022-11-30T12:48:34.565Z"
      },
      {
        "duration": 4,
        "start_time": "2022-11-30T12:48:36.001Z"
      },
      {
        "duration": 21,
        "start_time": "2022-11-30T12:48:42.847Z"
      },
      {
        "duration": 14,
        "start_time": "2022-11-30T13:00:05.812Z"
      },
      {
        "duration": 11,
        "start_time": "2022-11-30T13:00:52.412Z"
      },
      {
        "duration": 15,
        "start_time": "2022-11-30T13:01:03.446Z"
      },
      {
        "duration": 15,
        "start_time": "2022-11-30T13:01:11.000Z"
      },
      {
        "duration": 15,
        "start_time": "2022-11-30T13:01:12.925Z"
      },
      {
        "duration": 40,
        "start_time": "2022-11-30T13:01:22.907Z"
      },
      {
        "duration": 125,
        "start_time": "2022-11-30T13:21:36.023Z"
      },
      {
        "duration": 118,
        "start_time": "2022-11-30T13:21:39.059Z"
      },
      {
        "duration": 214,
        "start_time": "2022-11-30T13:21:48.853Z"
      },
      {
        "duration": 204,
        "start_time": "2022-11-30T13:22:06.402Z"
      },
      {
        "duration": 131,
        "start_time": "2022-11-30T13:22:43.765Z"
      },
      {
        "duration": 9,
        "start_time": "2022-11-30T13:22:54.045Z"
      },
      {
        "duration": 126,
        "start_time": "2022-11-30T13:23:11.159Z"
      },
      {
        "duration": 108,
        "start_time": "2022-11-30T13:23:41.846Z"
      },
      {
        "duration": 193,
        "start_time": "2022-11-30T13:24:11.494Z"
      },
      {
        "duration": 112,
        "start_time": "2022-11-30T13:24:18.788Z"
      },
      {
        "duration": 201,
        "start_time": "2022-11-30T13:24:20.146Z"
      },
      {
        "duration": 98,
        "start_time": "2022-11-30T13:24:39.671Z"
      },
      {
        "duration": 102,
        "start_time": "2022-11-30T13:24:44.211Z"
      },
      {
        "duration": 99,
        "start_time": "2022-11-30T13:26:28.709Z"
      },
      {
        "duration": 86,
        "start_time": "2022-11-30T13:30:06.284Z"
      },
      {
        "duration": 9,
        "start_time": "2022-11-30T13:33:23.627Z"
      },
      {
        "duration": 9,
        "start_time": "2022-11-30T13:33:53.797Z"
      },
      {
        "duration": 9,
        "start_time": "2022-11-30T13:34:04.246Z"
      },
      {
        "duration": 91,
        "start_time": "2022-11-30T13:34:07.843Z"
      },
      {
        "duration": 3,
        "start_time": "2022-11-30T13:35:13.239Z"
      },
      {
        "duration": 99,
        "start_time": "2022-11-30T13:35:18.323Z"
      },
      {
        "duration": 101,
        "start_time": "2022-11-30T13:35:25.623Z"
      },
      {
        "duration": 1075,
        "start_time": "2022-11-30T13:35:50.940Z"
      },
      {
        "duration": 86,
        "start_time": "2022-11-30T13:35:52.017Z"
      },
      {
        "duration": 5,
        "start_time": "2022-11-30T13:35:52.105Z"
      },
      {
        "duration": 11,
        "start_time": "2022-11-30T13:35:52.111Z"
      },
      {
        "duration": 7,
        "start_time": "2022-11-30T13:35:52.124Z"
      },
      {
        "duration": 17,
        "start_time": "2022-11-30T13:35:52.132Z"
      },
      {
        "duration": 8,
        "start_time": "2022-11-30T13:35:52.150Z"
      },
      {
        "duration": 17,
        "start_time": "2022-11-30T13:35:52.159Z"
      },
      {
        "duration": 19,
        "start_time": "2022-11-30T13:35:52.177Z"
      },
      {
        "duration": 35,
        "start_time": "2022-11-30T13:35:52.197Z"
      },
      {
        "duration": 616,
        "start_time": "2022-11-30T13:35:52.234Z"
      },
      {
        "duration": 40,
        "start_time": "2022-11-30T13:35:52.852Z"
      },
      {
        "duration": 954,
        "start_time": "2022-11-30T13:35:52.894Z"
      },
      {
        "duration": 0,
        "start_time": "2022-11-30T13:35:53.849Z"
      },
      {
        "duration": 0,
        "start_time": "2022-11-30T13:35:53.850Z"
      },
      {
        "duration": 0,
        "start_time": "2022-11-30T13:35:53.851Z"
      },
      {
        "duration": 0,
        "start_time": "2022-11-30T13:35:53.852Z"
      },
      {
        "duration": 0,
        "start_time": "2022-11-30T13:35:53.853Z"
      },
      {
        "duration": 90,
        "start_time": "2022-11-30T13:35:58.879Z"
      },
      {
        "duration": 94,
        "start_time": "2022-11-30T13:36:04.299Z"
      },
      {
        "duration": 100,
        "start_time": "2022-11-30T13:36:08.089Z"
      },
      {
        "duration": 96,
        "start_time": "2022-11-30T13:36:16.096Z"
      },
      {
        "duration": 125,
        "start_time": "2022-11-30T13:36:26.534Z"
      },
      {
        "duration": 99,
        "start_time": "2022-11-30T13:36:32.355Z"
      },
      {
        "duration": 109,
        "start_time": "2022-11-30T13:40:41.787Z"
      },
      {
        "duration": 10,
        "start_time": "2022-11-30T13:41:41.063Z"
      },
      {
        "duration": 7,
        "start_time": "2022-11-30T13:42:08.392Z"
      },
      {
        "duration": 23,
        "start_time": "2022-11-30T13:42:31.231Z"
      },
      {
        "duration": 189,
        "start_time": "2022-11-30T13:44:36.032Z"
      },
      {
        "duration": 6,
        "start_time": "2022-11-30T13:45:27.794Z"
      },
      {
        "duration": 8,
        "start_time": "2022-11-30T13:45:33.153Z"
      },
      {
        "duration": 17,
        "start_time": "2022-11-30T13:45:37.262Z"
      },
      {
        "duration": 26,
        "start_time": "2022-11-30T14:09:40.565Z"
      },
      {
        "duration": 19,
        "start_time": "2022-11-30T14:27:17.848Z"
      },
      {
        "duration": 8,
        "start_time": "2022-11-30T14:27:47.191Z"
      },
      {
        "duration": 7,
        "start_time": "2022-11-30T14:29:55.030Z"
      },
      {
        "duration": 9,
        "start_time": "2022-11-30T14:30:57.063Z"
      },
      {
        "duration": 5,
        "start_time": "2022-11-30T14:49:09.972Z"
      },
      {
        "duration": 4,
        "start_time": "2022-11-30T14:49:29.431Z"
      },
      {
        "duration": 31,
        "start_time": "2022-11-30T14:54:30.420Z"
      },
      {
        "duration": 13,
        "start_time": "2022-11-30T14:58:00.524Z"
      },
      {
        "duration": 13,
        "start_time": "2022-11-30T14:59:39.897Z"
      },
      {
        "duration": 10,
        "start_time": "2022-11-30T15:01:54.873Z"
      },
      {
        "duration": 19,
        "start_time": "2022-11-30T15:02:35.873Z"
      },
      {
        "duration": 12,
        "start_time": "2022-11-30T15:14:56.389Z"
      },
      {
        "duration": 11,
        "start_time": "2022-11-30T15:15:26.020Z"
      },
      {
        "duration": 10,
        "start_time": "2022-11-30T15:15:50.197Z"
      },
      {
        "duration": 9,
        "start_time": "2022-11-30T15:16:11.241Z"
      },
      {
        "duration": 10,
        "start_time": "2022-11-30T15:16:46.315Z"
      },
      {
        "duration": 10,
        "start_time": "2022-11-30T15:20:18.912Z"
      },
      {
        "duration": 11,
        "start_time": "2022-11-30T15:27:36.360Z"
      },
      {
        "duration": 9,
        "start_time": "2022-11-30T15:28:33.765Z"
      },
      {
        "duration": 11,
        "start_time": "2022-11-30T15:28:49.206Z"
      },
      {
        "duration": 67,
        "start_time": "2022-11-30T15:33:48.175Z"
      },
      {
        "duration": 21,
        "start_time": "2022-11-30T15:33:59.386Z"
      },
      {
        "duration": 24,
        "start_time": "2022-11-30T15:34:16.003Z"
      },
      {
        "duration": 101,
        "start_time": "2022-11-30T15:34:48.821Z"
      },
      {
        "duration": 26,
        "start_time": "2022-11-30T15:35:12.359Z"
      },
      {
        "duration": 42,
        "start_time": "2022-11-30T15:37:57.353Z"
      },
      {
        "duration": 48,
        "start_time": "2022-11-30T15:41:35.740Z"
      },
      {
        "duration": 40,
        "start_time": "2022-11-30T15:41:52.052Z"
      },
      {
        "duration": 42,
        "start_time": "2022-11-30T16:24:38.033Z"
      },
      {
        "duration": 23,
        "start_time": "2022-11-30T16:25:26.760Z"
      },
      {
        "duration": 24,
        "start_time": "2022-11-30T16:25:39.318Z"
      },
      {
        "duration": 47,
        "start_time": "2022-11-30T16:26:06.277Z"
      },
      {
        "duration": 43,
        "start_time": "2022-11-30T16:26:43.369Z"
      },
      {
        "duration": 4,
        "start_time": "2022-11-30T16:38:41.548Z"
      },
      {
        "duration": 90,
        "start_time": "2022-11-30T16:38:41.554Z"
      },
      {
        "duration": 5,
        "start_time": "2022-11-30T16:38:41.645Z"
      },
      {
        "duration": 23,
        "start_time": "2022-11-30T16:38:41.652Z"
      },
      {
        "duration": 9,
        "start_time": "2022-11-30T16:38:41.677Z"
      },
      {
        "duration": 19,
        "start_time": "2022-11-30T16:38:41.687Z"
      },
      {
        "duration": 17,
        "start_time": "2022-11-30T16:38:41.707Z"
      },
      {
        "duration": 15,
        "start_time": "2022-11-30T16:38:41.725Z"
      },
      {
        "duration": 19,
        "start_time": "2022-11-30T16:38:41.742Z"
      },
      {
        "duration": 16,
        "start_time": "2022-11-30T16:38:41.762Z"
      },
      {
        "duration": 46,
        "start_time": "2022-11-30T16:38:41.780Z"
      },
      {
        "duration": 7,
        "start_time": "2022-11-30T16:38:41.828Z"
      },
      {
        "duration": 7,
        "start_time": "2022-11-30T16:38:41.836Z"
      },
      {
        "duration": 7,
        "start_time": "2022-11-30T16:38:41.844Z"
      },
      {
        "duration": 18,
        "start_time": "2022-11-30T16:38:41.852Z"
      },
      {
        "duration": 18,
        "start_time": "2022-11-30T16:38:41.871Z"
      },
      {
        "duration": 39,
        "start_time": "2022-11-30T16:38:46.661Z"
      },
      {
        "duration": 151,
        "start_time": "2022-11-30T16:39:33.975Z"
      },
      {
        "duration": 29,
        "start_time": "2022-11-30T16:41:03.866Z"
      },
      {
        "duration": 20,
        "start_time": "2022-11-30T17:07:09.225Z"
      },
      {
        "duration": 20,
        "start_time": "2022-11-30T17:19:15.109Z"
      },
      {
        "duration": 22,
        "start_time": "2022-11-30T17:19:22.796Z"
      },
      {
        "duration": 22,
        "start_time": "2022-11-30T17:19:55.815Z"
      },
      {
        "duration": 22,
        "start_time": "2022-11-30T17:51:43.708Z"
      },
      {
        "duration": 29,
        "start_time": "2022-11-30T18:04:57.489Z"
      },
      {
        "duration": 22,
        "start_time": "2022-11-30T18:08:19.093Z"
      },
      {
        "duration": 767,
        "start_time": "2022-11-30T18:14:55.786Z"
      },
      {
        "duration": 5,
        "start_time": "2022-11-30T18:15:02.606Z"
      },
      {
        "duration": 803,
        "start_time": "2022-11-30T18:38:10.560Z"
      },
      {
        "duration": 6,
        "start_time": "2022-11-30T18:38:15.948Z"
      },
      {
        "duration": 29,
        "start_time": "2022-11-30T18:38:53.820Z"
      },
      {
        "duration": 15,
        "start_time": "2022-11-30T18:39:05.382Z"
      },
      {
        "duration": 9,
        "start_time": "2022-11-30T18:48:17.802Z"
      },
      {
        "duration": 2,
        "start_time": "2022-11-30T18:48:31.913Z"
      },
      {
        "duration": 116,
        "start_time": "2022-11-30T18:48:31.920Z"
      },
      {
        "duration": 5,
        "start_time": "2022-11-30T18:48:32.038Z"
      },
      {
        "duration": 9,
        "start_time": "2022-11-30T18:48:32.044Z"
      },
      {
        "duration": 5,
        "start_time": "2022-11-30T18:48:32.055Z"
      },
      {
        "duration": 18,
        "start_time": "2022-11-30T18:48:32.061Z"
      },
      {
        "duration": 7,
        "start_time": "2022-11-30T18:48:32.081Z"
      },
      {
        "duration": 46,
        "start_time": "2022-11-30T18:48:32.090Z"
      },
      {
        "duration": 13,
        "start_time": "2022-11-30T18:48:32.137Z"
      },
      {
        "duration": 19,
        "start_time": "2022-11-30T18:48:32.152Z"
      },
      {
        "duration": 24,
        "start_time": "2022-11-30T18:48:32.174Z"
      },
      {
        "duration": 31,
        "start_time": "2022-11-30T18:48:32.199Z"
      },
      {
        "duration": 8,
        "start_time": "2022-11-30T18:48:32.235Z"
      },
      {
        "duration": 7,
        "start_time": "2022-11-30T18:48:32.244Z"
      },
      {
        "duration": 17,
        "start_time": "2022-11-30T18:48:32.252Z"
      },
      {
        "duration": 18,
        "start_time": "2022-11-30T18:48:32.270Z"
      },
      {
        "duration": 54,
        "start_time": "2022-11-30T18:48:32.289Z"
      },
      {
        "duration": 19,
        "start_time": "2022-11-30T18:48:32.345Z"
      },
      {
        "duration": 23,
        "start_time": "2022-11-30T18:48:32.365Z"
      },
      {
        "duration": 18,
        "start_time": "2022-11-30T18:48:32.390Z"
      },
      {
        "duration": 29,
        "start_time": "2022-11-30T18:48:32.432Z"
      },
      {
        "duration": 23,
        "start_time": "2022-11-30T18:48:32.463Z"
      },
      {
        "duration": 5,
        "start_time": "2022-11-30T18:48:32.487Z"
      },
      {
        "duration": 12,
        "start_time": "2022-11-30T18:48:36.418Z"
      },
      {
        "duration": 4,
        "start_time": "2022-11-30T18:51:37.710Z"
      },
      {
        "duration": 10,
        "start_time": "2022-11-30T19:06:10.703Z"
      },
      {
        "duration": 24,
        "start_time": "2022-11-30T19:06:23.214Z"
      },
      {
        "duration": 13,
        "start_time": "2022-11-30T19:07:51.681Z"
      },
      {
        "duration": 36,
        "start_time": "2022-11-30T19:08:03.361Z"
      },
      {
        "duration": 43,
        "start_time": "2022-11-30T19:08:39.920Z"
      },
      {
        "duration": 31,
        "start_time": "2022-11-30T19:09:43.213Z"
      },
      {
        "duration": 22,
        "start_time": "2022-11-30T19:21:53.034Z"
      },
      {
        "duration": 21,
        "start_time": "2022-11-30T19:22:21.142Z"
      },
      {
        "duration": 9,
        "start_time": "2022-11-30T20:38:34.496Z"
      },
      {
        "duration": 29,
        "start_time": "2022-11-30T20:38:40.371Z"
      },
      {
        "duration": 24,
        "start_time": "2022-11-30T20:39:33.790Z"
      },
      {
        "duration": 17,
        "start_time": "2022-11-30T20:39:54.254Z"
      },
      {
        "duration": 3,
        "start_time": "2022-11-30T20:40:27.582Z"
      },
      {
        "duration": 88,
        "start_time": "2022-11-30T20:40:27.589Z"
      },
      {
        "duration": 5,
        "start_time": "2022-11-30T20:40:27.680Z"
      },
      {
        "duration": 36,
        "start_time": "2022-11-30T20:40:27.687Z"
      },
      {
        "duration": 9,
        "start_time": "2022-11-30T20:40:27.725Z"
      },
      {
        "duration": 23,
        "start_time": "2022-11-30T20:40:27.735Z"
      },
      {
        "duration": 11,
        "start_time": "2022-11-30T20:40:27.759Z"
      },
      {
        "duration": 50,
        "start_time": "2022-11-30T20:40:27.772Z"
      },
      {
        "duration": 25,
        "start_time": "2022-11-30T20:40:27.824Z"
      },
      {
        "duration": 21,
        "start_time": "2022-11-30T20:40:27.851Z"
      },
      {
        "duration": 23,
        "start_time": "2022-11-30T20:40:27.874Z"
      },
      {
        "duration": 7,
        "start_time": "2022-11-30T20:40:27.922Z"
      },
      {
        "duration": 30,
        "start_time": "2022-11-30T20:40:27.931Z"
      },
      {
        "duration": 7,
        "start_time": "2022-11-30T20:40:27.963Z"
      },
      {
        "duration": 14,
        "start_time": "2022-11-30T20:40:27.972Z"
      },
      {
        "duration": 21,
        "start_time": "2022-11-30T20:40:27.988Z"
      },
      {
        "duration": 38,
        "start_time": "2022-11-30T20:40:28.010Z"
      },
      {
        "duration": 21,
        "start_time": "2022-11-30T20:40:28.050Z"
      },
      {
        "duration": 48,
        "start_time": "2022-11-30T20:40:28.073Z"
      },
      {
        "duration": 20,
        "start_time": "2022-11-30T20:40:28.123Z"
      },
      {
        "duration": 42,
        "start_time": "2022-11-30T20:40:28.145Z"
      },
      {
        "duration": 55,
        "start_time": "2022-11-30T20:40:28.188Z"
      },
      {
        "duration": 5,
        "start_time": "2022-11-30T20:40:28.245Z"
      },
      {
        "duration": 17,
        "start_time": "2022-11-30T20:40:28.252Z"
      },
      {
        "duration": 6,
        "start_time": "2022-11-30T20:40:28.270Z"
      },
      {
        "duration": 49,
        "start_time": "2022-11-30T20:40:28.278Z"
      },
      {
        "duration": 21,
        "start_time": "2022-11-30T20:40:28.329Z"
      },
      {
        "duration": 10,
        "start_time": "2022-11-30T20:40:30.733Z"
      },
      {
        "duration": 18,
        "start_time": "2022-11-30T20:40:32.490Z"
      },
      {
        "duration": 2,
        "start_time": "2022-11-30T20:44:01.415Z"
      },
      {
        "duration": 104,
        "start_time": "2022-11-30T20:44:01.421Z"
      },
      {
        "duration": 6,
        "start_time": "2022-11-30T20:44:01.527Z"
      },
      {
        "duration": 38,
        "start_time": "2022-11-30T20:44:01.535Z"
      },
      {
        "duration": 14,
        "start_time": "2022-11-30T20:44:01.575Z"
      },
      {
        "duration": 22,
        "start_time": "2022-11-30T20:44:01.590Z"
      },
      {
        "duration": 9,
        "start_time": "2022-11-30T20:44:01.615Z"
      },
      {
        "duration": 16,
        "start_time": "2022-11-30T20:44:01.626Z"
      },
      {
        "duration": 34,
        "start_time": "2022-11-30T20:44:01.644Z"
      },
      {
        "duration": 17,
        "start_time": "2022-11-30T20:44:01.680Z"
      },
      {
        "duration": 41,
        "start_time": "2022-11-30T20:44:01.700Z"
      },
      {
        "duration": 14,
        "start_time": "2022-11-30T20:44:01.743Z"
      },
      {
        "duration": 21,
        "start_time": "2022-11-30T20:44:01.767Z"
      },
      {
        "duration": 11,
        "start_time": "2022-11-30T20:44:01.790Z"
      },
      {
        "duration": 32,
        "start_time": "2022-11-30T20:44:01.804Z"
      },
      {
        "duration": 26,
        "start_time": "2022-11-30T20:44:01.838Z"
      },
      {
        "duration": 72,
        "start_time": "2022-11-30T20:44:01.865Z"
      },
      {
        "duration": 24,
        "start_time": "2022-11-30T20:44:01.939Z"
      },
      {
        "duration": 29,
        "start_time": "2022-11-30T20:44:01.964Z"
      },
      {
        "duration": 46,
        "start_time": "2022-11-30T20:44:01.995Z"
      },
      {
        "duration": 30,
        "start_time": "2022-11-30T20:44:02.043Z"
      },
      {
        "duration": 47,
        "start_time": "2022-11-30T20:44:02.075Z"
      },
      {
        "duration": 6,
        "start_time": "2022-11-30T20:44:02.123Z"
      },
      {
        "duration": 15,
        "start_time": "2022-11-30T20:44:02.131Z"
      },
      {
        "duration": 10,
        "start_time": "2022-11-30T20:44:02.148Z"
      },
      {
        "duration": 36,
        "start_time": "2022-11-30T20:44:02.160Z"
      },
      {
        "duration": 32,
        "start_time": "2022-11-30T20:44:02.198Z"
      },
      {
        "duration": 8,
        "start_time": "2022-11-30T20:44:04.214Z"
      },
      {
        "duration": 5,
        "start_time": "2022-11-30T20:44:11.925Z"
      },
      {
        "duration": 20,
        "start_time": "2022-11-30T20:44:13.522Z"
      },
      {
        "duration": 18,
        "start_time": "2022-11-30T20:45:00.012Z"
      },
      {
        "duration": 18,
        "start_time": "2022-11-30T20:45:26.982Z"
      },
      {
        "duration": 15,
        "start_time": "2022-11-30T20:45:59.511Z"
      },
      {
        "duration": 9,
        "start_time": "2022-11-30T22:23:56.432Z"
      },
      {
        "duration": 9,
        "start_time": "2022-11-30T22:24:04.451Z"
      },
      {
        "duration": 8,
        "start_time": "2022-11-30T22:24:10.404Z"
      },
      {
        "duration": 9,
        "start_time": "2022-11-30T22:24:21.712Z"
      },
      {
        "duration": 8,
        "start_time": "2022-11-30T22:24:32.127Z"
      },
      {
        "duration": 101,
        "start_time": "2022-11-30T22:27:03.821Z"
      },
      {
        "duration": 95,
        "start_time": "2022-11-30T22:27:27.417Z"
      },
      {
        "duration": 96,
        "start_time": "2022-11-30T22:27:44.160Z"
      },
      {
        "duration": 92,
        "start_time": "2022-11-30T22:27:50.287Z"
      },
      {
        "duration": 8,
        "start_time": "2022-11-30T22:29:41.018Z"
      },
      {
        "duration": 188,
        "start_time": "2022-11-30T22:32:43.347Z"
      },
      {
        "duration": 786,
        "start_time": "2022-11-30T22:33:50.127Z"
      },
      {
        "duration": 9,
        "start_time": "2022-11-30T22:40:05.882Z"
      },
      {
        "duration": 8,
        "start_time": "2022-11-30T22:40:19.150Z"
      },
      {
        "duration": 11,
        "start_time": "2022-11-30T22:40:24.571Z"
      },
      {
        "duration": 12,
        "start_time": "2022-11-30T22:40:29.183Z"
      },
      {
        "duration": 10,
        "start_time": "2022-11-30T22:40:33.738Z"
      },
      {
        "duration": 10,
        "start_time": "2022-11-30T22:40:41.638Z"
      },
      {
        "duration": 11,
        "start_time": "2022-11-30T22:41:22.067Z"
      },
      {
        "duration": 9,
        "start_time": "2022-11-30T22:41:27.651Z"
      },
      {
        "duration": 9,
        "start_time": "2022-11-30T22:41:34.771Z"
      },
      {
        "duration": 9,
        "start_time": "2022-11-30T22:41:39.379Z"
      },
      {
        "duration": 8,
        "start_time": "2022-11-30T22:41:43.965Z"
      },
      {
        "duration": 11,
        "start_time": "2022-11-30T22:41:54.570Z"
      },
      {
        "duration": 19,
        "start_time": "2022-11-30T22:52:47.577Z"
      },
      {
        "duration": 1170,
        "start_time": "2022-11-30T22:53:17.719Z"
      },
      {
        "duration": 1074,
        "start_time": "2022-11-30T22:53:36.441Z"
      },
      {
        "duration": 295,
        "start_time": "2022-11-30T22:54:02.166Z"
      },
      {
        "duration": 390,
        "start_time": "2022-11-30T22:56:41.939Z"
      },
      {
        "duration": 317,
        "start_time": "2022-11-30T22:57:49.022Z"
      },
      {
        "duration": 306,
        "start_time": "2022-11-30T22:58:23.719Z"
      },
      {
        "duration": 299,
        "start_time": "2022-11-30T22:58:28.345Z"
      },
      {
        "duration": 7,
        "start_time": "2022-11-30T23:05:19.576Z"
      },
      {
        "duration": 251,
        "start_time": "2022-11-30T23:06:14.859Z"
      },
      {
        "duration": 11,
        "start_time": "2022-11-30T23:06:48.804Z"
      },
      {
        "duration": 772,
        "start_time": "2022-11-30T23:07:06.882Z"
      },
      {
        "duration": 252,
        "start_time": "2022-11-30T23:07:23.051Z"
      },
      {
        "duration": 326,
        "start_time": "2022-11-30T23:08:57.785Z"
      },
      {
        "duration": 334,
        "start_time": "2022-11-30T23:09:08.307Z"
      },
      {
        "duration": 350,
        "start_time": "2022-11-30T23:10:44.074Z"
      },
      {
        "duration": 249,
        "start_time": "2022-11-30T23:11:11.772Z"
      },
      {
        "duration": 4,
        "start_time": "2022-11-30T23:13:35.627Z"
      },
      {
        "duration": 194,
        "start_time": "2022-11-30T23:13:44.711Z"
      },
      {
        "duration": 809,
        "start_time": "2022-11-30T23:14:01.621Z"
      },
      {
        "duration": 18,
        "start_time": "2022-11-30T23:14:25.439Z"
      },
      {
        "duration": 160,
        "start_time": "2022-11-30T23:14:55.199Z"
      },
      {
        "duration": 112,
        "start_time": "2022-11-30T23:15:05.773Z"
      },
      {
        "duration": 125,
        "start_time": "2022-11-30T23:15:22.198Z"
      },
      {
        "duration": 130,
        "start_time": "2022-11-30T23:17:13.451Z"
      },
      {
        "duration": 133,
        "start_time": "2022-11-30T23:18:15.467Z"
      },
      {
        "duration": 138,
        "start_time": "2022-11-30T23:18:49.019Z"
      },
      {
        "duration": 447,
        "start_time": "2022-11-30T23:19:57.029Z"
      },
      {
        "duration": 211,
        "start_time": "2022-11-30T23:27:25.233Z"
      },
      {
        "duration": 118,
        "start_time": "2022-11-30T23:28:06.196Z"
      },
      {
        "duration": 164,
        "start_time": "2022-11-30T23:28:27.820Z"
      },
      {
        "duration": 136,
        "start_time": "2022-11-30T23:28:44.086Z"
      },
      {
        "duration": 112,
        "start_time": "2022-11-30T23:29:13.820Z"
      },
      {
        "duration": 6,
        "start_time": "2022-11-30T23:32:23.961Z"
      },
      {
        "duration": 63,
        "start_time": "2022-11-30T23:33:21.705Z"
      },
      {
        "duration": 35,
        "start_time": "2022-11-30T23:33:25.024Z"
      },
      {
        "duration": 9,
        "start_time": "2022-11-30T23:33:56.175Z"
      },
      {
        "duration": 76,
        "start_time": "2022-11-30T23:34:05.782Z"
      },
      {
        "duration": 72,
        "start_time": "2022-11-30T23:34:36.004Z"
      },
      {
        "duration": 78,
        "start_time": "2022-11-30T23:35:09.294Z"
      },
      {
        "duration": 62,
        "start_time": "2022-11-30T23:35:19.573Z"
      },
      {
        "duration": 68,
        "start_time": "2022-11-30T23:36:03.485Z"
      },
      {
        "duration": 68,
        "start_time": "2022-11-30T23:36:24.765Z"
      },
      {
        "duration": 100,
        "start_time": "2022-11-30T23:37:27.968Z"
      },
      {
        "duration": 112,
        "start_time": "2022-11-30T23:38:47.509Z"
      },
      {
        "duration": 87,
        "start_time": "2022-11-30T23:38:57.319Z"
      },
      {
        "duration": 66,
        "start_time": "2022-11-30T23:39:28.864Z"
      },
      {
        "duration": 70,
        "start_time": "2022-11-30T23:40:07.613Z"
      },
      {
        "duration": 75,
        "start_time": "2022-11-30T23:41:13.814Z"
      },
      {
        "duration": 78,
        "start_time": "2022-11-30T23:41:29.224Z"
      },
      {
        "duration": 71,
        "start_time": "2022-11-30T23:41:52.892Z"
      },
      {
        "duration": 74,
        "start_time": "2022-11-30T23:42:17.711Z"
      },
      {
        "duration": 94,
        "start_time": "2022-11-30T23:42:31.393Z"
      },
      {
        "duration": 76,
        "start_time": "2022-11-30T23:42:45.892Z"
      },
      {
        "duration": 95,
        "start_time": "2022-11-30T23:43:00.485Z"
      },
      {
        "duration": 57,
        "start_time": "2022-11-30T23:44:45.716Z"
      },
      {
        "duration": 47,
        "start_time": "2022-11-30T23:45:41.866Z"
      },
      {
        "duration": 41,
        "start_time": "2022-11-30T23:46:39.394Z"
      },
      {
        "duration": 74,
        "start_time": "2022-11-30T23:47:24.094Z"
      },
      {
        "duration": 99,
        "start_time": "2022-11-30T23:51:25.479Z"
      },
      {
        "duration": 102,
        "start_time": "2022-11-30T23:52:15.256Z"
      },
      {
        "duration": 106,
        "start_time": "2022-11-30T23:52:25.198Z"
      },
      {
        "duration": 77,
        "start_time": "2022-11-30T23:53:05.639Z"
      },
      {
        "duration": 81,
        "start_time": "2022-11-30T23:53:27.596Z"
      },
      {
        "duration": 75,
        "start_time": "2022-12-01T00:06:23.123Z"
      },
      {
        "duration": 182,
        "start_time": "2022-12-01T00:06:53.068Z"
      },
      {
        "duration": 197,
        "start_time": "2022-12-01T00:07:12.147Z"
      },
      {
        "duration": 226,
        "start_time": "2022-12-01T00:07:21.638Z"
      },
      {
        "duration": 224,
        "start_time": "2022-12-01T00:08:05.362Z"
      },
      {
        "duration": 216,
        "start_time": "2022-12-01T00:08:13.456Z"
      },
      {
        "duration": 308,
        "start_time": "2022-12-01T00:08:21.464Z"
      },
      {
        "duration": 223,
        "start_time": "2022-12-01T00:08:29.072Z"
      },
      {
        "duration": 218,
        "start_time": "2022-12-01T00:08:38.617Z"
      },
      {
        "duration": 391,
        "start_time": "2022-12-01T00:08:50.677Z"
      },
      {
        "duration": 231,
        "start_time": "2022-12-01T00:09:07.707Z"
      },
      {
        "duration": 1303,
        "start_time": "2022-12-01T11:30:40.811Z"
      },
      {
        "duration": 135,
        "start_time": "2022-12-01T11:30:42.116Z"
      },
      {
        "duration": 5,
        "start_time": "2022-12-01T11:30:42.253Z"
      },
      {
        "duration": 13,
        "start_time": "2022-12-01T11:30:42.261Z"
      },
      {
        "duration": 6,
        "start_time": "2022-12-01T11:30:42.276Z"
      },
      {
        "duration": 17,
        "start_time": "2022-12-01T11:30:42.283Z"
      },
      {
        "duration": 23,
        "start_time": "2022-12-01T11:30:42.301Z"
      },
      {
        "duration": 16,
        "start_time": "2022-12-01T11:30:42.325Z"
      },
      {
        "duration": 13,
        "start_time": "2022-12-01T11:30:42.343Z"
      },
      {
        "duration": 14,
        "start_time": "2022-12-01T11:30:42.358Z"
      },
      {
        "duration": 51,
        "start_time": "2022-12-01T11:30:42.374Z"
      },
      {
        "duration": 8,
        "start_time": "2022-12-01T11:30:42.427Z"
      },
      {
        "duration": 9,
        "start_time": "2022-12-01T11:30:42.436Z"
      },
      {
        "duration": 8,
        "start_time": "2022-12-01T11:30:42.446Z"
      },
      {
        "duration": 12,
        "start_time": "2022-12-01T11:30:42.455Z"
      },
      {
        "duration": 18,
        "start_time": "2022-12-01T11:30:42.469Z"
      },
      {
        "duration": 30,
        "start_time": "2022-12-01T11:30:42.521Z"
      },
      {
        "duration": 25,
        "start_time": "2022-12-01T11:30:42.552Z"
      },
      {
        "duration": 49,
        "start_time": "2022-12-01T11:30:42.578Z"
      },
      {
        "duration": 15,
        "start_time": "2022-12-01T11:30:42.629Z"
      },
      {
        "duration": 88,
        "start_time": "2022-12-01T11:30:42.645Z"
      },
      {
        "duration": 19,
        "start_time": "2022-12-01T11:30:42.735Z"
      },
      {
        "duration": 5,
        "start_time": "2022-12-01T11:30:42.755Z"
      },
      {
        "duration": 17,
        "start_time": "2022-12-01T11:30:42.761Z"
      },
      {
        "duration": 4,
        "start_time": "2022-12-01T11:30:42.781Z"
      },
      {
        "duration": 48,
        "start_time": "2022-12-01T11:30:42.787Z"
      },
      {
        "duration": 23,
        "start_time": "2022-12-01T11:30:42.836Z"
      },
      {
        "duration": 5,
        "start_time": "2022-12-01T11:30:42.862Z"
      },
      {
        "duration": 12,
        "start_time": "2022-12-01T11:30:42.870Z"
      },
      {
        "duration": 124,
        "start_time": "2022-12-01T11:30:42.884Z"
      },
      {
        "duration": 335,
        "start_time": "2022-12-01T11:30:43.009Z"
      },
      {
        "duration": 290,
        "start_time": "2022-12-01T11:30:43.346Z"
      },
      {
        "duration": 79,
        "start_time": "2022-12-01T11:32:32.922Z"
      },
      {
        "duration": 74,
        "start_time": "2022-12-01T11:44:11.743Z"
      },
      {
        "duration": 84,
        "start_time": "2022-12-01T11:54:12.458Z"
      },
      {
        "duration": 73,
        "start_time": "2022-12-01T11:57:20.403Z"
      },
      {
        "duration": 92,
        "start_time": "2022-12-01T11:59:57.282Z"
      },
      {
        "duration": 86,
        "start_time": "2022-12-01T12:00:14.355Z"
      },
      {
        "duration": 96,
        "start_time": "2022-12-01T12:01:04.856Z"
      },
      {
        "duration": 158,
        "start_time": "2022-12-01T12:01:10.628Z"
      },
      {
        "duration": 86,
        "start_time": "2022-12-01T12:49:42.167Z"
      },
      {
        "duration": 80,
        "start_time": "2022-12-01T12:49:51.917Z"
      },
      {
        "duration": 90,
        "start_time": "2022-12-01T12:50:00.571Z"
      },
      {
        "duration": 87,
        "start_time": "2022-12-01T12:50:13.493Z"
      },
      {
        "duration": 78,
        "start_time": "2022-12-01T12:53:07.170Z"
      },
      {
        "duration": 10,
        "start_time": "2022-12-01T12:55:13.016Z"
      },
      {
        "duration": 89,
        "start_time": "2022-12-01T12:55:41.368Z"
      },
      {
        "duration": 97,
        "start_time": "2022-12-01T12:56:01.561Z"
      },
      {
        "duration": 82,
        "start_time": "2022-12-01T12:56:15.267Z"
      },
      {
        "duration": 77,
        "start_time": "2022-12-01T12:56:27.932Z"
      },
      {
        "duration": 81,
        "start_time": "2022-12-01T12:56:37.251Z"
      },
      {
        "duration": 80,
        "start_time": "2022-12-01T12:56:47.115Z"
      },
      {
        "duration": 83,
        "start_time": "2022-12-01T12:56:54.868Z"
      },
      {
        "duration": 90,
        "start_time": "2022-12-01T12:57:14.910Z"
      },
      {
        "duration": 161,
        "start_time": "2022-12-01T13:14:21.894Z"
      },
      {
        "duration": 87,
        "start_time": "2022-12-01T13:14:32.405Z"
      },
      {
        "duration": 104,
        "start_time": "2022-12-01T13:15:31.330Z"
      },
      {
        "duration": 204,
        "start_time": "2022-12-01T13:18:03.074Z"
      },
      {
        "duration": 90,
        "start_time": "2022-12-01T13:19:16.314Z"
      },
      {
        "duration": 90,
        "start_time": "2022-12-01T13:19:28.218Z"
      },
      {
        "duration": 85,
        "start_time": "2022-12-01T13:19:34.045Z"
      },
      {
        "duration": 91,
        "start_time": "2022-12-01T13:19:45.131Z"
      },
      {
        "duration": 12,
        "start_time": "2022-12-01T13:26:49.274Z"
      },
      {
        "duration": 9,
        "start_time": "2022-12-01T13:42:13.060Z"
      },
      {
        "duration": 10,
        "start_time": "2022-12-01T13:43:22.996Z"
      },
      {
        "duration": 44,
        "start_time": "2022-12-01T14:35:06.581Z"
      },
      {
        "duration": 1237,
        "start_time": "2022-12-01T14:35:12.891Z"
      },
      {
        "duration": 136,
        "start_time": "2022-12-01T14:35:14.130Z"
      },
      {
        "duration": 6,
        "start_time": "2022-12-01T14:35:14.267Z"
      },
      {
        "duration": 8,
        "start_time": "2022-12-01T14:35:14.275Z"
      },
      {
        "duration": 8,
        "start_time": "2022-12-01T14:35:14.284Z"
      },
      {
        "duration": 28,
        "start_time": "2022-12-01T14:35:14.293Z"
      },
      {
        "duration": 10,
        "start_time": "2022-12-01T14:35:14.323Z"
      },
      {
        "duration": 23,
        "start_time": "2022-12-01T14:35:14.335Z"
      },
      {
        "duration": 13,
        "start_time": "2022-12-01T14:35:14.359Z"
      },
      {
        "duration": 14,
        "start_time": "2022-12-01T14:35:14.375Z"
      },
      {
        "duration": 46,
        "start_time": "2022-12-01T14:35:14.391Z"
      },
      {
        "duration": 8,
        "start_time": "2022-12-01T14:35:14.439Z"
      },
      {
        "duration": 9,
        "start_time": "2022-12-01T14:35:14.449Z"
      },
      {
        "duration": 8,
        "start_time": "2022-12-01T14:35:14.460Z"
      },
      {
        "duration": 14,
        "start_time": "2022-12-01T14:35:14.469Z"
      },
      {
        "duration": 45,
        "start_time": "2022-12-01T14:35:14.485Z"
      },
      {
        "duration": 29,
        "start_time": "2022-12-01T14:35:14.531Z"
      },
      {
        "duration": 18,
        "start_time": "2022-12-01T14:35:14.562Z"
      },
      {
        "duration": 48,
        "start_time": "2022-12-01T14:35:14.582Z"
      },
      {
        "duration": 15,
        "start_time": "2022-12-01T14:35:14.631Z"
      },
      {
        "duration": 25,
        "start_time": "2022-12-01T14:35:14.647Z"
      },
      {
        "duration": 16,
        "start_time": "2022-12-01T14:35:14.673Z"
      },
      {
        "duration": 32,
        "start_time": "2022-12-01T14:35:14.690Z"
      },
      {
        "duration": 10,
        "start_time": "2022-12-01T14:35:14.724Z"
      },
      {
        "duration": 12,
        "start_time": "2022-12-01T14:35:14.736Z"
      },
      {
        "duration": 28,
        "start_time": "2022-12-01T14:35:14.749Z"
      },
      {
        "duration": 20,
        "start_time": "2022-12-01T14:35:14.778Z"
      },
      {
        "duration": 23,
        "start_time": "2022-12-01T14:35:14.801Z"
      },
      {
        "duration": 9,
        "start_time": "2022-12-01T14:35:14.825Z"
      },
      {
        "duration": 109,
        "start_time": "2022-12-01T14:35:14.836Z"
      },
      {
        "duration": 318,
        "start_time": "2022-12-01T14:35:14.947Z"
      },
      {
        "duration": 316,
        "start_time": "2022-12-01T14:35:15.267Z"
      },
      {
        "duration": 85,
        "start_time": "2022-12-01T14:35:15.585Z"
      },
      {
        "duration": 10,
        "start_time": "2022-12-01T14:35:15.672Z"
      },
      {
        "duration": 102,
        "start_time": "2022-12-01T14:35:15.683Z"
      },
      {
        "duration": 10,
        "start_time": "2022-12-01T14:35:15.787Z"
      },
      {
        "duration": 29,
        "start_time": "2022-12-01T14:35:19.021Z"
      },
      {
        "duration": 1324,
        "start_time": "2022-12-01T16:56:03.922Z"
      },
      {
        "duration": 234,
        "start_time": "2022-12-01T16:56:05.248Z"
      },
      {
        "duration": 5,
        "start_time": "2022-12-01T16:56:05.483Z"
      },
      {
        "duration": 8,
        "start_time": "2022-12-01T16:56:05.490Z"
      },
      {
        "duration": 6,
        "start_time": "2022-12-01T16:56:05.499Z"
      },
      {
        "duration": 32,
        "start_time": "2022-12-01T16:56:05.506Z"
      },
      {
        "duration": 9,
        "start_time": "2022-12-01T16:56:05.540Z"
      },
      {
        "duration": 17,
        "start_time": "2022-12-01T16:56:05.550Z"
      },
      {
        "duration": 14,
        "start_time": "2022-12-01T16:56:05.568Z"
      },
      {
        "duration": 14,
        "start_time": "2022-12-01T16:56:05.584Z"
      },
      {
        "duration": 52,
        "start_time": "2022-12-01T16:56:05.600Z"
      },
      {
        "duration": 9,
        "start_time": "2022-12-01T16:56:05.654Z"
      },
      {
        "duration": 8,
        "start_time": "2022-12-01T16:56:05.664Z"
      },
      {
        "duration": 7,
        "start_time": "2022-12-01T16:56:05.674Z"
      },
      {
        "duration": 16,
        "start_time": "2022-12-01T16:56:05.682Z"
      },
      {
        "duration": 50,
        "start_time": "2022-12-01T16:56:05.699Z"
      },
      {
        "duration": 31,
        "start_time": "2022-12-01T16:56:05.750Z"
      },
      {
        "duration": 23,
        "start_time": "2022-12-01T16:56:05.783Z"
      },
      {
        "duration": 57,
        "start_time": "2022-12-01T16:56:05.807Z"
      },
      {
        "duration": 22,
        "start_time": "2022-12-01T16:56:05.866Z"
      },
      {
        "duration": 57,
        "start_time": "2022-12-01T16:56:05.890Z"
      },
      {
        "duration": 21,
        "start_time": "2022-12-01T16:56:05.949Z"
      },
      {
        "duration": 5,
        "start_time": "2022-12-01T16:56:05.972Z"
      },
      {
        "duration": 11,
        "start_time": "2022-12-01T16:56:05.979Z"
      },
      {
        "duration": 5,
        "start_time": "2022-12-01T16:56:05.991Z"
      },
      {
        "duration": 57,
        "start_time": "2022-12-01T16:56:05.997Z"
      },
      {
        "duration": 21,
        "start_time": "2022-12-01T16:56:06.055Z"
      },
      {
        "duration": 5,
        "start_time": "2022-12-01T16:56:06.079Z"
      },
      {
        "duration": 9,
        "start_time": "2022-12-01T16:56:06.085Z"
      },
      {
        "duration": 136,
        "start_time": "2022-12-01T16:56:06.095Z"
      },
      {
        "duration": 321,
        "start_time": "2022-12-01T16:56:06.236Z"
      },
      {
        "duration": 10,
        "start_time": "2022-12-01T16:56:15.023Z"
      },
      {
        "duration": 10,
        "start_time": "2022-12-01T16:56:39.436Z"
      },
      {
        "duration": 108,
        "start_time": "2022-12-01T16:57:03.811Z"
      },
      {
        "duration": 15,
        "start_time": "2022-12-01T16:57:20.721Z"
      },
      {
        "duration": 115,
        "start_time": "2022-12-01T16:57:41.359Z"
      },
      {
        "duration": 98,
        "start_time": "2022-12-01T16:57:56.423Z"
      },
      {
        "duration": 206,
        "start_time": "2022-12-01T16:58:38.744Z"
      },
      {
        "duration": 353,
        "start_time": "2022-12-01T16:59:02.475Z"
      },
      {
        "duration": 364,
        "start_time": "2022-12-01T16:59:37.913Z"
      },
      {
        "duration": 230,
        "start_time": "2022-12-01T17:00:11.494Z"
      },
      {
        "duration": 19,
        "start_time": "2022-12-01T17:00:30.864Z"
      },
      {
        "duration": 170,
        "start_time": "2022-12-01T17:00:50.877Z"
      },
      {
        "duration": 3,
        "start_time": "2022-12-01T17:02:29.859Z"
      },
      {
        "duration": 93,
        "start_time": "2022-12-01T17:02:29.866Z"
      },
      {
        "duration": 7,
        "start_time": "2022-12-01T17:02:29.961Z"
      },
      {
        "duration": 8,
        "start_time": "2022-12-01T17:02:29.970Z"
      },
      {
        "duration": 12,
        "start_time": "2022-12-01T17:02:29.980Z"
      },
      {
        "duration": 52,
        "start_time": "2022-12-01T17:02:29.994Z"
      },
      {
        "duration": 15,
        "start_time": "2022-12-01T17:02:30.049Z"
      },
      {
        "duration": 32,
        "start_time": "2022-12-01T17:02:30.065Z"
      },
      {
        "duration": 18,
        "start_time": "2022-12-01T17:02:30.099Z"
      },
      {
        "duration": 19,
        "start_time": "2022-12-01T17:02:30.137Z"
      },
      {
        "duration": 25,
        "start_time": "2022-12-01T17:02:30.158Z"
      },
      {
        "duration": 8,
        "start_time": "2022-12-01T17:02:30.184Z"
      },
      {
        "duration": 10,
        "start_time": "2022-12-01T17:02:30.193Z"
      },
      {
        "duration": 44,
        "start_time": "2022-12-01T17:02:30.205Z"
      },
      {
        "duration": 53,
        "start_time": "2022-12-01T17:02:30.250Z"
      },
      {
        "duration": 47,
        "start_time": "2022-12-01T17:02:30.305Z"
      },
      {
        "duration": 29,
        "start_time": "2022-12-01T17:02:30.354Z"
      },
      {
        "duration": 21,
        "start_time": "2022-12-01T17:02:30.384Z"
      },
      {
        "duration": 53,
        "start_time": "2022-12-01T17:02:30.407Z"
      },
      {
        "duration": 21,
        "start_time": "2022-12-01T17:02:30.462Z"
      },
      {
        "duration": 56,
        "start_time": "2022-12-01T17:02:30.484Z"
      },
      {
        "duration": 24,
        "start_time": "2022-12-01T17:02:30.542Z"
      },
      {
        "duration": 12,
        "start_time": "2022-12-01T17:02:30.568Z"
      },
      {
        "duration": 18,
        "start_time": "2022-12-01T17:02:30.583Z"
      },
      {
        "duration": 27,
        "start_time": "2022-12-01T17:02:30.603Z"
      },
      {
        "duration": 57,
        "start_time": "2022-12-01T17:02:30.632Z"
      },
      {
        "duration": 21,
        "start_time": "2022-12-01T17:02:30.691Z"
      },
      {
        "duration": 5,
        "start_time": "2022-12-01T17:02:30.714Z"
      },
      {
        "duration": 23,
        "start_time": "2022-12-01T17:02:30.722Z"
      },
      {
        "duration": 109,
        "start_time": "2022-12-01T17:02:30.747Z"
      },
      {
        "duration": 339,
        "start_time": "2022-12-01T17:02:30.858Z"
      },
      {
        "duration": 268,
        "start_time": "2022-12-01T17:02:31.199Z"
      },
      {
        "duration": 88,
        "start_time": "2022-12-01T17:02:31.469Z"
      },
      {
        "duration": 11,
        "start_time": "2022-12-01T17:02:31.559Z"
      },
      {
        "duration": 112,
        "start_time": "2022-12-01T17:02:31.571Z"
      },
      {
        "duration": 12,
        "start_time": "2022-12-01T17:02:31.685Z"
      },
      {
        "duration": 29,
        "start_time": "2022-12-01T17:02:31.699Z"
      },
      {
        "duration": 3,
        "start_time": "2022-12-01T17:11:57.386Z"
      },
      {
        "duration": 108,
        "start_time": "2022-12-01T17:11:57.393Z"
      },
      {
        "duration": 5,
        "start_time": "2022-12-01T17:11:57.502Z"
      },
      {
        "duration": 29,
        "start_time": "2022-12-01T17:11:57.509Z"
      },
      {
        "duration": 27,
        "start_time": "2022-12-01T17:11:57.540Z"
      },
      {
        "duration": 45,
        "start_time": "2022-12-01T17:11:57.569Z"
      },
      {
        "duration": 25,
        "start_time": "2022-12-01T17:11:57.616Z"
      },
      {
        "duration": 25,
        "start_time": "2022-12-01T17:11:57.643Z"
      },
      {
        "duration": 13,
        "start_time": "2022-12-01T17:11:57.670Z"
      },
      {
        "duration": 15,
        "start_time": "2022-12-01T17:11:57.685Z"
      },
      {
        "duration": 25,
        "start_time": "2022-12-01T17:11:57.799Z"
      },
      {
        "duration": 18,
        "start_time": "2022-12-01T17:11:57.826Z"
      },
      {
        "duration": 20,
        "start_time": "2022-12-01T17:11:57.845Z"
      },
      {
        "duration": 16,
        "start_time": "2022-12-01T17:11:57.866Z"
      },
      {
        "duration": 33,
        "start_time": "2022-12-01T17:11:57.884Z"
      },
      {
        "duration": 26,
        "start_time": "2022-12-01T17:11:57.918Z"
      },
      {
        "duration": 30,
        "start_time": "2022-12-01T17:11:57.945Z"
      },
      {
        "duration": 19,
        "start_time": "2022-12-01T17:11:57.977Z"
      },
      {
        "duration": 49,
        "start_time": "2022-12-01T17:11:57.998Z"
      },
      {
        "duration": 20,
        "start_time": "2022-12-01T17:11:58.048Z"
      },
      {
        "duration": 29,
        "start_time": "2022-12-01T17:11:58.070Z"
      },
      {
        "duration": 45,
        "start_time": "2022-12-01T17:11:58.100Z"
      },
      {
        "duration": 4,
        "start_time": "2022-12-01T17:11:58.147Z"
      },
      {
        "duration": 17,
        "start_time": "2022-12-01T17:11:58.152Z"
      },
      {
        "duration": 8,
        "start_time": "2022-12-01T17:11:58.171Z"
      },
      {
        "duration": 43,
        "start_time": "2022-12-01T17:11:58.181Z"
      },
      {
        "duration": 24,
        "start_time": "2022-12-01T17:11:58.226Z"
      },
      {
        "duration": 5,
        "start_time": "2022-12-01T17:11:58.251Z"
      },
      {
        "duration": 22,
        "start_time": "2022-12-01T17:11:58.259Z"
      },
      {
        "duration": 115,
        "start_time": "2022-12-01T17:11:58.283Z"
      },
      {
        "duration": 325,
        "start_time": "2022-12-01T17:11:58.400Z"
      },
      {
        "duration": 326,
        "start_time": "2022-12-01T17:34:27.604Z"
      },
      {
        "duration": 276,
        "start_time": "2022-12-01T17:46:23.054Z"
      },
      {
        "duration": 3,
        "start_time": "2022-12-01T17:46:46.623Z"
      },
      {
        "duration": 84,
        "start_time": "2022-12-01T17:46:46.637Z"
      },
      {
        "duration": 5,
        "start_time": "2022-12-01T17:46:46.723Z"
      },
      {
        "duration": 9,
        "start_time": "2022-12-01T17:46:46.729Z"
      },
      {
        "duration": 4,
        "start_time": "2022-12-01T17:46:46.740Z"
      },
      {
        "duration": 17,
        "start_time": "2022-12-01T17:46:46.746Z"
      },
      {
        "duration": 9,
        "start_time": "2022-12-01T17:46:46.765Z"
      },
      {
        "duration": 16,
        "start_time": "2022-12-01T17:46:46.775Z"
      },
      {
        "duration": 46,
        "start_time": "2022-12-01T17:46:46.793Z"
      },
      {
        "duration": 15,
        "start_time": "2022-12-01T17:46:46.841Z"
      },
      {
        "duration": 24,
        "start_time": "2022-12-01T17:46:46.858Z"
      },
      {
        "duration": 9,
        "start_time": "2022-12-01T17:46:46.883Z"
      },
      {
        "duration": 10,
        "start_time": "2022-12-01T17:46:46.893Z"
      },
      {
        "duration": 38,
        "start_time": "2022-12-01T17:46:46.904Z"
      },
      {
        "duration": 13,
        "start_time": "2022-12-01T17:46:46.944Z"
      },
      {
        "duration": 21,
        "start_time": "2022-12-01T17:46:46.959Z"
      },
      {
        "duration": 58,
        "start_time": "2022-12-01T17:46:46.982Z"
      },
      {
        "duration": 20,
        "start_time": "2022-12-01T17:46:47.043Z"
      },
      {
        "duration": 28,
        "start_time": "2022-12-01T17:46:47.065Z"
      },
      {
        "duration": 54,
        "start_time": "2022-12-01T17:46:47.095Z"
      },
      {
        "duration": 29,
        "start_time": "2022-12-01T17:46:47.151Z"
      },
      {
        "duration": 22,
        "start_time": "2022-12-01T17:46:47.182Z"
      },
      {
        "duration": 5,
        "start_time": "2022-12-01T17:46:47.205Z"
      },
      {
        "duration": 34,
        "start_time": "2022-12-01T17:46:47.211Z"
      },
      {
        "duration": 7,
        "start_time": "2022-12-01T17:46:47.246Z"
      },
      {
        "duration": 29,
        "start_time": "2022-12-01T17:46:47.255Z"
      },
      {
        "duration": 21,
        "start_time": "2022-12-01T17:46:47.285Z"
      },
      {
        "duration": 30,
        "start_time": "2022-12-01T17:46:47.307Z"
      },
      {
        "duration": 8,
        "start_time": "2022-12-01T17:46:47.340Z"
      },
      {
        "duration": 109,
        "start_time": "2022-12-01T17:46:47.350Z"
      },
      {
        "duration": 329,
        "start_time": "2022-12-01T17:46:47.461Z"
      },
      {
        "duration": 329,
        "start_time": "2022-12-01T17:46:47.792Z"
      },
      {
        "duration": 383,
        "start_time": "2022-12-01T17:46:50.693Z"
      },
      {
        "duration": 119,
        "start_time": "2022-12-01T17:47:08.255Z"
      },
      {
        "duration": 75,
        "start_time": "2022-12-01T17:47:22.803Z"
      },
      {
        "duration": 124,
        "start_time": "2022-12-01T17:47:26.035Z"
      },
      {
        "duration": 127,
        "start_time": "2022-12-01T17:47:42.039Z"
      },
      {
        "duration": 123,
        "start_time": "2022-12-01T17:47:59.994Z"
      },
      {
        "duration": 394,
        "start_time": "2022-12-01T17:48:43.198Z"
      },
      {
        "duration": 120,
        "start_time": "2022-12-01T17:49:25.566Z"
      },
      {
        "duration": 124,
        "start_time": "2022-12-01T17:49:56.516Z"
      },
      {
        "duration": 118,
        "start_time": "2022-12-01T17:50:07.167Z"
      },
      {
        "duration": 126,
        "start_time": "2022-12-01T17:50:39.098Z"
      },
      {
        "duration": 119,
        "start_time": "2022-12-01T17:50:46.660Z"
      },
      {
        "duration": 72,
        "start_time": "2022-12-01T17:50:51.435Z"
      },
      {
        "duration": 302,
        "start_time": "2022-12-01T17:50:57.949Z"
      },
      {
        "duration": 1107,
        "start_time": "2022-12-01T18:15:49.316Z"
      },
      {
        "duration": 11,
        "start_time": "2022-12-01T18:16:00.681Z"
      },
      {
        "duration": 268,
        "start_time": "2022-12-01T18:16:22.474Z"
      },
      {
        "duration": 116,
        "start_time": "2022-12-01T18:16:52.576Z"
      },
      {
        "duration": 157,
        "start_time": "2022-12-01T18:17:25.127Z"
      },
      {
        "duration": 158,
        "start_time": "2022-12-01T18:17:38.265Z"
      },
      {
        "duration": 149,
        "start_time": "2022-12-01T18:18:00.725Z"
      },
      {
        "duration": 173,
        "start_time": "2022-12-01T18:18:25.958Z"
      },
      {
        "duration": 151,
        "start_time": "2022-12-01T18:18:36.596Z"
      },
      {
        "duration": 127,
        "start_time": "2022-12-01T18:18:51.362Z"
      },
      {
        "duration": 145,
        "start_time": "2022-12-01T18:19:00.871Z"
      },
      {
        "duration": 127,
        "start_time": "2022-12-01T18:19:10.110Z"
      },
      {
        "duration": 151,
        "start_time": "2022-12-01T18:23:26.544Z"
      },
      {
        "duration": 168,
        "start_time": "2022-12-01T18:24:31.702Z"
      },
      {
        "duration": 198,
        "start_time": "2022-12-01T18:24:48.716Z"
      },
      {
        "duration": 267,
        "start_time": "2022-12-01T18:25:16.408Z"
      },
      {
        "duration": 175,
        "start_time": "2022-12-01T18:30:24.799Z"
      },
      {
        "duration": 167,
        "start_time": "2022-12-01T18:30:45.053Z"
      },
      {
        "duration": 197,
        "start_time": "2022-12-01T18:31:06.849Z"
      },
      {
        "duration": 13,
        "start_time": "2022-12-01T18:32:14.568Z"
      },
      {
        "duration": 14,
        "start_time": "2022-12-01T18:32:25.470Z"
      },
      {
        "duration": 16,
        "start_time": "2022-12-01T18:33:16.458Z"
      },
      {
        "duration": 30,
        "start_time": "2022-12-01T18:33:22.514Z"
      },
      {
        "duration": 108,
        "start_time": "2022-12-01T18:33:41.020Z"
      },
      {
        "duration": 1206,
        "start_time": "2022-12-01T18:33:45.864Z"
      },
      {
        "duration": 18,
        "start_time": "2022-12-01T18:34:08.031Z"
      },
      {
        "duration": 14,
        "start_time": "2022-12-01T18:34:21.916Z"
      },
      {
        "duration": 14,
        "start_time": "2022-12-01T18:34:32.881Z"
      },
      {
        "duration": 13,
        "start_time": "2022-12-01T18:34:37.754Z"
      },
      {
        "duration": 426,
        "start_time": "2022-12-01T18:35:16.764Z"
      },
      {
        "duration": 0,
        "start_time": "2022-12-01T18:35:22.691Z"
      },
      {
        "duration": 1801,
        "start_time": "2022-12-01T18:35:26.151Z"
      },
      {
        "duration": 15,
        "start_time": "2022-12-01T18:35:36.451Z"
      },
      {
        "duration": 12,
        "start_time": "2022-12-01T18:35:44.415Z"
      },
      {
        "duration": 12,
        "start_time": "2022-12-01T18:35:49.649Z"
      },
      {
        "duration": 293,
        "start_time": "2022-12-01T18:36:26.859Z"
      },
      {
        "duration": 279,
        "start_time": "2022-12-01T18:36:50.709Z"
      },
      {
        "duration": 20,
        "start_time": "2022-12-01T18:37:16.054Z"
      },
      {
        "duration": 83,
        "start_time": "2022-12-01T18:38:10.869Z"
      },
      {
        "duration": 345,
        "start_time": "2022-12-01T18:38:18.853Z"
      },
      {
        "duration": 20,
        "start_time": "2022-12-01T18:38:47.515Z"
      },
      {
        "duration": 299,
        "start_time": "2022-12-01T18:39:03.224Z"
      },
      {
        "duration": 1099,
        "start_time": "2022-12-01T18:39:32.886Z"
      },
      {
        "duration": 993,
        "start_time": "2022-12-01T18:39:45.060Z"
      },
      {
        "duration": 335,
        "start_time": "2022-12-01T18:39:51.632Z"
      },
      {
        "duration": 1134,
        "start_time": "2022-12-01T18:40:07.378Z"
      },
      {
        "duration": 990,
        "start_time": "2022-12-01T18:43:58.174Z"
      },
      {
        "duration": 73,
        "start_time": "2022-12-01T18:44:12.024Z"
      },
      {
        "duration": 80,
        "start_time": "2022-12-01T18:44:19.290Z"
      },
      {
        "duration": 1110,
        "start_time": "2022-12-01T18:44:38.632Z"
      },
      {
        "duration": 952,
        "start_time": "2022-12-01T18:44:47.825Z"
      },
      {
        "duration": 74,
        "start_time": "2022-12-01T18:50:06.157Z"
      },
      {
        "duration": 75,
        "start_time": "2022-12-01T18:50:18.650Z"
      },
      {
        "duration": 93,
        "start_time": "2022-12-01T18:50:33.793Z"
      },
      {
        "duration": 1018,
        "start_time": "2022-12-01T18:50:57.589Z"
      },
      {
        "duration": 1225,
        "start_time": "2022-12-01T18:51:20.978Z"
      },
      {
        "duration": 956,
        "start_time": "2022-12-01T18:51:36.759Z"
      },
      {
        "duration": 1111,
        "start_time": "2022-12-01T18:51:49.759Z"
      },
      {
        "duration": 302,
        "start_time": "2022-12-01T18:52:08.421Z"
      },
      {
        "duration": 296,
        "start_time": "2022-12-01T18:52:27.406Z"
      },
      {
        "duration": 963,
        "start_time": "2022-12-01T18:52:35.301Z"
      },
      {
        "duration": 25,
        "start_time": "2022-12-01T19:43:34.097Z"
      },
      {
        "duration": 29,
        "start_time": "2022-12-01T20:22:04.493Z"
      },
      {
        "duration": 3,
        "start_time": "2022-12-01T20:25:41.409Z"
      },
      {
        "duration": 100,
        "start_time": "2022-12-01T20:25:41.414Z"
      },
      {
        "duration": 6,
        "start_time": "2022-12-01T20:25:41.515Z"
      },
      {
        "duration": 8,
        "start_time": "2022-12-01T20:25:41.538Z"
      },
      {
        "duration": 6,
        "start_time": "2022-12-01T20:25:41.547Z"
      },
      {
        "duration": 18,
        "start_time": "2022-12-01T20:25:41.554Z"
      },
      {
        "duration": 9,
        "start_time": "2022-12-01T20:25:41.573Z"
      },
      {
        "duration": 17,
        "start_time": "2022-12-01T20:25:41.584Z"
      },
      {
        "duration": 15,
        "start_time": "2022-12-01T20:25:41.638Z"
      },
      {
        "duration": 15,
        "start_time": "2022-12-01T20:25:41.654Z"
      },
      {
        "duration": 23,
        "start_time": "2022-12-01T20:25:41.671Z"
      },
      {
        "duration": 42,
        "start_time": "2022-12-01T20:25:41.695Z"
      },
      {
        "duration": 9,
        "start_time": "2022-12-01T20:25:41.739Z"
      },
      {
        "duration": 12,
        "start_time": "2022-12-01T20:25:41.750Z"
      },
      {
        "duration": 13,
        "start_time": "2022-12-01T20:25:41.764Z"
      },
      {
        "duration": 22,
        "start_time": "2022-12-01T20:25:41.778Z"
      },
      {
        "duration": 59,
        "start_time": "2022-12-01T20:25:41.802Z"
      },
      {
        "duration": 22,
        "start_time": "2022-12-01T20:25:41.862Z"
      },
      {
        "duration": 60,
        "start_time": "2022-12-01T20:25:41.885Z"
      },
      {
        "duration": 20,
        "start_time": "2022-12-01T20:25:41.947Z"
      },
      {
        "duration": 28,
        "start_time": "2022-12-01T20:25:41.970Z"
      },
      {
        "duration": 46,
        "start_time": "2022-12-01T20:25:42.000Z"
      },
      {
        "duration": 4,
        "start_time": "2022-12-01T20:25:42.048Z"
      },
      {
        "duration": 14,
        "start_time": "2022-12-01T20:25:42.055Z"
      },
      {
        "duration": 7,
        "start_time": "2022-12-01T20:25:42.070Z"
      },
      {
        "duration": 29,
        "start_time": "2022-12-01T20:25:42.078Z"
      },
      {
        "duration": 34,
        "start_time": "2022-12-01T20:25:42.137Z"
      },
      {
        "duration": 6,
        "start_time": "2022-12-01T20:25:42.173Z"
      },
      {
        "duration": 10,
        "start_time": "2022-12-01T20:25:42.181Z"
      },
      {
        "duration": 122,
        "start_time": "2022-12-01T20:25:42.193Z"
      },
      {
        "duration": 473,
        "start_time": "2022-12-01T20:25:42.316Z"
      },
      {
        "duration": 290,
        "start_time": "2022-12-01T20:25:42.791Z"
      },
      {
        "duration": 955,
        "start_time": "2022-12-01T20:25:43.083Z"
      },
      {
        "duration": 304,
        "start_time": "2022-12-01T20:25:44.039Z"
      },
      {
        "duration": 81,
        "start_time": "2022-12-01T20:25:44.344Z"
      },
      {
        "duration": 12,
        "start_time": "2022-12-01T20:25:44.438Z"
      },
      {
        "duration": 115,
        "start_time": "2022-12-01T20:25:44.452Z"
      },
      {
        "duration": 14,
        "start_time": "2022-12-01T20:25:44.570Z"
      },
      {
        "duration": 46,
        "start_time": "2022-12-01T20:25:44.587Z"
      },
      {
        "duration": 157,
        "start_time": "2022-12-01T20:34:11.090Z"
      },
      {
        "duration": 135,
        "start_time": "2022-12-01T20:34:37.461Z"
      },
      {
        "duration": 251,
        "start_time": "2022-12-01T20:36:12.065Z"
      },
      {
        "duration": 929,
        "start_time": "2022-12-01T20:38:59.137Z"
      },
      {
        "duration": 136,
        "start_time": "2022-12-01T20:39:34.633Z"
      },
      {
        "duration": 126,
        "start_time": "2022-12-01T20:39:41.095Z"
      },
      {
        "duration": 142,
        "start_time": "2022-12-01T20:39:56.455Z"
      },
      {
        "duration": 116,
        "start_time": "2022-12-01T20:40:03.872Z"
      },
      {
        "duration": 110,
        "start_time": "2022-12-01T20:40:13.021Z"
      },
      {
        "duration": 145,
        "start_time": "2022-12-01T20:40:21.379Z"
      },
      {
        "duration": 118,
        "start_time": "2022-12-01T20:40:38.536Z"
      },
      {
        "duration": 115,
        "start_time": "2022-12-01T20:41:11.975Z"
      },
      {
        "duration": 137,
        "start_time": "2022-12-01T20:41:22.264Z"
      },
      {
        "duration": 109,
        "start_time": "2022-12-01T20:42:00.916Z"
      },
      {
        "duration": 244,
        "start_time": "2022-12-01T20:42:11.341Z"
      },
      {
        "duration": 121,
        "start_time": "2022-12-01T20:42:30.146Z"
      },
      {
        "duration": 124,
        "start_time": "2022-12-01T22:55:49.462Z"
      },
      {
        "duration": 9,
        "start_time": "2022-12-01T22:56:10.628Z"
      },
      {
        "duration": 10,
        "start_time": "2022-12-01T22:56:18.587Z"
      },
      {
        "duration": 9,
        "start_time": "2022-12-01T23:03:52.436Z"
      },
      {
        "duration": 9,
        "start_time": "2022-12-01T23:03:59.807Z"
      },
      {
        "duration": 16,
        "start_time": "2022-12-01T23:04:30.191Z"
      },
      {
        "duration": 1114,
        "start_time": "2022-12-01T23:04:47.584Z"
      },
      {
        "duration": 11,
        "start_time": "2022-12-01T23:05:12.830Z"
      },
      {
        "duration": 9,
        "start_time": "2022-12-01T23:05:54.913Z"
      },
      {
        "duration": 9,
        "start_time": "2022-12-01T23:06:00.659Z"
      },
      {
        "duration": 139,
        "start_time": "2022-12-01T23:07:51.803Z"
      },
      {
        "duration": 287,
        "start_time": "2022-12-01T23:08:20.379Z"
      },
      {
        "duration": 1328,
        "start_time": "2022-12-01T23:08:28.377Z"
      },
      {
        "duration": 929,
        "start_time": "2022-12-01T23:32:36.773Z"
      },
      {
        "duration": 15,
        "start_time": "2022-12-01T23:48:38.474Z"
      },
      {
        "duration": 5,
        "start_time": "2022-12-01T23:48:55.132Z"
      },
      {
        "duration": 7,
        "start_time": "2022-12-01T23:49:17.770Z"
      },
      {
        "duration": 11,
        "start_time": "2022-12-01T23:49:36.891Z"
      },
      {
        "duration": 110,
        "start_time": "2022-12-01T23:50:04.120Z"
      },
      {
        "duration": 92,
        "start_time": "2022-12-01T23:50:13.353Z"
      },
      {
        "duration": 86,
        "start_time": "2022-12-01T23:50:35.397Z"
      },
      {
        "duration": 88,
        "start_time": "2022-12-01T23:50:44.744Z"
      },
      {
        "duration": 80,
        "start_time": "2022-12-01T23:50:52.591Z"
      },
      {
        "duration": 113,
        "start_time": "2022-12-01T23:51:21.546Z"
      },
      {
        "duration": 113,
        "start_time": "2022-12-01T23:53:27.934Z"
      },
      {
        "duration": 93,
        "start_time": "2022-12-01T23:57:36.880Z"
      },
      {
        "duration": 96,
        "start_time": "2022-12-01T23:58:05.709Z"
      },
      {
        "duration": 95,
        "start_time": "2022-12-01T23:58:16.517Z"
      },
      {
        "duration": 86,
        "start_time": "2022-12-01T23:58:24.486Z"
      },
      {
        "duration": 94,
        "start_time": "2022-12-01T23:58:28.865Z"
      },
      {
        "duration": 93,
        "start_time": "2022-12-02T00:14:37.273Z"
      },
      {
        "duration": 92,
        "start_time": "2022-12-02T00:15:10.098Z"
      },
      {
        "duration": 94,
        "start_time": "2022-12-02T00:15:33.757Z"
      },
      {
        "duration": 10,
        "start_time": "2022-12-02T00:16:02.973Z"
      },
      {
        "duration": 9,
        "start_time": "2022-12-02T00:16:23.010Z"
      },
      {
        "duration": 164,
        "start_time": "2022-12-02T00:17:15.915Z"
      },
      {
        "duration": 41,
        "start_time": "2022-12-02T00:18:01.017Z"
      },
      {
        "duration": 38,
        "start_time": "2022-12-02T00:21:05.345Z"
      },
      {
        "duration": 27,
        "start_time": "2022-12-02T00:21:55.311Z"
      },
      {
        "duration": 30,
        "start_time": "2022-12-02T00:23:15.695Z"
      },
      {
        "duration": 1056,
        "start_time": "2022-12-02T00:25:06.151Z"
      },
      {
        "duration": 9,
        "start_time": "2022-12-02T00:28:12.685Z"
      },
      {
        "duration": 43,
        "start_time": "2022-12-02T00:28:18.127Z"
      },
      {
        "duration": 29,
        "start_time": "2022-12-02T00:28:33.944Z"
      },
      {
        "duration": 29,
        "start_time": "2022-12-02T00:28:48.706Z"
      },
      {
        "duration": 10,
        "start_time": "2022-12-02T00:35:10.579Z"
      },
      {
        "duration": 10,
        "start_time": "2022-12-02T00:35:52.804Z"
      },
      {
        "duration": 40,
        "start_time": "2022-12-02T00:40:01.665Z"
      },
      {
        "duration": 30,
        "start_time": "2022-12-02T00:40:58.513Z"
      },
      {
        "duration": 40,
        "start_time": "2022-12-02T00:41:15.645Z"
      },
      {
        "duration": 28,
        "start_time": "2022-12-02T00:41:46.795Z"
      },
      {
        "duration": 50,
        "start_time": "2022-12-02T00:41:55.805Z"
      },
      {
        "duration": 9,
        "start_time": "2022-12-02T00:42:21.887Z"
      },
      {
        "duration": 9,
        "start_time": "2022-12-02T00:42:47.661Z"
      },
      {
        "duration": 8,
        "start_time": "2022-12-02T00:42:54.470Z"
      },
      {
        "duration": 8,
        "start_time": "2022-12-02T00:43:25.239Z"
      },
      {
        "duration": 10,
        "start_time": "2022-12-02T00:43:44.528Z"
      },
      {
        "duration": 9,
        "start_time": "2022-12-02T00:43:57.574Z"
      },
      {
        "duration": 9,
        "start_time": "2022-12-02T00:44:38.174Z"
      },
      {
        "duration": 77,
        "start_time": "2022-12-02T00:45:18.861Z"
      },
      {
        "duration": 10,
        "start_time": "2022-12-02T00:45:24.607Z"
      },
      {
        "duration": 8,
        "start_time": "2022-12-02T00:46:06.926Z"
      },
      {
        "duration": 9,
        "start_time": "2022-12-02T00:46:26.141Z"
      },
      {
        "duration": 9,
        "start_time": "2022-12-02T00:46:41.213Z"
      },
      {
        "duration": 9,
        "start_time": "2022-12-02T00:46:53.956Z"
      },
      {
        "duration": 9,
        "start_time": "2022-12-02T00:47:12.102Z"
      },
      {
        "duration": 9,
        "start_time": "2022-12-02T00:47:24.341Z"
      },
      {
        "duration": 9,
        "start_time": "2022-12-02T00:48:07.785Z"
      },
      {
        "duration": 27,
        "start_time": "2022-12-02T00:59:55.550Z"
      },
      {
        "duration": 141,
        "start_time": "2022-12-02T01:03:30.478Z"
      },
      {
        "duration": 138,
        "start_time": "2022-12-02T01:03:50.064Z"
      },
      {
        "duration": 141,
        "start_time": "2022-12-02T01:03:56.309Z"
      },
      {
        "duration": 90,
        "start_time": "2022-12-02T01:05:07.941Z"
      },
      {
        "duration": 141,
        "start_time": "2022-12-02T01:05:18.471Z"
      },
      {
        "duration": 127,
        "start_time": "2022-12-02T01:05:48.658Z"
      },
      {
        "duration": 9,
        "start_time": "2022-12-02T01:07:18.231Z"
      },
      {
        "duration": 9,
        "start_time": "2022-12-02T01:07:41.731Z"
      },
      {
        "duration": 10,
        "start_time": "2022-12-02T01:08:12.073Z"
      },
      {
        "duration": 14,
        "start_time": "2022-12-02T01:08:38.955Z"
      },
      {
        "duration": 9,
        "start_time": "2022-12-02T01:08:53.203Z"
      },
      {
        "duration": 10,
        "start_time": "2022-12-02T01:08:58.681Z"
      },
      {
        "duration": 9,
        "start_time": "2022-12-02T01:09:17.402Z"
      },
      {
        "duration": 9,
        "start_time": "2022-12-02T01:09:52.390Z"
      },
      {
        "duration": 9,
        "start_time": "2022-12-02T01:09:54.526Z"
      },
      {
        "duration": 8,
        "start_time": "2022-12-02T01:10:15.862Z"
      },
      {
        "duration": 9,
        "start_time": "2022-12-02T01:10:17.985Z"
      },
      {
        "duration": 9,
        "start_time": "2022-12-02T01:10:37.465Z"
      },
      {
        "duration": 43,
        "start_time": "2022-12-02T01:15:27.977Z"
      },
      {
        "duration": 42,
        "start_time": "2022-12-02T01:16:18.742Z"
      },
      {
        "duration": 30,
        "start_time": "2022-12-02T01:16:53.238Z"
      },
      {
        "duration": 30,
        "start_time": "2022-12-02T01:17:08.974Z"
      },
      {
        "duration": 9,
        "start_time": "2022-12-02T01:21:19.009Z"
      },
      {
        "duration": 9,
        "start_time": "2022-12-02T01:24:36.786Z"
      },
      {
        "duration": 9,
        "start_time": "2022-12-02T01:25:14.999Z"
      },
      {
        "duration": 9,
        "start_time": "2022-12-02T01:25:44.054Z"
      },
      {
        "duration": 8,
        "start_time": "2022-12-02T01:26:06.471Z"
      },
      {
        "duration": 124,
        "start_time": "2022-12-02T01:31:53.991Z"
      },
      {
        "duration": 10,
        "start_time": "2022-12-02T01:35:10.118Z"
      },
      {
        "duration": 9,
        "start_time": "2022-12-02T01:35:49.105Z"
      },
      {
        "duration": 10,
        "start_time": "2022-12-02T01:36:14.803Z"
      },
      {
        "duration": 25,
        "start_time": "2022-12-02T01:37:48.267Z"
      },
      {
        "duration": 9,
        "start_time": "2022-12-02T01:39:13.765Z"
      },
      {
        "duration": 10,
        "start_time": "2022-12-02T01:39:33.514Z"
      },
      {
        "duration": 92,
        "start_time": "2022-12-02T01:51:53.358Z"
      },
      {
        "duration": 134,
        "start_time": "2022-12-02T01:52:13.907Z"
      },
      {
        "duration": 10,
        "start_time": "2022-12-02T01:57:03.437Z"
      },
      {
        "duration": 10,
        "start_time": "2022-12-02T01:57:38.884Z"
      },
      {
        "duration": 9,
        "start_time": "2022-12-02T02:00:40.269Z"
      },
      {
        "duration": 13,
        "start_time": "2022-12-02T02:01:00.385Z"
      },
      {
        "duration": 9,
        "start_time": "2022-12-02T02:01:09.587Z"
      },
      {
        "duration": 10,
        "start_time": "2022-12-02T02:05:43.824Z"
      },
      {
        "duration": 10,
        "start_time": "2022-12-02T02:06:13.169Z"
      },
      {
        "duration": 10,
        "start_time": "2022-12-02T02:09:11.795Z"
      },
      {
        "duration": 10,
        "start_time": "2022-12-02T02:09:33.028Z"
      },
      {
        "duration": 29,
        "start_time": "2022-12-02T02:25:25.033Z"
      },
      {
        "duration": 10,
        "start_time": "2022-12-02T02:26:25.071Z"
      },
      {
        "duration": 9,
        "start_time": "2022-12-02T02:26:46.217Z"
      },
      {
        "duration": 10,
        "start_time": "2022-12-02T02:27:45.897Z"
      },
      {
        "duration": 10,
        "start_time": "2022-12-02T02:30:03.280Z"
      },
      {
        "duration": 28,
        "start_time": "2022-12-02T02:34:35.968Z"
      },
      {
        "duration": 13,
        "start_time": "2022-12-02T02:36:41.900Z"
      },
      {
        "duration": 12,
        "start_time": "2022-12-02T02:36:51.428Z"
      },
      {
        "duration": 10,
        "start_time": "2022-12-02T02:37:12.490Z"
      },
      {
        "duration": 13,
        "start_time": "2022-12-02T02:37:20.060Z"
      },
      {
        "duration": 12,
        "start_time": "2022-12-02T02:39:17.291Z"
      },
      {
        "duration": 20,
        "start_time": "2022-12-02T02:43:26.811Z"
      },
      {
        "duration": 11,
        "start_time": "2022-12-02T02:45:38.139Z"
      },
      {
        "duration": 9,
        "start_time": "2022-12-02T02:45:39.373Z"
      },
      {
        "duration": 9,
        "start_time": "2022-12-02T02:45:40.801Z"
      },
      {
        "duration": 9,
        "start_time": "2022-12-02T02:46:04.952Z"
      },
      {
        "duration": 9,
        "start_time": "2022-12-02T02:46:06.323Z"
      },
      {
        "duration": 8,
        "start_time": "2022-12-02T02:46:08.083Z"
      },
      {
        "duration": 9,
        "start_time": "2022-12-02T02:53:48.691Z"
      },
      {
        "duration": 10,
        "start_time": "2022-12-02T02:53:50.624Z"
      },
      {
        "duration": 10,
        "start_time": "2022-12-02T02:53:52.522Z"
      },
      {
        "duration": 10,
        "start_time": "2022-12-02T02:59:47.171Z"
      },
      {
        "duration": 17,
        "start_time": "2022-12-02T03:00:13.232Z"
      },
      {
        "duration": 9,
        "start_time": "2022-12-02T03:00:51.699Z"
      },
      {
        "duration": 9,
        "start_time": "2022-12-02T03:00:52.746Z"
      },
      {
        "duration": 10,
        "start_time": "2022-12-02T03:01:00.607Z"
      },
      {
        "duration": 9,
        "start_time": "2022-12-02T03:01:36.241Z"
      },
      {
        "duration": 10,
        "start_time": "2022-12-02T03:01:39.546Z"
      },
      {
        "duration": 9,
        "start_time": "2022-12-02T03:01:40.778Z"
      },
      {
        "duration": 9,
        "start_time": "2022-12-02T03:01:42.687Z"
      },
      {
        "duration": 10,
        "start_time": "2022-12-02T03:01:50.604Z"
      },
      {
        "duration": 9,
        "start_time": "2022-12-02T03:02:19.319Z"
      },
      {
        "duration": 9,
        "start_time": "2022-12-02T03:02:36.876Z"
      },
      {
        "duration": 10,
        "start_time": "2022-12-02T03:02:49.546Z"
      },
      {
        "duration": 9,
        "start_time": "2022-12-02T03:02:54.087Z"
      },
      {
        "duration": 11,
        "start_time": "2022-12-02T03:03:30.695Z"
      },
      {
        "duration": 9,
        "start_time": "2022-12-02T03:03:37.351Z"
      },
      {
        "duration": 10,
        "start_time": "2022-12-02T03:03:43.724Z"
      },
      {
        "duration": 7,
        "start_time": "2022-12-02T03:08:50.334Z"
      },
      {
        "duration": 8,
        "start_time": "2022-12-02T03:41:01.039Z"
      },
      {
        "duration": 11,
        "start_time": "2022-12-02T03:43:18.359Z"
      },
      {
        "duration": 2,
        "start_time": "2022-12-02T03:44:09.034Z"
      },
      {
        "duration": 89,
        "start_time": "2022-12-02T03:44:09.038Z"
      },
      {
        "duration": 10,
        "start_time": "2022-12-02T03:44:09.129Z"
      },
      {
        "duration": 10,
        "start_time": "2022-12-02T03:44:09.140Z"
      },
      {
        "duration": 5,
        "start_time": "2022-12-02T03:44:09.151Z"
      },
      {
        "duration": 17,
        "start_time": "2022-12-02T03:44:09.158Z"
      },
      {
        "duration": 8,
        "start_time": "2022-12-02T03:44:09.177Z"
      },
      {
        "duration": 53,
        "start_time": "2022-12-02T03:44:09.186Z"
      },
      {
        "duration": 14,
        "start_time": "2022-12-02T03:44:09.240Z"
      },
      {
        "duration": 14,
        "start_time": "2022-12-02T03:44:09.256Z"
      },
      {
        "duration": 20,
        "start_time": "2022-12-02T03:44:09.273Z"
      },
      {
        "duration": 43,
        "start_time": "2022-12-02T03:44:09.295Z"
      },
      {
        "duration": 9,
        "start_time": "2022-12-02T03:44:09.339Z"
      },
      {
        "duration": 9,
        "start_time": "2022-12-02T03:44:09.349Z"
      },
      {
        "duration": 16,
        "start_time": "2022-12-02T03:44:09.360Z"
      },
      {
        "duration": 19,
        "start_time": "2022-12-02T03:44:09.377Z"
      },
      {
        "duration": 61,
        "start_time": "2022-12-02T03:44:09.398Z"
      },
      {
        "duration": 19,
        "start_time": "2022-12-02T03:44:09.461Z"
      },
      {
        "duration": 23,
        "start_time": "2022-12-02T03:44:09.482Z"
      },
      {
        "duration": 44,
        "start_time": "2022-12-02T03:44:09.506Z"
      },
      {
        "duration": 26,
        "start_time": "2022-12-02T03:44:09.552Z"
      },
      {
        "duration": 21,
        "start_time": "2022-12-02T03:44:09.579Z"
      },
      {
        "duration": 4,
        "start_time": "2022-12-02T03:44:09.601Z"
      },
      {
        "duration": 37,
        "start_time": "2022-12-02T03:44:09.606Z"
      },
      {
        "duration": 5,
        "start_time": "2022-12-02T03:44:09.644Z"
      },
      {
        "duration": 26,
        "start_time": "2022-12-02T03:44:09.650Z"
      },
      {
        "duration": 20,
        "start_time": "2022-12-02T03:44:09.678Z"
      },
      {
        "duration": 5,
        "start_time": "2022-12-02T03:44:09.700Z"
      },
      {
        "duration": 9,
        "start_time": "2022-12-02T03:44:09.737Z"
      },
      {
        "duration": 102,
        "start_time": "2022-12-02T03:44:09.747Z"
      },
      {
        "duration": 435,
        "start_time": "2022-12-02T03:44:09.851Z"
      },
      {
        "duration": 278,
        "start_time": "2022-12-02T03:44:10.288Z"
      },
      {
        "duration": 881,
        "start_time": "2022-12-02T03:44:10.567Z"
      },
      {
        "duration": 277,
        "start_time": "2022-12-02T03:44:11.449Z"
      },
      {
        "duration": 81,
        "start_time": "2022-12-02T03:44:11.727Z"
      },
      {
        "duration": 11,
        "start_time": "2022-12-02T03:44:11.810Z"
      },
      {
        "duration": 99,
        "start_time": "2022-12-02T03:44:11.823Z"
      },
      {
        "duration": 21,
        "start_time": "2022-12-02T03:44:11.924Z"
      },
      {
        "duration": 25,
        "start_time": "2022-12-02T03:44:11.946Z"
      },
      {
        "duration": 143,
        "start_time": "2022-12-02T03:44:11.972Z"
      },
      {
        "duration": 1183,
        "start_time": "2022-12-02T03:44:12.117Z"
      },
      {
        "duration": 105,
        "start_time": "2022-12-02T03:44:13.302Z"
      },
      {
        "duration": 99,
        "start_time": "2022-12-02T03:44:13.409Z"
      },
      {
        "duration": 102,
        "start_time": "2022-12-02T03:44:13.510Z"
      },
      {
        "duration": 50,
        "start_time": "2022-12-02T03:44:13.614Z"
      },
      {
        "duration": 27,
        "start_time": "2022-12-02T03:44:13.666Z"
      },
      {
        "duration": 45,
        "start_time": "2022-12-02T03:44:13.695Z"
      },
      {
        "duration": 12,
        "start_time": "2022-12-02T03:44:13.742Z"
      },
      {
        "duration": 11,
        "start_time": "2022-12-02T03:44:13.755Z"
      },
      {
        "duration": 10,
        "start_time": "2022-12-02T03:44:13.768Z"
      },
      {
        "duration": 11,
        "start_time": "2022-12-02T03:44:13.780Z"
      },
      {
        "duration": 11,
        "start_time": "2022-12-02T03:44:13.793Z"
      },
      {
        "duration": 164,
        "start_time": "2022-12-02T03:44:13.806Z"
      },
      {
        "duration": 139,
        "start_time": "2022-12-02T03:44:13.972Z"
      },
      {
        "duration": 9,
        "start_time": "2022-12-02T03:44:14.113Z"
      },
      {
        "duration": 22,
        "start_time": "2022-12-02T03:44:14.123Z"
      },
      {
        "duration": 17,
        "start_time": "2022-12-02T03:44:14.147Z"
      },
      {
        "duration": 15,
        "start_time": "2022-12-02T03:44:14.166Z"
      },
      {
        "duration": 20,
        "start_time": "2022-12-02T03:44:14.183Z"
      },
      {
        "duration": 32,
        "start_time": "2022-12-02T03:44:14.205Z"
      },
      {
        "duration": 30,
        "start_time": "2022-12-02T03:44:14.239Z"
      },
      {
        "duration": 22,
        "start_time": "2022-12-02T03:44:14.270Z"
      },
      {
        "duration": 27,
        "start_time": "2022-12-02T03:44:14.294Z"
      },
      {
        "duration": 8,
        "start_time": "2022-12-02T03:44:14.322Z"
      },
      {
        "duration": 15,
        "start_time": "2022-12-02T03:44:14.332Z"
      },
      {
        "duration": 27,
        "start_time": "2022-12-02T03:44:14.348Z"
      },
      {
        "duration": 14,
        "start_time": "2022-12-02T03:44:14.377Z"
      },
      {
        "duration": 12,
        "start_time": "2022-12-02T03:44:14.393Z"
      },
      {
        "duration": 16,
        "start_time": "2022-12-02T03:44:14.406Z"
      },
      {
        "duration": 9,
        "start_time": "2022-12-02T03:44:14.424Z"
      },
      {
        "duration": 16,
        "start_time": "2022-12-02T03:44:14.434Z"
      },
      {
        "duration": 9,
        "start_time": "2022-12-02T03:44:16.833Z"
      },
      {
        "duration": 9,
        "start_time": "2022-12-02T03:50:06.837Z"
      },
      {
        "duration": 6,
        "start_time": "2022-12-02T03:50:39.475Z"
      },
      {
        "duration": 10,
        "start_time": "2022-12-02T03:51:01.999Z"
      },
      {
        "duration": 9,
        "start_time": "2022-12-02T03:51:26.855Z"
      },
      {
        "duration": 31,
        "start_time": "2022-12-02T03:51:31.088Z"
      },
      {
        "duration": 9,
        "start_time": "2022-12-02T03:51:38.116Z"
      },
      {
        "duration": 1415,
        "start_time": "2022-12-02T13:59:55.551Z"
      },
      {
        "duration": 241,
        "start_time": "2022-12-02T13:59:56.969Z"
      },
      {
        "duration": 6,
        "start_time": "2022-12-02T13:59:57.215Z"
      },
      {
        "duration": 35,
        "start_time": "2022-12-02T13:59:57.223Z"
      },
      {
        "duration": 23,
        "start_time": "2022-12-02T13:59:57.260Z"
      },
      {
        "duration": 23,
        "start_time": "2022-12-02T13:59:57.284Z"
      },
      {
        "duration": 10,
        "start_time": "2022-12-02T13:59:57.309Z"
      },
      {
        "duration": 26,
        "start_time": "2022-12-02T13:59:57.321Z"
      },
      {
        "duration": 17,
        "start_time": "2022-12-02T13:59:57.350Z"
      },
      {
        "duration": 23,
        "start_time": "2022-12-02T13:59:57.369Z"
      },
      {
        "duration": 25,
        "start_time": "2022-12-02T13:59:57.394Z"
      },
      {
        "duration": 9,
        "start_time": "2022-12-02T13:59:57.438Z"
      },
      {
        "duration": 14,
        "start_time": "2022-12-02T13:59:57.449Z"
      },
      {
        "duration": 24,
        "start_time": "2022-12-02T13:59:57.465Z"
      },
      {
        "duration": 15,
        "start_time": "2022-12-02T13:59:57.490Z"
      },
      {
        "duration": 36,
        "start_time": "2022-12-02T13:59:57.506Z"
      },
      {
        "duration": 33,
        "start_time": "2022-12-02T13:59:57.544Z"
      },
      {
        "duration": 24,
        "start_time": "2022-12-02T13:59:57.579Z"
      },
      {
        "duration": 55,
        "start_time": "2022-12-02T13:59:57.605Z"
      },
      {
        "duration": 21,
        "start_time": "2022-12-02T13:59:57.662Z"
      },
      {
        "duration": 61,
        "start_time": "2022-12-02T13:59:57.685Z"
      },
      {
        "duration": 23,
        "start_time": "2022-12-02T13:59:57.748Z"
      },
      {
        "duration": 7,
        "start_time": "2022-12-02T13:59:57.773Z"
      },
      {
        "duration": 21,
        "start_time": "2022-12-02T13:59:57.781Z"
      },
      {
        "duration": 11,
        "start_time": "2022-12-02T13:59:57.804Z"
      },
      {
        "duration": 50,
        "start_time": "2022-12-02T13:59:57.817Z"
      },
      {
        "duration": 25,
        "start_time": "2022-12-02T13:59:57.872Z"
      },
      {
        "duration": 6,
        "start_time": "2022-12-02T13:59:57.898Z"
      },
      {
        "duration": 36,
        "start_time": "2022-12-02T13:59:57.906Z"
      },
      {
        "duration": 143,
        "start_time": "2022-12-02T13:59:57.943Z"
      },
      {
        "duration": 21,
        "start_time": "2022-12-02T13:59:58.089Z"
      },
      {
        "duration": 379,
        "start_time": "2022-12-02T13:59:58.112Z"
      },
      {
        "duration": 351,
        "start_time": "2022-12-02T13:59:58.493Z"
      },
      {
        "duration": 1133,
        "start_time": "2022-12-02T13:59:58.847Z"
      },
      {
        "duration": 324,
        "start_time": "2022-12-02T13:59:59.982Z"
      },
      {
        "duration": 91,
        "start_time": "2022-12-02T14:00:00.308Z"
      },
      {
        "duration": 10,
        "start_time": "2022-12-02T14:00:00.401Z"
      },
      {
        "duration": 121,
        "start_time": "2022-12-02T14:00:00.412Z"
      },
      {
        "duration": 12,
        "start_time": "2022-12-02T14:00:00.538Z"
      },
      {
        "duration": 80,
        "start_time": "2022-12-02T14:00:00.552Z"
      },
      {
        "duration": 194,
        "start_time": "2022-12-02T14:00:00.634Z"
      },
      {
        "duration": 1276,
        "start_time": "2022-12-02T14:00:00.830Z"
      },
      {
        "duration": 118,
        "start_time": "2022-12-02T14:00:02.108Z"
      },
      {
        "duration": 119,
        "start_time": "2022-12-02T14:00:02.227Z"
      },
      {
        "duration": 119,
        "start_time": "2022-12-02T14:00:02.347Z"
      },
      {
        "duration": 46,
        "start_time": "2022-12-02T14:00:02.468Z"
      },
      {
        "duration": 51,
        "start_time": "2022-12-02T14:00:02.516Z"
      },
      {
        "duration": 58,
        "start_time": "2022-12-02T14:00:02.570Z"
      },
      {
        "duration": 63,
        "start_time": "2022-12-02T14:00:02.630Z"
      },
      {
        "duration": 28,
        "start_time": "2022-12-02T14:00:02.695Z"
      },
      {
        "duration": 40,
        "start_time": "2022-12-02T14:00:02.725Z"
      },
      {
        "duration": 43,
        "start_time": "2022-12-02T14:00:02.767Z"
      },
      {
        "duration": 43,
        "start_time": "2022-12-02T14:00:02.812Z"
      },
      {
        "duration": 193,
        "start_time": "2022-12-02T14:00:02.857Z"
      },
      {
        "duration": 177,
        "start_time": "2022-12-02T14:00:03.053Z"
      },
      {
        "duration": 15,
        "start_time": "2022-12-02T14:00:03.232Z"
      },
      {
        "duration": 17,
        "start_time": "2022-12-02T14:00:03.249Z"
      },
      {
        "duration": 16,
        "start_time": "2022-12-02T14:00:03.268Z"
      },
      {
        "duration": 22,
        "start_time": "2022-12-02T14:00:03.286Z"
      },
      {
        "duration": 15,
        "start_time": "2022-12-02T14:00:03.309Z"
      },
      {
        "duration": 25,
        "start_time": "2022-12-02T14:00:03.326Z"
      },
      {
        "duration": 31,
        "start_time": "2022-12-02T14:00:03.353Z"
      },
      {
        "duration": 16,
        "start_time": "2022-12-02T14:00:03.386Z"
      },
      {
        "duration": 11,
        "start_time": "2022-12-02T14:00:03.404Z"
      },
      {
        "duration": 20,
        "start_time": "2022-12-02T14:00:03.417Z"
      },
      {
        "duration": 9,
        "start_time": "2022-12-02T14:00:03.440Z"
      },
      {
        "duration": 14,
        "start_time": "2022-12-02T14:00:03.450Z"
      },
      {
        "duration": 12,
        "start_time": "2022-12-02T14:00:03.466Z"
      },
      {
        "duration": 19,
        "start_time": "2022-12-02T14:00:03.480Z"
      },
      {
        "duration": 23,
        "start_time": "2022-12-02T14:00:03.500Z"
      },
      {
        "duration": 17,
        "start_time": "2022-12-02T14:00:03.525Z"
      },
      {
        "duration": 21,
        "start_time": "2022-12-02T14:00:03.543Z"
      },
      {
        "duration": 22,
        "start_time": "2022-12-02T14:00:03.565Z"
      },
      {
        "duration": 55,
        "start_time": "2022-12-02T15:58:58.441Z"
      },
      {
        "duration": 1544,
        "start_time": "2022-12-02T15:59:03.484Z"
      },
      {
        "duration": 152,
        "start_time": "2022-12-02T15:59:05.031Z"
      },
      {
        "duration": 6,
        "start_time": "2022-12-02T15:59:05.185Z"
      },
      {
        "duration": 12,
        "start_time": "2022-12-02T15:59:05.194Z"
      },
      {
        "duration": 7,
        "start_time": "2022-12-02T15:59:05.213Z"
      },
      {
        "duration": 34,
        "start_time": "2022-12-02T15:59:05.222Z"
      },
      {
        "duration": 12,
        "start_time": "2022-12-02T15:59:05.258Z"
      },
      {
        "duration": 46,
        "start_time": "2022-12-02T15:59:05.271Z"
      },
      {
        "duration": 17,
        "start_time": "2022-12-02T15:59:05.319Z"
      },
      {
        "duration": 16,
        "start_time": "2022-12-02T15:59:05.339Z"
      },
      {
        "duration": 57,
        "start_time": "2022-12-02T15:59:05.357Z"
      },
      {
        "duration": 10,
        "start_time": "2022-12-02T15:59:05.415Z"
      },
      {
        "duration": 18,
        "start_time": "2022-12-02T15:59:05.426Z"
      },
      {
        "duration": 9,
        "start_time": "2022-12-02T15:59:05.446Z"
      },
      {
        "duration": 15,
        "start_time": "2022-12-02T15:59:05.457Z"
      },
      {
        "duration": 58,
        "start_time": "2022-12-02T15:59:05.474Z"
      },
      {
        "duration": 35,
        "start_time": "2022-12-02T15:59:05.534Z"
      },
      {
        "duration": 53,
        "start_time": "2022-12-02T15:59:05.571Z"
      },
      {
        "duration": 29,
        "start_time": "2022-12-02T15:59:05.625Z"
      },
      {
        "duration": 18,
        "start_time": "2022-12-02T15:59:05.656Z"
      },
      {
        "duration": 66,
        "start_time": "2022-12-02T15:59:05.675Z"
      },
      {
        "duration": 19,
        "start_time": "2022-12-02T15:59:05.743Z"
      },
      {
        "duration": 7,
        "start_time": "2022-12-02T15:59:05.764Z"
      },
      {
        "duration": 44,
        "start_time": "2022-12-02T15:59:05.773Z"
      },
      {
        "duration": 6,
        "start_time": "2022-12-02T15:59:05.819Z"
      },
      {
        "duration": 36,
        "start_time": "2022-12-02T15:59:05.827Z"
      },
      {
        "duration": 49,
        "start_time": "2022-12-02T15:59:05.865Z"
      },
      {
        "duration": 7,
        "start_time": "2022-12-02T15:59:05.918Z"
      },
      {
        "duration": 13,
        "start_time": "2022-12-02T15:59:05.927Z"
      },
      {
        "duration": 150,
        "start_time": "2022-12-02T15:59:05.942Z"
      },
      {
        "duration": 411,
        "start_time": "2022-12-02T15:59:06.094Z"
      },
      {
        "duration": 415,
        "start_time": "2022-12-02T15:59:06.508Z"
      },
      {
        "duration": 1166,
        "start_time": "2022-12-02T15:59:06.925Z"
      },
      {
        "duration": 337,
        "start_time": "2022-12-02T15:59:08.093Z"
      },
      {
        "duration": 101,
        "start_time": "2022-12-02T15:59:08.433Z"
      },
      {
        "duration": 12,
        "start_time": "2022-12-02T15:59:08.536Z"
      },
      {
        "duration": 127,
        "start_time": "2022-12-02T15:59:08.550Z"
      },
      {
        "duration": 13,
        "start_time": "2022-12-02T15:59:08.679Z"
      },
      {
        "duration": 46,
        "start_time": "2022-12-02T15:59:08.694Z"
      },
      {
        "duration": 180,
        "start_time": "2022-12-02T15:59:08.741Z"
      },
      {
        "duration": 1413,
        "start_time": "2022-12-02T15:59:08.922Z"
      },
      {
        "duration": 130,
        "start_time": "2022-12-02T15:59:10.337Z"
      },
      {
        "duration": 129,
        "start_time": "2022-12-02T15:59:10.469Z"
      },
      {
        "duration": 125,
        "start_time": "2022-12-02T15:59:10.599Z"
      },
      {
        "duration": 52,
        "start_time": "2022-12-02T15:59:10.726Z"
      },
      {
        "duration": 53,
        "start_time": "2022-12-02T15:59:10.779Z"
      },
      {
        "duration": 39,
        "start_time": "2022-12-02T15:59:10.834Z"
      },
      {
        "duration": 13,
        "start_time": "2022-12-02T15:59:10.875Z"
      },
      {
        "duration": 11,
        "start_time": "2022-12-02T15:59:10.912Z"
      },
      {
        "duration": 16,
        "start_time": "2022-12-02T15:59:10.925Z"
      },
      {
        "duration": 17,
        "start_time": "2022-12-02T15:59:10.943Z"
      },
      {
        "duration": 14,
        "start_time": "2022-12-02T15:59:10.963Z"
      },
      {
        "duration": 193,
        "start_time": "2022-12-02T15:59:10.980Z"
      },
      {
        "duration": 169,
        "start_time": "2022-12-02T15:59:11.176Z"
      },
      {
        "duration": 11,
        "start_time": "2022-12-02T15:59:11.347Z"
      },
      {
        "duration": 13,
        "start_time": "2022-12-02T15:59:11.360Z"
      },
      {
        "duration": 17,
        "start_time": "2022-12-02T15:59:11.375Z"
      },
      {
        "duration": 29,
        "start_time": "2022-12-02T15:59:11.393Z"
      },
      {
        "duration": 11,
        "start_time": "2022-12-02T15:59:11.424Z"
      },
      {
        "duration": 9,
        "start_time": "2022-12-02T15:59:11.437Z"
      },
      {
        "duration": 63,
        "start_time": "2022-12-02T15:59:11.449Z"
      },
      {
        "duration": 15,
        "start_time": "2022-12-02T15:59:11.515Z"
      },
      {
        "duration": 11,
        "start_time": "2022-12-02T15:59:11.532Z"
      },
      {
        "duration": 11,
        "start_time": "2022-12-02T15:59:11.544Z"
      },
      {
        "duration": 11,
        "start_time": "2022-12-02T15:59:11.557Z"
      },
      {
        "duration": 48,
        "start_time": "2022-12-02T15:59:11.570Z"
      },
      {
        "duration": 11,
        "start_time": "2022-12-02T15:59:11.620Z"
      },
      {
        "duration": 13,
        "start_time": "2022-12-02T15:59:15.310Z"
      },
      {
        "duration": 12,
        "start_time": "2022-12-02T15:59:24.112Z"
      },
      {
        "duration": 10,
        "start_time": "2022-12-02T15:59:32.777Z"
      },
      {
        "duration": 15,
        "start_time": "2022-12-02T16:10:13.277Z"
      },
      {
        "duration": 17,
        "start_time": "2022-12-02T16:10:21.334Z"
      },
      {
        "duration": 15,
        "start_time": "2022-12-02T16:10:34.248Z"
      },
      {
        "duration": 16,
        "start_time": "2022-12-02T16:11:40.441Z"
      },
      {
        "duration": 16,
        "start_time": "2022-12-02T16:11:59.890Z"
      },
      {
        "duration": 15,
        "start_time": "2022-12-02T16:12:50.686Z"
      },
      {
        "duration": 15,
        "start_time": "2022-12-02T16:13:07.107Z"
      }
    ],
    "kernelspec": {
      "display_name": "Python 3 (ipykernel)",
      "language": "python",
      "name": "python3"
    },
    "language_info": {
      "codemirror_mode": {
        "name": "ipython",
        "version": 3
      },
      "file_extension": ".py",
      "mimetype": "text/x-python",
      "name": "python",
      "nbconvert_exporter": "python",
      "pygments_lexer": "ipython3",
      "version": "3.9.6"
    },
    "toc": {
      "base_numbering": 1,
      "nav_menu": {
        "height": "184px",
        "width": "160px"
      },
      "number_sections": true,
      "sideBar": true,
      "skip_h1_title": true,
      "title_cell": "Table of Contents",
      "title_sidebar": "Contents",
      "toc_cell": false,
      "toc_position": {
        "height": "calc(100% - 180px)",
        "left": "10px",
        "top": "150px",
        "width": "165px"
      },
      "toc_section_display": true,
      "toc_window_display": true
    },
    "colab": {
      "provenance": []
    }
  },
  "nbformat": 4,
  "nbformat_minor": 0
}